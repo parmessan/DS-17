{
 "cells":[
  {
   "cell_type":"code",
   "source":[
    "from scipy.optimize import linprog\n",
    "\n",
    "# целевая функция\n",
    "c = [1, 1, 1, 1, 1, 1, 1]\n",
    "\n",
    "# ограничения-неравенства (Ax <= b)\n",
    "A_ub = [\n",
    "    [-1, 0, 0, -1, -1, -1, -1],\n",
    "    [-1, -1, 0, 0, -1, -1, -1],\n",
    "    [-1, -1, -1, 0, 0, -1, -1],\n",
    "    [-1, -1, -1, -1, 0, 0, -1],\n",
    "    [-1, -1, -1, -1, -1, 0, 0],\n",
    "    [0, -1, -1, -1, -1, -1, 0],\n",
    "    [0, 0, -1, -1, -1, -1, -1]\n",
    "]\n",
    "\n",
    "b_ub = [-14, -13, -15, -16, -19, -18, -11]\n",
    "\n",
    "# ограничения-равенства (Ax = b)\n",
    "A_eq = None\n",
    "b_eq = None\n",
    "\n",
    "# границы для переменных (x_i >= 0)\n",
    "bounds = [(0, None), (0, None), (0, None), (0, None), (0, None), (0, None), (0, None)]\n",
    "\n",
    "# решение \n",
    "res = linprog(c, A_ub=A_ub, b_ub=b_ub, A_eq = A_eq, b_eq = b_eq, bounds=bounds)\n",
    "\n",
    "res.fun"
   ],
   "execution_count":4,
   "outputs":[
    {
     "data":{
      "text\/plain":[
       "22.0"
      ]
     },
     "metadata":{
      
     },
     "output_type":"display_data"
    }
   ],
   "metadata":{
    "datalore":{
     "node_id":"b0osWiEhcS4wAIJeVlAnrY",
     "type":"CODE",
     "hide_input_from_viewers":true,
     "hide_output_from_viewers":true
    }
   }
  }
 ],
 "metadata":{
  "kernelspec":{
   "display_name":"Python",
   "language":"python",
   "name":"python"
  },
  "datalore":{
   "computation_mode":"JUPYTER",
   "package_manager":"pip",
   "base_environment":"default",
   "packages":[
    
   ],
   "report_row_ids":[
    
   ],
   "version":3
  }
 },
 "nbformat":4,
 "nbformat_minor":4
}