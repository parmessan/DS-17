{
 "cells":[
  {
   "cell_type":"markdown",
   "source":[
    "___\n",
    "\n",
    "<a href='https:\/\/mainacademy.ua\/'> <img src='https:\/\/mainacademy.ua\/wp-content\/uploads\/2019\/03\/logo-main.png' alt = 'Хмм, щось з інтернетом'\/><\/a>\n",
    "___\n",
    "\n",
    "# Module 8: Unsupervised learning"
   ],
   "attachments":{
    
   },
   "metadata":{
    "datalore":{
     "node_id":"ysB9kulMo64wLztKg02AlB",
     "type":"MD",
     "hide_input_from_viewers":false,
     "hide_output_from_viewers":false,
     "report_properties":{
      "rowId":"VlpaH2aDPAT4YkYsmJcRKx"
     }
    }
   }
  },
  {
   "cell_type":"markdown",
   "source":[
    "## Lab work 8\n"
   ],
   "attachments":{
    
   },
   "metadata":{
    "datalore":{
     "node_id":"v6ohiTY74BCmcEdhIw5Gs0",
     "type":"MD",
     "hide_input_from_viewers":false,
     "hide_output_from_viewers":false,
     "report_properties":{
      "rowId":"qqZDcAVt984tOzhM2QyNA1"
     }
    }
   }
  },
  {
   "cell_type":"markdown",
   "source":[
    "#### Мета: \n",
    "\n",
    "* навчитися використовувати моделі без учителем"
   ],
   "attachments":{
    
   },
   "metadata":{
    "datalore":{
     "node_id":"rjLqc88KgnF8wgHSgwHOhG",
     "type":"MD",
     "hide_input_from_viewers":false,
     "hide_output_from_viewers":false,
     "report_properties":{
      "rowId":"Y2b9KrhPsVPAs5vyrz2FQn"
     }
    }
   }
  },
  {
   "cell_type":"markdown",
   "source":[
    "### Завдання 1:"
   ],
   "attachments":{
    
   },
   "metadata":{
    "datalore":{
     "node_id":"9PXMbh2D3v9ilbCq8K6FmA",
     "type":"MD",
     "hide_input_from_viewers":false,
     "hide_output_from_viewers":false,
     "report_properties":{
      "rowId":"LrkKLBapMgoKKGsP6betkN"
     }
    }
   }
  },
  {
   "cell_type":"markdown",
   "source":[
    "Опрацюйте файл `Groceries.csv`. Використовуючи алгоритм асоціативних зв'язків, знайдіть:\n",
    "- зробіть описову статистику даного файлу\n",
    "- ведіть топ-3 продукти, що продаються\n",
    "- виведіть топ-2 пари продуктів, що продаються\n",
    "- придумайте, як отриману інформацію можна використатти (опишіть в 3-4 реченнях)"
   ],
   "attachments":{
    
   },
   "metadata":{
    "datalore":{
     "node_id":"hkY6dIlKPkhK8xIVbqzzvV",
     "type":"MD",
     "hide_input_from_viewers":false,
     "hide_output_from_viewers":false,
     "report_properties":{
      "rowId":"jAu63MxwN4ak6PP1AjyiQ7"
     }
    }
   }
  },
  {
   "cell_type":"code",
   "source":[
    "import pandas as pd\n",
    "import matplotlib.pyplot as plt"
   ],
   "execution_count":13,
   "outputs":[
    
   ],
   "metadata":{
    "datalore":{
     "node_id":"oTWVEXpdoBKzB52NIaeTNF",
     "type":"CODE",
     "hide_input_from_viewers":false,
     "hide_output_from_viewers":false,
     "report_properties":{
      "rowId":"t77TnBMljyfkzEuRrAddMu"
     }
    }
   }
  },
  {
   "cell_type":"markdown",
   "source":[
    "## Описова статистика"
   ],
   "attachments":{
    
   },
   "metadata":{
    "datalore":{
     "node_id":"4EObv58tFjRd3SUuhNVWBd",
     "type":"MD",
     "hide_input_from_viewers":true,
     "hide_output_from_viewers":true
    }
   }
  },
  {
   "cell_type":"code",
   "source":[
    "df = pd.read_csv('groceries.csv')\n",
    "df.head(5)"
   ],
   "execution_count":14,
   "outputs":[
    {
     "data":{
      "text\/html":[
       "<div>\n",
       "<style scoped>\n",
       "    .dataframe tbody tr th:only-of-type {\n",
       "        vertical-align: middle;\n",
       "    }\n",
       "\n",
       "    .dataframe tbody tr th {\n",
       "        vertical-align: top;\n",
       "    }\n",
       "\n",
       "    .dataframe thead th {\n",
       "        text-align: right;\n",
       "    }\n",
       "<\/style>\n",
       "<table border=\"1\" class=\"dataframe\">\n",
       "  <thead>\n",
       "    <tr style=\"text-align: right;\">\n",
       "      <th><\/th>\n",
       "      <th>Item(s)<\/th>\n",
       "      <th>Item 1<\/th>\n",
       "      <th>Item 2<\/th>\n",
       "      <th>Item 3<\/th>\n",
       "      <th>Item 4<\/th>\n",
       "      <th>Item 5<\/th>\n",
       "      <th>Item 6<\/th>\n",
       "      <th>Item 7<\/th>\n",
       "      <th>Item 8<\/th>\n",
       "      <th>Item 9<\/th>\n",
       "      <th>...<\/th>\n",
       "      <th>Item 23<\/th>\n",
       "      <th>Item 24<\/th>\n",
       "      <th>Item 25<\/th>\n",
       "      <th>Item 26<\/th>\n",
       "      <th>Item 27<\/th>\n",
       "      <th>Item 28<\/th>\n",
       "      <th>Item 29<\/th>\n",
       "      <th>Item 30<\/th>\n",
       "      <th>Item 31<\/th>\n",
       "      <th>Item 32<\/th>\n",
       "    <\/tr>\n",
       "  <\/thead>\n",
       "  <tbody>\n",
       "    <tr>\n",
       "      <th>0<\/th>\n",
       "      <td>4<\/td>\n",
       "      <td>citrus fruit<\/td>\n",
       "      <td>semi-finished bread<\/td>\n",
       "      <td>margarine<\/td>\n",
       "      <td>ready soups<\/td>\n",
       "      <td>NaN<\/td>\n",
       "      <td>NaN<\/td>\n",
       "      <td>NaN<\/td>\n",
       "      <td>NaN<\/td>\n",
       "      <td>NaN<\/td>\n",
       "      <td>...<\/td>\n",
       "      <td>NaN<\/td>\n",
       "      <td>NaN<\/td>\n",
       "      <td>NaN<\/td>\n",
       "      <td>NaN<\/td>\n",
       "      <td>NaN<\/td>\n",
       "      <td>NaN<\/td>\n",
       "      <td>NaN<\/td>\n",
       "      <td>NaN<\/td>\n",
       "      <td>NaN<\/td>\n",
       "      <td>NaN<\/td>\n",
       "    <\/tr>\n",
       "    <tr>\n",
       "      <th>1<\/th>\n",
       "      <td>3<\/td>\n",
       "      <td>tropical fruit<\/td>\n",
       "      <td>yogurt<\/td>\n",
       "      <td>coffee<\/td>\n",
       "      <td>NaN<\/td>\n",
       "      <td>NaN<\/td>\n",
       "      <td>NaN<\/td>\n",
       "      <td>NaN<\/td>\n",
       "      <td>NaN<\/td>\n",
       "      <td>NaN<\/td>\n",
       "      <td>...<\/td>\n",
       "      <td>NaN<\/td>\n",
       "      <td>NaN<\/td>\n",
       "      <td>NaN<\/td>\n",
       "      <td>NaN<\/td>\n",
       "      <td>NaN<\/td>\n",
       "      <td>NaN<\/td>\n",
       "      <td>NaN<\/td>\n",
       "      <td>NaN<\/td>\n",
       "      <td>NaN<\/td>\n",
       "      <td>NaN<\/td>\n",
       "    <\/tr>\n",
       "    <tr>\n",
       "      <th>2<\/th>\n",
       "      <td>1<\/td>\n",
       "      <td>whole milk<\/td>\n",
       "      <td>NaN<\/td>\n",
       "      <td>NaN<\/td>\n",
       "      <td>NaN<\/td>\n",
       "      <td>NaN<\/td>\n",
       "      <td>NaN<\/td>\n",
       "      <td>NaN<\/td>\n",
       "      <td>NaN<\/td>\n",
       "      <td>NaN<\/td>\n",
       "      <td>...<\/td>\n",
       "      <td>NaN<\/td>\n",
       "      <td>NaN<\/td>\n",
       "      <td>NaN<\/td>\n",
       "      <td>NaN<\/td>\n",
       "      <td>NaN<\/td>\n",
       "      <td>NaN<\/td>\n",
       "      <td>NaN<\/td>\n",
       "      <td>NaN<\/td>\n",
       "      <td>NaN<\/td>\n",
       "      <td>NaN<\/td>\n",
       "    <\/tr>\n",
       "    <tr>\n",
       "      <th>3<\/th>\n",
       "      <td>4<\/td>\n",
       "      <td>pip fruit<\/td>\n",
       "      <td>yogurt<\/td>\n",
       "      <td>cream cheese<\/td>\n",
       "      <td>meat spreads<\/td>\n",
       "      <td>NaN<\/td>\n",
       "      <td>NaN<\/td>\n",
       "      <td>NaN<\/td>\n",
       "      <td>NaN<\/td>\n",
       "      <td>NaN<\/td>\n",
       "      <td>...<\/td>\n",
       "      <td>NaN<\/td>\n",
       "      <td>NaN<\/td>\n",
       "      <td>NaN<\/td>\n",
       "      <td>NaN<\/td>\n",
       "      <td>NaN<\/td>\n",
       "      <td>NaN<\/td>\n",
       "      <td>NaN<\/td>\n",
       "      <td>NaN<\/td>\n",
       "      <td>NaN<\/td>\n",
       "      <td>NaN<\/td>\n",
       "    <\/tr>\n",
       "    <tr>\n",
       "      <th>4<\/th>\n",
       "      <td>4<\/td>\n",
       "      <td>other vegetables<\/td>\n",
       "      <td>whole milk<\/td>\n",
       "      <td>condensed milk<\/td>\n",
       "      <td>long life bakery product<\/td>\n",
       "      <td>NaN<\/td>\n",
       "      <td>NaN<\/td>\n",
       "      <td>NaN<\/td>\n",
       "      <td>NaN<\/td>\n",
       "      <td>NaN<\/td>\n",
       "      <td>...<\/td>\n",
       "      <td>NaN<\/td>\n",
       "      <td>NaN<\/td>\n",
       "      <td>NaN<\/td>\n",
       "      <td>NaN<\/td>\n",
       "      <td>NaN<\/td>\n",
       "      <td>NaN<\/td>\n",
       "      <td>NaN<\/td>\n",
       "      <td>NaN<\/td>\n",
       "      <td>NaN<\/td>\n",
       "      <td>NaN<\/td>\n",
       "    <\/tr>\n",
       "  <\/tbody>\n",
       "<\/table>\n",
       "<p>5 rows × 33 columns<\/p>\n",
       "<\/div>"
      ]
     },
     "metadata":{
      
     },
     "output_type":"display_data"
    }
   ],
   "metadata":{
    "datalore":{
     "node_id":"z8mmCQasnEXcvshUM4dzV3",
     "type":"CODE",
     "hide_input_from_viewers":false,
     "hide_output_from_viewers":false,
     "report_properties":{
      "rowId":"D5VN0Pk0pjcvSWTud9c5jX"
     }
    }
   }
  },
  {
   "cell_type":"code",
   "source":[
    "df.shape"
   ],
   "execution_count":15,
   "outputs":[
    {
     "data":{
      "text\/plain":[
       "(9835, 33)"
      ]
     },
     "metadata":{
      
     },
     "output_type":"display_data"
    }
   ],
   "metadata":{
    "datalore":{
     "node_id":"KSdm6DiwknHfrDnNMu1HNT",
     "type":"CODE",
     "hide_input_from_viewers":true,
     "hide_output_from_viewers":true
    }
   }
  },
  {
   "cell_type":"code",
   "source":[
    "df.info()"
   ],
   "execution_count":16,
   "outputs":[
    {
     "name":"stdout",
     "text":[
      "<class 'pandas.core.frame.DataFrame'>\n",
      "RangeIndex: 9835 entries, 0 to 9834\n",
      "Data columns (total 33 columns):\n",
      " #   Column   Non-Null Count  Dtype \n",
      "---  ------   --------------  ----- \n",
      " 0   Item(s)  9835 non-null   int64 \n",
      " 1   Item 1   9835 non-null   object\n",
      " 2   Item 2   7676 non-null   object\n",
      " 3   Item 3   6033 non-null   object\n",
      " 4   Item 4   4734 non-null   object\n",
      " 5   Item 5   3729 non-null   object\n",
      " 6   Item 6   2874 non-null   object\n",
      " 7   Item 7   2229 non-null   object\n",
      " 8   Item 8   1684 non-null   object\n",
      " 9   Item 9   1246 non-null   object\n",
      " 10  Item 10  896 non-null    object\n",
      " 11  Item 11  650 non-null    object\n",
      " 12  Item 12  468 non-null    object\n",
      " 13  Item 13  351 non-null    object\n",
      " 14  Item 14  273 non-null    object\n",
      " 15  Item 15  196 non-null    object\n",
      " 16  Item 16  141 non-null    object\n",
      " 17  Item 17  95 non-null     object\n",
      " 18  Item 18  66 non-null     object\n",
      " 19  Item 19  52 non-null     object\n",
      " 20  Item 20  38 non-null     object\n",
      " 21  Item 21  29 non-null     object\n",
      " 22  Item 22  18 non-null     object\n",
      " 23  Item 23  14 non-null     object\n",
      " 24  Item 24  8 non-null      object\n",
      " 25  Item 25  7 non-null      object\n",
      " 26  Item 26  7 non-null      object\n",
      " 27  Item 27  6 non-null      object\n",
      " 28  Item 28  5 non-null      object\n",
      " 29  Item 29  4 non-null      object\n",
      " 30  Item 30  1 non-null      object\n",
      " 31  Item 31  1 non-null      object\n",
      " 32  Item 32  1 non-null      object\n",
      "dtypes: int64(1), object(32)\n",
      "memory usage: 2.5+ MB\n"
     ],
     "output_type":"stream"
    }
   ],
   "metadata":{
    "datalore":{
     "node_id":"O39TH12Feal2CuBLZPCnpI",
     "type":"CODE",
     "hide_input_from_viewers":true,
     "hide_output_from_viewers":true
    }
   }
  },
  {
   "cell_type":"code",
   "source":[
    "df.drop(['Item(s)'], axis=1, inplace = True)"
   ],
   "execution_count":17,
   "outputs":[
    
   ],
   "metadata":{
    "datalore":{
     "node_id":"HEJXkwJ98MsPrLvqY9EcFv",
     "type":"CODE",
     "hide_input_from_viewers":true,
     "hide_output_from_viewers":true
    }
   }
  },
  {
   "cell_type":"code",
   "source":[
    "df.shape"
   ],
   "execution_count":18,
   "outputs":[
    {
     "data":{
      "text\/plain":[
       "(9835, 32)"
      ]
     },
     "metadata":{
      
     },
     "output_type":"display_data"
    }
   ],
   "metadata":{
    "datalore":{
     "node_id":"0WhhVar7hSD93rYv0Xd517",
     "type":"CODE",
     "hide_input_from_viewers":true,
     "hide_output_from_viewers":true
    }
   }
  },
  {
   "cell_type":"markdown",
   "source":[
    "## Топ-3 продукти"
   ],
   "attachments":{
    
   },
   "metadata":{
    "datalore":{
     "node_id":"CDaYa5NEa3rhLdAtZd59ya",
     "type":"MD",
     "hide_input_from_viewers":true,
     "hide_output_from_viewers":true
    }
   }
  },
  {
   "cell_type":"code",
   "source":[
    "elements = []\n",
    "\n",
    "for i in range(0, 9835):\n",
    "    for j in range(0, 32):\n",
    "        elements.append(str(df.values[i,j])) \n",
    "\n",
    "\n",
    "elements_clear = [x for x in elements if x != 'nan']"
   ],
   "execution_count":19,
   "outputs":[
    
   ],
   "metadata":{
    "datalore":{
     "node_id":"8qKygmhWDaXrd0DwV1ta28",
     "type":"CODE",
     "hide_input_from_viewers":true,
     "hide_output_from_viewers":true
    }
   }
  },
  {
   "cell_type":"code",
   "source":[
    "from collections import Counter"
   ],
   "execution_count":20,
   "outputs":[
    
   ],
   "metadata":{
    "datalore":{
     "node_id":"L5oniSIvE9ig34jtwyIlOR",
     "type":"CODE",
     "hide_input_from_viewers":true,
     "hide_output_from_viewers":true
    }
   }
  },
  {
   "cell_type":"code",
   "source":[
    "\n",
    "counter = Counter(elements_clear)\n",
    "top_3 = counter.most_common(3)\n",
    "\n",
    "print(\"Топ-3 наиболее встречаемых элемента:\", top_3)"
   ],
   "execution_count":21,
   "outputs":[
    {
     "name":"stdout",
     "text":[
      "Топ-3 наиболее встречаемых элемента: [('whole milk', 2513), ('other vegetables', 1903), ('rolls\/buns', 1809)]\n"
     ],
     "output_type":"stream"
    }
   ],
   "metadata":{
    "datalore":{
     "node_id":"hKAEDZ1SJMRGQw0JEnq7og",
     "type":"CODE",
     "hide_input_from_viewers":true,
     "hide_output_from_viewers":true
    }
   }
  },
  {
   "cell_type":"markdown",
   "source":[
    "## Топ-2 пари"
   ],
   "attachments":{
    
   },
   "metadata":{
    "datalore":{
     "node_id":"ky4l9Bpeg4zDcXutGX5wZb",
     "type":"MD",
     "hide_input_from_viewers":true,
     "hide_output_from_viewers":true
    }
   }
  },
  {
   "cell_type":"code",
   "source":[
    "rows = []\n",
    "\n",
    "for i in range(0, 9835):\n",
    "    rows.append([str(df.values[i,j]) for j in range(0, 32)])"
   ],
   "execution_count":22,
   "outputs":[
    
   ],
   "metadata":{
    "datalore":{
     "node_id":"kBdivZKqrq1dAfAlVg7lGb",
     "type":"CODE",
     "hide_input_from_viewers":true,
     "hide_output_from_viewers":true
    }
   }
  },
  {
   "cell_type":"code",
   "source":[
    "rows_clear = []\n",
    "\n",
    "for row in rows:\n",
    "    rows_clear.append([i for i in row if i != 'nan'])"
   ],
   "execution_count":23,
   "outputs":[
    
   ],
   "metadata":{
    "datalore":{
     "node_id":"7jCNR5107stXDoAHqKUqHk",
     "type":"CODE",
     "hide_input_from_viewers":true,
     "hide_output_from_viewers":true
    }
   }
  },
  {
   "cell_type":"code",
   "source":[
    "from apyori import apriori"
   ],
   "execution_count":24,
   "outputs":[
    
   ],
   "metadata":{
    "datalore":{
     "node_id":"IzXyEqCnhv2YN6pmgUQhJx",
     "type":"CODE",
     "hide_input_from_viewers":true,
     "hide_output_from_viewers":true
    }
   }
  },
  {
   "cell_type":"code",
   "source":[
    "model = apriori(rows_clear, min_support=0.0045, min_confidence=0.2, min_lift=3)"
   ],
   "execution_count":25,
   "outputs":[
    
   ],
   "metadata":{
    "datalore":{
     "node_id":"RvpfP1xKXsuvt118AFypkJ",
     "type":"CODE",
     "hide_input_from_viewers":true,
     "hide_output_from_viewers":true
    }
   }
  },
  {
   "cell_type":"code",
   "source":[
    "rules = []\n",
    "supports = []\n",
    "confidences = []\n",
    "lifts = []\n",
    "\n",
    "for item in model:\n",
    "    pair = item[0] \n",
    "    items = [x for x in pair]\n",
    "\n",
    "    rule = items[0] + \" -> \" + items[1]\n",
    "    rules.append(rule)\n",
    "\n",
    "    support = item[1]\n",
    "    supports.append(support)\n",
    "\n",
    "    confidence = item[2][0][2]\n",
    "    confidences.append(confidence)\n",
    "\n",
    "    lift = item[2][0][3]\n",
    "    lifts.append(lift)\n",
    "    \n",
    "dict = {\n",
    "    'Rule': rules,\n",
    "    'Support': supports,\n",
    "    'Confidence': confidences,\n",
    "    'Lift': lifts\n",
    "}"
   ],
   "execution_count":26,
   "outputs":[
    
   ],
   "metadata":{
    "datalore":{
     "node_id":"Q1HGZ1br6t2j6t0OMb94x5",
     "type":"CODE",
     "hide_input_from_viewers":true,
     "hide_output_from_viewers":true
    }
   }
  },
  {
   "cell_type":"code",
   "source":[
    "result = pd.DataFrame(dict)"
   ],
   "execution_count":27,
   "outputs":[
    
   ],
   "metadata":{
    "datalore":{
     "node_id":"8rFF7ivSIke6MYk9cEh5xT",
     "type":"CODE",
     "hide_input_from_viewers":true,
     "hide_output_from_viewers":true
    }
   }
  },
  {
   "cell_type":"markdown",
   "source":[
    "### За показником lift, що відповідає за силу зв'язності пари"
   ],
   "attachments":{
    
   },
   "metadata":{
    "datalore":{
     "node_id":"xEWuJQLyF4raCDnTL7fnvs",
     "type":"MD",
     "hide_input_from_viewers":true,
     "hide_output_from_viewers":true
    }
   }
  },
  {
   "cell_type":"code",
   "source":[
    "result.sort_values(by=['Lift'], ascending=False).head(2)"
   ],
   "execution_count":28,
   "outputs":[
    {
     "data":{
      "text\/html":[
       "<div>\n",
       "<style scoped>\n",
       "    .dataframe tbody tr th:only-of-type {\n",
       "        vertical-align: middle;\n",
       "    }\n",
       "\n",
       "    .dataframe tbody tr th {\n",
       "        vertical-align: top;\n",
       "    }\n",
       "\n",
       "    .dataframe thead th {\n",
       "        text-align: right;\n",
       "    }\n",
       "<\/style>\n",
       "<table border=\"1\" class=\"dataframe\">\n",
       "  <thead>\n",
       "    <tr style=\"text-align: right;\">\n",
       "      <th><\/th>\n",
       "      <th>Rule<\/th>\n",
       "      <th>Support<\/th>\n",
       "      <th>Confidence<\/th>\n",
       "      <th>Lift<\/th>\n",
       "    <\/tr>\n",
       "  <\/thead>\n",
       "  <tbody>\n",
       "    <tr>\n",
       "      <th>5<\/th>\n",
       "      <td>flour -&gt; sugar<\/td>\n",
       "      <td>0.004982<\/td>\n",
       "      <td>0.286550<\/td>\n",
       "      <td>8.463112<\/td>\n",
       "    <\/tr>\n",
       "    <tr>\n",
       "      <th>57<\/th>\n",
       "      <td>root vegetables -&gt; yogurt<\/td>\n",
       "      <td>0.004982<\/td>\n",
       "      <td>0.236715<\/td>\n",
       "      <td>5.452206<\/td>\n",
       "    <\/tr>\n",
       "  <\/tbody>\n",
       "<\/table>\n",
       "<\/div>"
      ]
     },
     "metadata":{
      
     },
     "output_type":"display_data"
    }
   ],
   "metadata":{
    "datalore":{
     "node_id":"Eldr36JnrRKj1Yl7XTE3P3",
     "type":"CODE",
     "hide_input_from_viewers":true,
     "hide_output_from_viewers":true
    }
   }
  },
  {
   "cell_type":"markdown",
   "source":[
    "\n",
    "- Бачимо, що цукор+борошно дуже часто продається разом, проте сама ця комбінація зустрічається лише в 0.5% покупок, що логічно, адже це продукти, які закінчуються рідко і є обов'язковими інгрідієнтами для низки страв.\n",
    "- Тропічні фрукти і йогурт - основа для інстаграмних сніданків, тому і продаються разом, проте рідко зустрічаються на касі, бо зазвичай люди обирають більш поживний сніданок."
   ],
   "attachments":{
    
   },
   "metadata":{
    "datalore":{
     "node_id":"kqrCKwNvu1ilMA6TGkLsbG",
     "type":"MD",
     "hide_input_from_viewers":true,
     "hide_output_from_viewers":true
    }
   }
  },
  {
   "cell_type":"markdown",
   "source":[
    "Ідея для тропічних фруктів: ввечері, коли люди роблять собі покупки на завтра, знизити ціни на комбо йогурт+тропічні фрукти+якісь мюслі, щоб покупці могли отримати готові смузі боли, а магазин швидко позбавитися від затяжної продукцій (тропічні фрукти повільно продаються та швидко втрачають товарний вигляд)"
   ],
   "attachments":{
    
   },
   "metadata":{
    "datalore":{
     "node_id":"aAQ4oAhWOG3at0GWHDQW5g",
     "type":"MD",
     "hide_input_from_viewers":true,
     "hide_output_from_viewers":true
    }
   }
  },
  {
   "cell_type":"markdown",
   "source":[
    "### За показником support, що відповідає за частоту зустрічань пари"
   ],
   "attachments":{
    
   },
   "metadata":{
    "datalore":{
     "node_id":"zD8V1dzT1uroO2R11LkbOo",
     "type":"MD",
     "hide_input_from_viewers":true,
     "hide_output_from_viewers":true
    }
   }
  },
  {
   "cell_type":"code",
   "source":[
    "\n",
    "result.sort_values(by=['Support'], ascending=False).head(2)"
   ],
   "execution_count":29,
   "outputs":[
    {
     "data":{
      "text\/html":[
       "<div>\n",
       "<style scoped>\n",
       "    .dataframe tbody tr th:only-of-type {\n",
       "        vertical-align: middle;\n",
       "    }\n",
       "\n",
       "    .dataframe tbody tr th {\n",
       "        vertical-align: top;\n",
       "    }\n",
       "\n",
       "    .dataframe thead th {\n",
       "        text-align: right;\n",
       "    }\n",
       "<\/style>\n",
       "<table border=\"1\" class=\"dataframe\">\n",
       "  <thead>\n",
       "    <tr style=\"text-align: right;\">\n",
       "      <th><\/th>\n",
       "      <th>Rule<\/th>\n",
       "      <th>Support<\/th>\n",
       "      <th>Confidence<\/th>\n",
       "      <th>Lift<\/th>\n",
       "    <\/tr>\n",
       "  <\/thead>\n",
       "  <tbody>\n",
       "    <tr>\n",
       "      <th>1<\/th>\n",
       "      <td>beef -&gt; root vegetables<\/td>\n",
       "      <td>0.017387<\/td>\n",
       "      <td>0.331395<\/td>\n",
       "      <td>3.040367<\/td>\n",
       "    <\/tr>\n",
       "    <tr>\n",
       "      <th>37<\/th>\n",
       "      <td>root vegetables -&gt; tropical fruit<\/td>\n",
       "      <td>0.012303<\/td>\n",
       "      <td>0.342776<\/td>\n",
       "      <td>3.144780<\/td>\n",
       "    <\/tr>\n",
       "  <\/tbody>\n",
       "<\/table>\n",
       "<\/div>"
      ]
     },
     "metadata":{
      
     },
     "output_type":"display_data"
    }
   ],
   "metadata":{
    "datalore":{
     "node_id":"WMtT9gh4z19Ux5c1LsTJj3",
     "type":"CODE",
     "hide_input_from_viewers":true,
     "hide_output_from_viewers":true
    }
   }
  },
  {
   "cell_type":"markdown",
   "source":[
    "- Бачимо, що корневі овочі продаються з м'ясом, що логічно, адже це є основою правильного та ситного харчування. Ця пара продається частіше за інших. Проте в неї не такий гарний показник зв'язності - 3. "
   ],
   "attachments":{
    
   },
   "metadata":{
    "datalore":{
     "node_id":"JIXa9geOrnoSq4rfVwn8Eo",
     "type":"MD",
     "hide_input_from_viewers":true,
     "hide_output_from_viewers":true
    }
   }
  },
  {
   "cell_type":"markdown",
   "source":[
    "### Завдання 2:"
   ],
   "attachments":{
    
   },
   "metadata":{
    "datalore":{
     "node_id":"PbRukqaZnird8xwTIdeN2L",
     "type":"MD",
     "hide_input_from_viewers":false,
     "hide_output_from_viewers":false,
     "report_properties":{
      "rowId":"hnAyAxgx9NfwKVQJ6RxMet"
     }
    }
   }
  },
  {
   "cell_type":"markdown",
   "source":[
    "Завантажте файл https:\/\/www.kaggle.com\/vjchoudhary7\/customer-segmentation-tutorial-in-python\n",
    " \n",
    "- Спробуйте провести кластеризацію, тобто виділити цільові групи, для яких можна впроваджувати певні маркетингові акції\n",
    "- Опишіть отримані результати"
   ],
   "attachments":{
    
   },
   "metadata":{
    "datalore":{
     "node_id":"B6jGBgim2REluJvYvTklSt",
     "type":"MD",
     "hide_input_from_viewers":false,
     "hide_output_from_viewers":false,
     "report_properties":{
      "rowId":"I7MTWW4CHDwhrdS48T0bJf"
     }
    }
   }
  },
  {
   "cell_type":"code",
   "source":[
    "import pandas as pd"
   ],
   "execution_count":2,
   "outputs":[
    
   ],
   "metadata":{
    "datalore":{
     "node_id":"wnJvAKHkryo46HsV04iFGG",
     "type":"CODE",
     "hide_input_from_viewers":false,
     "hide_output_from_viewers":false,
     "report_properties":{
      "rowId":"1IXY8yaJPeI1bICoHdhw8g"
     }
    }
   }
  },
  {
   "cell_type":"code",
   "source":[
    "df = pd.read_csv('Mall_Customers.csv')"
   ],
   "execution_count":3,
   "outputs":[
    
   ],
   "metadata":{
    "datalore":{
     "node_id":"grNNSLW0zNKSN0gWG7oYcu",
     "type":"CODE",
     "hide_input_from_viewers":true,
     "hide_output_from_viewers":true
    }
   }
  },
  {
   "cell_type":"code",
   "source":[
    "df.head(5)"
   ],
   "execution_count":4,
   "outputs":[
    {
     "data":{
      "text\/html":[
       "<div>\n",
       "<style scoped>\n",
       "    .dataframe tbody tr th:only-of-type {\n",
       "        vertical-align: middle;\n",
       "    }\n",
       "\n",
       "    .dataframe tbody tr th {\n",
       "        vertical-align: top;\n",
       "    }\n",
       "\n",
       "    .dataframe thead th {\n",
       "        text-align: right;\n",
       "    }\n",
       "<\/style>\n",
       "<table border=\"1\" class=\"dataframe\">\n",
       "  <thead>\n",
       "    <tr style=\"text-align: right;\">\n",
       "      <th><\/th>\n",
       "      <th>CustomerID<\/th>\n",
       "      <th>Gender<\/th>\n",
       "      <th>Age<\/th>\n",
       "      <th>Annual Income (k$)<\/th>\n",
       "      <th>Spending Score (1-100)<\/th>\n",
       "    <\/tr>\n",
       "  <\/thead>\n",
       "  <tbody>\n",
       "    <tr>\n",
       "      <th>0<\/th>\n",
       "      <td>1<\/td>\n",
       "      <td>Male<\/td>\n",
       "      <td>19<\/td>\n",
       "      <td>15<\/td>\n",
       "      <td>39<\/td>\n",
       "    <\/tr>\n",
       "    <tr>\n",
       "      <th>1<\/th>\n",
       "      <td>2<\/td>\n",
       "      <td>Male<\/td>\n",
       "      <td>21<\/td>\n",
       "      <td>15<\/td>\n",
       "      <td>81<\/td>\n",
       "    <\/tr>\n",
       "    <tr>\n",
       "      <th>2<\/th>\n",
       "      <td>3<\/td>\n",
       "      <td>Female<\/td>\n",
       "      <td>20<\/td>\n",
       "      <td>16<\/td>\n",
       "      <td>6<\/td>\n",
       "    <\/tr>\n",
       "    <tr>\n",
       "      <th>3<\/th>\n",
       "      <td>4<\/td>\n",
       "      <td>Female<\/td>\n",
       "      <td>23<\/td>\n",
       "      <td>16<\/td>\n",
       "      <td>77<\/td>\n",
       "    <\/tr>\n",
       "    <tr>\n",
       "      <th>4<\/th>\n",
       "      <td>5<\/td>\n",
       "      <td>Female<\/td>\n",
       "      <td>31<\/td>\n",
       "      <td>17<\/td>\n",
       "      <td>40<\/td>\n",
       "    <\/tr>\n",
       "  <\/tbody>\n",
       "<\/table>\n",
       "<\/div>"
      ]
     },
     "metadata":{
      
     },
     "output_type":"display_data"
    }
   ],
   "metadata":{
    "datalore":{
     "node_id":"UjnW3UASZbm6ii34xhsFNv",
     "type":"CODE",
     "hide_input_from_viewers":true,
     "hide_output_from_viewers":true
    }
   }
  },
  {
   "cell_type":"code",
   "source":[
    "df.describe()"
   ],
   "execution_count":5,
   "outputs":[
    {
     "data":{
      "text\/html":[
       "<div>\n",
       "<style scoped>\n",
       "    .dataframe tbody tr th:only-of-type {\n",
       "        vertical-align: middle;\n",
       "    }\n",
       "\n",
       "    .dataframe tbody tr th {\n",
       "        vertical-align: top;\n",
       "    }\n",
       "\n",
       "    .dataframe thead th {\n",
       "        text-align: right;\n",
       "    }\n",
       "<\/style>\n",
       "<table border=\"1\" class=\"dataframe\">\n",
       "  <thead>\n",
       "    <tr style=\"text-align: right;\">\n",
       "      <th><\/th>\n",
       "      <th>CustomerID<\/th>\n",
       "      <th>Age<\/th>\n",
       "      <th>Annual Income (k$)<\/th>\n",
       "      <th>Spending Score (1-100)<\/th>\n",
       "    <\/tr>\n",
       "  <\/thead>\n",
       "  <tbody>\n",
       "    <tr>\n",
       "      <th>count<\/th>\n",
       "      <td>200.000000<\/td>\n",
       "      <td>200.000000<\/td>\n",
       "      <td>200.000000<\/td>\n",
       "      <td>200.000000<\/td>\n",
       "    <\/tr>\n",
       "    <tr>\n",
       "      <th>mean<\/th>\n",
       "      <td>100.500000<\/td>\n",
       "      <td>38.850000<\/td>\n",
       "      <td>60.560000<\/td>\n",
       "      <td>50.200000<\/td>\n",
       "    <\/tr>\n",
       "    <tr>\n",
       "      <th>std<\/th>\n",
       "      <td>57.879185<\/td>\n",
       "      <td>13.969007<\/td>\n",
       "      <td>26.264721<\/td>\n",
       "      <td>25.823522<\/td>\n",
       "    <\/tr>\n",
       "    <tr>\n",
       "      <th>min<\/th>\n",
       "      <td>1.000000<\/td>\n",
       "      <td>18.000000<\/td>\n",
       "      <td>15.000000<\/td>\n",
       "      <td>1.000000<\/td>\n",
       "    <\/tr>\n",
       "    <tr>\n",
       "      <th>25%<\/th>\n",
       "      <td>50.750000<\/td>\n",
       "      <td>28.750000<\/td>\n",
       "      <td>41.500000<\/td>\n",
       "      <td>34.750000<\/td>\n",
       "    <\/tr>\n",
       "    <tr>\n",
       "      <th>50%<\/th>\n",
       "      <td>100.500000<\/td>\n",
       "      <td>36.000000<\/td>\n",
       "      <td>61.500000<\/td>\n",
       "      <td>50.000000<\/td>\n",
       "    <\/tr>\n",
       "    <tr>\n",
       "      <th>75%<\/th>\n",
       "      <td>150.250000<\/td>\n",
       "      <td>49.000000<\/td>\n",
       "      <td>78.000000<\/td>\n",
       "      <td>73.000000<\/td>\n",
       "    <\/tr>\n",
       "    <tr>\n",
       "      <th>max<\/th>\n",
       "      <td>200.000000<\/td>\n",
       "      <td>70.000000<\/td>\n",
       "      <td>137.000000<\/td>\n",
       "      <td>99.000000<\/td>\n",
       "    <\/tr>\n",
       "  <\/tbody>\n",
       "<\/table>\n",
       "<\/div>"
      ]
     },
     "metadata":{
      
     },
     "output_type":"display_data"
    }
   ],
   "metadata":{
    "datalore":{
     "node_id":"UidQlnNK6ynTEzrC19bbqp",
     "type":"CODE",
     "hide_input_from_viewers":true,
     "hide_output_from_viewers":true
    }
   }
  },
  {
   "cell_type":"code",
   "source":[
    "df.drop(['CustomerID'], axis=1, inplace=True)\n",
    "df.head(5)"
   ],
   "execution_count":6,
   "outputs":[
    {
     "data":{
      "text\/html":[
       "<div>\n",
       "<style scoped>\n",
       "    .dataframe tbody tr th:only-of-type {\n",
       "        vertical-align: middle;\n",
       "    }\n",
       "\n",
       "    .dataframe tbody tr th {\n",
       "        vertical-align: top;\n",
       "    }\n",
       "\n",
       "    .dataframe thead th {\n",
       "        text-align: right;\n",
       "    }\n",
       "<\/style>\n",
       "<table border=\"1\" class=\"dataframe\">\n",
       "  <thead>\n",
       "    <tr style=\"text-align: right;\">\n",
       "      <th><\/th>\n",
       "      <th>Gender<\/th>\n",
       "      <th>Age<\/th>\n",
       "      <th>Annual Income (k$)<\/th>\n",
       "      <th>Spending Score (1-100)<\/th>\n",
       "    <\/tr>\n",
       "  <\/thead>\n",
       "  <tbody>\n",
       "    <tr>\n",
       "      <th>0<\/th>\n",
       "      <td>Male<\/td>\n",
       "      <td>19<\/td>\n",
       "      <td>15<\/td>\n",
       "      <td>39<\/td>\n",
       "    <\/tr>\n",
       "    <tr>\n",
       "      <th>1<\/th>\n",
       "      <td>Male<\/td>\n",
       "      <td>21<\/td>\n",
       "      <td>15<\/td>\n",
       "      <td>81<\/td>\n",
       "    <\/tr>\n",
       "    <tr>\n",
       "      <th>2<\/th>\n",
       "      <td>Female<\/td>\n",
       "      <td>20<\/td>\n",
       "      <td>16<\/td>\n",
       "      <td>6<\/td>\n",
       "    <\/tr>\n",
       "    <tr>\n",
       "      <th>3<\/th>\n",
       "      <td>Female<\/td>\n",
       "      <td>23<\/td>\n",
       "      <td>16<\/td>\n",
       "      <td>77<\/td>\n",
       "    <\/tr>\n",
       "    <tr>\n",
       "      <th>4<\/th>\n",
       "      <td>Female<\/td>\n",
       "      <td>31<\/td>\n",
       "      <td>17<\/td>\n",
       "      <td>40<\/td>\n",
       "    <\/tr>\n",
       "  <\/tbody>\n",
       "<\/table>\n",
       "<\/div>"
      ]
     },
     "metadata":{
      
     },
     "output_type":"display_data"
    }
   ],
   "metadata":{
    "datalore":{
     "node_id":"zqpEXnT4R1jEuMPkkZrvpp",
     "type":"CODE",
     "hide_input_from_viewers":true,
     "hide_output_from_viewers":true
    }
   }
  },
  {
   "cell_type":"code",
   "source":[
    "df.describe()"
   ],
   "execution_count":7,
   "outputs":[
    {
     "data":{
      "text\/html":[
       "<div>\n",
       "<style scoped>\n",
       "    .dataframe tbody tr th:only-of-type {\n",
       "        vertical-align: middle;\n",
       "    }\n",
       "\n",
       "    .dataframe tbody tr th {\n",
       "        vertical-align: top;\n",
       "    }\n",
       "\n",
       "    .dataframe thead th {\n",
       "        text-align: right;\n",
       "    }\n",
       "<\/style>\n",
       "<table border=\"1\" class=\"dataframe\">\n",
       "  <thead>\n",
       "    <tr style=\"text-align: right;\">\n",
       "      <th><\/th>\n",
       "      <th>Age<\/th>\n",
       "      <th>Annual Income (k$)<\/th>\n",
       "      <th>Spending Score (1-100)<\/th>\n",
       "    <\/tr>\n",
       "  <\/thead>\n",
       "  <tbody>\n",
       "    <tr>\n",
       "      <th>count<\/th>\n",
       "      <td>200.000000<\/td>\n",
       "      <td>200.000000<\/td>\n",
       "      <td>200.000000<\/td>\n",
       "    <\/tr>\n",
       "    <tr>\n",
       "      <th>mean<\/th>\n",
       "      <td>38.850000<\/td>\n",
       "      <td>60.560000<\/td>\n",
       "      <td>50.200000<\/td>\n",
       "    <\/tr>\n",
       "    <tr>\n",
       "      <th>std<\/th>\n",
       "      <td>13.969007<\/td>\n",
       "      <td>26.264721<\/td>\n",
       "      <td>25.823522<\/td>\n",
       "    <\/tr>\n",
       "    <tr>\n",
       "      <th>min<\/th>\n",
       "      <td>18.000000<\/td>\n",
       "      <td>15.000000<\/td>\n",
       "      <td>1.000000<\/td>\n",
       "    <\/tr>\n",
       "    <tr>\n",
       "      <th>25%<\/th>\n",
       "      <td>28.750000<\/td>\n",
       "      <td>41.500000<\/td>\n",
       "      <td>34.750000<\/td>\n",
       "    <\/tr>\n",
       "    <tr>\n",
       "      <th>50%<\/th>\n",
       "      <td>36.000000<\/td>\n",
       "      <td>61.500000<\/td>\n",
       "      <td>50.000000<\/td>\n",
       "    <\/tr>\n",
       "    <tr>\n",
       "      <th>75%<\/th>\n",
       "      <td>49.000000<\/td>\n",
       "      <td>78.000000<\/td>\n",
       "      <td>73.000000<\/td>\n",
       "    <\/tr>\n",
       "    <tr>\n",
       "      <th>max<\/th>\n",
       "      <td>70.000000<\/td>\n",
       "      <td>137.000000<\/td>\n",
       "      <td>99.000000<\/td>\n",
       "    <\/tr>\n",
       "  <\/tbody>\n",
       "<\/table>\n",
       "<\/div>"
      ]
     },
     "metadata":{
      
     },
     "output_type":"display_data"
    }
   ],
   "metadata":{
    "datalore":{
     "node_id":"AHhpcaiL964Wsj8tMVh1OW",
     "type":"CODE",
     "hide_input_from_viewers":true,
     "hide_output_from_viewers":true
    }
   }
  },
  {
   "cell_type":"code",
   "source":[
    "df_dum = pd.get_dummies(df, drop_first=True)\n",
    "df_dum.head(5)"
   ],
   "execution_count":8,
   "outputs":[
    {
     "data":{
      "text\/html":[
       "<div>\n",
       "<style scoped>\n",
       "    .dataframe tbody tr th:only-of-type {\n",
       "        vertical-align: middle;\n",
       "    }\n",
       "\n",
       "    .dataframe tbody tr th {\n",
       "        vertical-align: top;\n",
       "    }\n",
       "\n",
       "    .dataframe thead th {\n",
       "        text-align: right;\n",
       "    }\n",
       "<\/style>\n",
       "<table border=\"1\" class=\"dataframe\">\n",
       "  <thead>\n",
       "    <tr style=\"text-align: right;\">\n",
       "      <th><\/th>\n",
       "      <th>Age<\/th>\n",
       "      <th>Annual Income (k$)<\/th>\n",
       "      <th>Spending Score (1-100)<\/th>\n",
       "      <th>Gender_Male<\/th>\n",
       "    <\/tr>\n",
       "  <\/thead>\n",
       "  <tbody>\n",
       "    <tr>\n",
       "      <th>0<\/th>\n",
       "      <td>19<\/td>\n",
       "      <td>15<\/td>\n",
       "      <td>39<\/td>\n",
       "      <td>1<\/td>\n",
       "    <\/tr>\n",
       "    <tr>\n",
       "      <th>1<\/th>\n",
       "      <td>21<\/td>\n",
       "      <td>15<\/td>\n",
       "      <td>81<\/td>\n",
       "      <td>1<\/td>\n",
       "    <\/tr>\n",
       "    <tr>\n",
       "      <th>2<\/th>\n",
       "      <td>20<\/td>\n",
       "      <td>16<\/td>\n",
       "      <td>6<\/td>\n",
       "      <td>0<\/td>\n",
       "    <\/tr>\n",
       "    <tr>\n",
       "      <th>3<\/th>\n",
       "      <td>23<\/td>\n",
       "      <td>16<\/td>\n",
       "      <td>77<\/td>\n",
       "      <td>0<\/td>\n",
       "    <\/tr>\n",
       "    <tr>\n",
       "      <th>4<\/th>\n",
       "      <td>31<\/td>\n",
       "      <td>17<\/td>\n",
       "      <td>40<\/td>\n",
       "      <td>0<\/td>\n",
       "    <\/tr>\n",
       "  <\/tbody>\n",
       "<\/table>\n",
       "<\/div>"
      ]
     },
     "metadata":{
      
     },
     "output_type":"display_data"
    }
   ],
   "metadata":{
    "datalore":{
     "node_id":"tyZ0OklnYKpy12g0cPl1YS",
     "type":"CODE",
     "hide_input_from_viewers":true,
     "hide_output_from_viewers":true
    }
   }
  },
  {
   "cell_type":"markdown",
   "source":[
    "# K MEANS"
   ],
   "attachments":{
    
   },
   "metadata":{
    "datalore":{
     "node_id":"Cn92dHsYLrl8XYtVEz7rS2",
     "type":"MD",
     "hide_input_from_viewers":true,
     "hide_output_from_viewers":true
    }
   }
  },
  {
   "cell_type":"markdown",
   "source":[
    "## БЕЗ СТАНДАРТИЗАЦІЇ"
   ],
   "attachments":{
    
   },
   "metadata":{
    "datalore":{
     "node_id":"3zbKVzHIgJyTAF420wXVH8",
     "type":"MD",
     "hide_input_from_viewers":true,
     "hide_output_from_viewers":true
    }
   }
  },
  {
   "cell_type":"markdown",
   "source":[
    "### Первинна візуалізація"
   ],
   "attachments":{
    
   },
   "metadata":{
    "datalore":{
     "node_id":"YWg1kwHJ4t1k6c8Pqa1cMQ",
     "type":"MD",
     "hide_input_from_viewers":true,
     "hide_output_from_viewers":true
    }
   }
  },
  {
   "cell_type":"code",
   "source":[
    "from sklearn.decomposition import PCA\n",
    "import matplotlib.pyplot as plt\n",
    "\n",
    "pca = PCA(n_components=2)\n",
    "df_pca = pca.fit_transform(df_dum)\n",
    "plt.scatter(df_pca[:, 0], df_pca[:, 1])\n",
    "plt.show()"
   ],
   "execution_count":9,
   "outputs":[
    {
     "data":{
      "image\/png":"[encoded data removed]"
     },
     "metadata":{
      "image\/png":{
       
      }
     },
     "output_type":"display_data"
    }
   ],
   "metadata":{
    "datalore":{
     "node_id":"8AqcATqZF7EvZ9IoUXDjnt",
     "type":"CODE",
     "hide_input_from_viewers":true,
     "hide_output_from_viewers":true
    }
   }
  },
  {
   "cell_type":"code",
   "source":[
    "from sklearn.cluster import KMeans\n",
    "\n",
    "k = []\n",
    "metrics = []\n",
    "\n",
    "for i in range(1, 17):\n",
    "    kmeans = KMeans(n_clusters=i)\n",
    "    kmeans.fit(df_dum)\n",
    "\n",
    "    k.append(i)\n",
    "    metrics.append(kmeans.inertia_)\n",
    "\n",
    "plt.plot(k, metrics)"
   ],
   "execution_count":10,
   "outputs":[
    {
     "data":{
      "text\/plain":[
       "[<matplotlib.lines.Line2D at 0x7fb1a88a7f10>]"
      ]
     },
     "metadata":{
      
     },
     "output_type":"display_data"
    },
    {
     "data":{
      "image\/png":"[encoded data removed]"
     },
     "metadata":{
      "image\/png":{
       
      }
     },
     "output_type":"display_data"
    }
   ],
   "metadata":{
    "datalore":{
     "node_id":"e9p4lsYePkAByGB8G03tUP",
     "type":"CODE",
     "hide_input_from_viewers":true,
     "hide_output_from_viewers":true
    }
   }
  },
  {
   "cell_type":"markdown",
   "source":[
    "Є сенс розглядати 5-8 кластерів"
   ],
   "attachments":{
    
   },
   "metadata":{
    "datalore":{
     "node_id":"eFjmJxy7zOCBnrIcC30rVM",
     "type":"MD",
     "hide_input_from_viewers":true,
     "hide_output_from_viewers":true
    }
   }
  },
  {
   "cell_type":"code",
   "source":[
    "import seaborn as sns\n",
    "from sklearn.metrics import silhouette_score, calinski_harabasz_score\n",
    "\n",
    "\n",
    "fig, axes = plt.subplots(nrows=3, ncols=1, figsize=(10, 16))\n",
    "\n",
    "model_name = []\n",
    "silhouettes = []\n",
    "calinskies = []\n",
    "\n",
    "for i in range(5, 8):\n",
    "\n",
    "    model_k_means = KMeans(n_clusters=i)\n",
    "    model_k_means.fit(df_dum)\n",
    "    model_name.append(f'K_means {i}')\n",
    "\n",
    "    silhouette = silhouette_score(df_dum, model_k_means.labels_)\n",
    "    silhouettes.append(silhouette)\n",
    "    calinski = calinski_harabasz_score(df_dum, model_k_means.labels_)\n",
    "    calinskies.append(calinski)\n",
    "\n",
    "\n",
    "    #візуалізація\n",
    "\n",
    "    pca = PCA(n_components=2)\n",
    "    df_pca = pca.fit_transform(df_dum)\n",
    "\n",
    "    data = pd.DataFrame(df_pca)\n",
    "    data['Cluster'] = model_k_means.labels_\n",
    "\n",
    "    sns.scatterplot(data=data, x=0, y=1, hue='Cluster', palette='Set1', ax = axes[(5-i)])\n",
    "    \n",
    "    axes[(5-i)].set_title(f'Clusters {i}')"
   ],
   "execution_count":18,
   "outputs":[
    {
     "data":{
      "image\/png":"[encoded data removed]"
     },
     "metadata":{
      "image\/png":{
       
      }
     },
     "output_type":"display_data"
    }
   ],
   "metadata":{
    "datalore":{
     "node_id":"eneh8tqKYlekLDF3zxL4na",
     "type":"CODE",
     "hide_input_from_viewers":true,
     "hide_output_from_viewers":true
    }
   }
  },
  {
   "cell_type":"code",
   "source":[
    "result_1 = pd.DataFrame({'name': model_name,\n",
    "                       'calin': calinskies,\n",
    "                       'silh': silhouettes})\n",
    "result_1"
   ],
   "execution_count":23,
   "outputs":[
    {
     "data":{
      "text\/html":[
       "<div>\n",
       "<style scoped>\n",
       "    .dataframe tbody tr th:only-of-type {\n",
       "        vertical-align: middle;\n",
       "    }\n",
       "\n",
       "    .dataframe tbody tr th {\n",
       "        vertical-align: top;\n",
       "    }\n",
       "\n",
       "    .dataframe thead th {\n",
       "        text-align: right;\n",
       "    }\n",
       "<\/style>\n",
       "<table border=\"1\" class=\"dataframe\">\n",
       "  <thead>\n",
       "    <tr style=\"text-align: right;\">\n",
       "      <th><\/th>\n",
       "      <th>name<\/th>\n",
       "      <th>calin<\/th>\n",
       "      <th>silh<\/th>\n",
       "    <\/tr>\n",
       "  <\/thead>\n",
       "  <tbody>\n",
       "    <tr>\n",
       "      <th>0<\/th>\n",
       "      <td>K_means 5<\/td>\n",
       "      <td>150.946316<\/td>\n",
       "      <td>0.444067<\/td>\n",
       "    <\/tr>\n",
       "    <tr>\n",
       "      <th>1<\/th>\n",
       "      <td>K_means 6<\/td>\n",
       "      <td>166.583496<\/td>\n",
       "      <td>0.452055<\/td>\n",
       "    <\/tr>\n",
       "    <tr>\n",
       "      <th>2<\/th>\n",
       "      <td>K_means 7<\/td>\n",
       "      <td>162.132917<\/td>\n",
       "      <td>0.440965<\/td>\n",
       "    <\/tr>\n",
       "  <\/tbody>\n",
       "<\/table>\n",
       "<\/div>"
      ]
     },
     "metadata":{
      
     },
     "output_type":"display_data"
    }
   ],
   "metadata":{
    "datalore":{
     "node_id":"p2pQ7cFmjzMBGPElfopWNe",
     "type":"CODE",
     "hide_input_from_viewers":true,
     "hide_output_from_viewers":true
    }
   }
  },
  {
   "cell_type":"markdown",
   "source":[
    "### Краще за все впоралася модель з 6 кластерами"
   ],
   "attachments":{
    
   },
   "metadata":{
    "datalore":{
     "node_id":"M2uykdWDChWJPc2GbLHpCE",
     "type":"MD",
     "hide_input_from_viewers":true,
     "hide_output_from_viewers":true
    }
   }
  },
  {
   "cell_type":"markdown",
   "source":[
    "## З СТАНДАРТИЗАЦІЄЮ"
   ],
   "attachments":{
    
   },
   "metadata":{
    "datalore":{
     "node_id":"b4QlcVYmeOB1LLwAJfK2fo",
     "type":"MD",
     "hide_input_from_viewers":true,
     "hide_output_from_viewers":true
    }
   }
  },
  {
   "cell_type":"code",
   "source":[
    "from sklearn.preprocessing import StandardScaler\n",
    "\n",
    "scaler = StandardScaler()\n",
    "\n",
    "df_dum_s = scaler.fit_transform(df_dum)\n",
    "df_dum_s = pd.DataFrame(df_dum_s)\n",
    "df_dum_s.head(5)"
   ],
   "execution_count":12,
   "outputs":[
    {
     "data":{
      "text\/html":[
       "<div>\n",
       "<style scoped>\n",
       "    .dataframe tbody tr th:only-of-type {\n",
       "        vertical-align: middle;\n",
       "    }\n",
       "\n",
       "    .dataframe tbody tr th {\n",
       "        vertical-align: top;\n",
       "    }\n",
       "\n",
       "    .dataframe thead th {\n",
       "        text-align: right;\n",
       "    }\n",
       "<\/style>\n",
       "<table border=\"1\" class=\"dataframe\">\n",
       "  <thead>\n",
       "    <tr style=\"text-align: right;\">\n",
       "      <th><\/th>\n",
       "      <th>0<\/th>\n",
       "      <th>1<\/th>\n",
       "      <th>2<\/th>\n",
       "      <th>3<\/th>\n",
       "    <\/tr>\n",
       "  <\/thead>\n",
       "  <tbody>\n",
       "    <tr>\n",
       "      <th>0<\/th>\n",
       "      <td>-1.424569<\/td>\n",
       "      <td>-1.738999<\/td>\n",
       "      <td>-0.434801<\/td>\n",
       "      <td>1.128152<\/td>\n",
       "    <\/tr>\n",
       "    <tr>\n",
       "      <th>1<\/th>\n",
       "      <td>-1.281035<\/td>\n",
       "      <td>-1.738999<\/td>\n",
       "      <td>1.195704<\/td>\n",
       "      <td>1.128152<\/td>\n",
       "    <\/tr>\n",
       "    <tr>\n",
       "      <th>2<\/th>\n",
       "      <td>-1.352802<\/td>\n",
       "      <td>-1.700830<\/td>\n",
       "      <td>-1.715913<\/td>\n",
       "      <td>-0.886405<\/td>\n",
       "    <\/tr>\n",
       "    <tr>\n",
       "      <th>3<\/th>\n",
       "      <td>-1.137502<\/td>\n",
       "      <td>-1.700830<\/td>\n",
       "      <td>1.040418<\/td>\n",
       "      <td>-0.886405<\/td>\n",
       "    <\/tr>\n",
       "    <tr>\n",
       "      <th>4<\/th>\n",
       "      <td>-0.563369<\/td>\n",
       "      <td>-1.662660<\/td>\n",
       "      <td>-0.395980<\/td>\n",
       "      <td>-0.886405<\/td>\n",
       "    <\/tr>\n",
       "  <\/tbody>\n",
       "<\/table>\n",
       "<\/div>"
      ]
     },
     "metadata":{
      
     },
     "output_type":"display_data"
    }
   ],
   "metadata":{
    "datalore":{
     "node_id":"xwvHMSJVNj73m03ANhiaSi",
     "type":"CODE",
     "hide_input_from_viewers":true,
     "hide_output_from_viewers":true
    }
   }
  },
  {
   "cell_type":"markdown",
   "source":[
    "## Первинна візуалізація"
   ],
   "attachments":{
    
   },
   "metadata":{
    "datalore":{
     "node_id":"UyZ6HdZIobA0xNNYKyjDJW",
     "type":"MD",
     "hide_input_from_viewers":true,
     "hide_output_from_viewers":true
    }
   }
  },
  {
   "cell_type":"code",
   "source":[
    "from sklearn.decomposition import PCA\n",
    "import matplotlib.pyplot as plt\n",
    "\n",
    "pca = PCA(n_components=2)\n",
    "df_pca = pca.fit_transform(df_dum_s)\n",
    "plt.scatter(df_pca[:, 0], df_pca[:, 1])\n",
    "plt.show()"
   ],
   "execution_count":13,
   "outputs":[
    {
     "data":{
      "image\/png":"[encoded data removed]"
     },
     "metadata":{
      "image\/png":{
       
      }
     },
     "output_type":"display_data"
    }
   ],
   "metadata":{
    "datalore":{
     "node_id":"4gfESwMKCusoSv8zxGtSub",
     "type":"CODE",
     "hide_input_from_viewers":true,
     "hide_output_from_viewers":true
    }
   }
  },
  {
   "cell_type":"code",
   "source":[
    "from sklearn.cluster import KMeans\n",
    "\n",
    "k = []\n",
    "metrics = []\n",
    "\n",
    "for i in range(1, 17):\n",
    "    kmeans = KMeans(n_clusters=i)\n",
    "    kmeans.fit(df_dum_s)\n",
    "\n",
    "    k.append(i)\n",
    "    metrics.append(kmeans.inertia_)\n",
    "\n",
    "plt.plot(k, metrics)"
   ],
   "execution_count":14,
   "outputs":[
    {
     "data":{
      "text\/plain":[
       "[<matplotlib.lines.Line2D at 0x7fb1a7956d90>]"
      ]
     },
     "metadata":{
      
     },
     "output_type":"display_data"
    },
    {
     "data":{
      "image\/png":"[encoded data removed]"
     },
     "metadata":{
      "image\/png":{
       
      }
     },
     "output_type":"display_data"
    }
   ],
   "metadata":{
    "datalore":{
     "node_id":"o2SYn7mTynYdrVOhcpywwA",
     "type":"CODE",
     "hide_input_from_viewers":true,
     "hide_output_from_viewers":true
    }
   }
  },
  {
   "cell_type":"markdown",
   "source":[
    "#### Є сенс брати 5-8 кластерів"
   ],
   "attachments":{
    
   },
   "metadata":{
    "datalore":{
     "node_id":"2la6xPPdTXeRJEZOO8Tuwu",
     "type":"MD",
     "hide_input_from_viewers":true,
     "hide_output_from_viewers":true
    }
   }
  },
  {
   "cell_type":"markdown",
   "source":[
    "### Візуалізація для k-means"
   ],
   "attachments":{
    
   },
   "metadata":{
    "datalore":{
     "node_id":"yb7mRWTGJSh7LWGth31Ppt",
     "type":"MD",
     "hide_input_from_viewers":true,
     "hide_output_from_viewers":true
    }
   }
  },
  {
   "cell_type":"code",
   "source":[
    "import seaborn as sns"
   ],
   "execution_count":15,
   "outputs":[
    
   ],
   "metadata":{
    "datalore":{
     "node_id":"uQv3F9CSgcbNZz0Xv3OO11",
     "type":"CODE",
     "hide_input_from_viewers":true,
     "hide_output_from_viewers":true
    }
   }
  },
  {
   "cell_type":"code",
   "source":[
    "\n",
    "fig, axes = plt.subplots(nrows=3, ncols=1, figsize=(10, 16))\n",
    "\n",
    "model_name = []\n",
    "silhouettes = []\n",
    "calinskies = []\n",
    "\n",
    "\n",
    "for i in range(5, 8):\n",
    "    model_k_means = KMeans(n_clusters=i)\n",
    "    model_k_means.fit(df_dum_s)\n",
    "    model_name.append(f\"K means {i}\")\n",
    "\n",
    "    silhouette = silhouette_score(df_dum_s, model_k_means.labels_)\n",
    "    silhouettes.append(silhouette)\n",
    "    calinski = calinski_harabasz_score(df_dum_s, model_k_means.labels_)\n",
    "    calinskies.append(calinski)\n",
    "\n",
    "    pca = PCA(n_components=2)\n",
    "    df_pca = pca.fit_transform(df_dum_s)\n",
    "\n",
    "    data = pd.DataFrame(df_pca)\n",
    "    data['Cluster'] = model_k_means.labels_\n",
    "\n",
    "    sns.scatterplot(data=data, x=0, y=1, hue='Cluster', palette='Set1', ax = axes[(5-i)])\n",
    "    \n",
    "    axes[(5-i)].set_title(f'Clusters {i}')\n",
    "\n"
   ],
   "execution_count":24,
   "outputs":[
    {
     "data":{
      "image\/png":"[encoded data removed]"
     },
     "metadata":{
      "image\/png":{
       
      }
     },
     "output_type":"display_data"
    }
   ],
   "metadata":{
    "datalore":{
     "node_id":"Mqz0pvLbkpwPEfv7FvVks4",
     "type":"CODE",
     "hide_input_from_viewers":true,
     "hide_output_from_viewers":true
    }
   }
  },
  {
   "cell_type":"code",
   "source":[
    "result_2 = pd.DataFrame({'name': model_name,\n",
    "                       'calin': calinskies,\n",
    "                       'silh': silhouettes})\n",
    "result_2"
   ],
   "execution_count":25,
   "outputs":[
    {
     "data":{
      "text\/html":[
       "<div>\n",
       "<style scoped>\n",
       "    .dataframe tbody tr th:only-of-type {\n",
       "        vertical-align: middle;\n",
       "    }\n",
       "\n",
       "    .dataframe tbody tr th {\n",
       "        vertical-align: top;\n",
       "    }\n",
       "\n",
       "    .dataframe thead th {\n",
       "        text-align: right;\n",
       "    }\n",
       "<\/style>\n",
       "<table border=\"1\" class=\"dataframe\">\n",
       "  <thead>\n",
       "    <tr style=\"text-align: right;\">\n",
       "      <th><\/th>\n",
       "      <th>name<\/th>\n",
       "      <th>calin<\/th>\n",
       "      <th>silh<\/th>\n",
       "    <\/tr>\n",
       "  <\/thead>\n",
       "  <tbody>\n",
       "    <tr>\n",
       "      <th>0<\/th>\n",
       "      <td>K means 5<\/td>\n",
       "      <td>70.998421<\/td>\n",
       "      <td>0.316644<\/td>\n",
       "    <\/tr>\n",
       "    <tr>\n",
       "      <th>1<\/th>\n",
       "      <td>K means 6<\/td>\n",
       "      <td>74.060140<\/td>\n",
       "      <td>0.334321<\/td>\n",
       "    <\/tr>\n",
       "    <tr>\n",
       "      <th>2<\/th>\n",
       "      <td>K means 7<\/td>\n",
       "      <td>75.403882<\/td>\n",
       "      <td>0.362546<\/td>\n",
       "    <\/tr>\n",
       "  <\/tbody>\n",
       "<\/table>\n",
       "<\/div>"
      ]
     },
     "metadata":{
      
     },
     "output_type":"display_data"
    }
   ],
   "metadata":{
    "datalore":{
     "node_id":"p6z0AKFrTzdxlCwGfBISoC",
     "type":"CODE",
     "hide_input_from_viewers":true,
     "hide_output_from_viewers":true
    }
   }
  },
  {
   "cell_type":"markdown",
   "source":[
    "## Накрайще впоралася модель з 7 кластерами"
   ],
   "attachments":{
    
   },
   "metadata":{
    "datalore":{
     "node_id":"yXL2cLA8drfY08vsbmJFeS",
     "type":"MD",
     "hide_input_from_viewers":true,
     "hide_output_from_viewers":true
    }
   }
  },
  {
   "cell_type":"markdown",
   "source":[
    "# АНГЛОМЕРАТИВНИЙ АЛГОРИТМ"
   ],
   "attachments":{
    
   },
   "metadata":{
    "datalore":{
     "node_id":"Rr8LRajqEv77gb9Y6vH8CS",
     "type":"MD",
     "hide_input_from_viewers":true,
     "hide_output_from_viewers":true
    }
   }
  },
  {
   "cell_type":"code",
   "source":[
    "from sklearn.cluster import AgglomerativeClustering\n",
    "from sklearn import metrics"
   ],
   "execution_count":26,
   "outputs":[
    
   ],
   "metadata":{
    "datalore":{
     "node_id":"i2tDArutYzQNa9JYbhyACg",
     "type":"CODE",
     "hide_input_from_viewers":true,
     "hide_output_from_viewers":true
    }
   }
  },
  {
   "cell_type":"code",
   "source":[
    "fig, axes = plt.subplots(nrows=4, ncols=1, figsize=(10, 16))\n",
    "\n",
    "model_name = []\n",
    "silhouettes = []\n",
    "calinskies = []\n",
    "\n",
    "\n",
    "for i in range(5, 9):\n",
    "    model_agg = AgglomerativeClustering(n_clusters=i)\n",
    "    model_agg.fit(df_dum)\n",
    "    model_name.append(f\"Agg {i}\")\n",
    "\n",
    "    silhouette = silhouette_score(df_dum, model_agg.labels_)\n",
    "    silhouettes.append(silhouette)\n",
    "    calinski = calinski_harabasz_score(df_dum, model_agg.labels_)\n",
    "    calinskies.append(calinski)\n",
    "\n",
    "    pca = PCA(n_components=2)\n",
    "    df_pca = pca.fit_transform(df_dum)\n",
    "\n",
    "    data = pd.DataFrame(df_pca)\n",
    "    data['Cluster'] = model_agg.labels_\n",
    "\n",
    "    sns.scatterplot(data=data, x=0, y=1, hue='Cluster', palette='Set1', ax = axes[(5-i)])\n",
    "    \n",
    "    axes[(5-i)].set_title(f'Clusters {i}')"
   ],
   "execution_count":27,
   "outputs":[
    {
     "data":{
      "image\/png":"[encoded data removed]"
     },
     "metadata":{
      "image\/png":{
       
      }
     },
     "output_type":"display_data"
    }
   ],
   "metadata":{
    "datalore":{
     "node_id":"8Qt7rK8CkHGPwLcohq1ww9",
     "type":"CODE",
     "hide_input_from_viewers":true,
     "hide_output_from_viewers":true
    }
   }
  },
  {
   "cell_type":"code",
   "source":[
    "result_3 = pd.DataFrame({'name': model_name,\n",
    "                       'calin': calinskies,\n",
    "                       'silh': silhouettes})\n",
    "result_3"
   ],
   "execution_count":28,
   "outputs":[
    {
     "data":{
      "text\/html":[
       "<div>\n",
       "<style scoped>\n",
       "    .dataframe tbody tr th:only-of-type {\n",
       "        vertical-align: middle;\n",
       "    }\n",
       "\n",
       "    .dataframe tbody tr th {\n",
       "        vertical-align: top;\n",
       "    }\n",
       "\n",
       "    .dataframe thead th {\n",
       "        text-align: right;\n",
       "    }\n",
       "<\/style>\n",
       "<table border=\"1\" class=\"dataframe\">\n",
       "  <thead>\n",
       "    <tr style=\"text-align: right;\">\n",
       "      <th><\/th>\n",
       "      <th>name<\/th>\n",
       "      <th>calin<\/th>\n",
       "      <th>silh<\/th>\n",
       "    <\/tr>\n",
       "  <\/thead>\n",
       "  <tbody>\n",
       "    <tr>\n",
       "      <th>0<\/th>\n",
       "      <td>Agg 5<\/td>\n",
       "      <td>147.579723<\/td>\n",
       "      <td>0.439975<\/td>\n",
       "    <\/tr>\n",
       "    <tr>\n",
       "      <th>1<\/th>\n",
       "      <td>Agg 6<\/td>\n",
       "      <td>159.328629<\/td>\n",
       "      <td>0.442801<\/td>\n",
       "    <\/tr>\n",
       "    <tr>\n",
       "      <th>2<\/th>\n",
       "      <td>Agg 7<\/td>\n",
       "      <td>152.802061<\/td>\n",
       "      <td>0.425939<\/td>\n",
       "    <\/tr>\n",
       "    <tr>\n",
       "      <th>3<\/th>\n",
       "      <td>Agg 8<\/td>\n",
       "      <td>148.422345<\/td>\n",
       "      <td>0.422330<\/td>\n",
       "    <\/tr>\n",
       "  <\/tbody>\n",
       "<\/table>\n",
       "<\/div>"
      ]
     },
     "metadata":{
      
     },
     "output_type":"display_data"
    }
   ],
   "metadata":{
    "datalore":{
     "node_id":"5PXjkzYxXNuKzRGN6el3IW",
     "type":"CODE",
     "hide_input_from_viewers":true,
     "hide_output_from_viewers":true
    }
   }
  },
  {
   "cell_type":"markdown",
   "source":[
    "### Модель з 6 кластерами впоралася найкраще"
   ],
   "attachments":{
    
   },
   "metadata":{
    "datalore":{
     "node_id":"nQnNIxPCVnLv1VD5aNQCCO",
     "type":"MD",
     "hide_input_from_viewers":true,
     "hide_output_from_viewers":true
    }
   }
  },
  {
   "cell_type":"markdown",
   "source":[
    "# -----------------------------+------------------------------"
   ],
   "attachments":{
    
   },
   "metadata":{
    "datalore":{
     "node_id":"4Yh8xw1NgzS5EGUOTL1z89",
     "type":"MD",
     "hide_input_from_viewers":true,
     "hide_output_from_viewers":true
    }
   }
  },
  {
   "cell_type":"markdown",
   "source":[
    "# -----------------------------+------------------------------"
   ],
   "attachments":{
    
   },
   "metadata":{
    "datalore":{
     "node_id":"lpBoSAIhOuiegxCbhgd5cR",
     "type":"MD",
     "hide_input_from_viewers":true,
     "hide_output_from_viewers":true
    }
   }
  },
  {
   "cell_type":"markdown",
   "source":[
    "# -----------------------------+------------------------------"
   ],
   "attachments":{
    
   },
   "metadata":{
    "datalore":{
     "node_id":"92M4WiCNFgNC13OlE8E04a",
     "type":"MD",
     "hide_input_from_viewers":true,
     "hide_output_from_viewers":true
    }
   }
  },
  {
   "cell_type":"markdown",
   "source":[
    "# Висновок: модель к-середніх з 6 кластерами впоралася найкраще. "
   ],
   "attachments":{
    
   },
   "metadata":{
    "datalore":{
     "node_id":"ActCVh3Gw5WR5s64q6E9IL",
     "type":"MD",
     "hide_input_from_viewers":true,
     "hide_output_from_viewers":true
    }
   }
  },
  {
   "cell_type":"code",
   "source":[
    "kmeans = KMeans(n_clusters=6)\n",
    "kmeans.fit(df_dum)\n",
    "\n",
    "print(\"Центроїди:\", kmeans.cluster_centers_)"
   ],
   "execution_count":31,
   "outputs":[
    {
     "name":"stdout",
     "text":[
      "Центроїди: [[32.69230769 86.53846154 82.12820513  0.46153846]\n",
      " [41.68571429 88.22857143 17.28571429  0.57142857]\n",
      " [56.15555556 53.37777778 49.08888889  0.44444444]\n",
      " [25.27272727 25.72727273 79.36363636  0.40909091]\n",
      " [44.14285714 25.14285714 19.52380952  0.38095238]\n",
      " [27.         56.65789474 49.13157895  0.34210526]]\n"
     ],
     "output_type":"stream"
    }
   ],
   "metadata":{
    "datalore":{
     "node_id":"aqt9HuFYjBuBVqxVA15oDq",
     "type":"CODE",
     "hide_input_from_viewers":true,
     "hide_output_from_viewers":true
    }
   }
  },
  {
   "cell_type":"code",
   "source":[
    "result = df_dum\n",
    "result['Cluster'] = kmeans.labels_"
   ],
   "execution_count":42,
   "outputs":[
    
   ],
   "metadata":{
    "datalore":{
     "node_id":"PEZCmM1D9nvwqzhnoEadDb",
     "type":"CODE",
     "hide_input_from_viewers":true,
     "hide_output_from_viewers":true
    }
   }
  },
  {
   "cell_type":"code",
   "source":[
    "for i in range(0, 5):\n",
    "    print('----------------+----------------')\n",
    "    group = result[result['Cluster'] == i]\n",
    "    print(group.describe().loc[['min', 'max', 'mean']])"
   ],
   "execution_count":58,
   "outputs":[
    {
     "name":"stdout",
     "text":[
      "----------------+----------------\n",
      "            Age  Annual Income (k$)  Spending Score (1-100)  Gender_Male  \\\n",
      "min   27.000000           69.000000               63.000000     0.000000   \n",
      "max   40.000000          137.000000               97.000000     1.000000   \n",
      "mean  32.692308           86.538462               82.128205     0.461538   \n",
      "\n",
      "      Cluster  \n",
      "min       0.0  \n",
      "max       0.0  \n",
      "mean      0.0  \n",
      "----------------+----------------\n",
      "            Age  Annual Income (k$)  Spending Score (1-100)  Gender_Male  \\\n",
      "min   19.000000           71.000000                1.000000     0.000000   \n",
      "max   59.000000          137.000000               39.000000     1.000000   \n",
      "mean  41.685714           88.228571               17.285714     0.571429   \n",
      "\n",
      "      Cluster  \n",
      "min       1.0  \n",
      "max       1.0  \n",
      "mean      1.0  \n",
      "----------------+----------------\n",
      "            Age  Annual Income (k$)  Spending Score (1-100)  Gender_Male  \\\n",
      "min   43.000000           38.000000               35.000000     0.000000   \n",
      "max   70.000000           67.000000               60.000000     1.000000   \n",
      "mean  56.155556           53.377778               49.088889     0.444444   \n",
      "\n",
      "      Cluster  \n",
      "min       2.0  \n",
      "max       2.0  \n",
      "mean      2.0  \n",
      "----------------+----------------\n",
      "            Age  Annual Income (k$)  Spending Score (1-100)  Gender_Male  \\\n",
      "min   18.000000           15.000000               61.000000     0.000000   \n",
      "max   35.000000           39.000000               99.000000     1.000000   \n",
      "mean  25.272727           25.727273               79.363636     0.409091   \n",
      "\n",
      "      Cluster  \n",
      "min       3.0  \n",
      "max       3.0  \n",
      "mean      3.0  \n",
      "----------------+----------------\n",
      "            Age  Annual Income (k$)  Spending Score (1-100)  Gender_Male  \\\n",
      "min   19.000000           15.000000                 3.00000     0.000000   \n",
      "max   67.000000           39.000000                40.00000     1.000000   \n",
      "mean  44.142857           25.142857                19.52381     0.380952   \n",
      "\n",
      "      Cluster  \n",
      "min       4.0  \n",
      "max       4.0  \n",
      "mean      4.0  \n"
     ],
     "output_type":"stream"
    }
   ],
   "metadata":{
    "datalore":{
     "node_id":"uwLW06mkGE4MdeGDTOzSfw",
     "type":"CODE",
     "hide_input_from_viewers":true,
     "hide_output_from_viewers":true
    }
   }
  },
  {
   "cell_type":"markdown",
   "source":[
    "## "
   ],
   "attachments":{
    
   },
   "metadata":{
    "datalore":{
     "node_id":"mD8DTEB8hdhUEDOCUmEIZc",
     "type":"MD",
     "hide_input_from_viewers":true,
     "hide_output_from_viewers":true
    }
   }
  }
 ],
 "metadata":{
  "kernelspec":{
   "display_name":"Python",
   "language":"python",
   "name":"python"
  },
  "datalore":{
   "computation_mode":"JUPYTER",
   "package_manager":"pip",
   "base_environment":"default",
   "packages":[
    {
     "name":"apyori",
     "version":"1.1.2",
     "source":"PIP"
    }
   ],
   "report_row_ids":[
    "VlpaH2aDPAT4YkYsmJcRKx",
    "qqZDcAVt984tOzhM2QyNA1",
    "Y2b9KrhPsVPAs5vyrz2FQn",
    "LrkKLBapMgoKKGsP6betkN",
    "jAu63MxwN4ak6PP1AjyiQ7",
    "t77TnBMljyfkzEuRrAddMu",
    "D5VN0Pk0pjcvSWTud9c5jX",
    "hnAyAxgx9NfwKVQJ6RxMet",
    "I7MTWW4CHDwhrdS48T0bJf",
    "1IXY8yaJPeI1bICoHdhw8g"
   ],
   "version":3
  }
 },
 "nbformat":4,
 "nbformat_minor":4
}