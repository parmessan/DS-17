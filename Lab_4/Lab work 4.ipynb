{
 "cells":[
  {
   "cell_type":"markdown",
   "source":[
    "___\n",
    "\n",
    "<a href='https:\/\/mainacademy.ua\/'> <img src='https:\/\/mainacademy.ua\/wp-content\/uploads\/2019\/03\/logo-main.png' alt = 'Хмм, щось з інтернетом'\/><\/a>\n",
    "___\n",
    "\n",
    "# Module 4: Work with data professionally!"
   ],
   "attachments":{
    
   },
   "metadata":{
    "datalore":{
     "node_id":"x3O7EFNl7eKj47pfg1ycZI",
     "type":"MD",
     "hide_input_from_viewers":false,
     "hide_output_from_viewers":false,
     "report_properties":{
      "rowId":"2ImcRQA9OJ28da1fo6tstb"
     }
    }
   }
  },
  {
   "cell_type":"markdown",
   "source":[
    "## Lab work 4\n"
   ],
   "attachments":{
    
   },
   "metadata":{
    "datalore":{
     "node_id":"YWvXL7TXdPVjYU3qDTOJn0",
     "type":"MD",
     "hide_input_from_viewers":false,
     "hide_output_from_viewers":false,
     "report_properties":{
      "rowId":"F4sQ6YMLitmujUPiS9eadx"
     }
    }
   }
  },
  {
   "cell_type":"markdown",
   "source":[
    "#### Мета: \n",
    "\n",
    "* навчитися обробляти дані\n",
    "* \"парсити\" сайти"
   ],
   "attachments":{
    
   },
   "metadata":{
    "datalore":{
     "node_id":"KqZYVtHjuQeueglD9NE2S4",
     "type":"MD",
     "hide_input_from_viewers":false,
     "hide_output_from_viewers":false,
     "report_properties":{
      "rowId":"PmHjgwa5dtv6yglc3kZ6l1"
     }
    }
   }
  },
  {
   "cell_type":"markdown",
   "source":[
    "### Завдання 1:"
   ],
   "attachments":{
    
   },
   "metadata":{
    "datalore":{
     "node_id":"MrfppjxsWwvcXjca80e0wx",
     "type":"MD",
     "hide_input_from_viewers":false,
     "hide_output_from_viewers":false,
     "report_properties":{
      "rowId":"WZO8AgUDhXD5eRV7wXViqU"
     }
    }
   }
  },
  {
   "cell_type":"markdown",
   "source":[
    "#### Ознайомитися із API Національного банку \n",
    "https:\/\/bank.gov.ua\/ua\/open-data\/api-dev\n"
   ],
   "attachments":{
    
   },
   "metadata":{
    "datalore":{
     "node_id":"GlrDC1XnIJcgYqbEGjUlcp",
     "type":"MD",
     "hide_input_from_viewers":false,
     "hide_output_from_viewers":false,
     "report_properties":{
      "rowId":"bizPLr2jgYZVT9SYEAMLDV"
     }
    }
   }
  },
  {
   "cell_type":"markdown",
   "source":[
    "1. Підключитися до API."
   ],
   "attachments":{
    
   },
   "metadata":{
    "datalore":{
     "node_id":"IMgqj1DGWAkK2aur4H5xU7",
     "type":"MD",
     "hide_input_from_viewers":false,
     "hide_output_from_viewers":false,
     "report_properties":{
      "rowId":"2UARIavdzzOyvBrr1JBpWT"
     }
    }
   }
  },
  {
   "cell_type":"code",
   "source":[
    "import requests\n",
    "\n",
    "start = 20200311\n",
    "end = 20210311\n",
    "value = \"usd\"\n",
    "\n",
    "url = f\"https:\/\/bank.gov.ua\/NBU_Exchange\/exchange_site?start={start}&end={end}&valcode={value}&sort=exchangedate&order=desc&json\"\n",
    "DB = requests.get(url).json()\n",
    "print(DB)"
   ],
   "execution_count":1,
   "outputs":[
    {
     "name":"stdout",
     "text":[
      "[{'exchangedate': '11.03.2021', 'r030': 840, 'cc': 'USD', 'txt': 'Долар США', 'enname': 'US Dollar', 'rate': 27.7016, 'units': 1, 'rate_per_unit': 27.7016, 'group': '1', 'calcdate': '10.03.2021'}, {'exchangedate': '10.03.2021', 'r030': 840, 'cc': 'USD', 'txt': 'Долар США', 'enname': 'US Dollar', 'rate': 27.7431, 'units': 1, 'rate_per_unit': 27.7431, 'group': '1', 'calcdate': '09.03.2021'}, {'exchangedate': '09.03.2021', 'r030': 840, 'cc': 'USD', 'txt': 'Долар США', 'enname': 'US Dollar', 'rate': 27.7091, 'units': 1, 'rate_per_unit': 27.7091, 'group': '1', 'calcdate': '05.03.2021'}, {'exchangedate': '08.03.2021', 'r030': 840, 'cc': 'USD', 'txt': 'Долар США', 'enname': 'US Dollar', 'rate': 27.7564, 'units': 1, 'rate_per_unit': 27.7564, 'group': '1', 'calcdate': '04.03.2021'}, {'exchangedate': '07.03.2021', 'r030': 840, 'cc': 'USD', 'txt': 'Долар США', 'enname': 'US Dollar', 'rate': 27.7564, 'units': 1, 'rate_per_unit': 27.7564, 'group': '1', 'calcdate': '04.03.2021'}, {'exchangedate': '06.03.2021', 'r030': 840, 'cc': 'USD', 'txt': 'Долар США', 'enname': 'US Dollar', 'rate': 27.7564, 'units': 1, 'rate_per_unit': 27.7564, 'group': '1', 'calcdate': '04.03.2021'}, {'exchangedate': '05.03.2021', 'r030': 840, 'cc': 'USD', 'txt': 'Долар США', 'enname': 'US Dollar', 'rate': 27.7564, 'units': 1, 'rate_per_unit': 27.7564, 'group': '1', 'calcdate': '04.03.2021'}, {'exchangedate': '04.03.2021', 'r030': 840, 'cc': 'USD', 'txt': 'Долар США', 'enname': 'US Dollar', 'rate': 27.8477, 'units': 1, 'rate_per_unit': 27.8477, 'group': '1', 'calcdate': '03.03.2021'}, {'exchangedate': '03.03.2021', 'r030': 840, 'cc': 'USD', 'txt': 'Долар США', 'enname': 'US Dollar', 'rate': 27.933, 'units': 1, 'rate_per_unit': 27.933, 'group': '1', 'calcdate': '02.03.2021'}, {'exchangedate': '02.03.2021', 'r030': 840, 'cc': 'USD', 'txt': 'Долар США', 'enname': 'US Dollar', 'rate': 28.0007, 'units': 1, 'rate_per_unit': 28.0007, 'group': '1', 'calcdate': '01.03.2021'}, {'exchangedate': '01.03.2021', 'r030': 840, 'cc': 'USD', 'txt': 'Долар США', 'enname': 'US Dollar', 'rate': 27.9456, 'units': 1, 'rate_per_unit': 27.9456, 'group': '1', 'calcdate': '26.02.2021'}, {'exchangedate': '28.02.2021', 'r030': 840, 'cc': 'USD', 'txt': 'Долар США', 'enname': 'US Dollar', 'rate': 27.9301, 'units': 1, 'rate_per_unit': 27.9301, 'group': '1', 'calcdate': '25.02.2021'}, {'exchangedate': '27.02.2021', 'r030': 840, 'cc': 'USD', 'txt': 'Долар США', 'enname': 'US Dollar', 'rate': 27.9301, 'units': 1, 'rate_per_unit': 27.9301, 'group': '1', 'calcdate': '25.02.2021'}, {'exchangedate': '26.02.2021', 'r030': 840, 'cc': 'USD', 'txt': 'Долар США', 'enname': 'US Dollar', 'rate': 27.9301, 'units': 1, 'rate_per_unit': 27.9301, 'group': '1', 'calcdate': '25.02.2021'}, {'exchangedate': '25.02.2021', 'r030': 840, 'cc': 'USD', 'txt': 'Долар США', 'enname': 'US Dollar', 'rate': 27.9492, 'units': 1, 'rate_per_unit': 27.9492, 'group': '1', 'calcdate': '24.02.2021'}, {'exchangedate': '24.02.2021', 'r030': 840, 'cc': 'USD', 'txt': 'Долар США', 'enname': 'US Dollar', 'rate': 27.8976, 'units': 1, 'rate_per_unit': 27.8976, 'group': '1', 'calcdate': '23.02.2021'}, {'exchangedate': '23.02.2021', 'r030': 840, 'cc': 'USD', 'txt': 'Долар США', 'enname': 'US Dollar', 'rate': 27.9304, 'units': 1, 'rate_per_unit': 27.9304, 'group': '1', 'calcdate': '22.02.2021'}, {'exchangedate': '22.02.2021', 'r030': 840, 'cc': 'USD', 'txt': 'Долар США', 'enname': 'US Dollar', 'rate': 27.8468, 'units': 1, 'rate_per_unit': 27.8468, 'group': '1', 'calcdate': '19.02.2021'}, {'exchangedate': '21.02.2021', 'r030': 840, 'cc': 'USD', 'txt': 'Долар США', 'enname': 'US Dollar', 'rate': 27.8461, 'units': 1, 'rate_per_unit': 27.8461, 'group': '1', 'calcdate': '18.02.2021'}, {'exchangedate': '20.02.2021', 'r030': 840, 'cc': 'USD', 'txt': 'Долар США', 'enname': 'US Dollar', 'rate': 27.8461, 'units': 1, 'rate_per_unit': 27.8461, 'group': '1', 'calcdate': '18.02.2021'}, {'exchangedate': '19.02.2021', 'r030': 840, 'cc': 'USD', 'txt': 'Долар США', 'enname': 'US Dollar', 'rate': 27.8461, 'units': 1, 'rate_per_unit': 27.8461, 'group': '1', 'calcdate': '18.02.2021'}, {'exchangedate': '18.02.2021', 'r030': 840, 'cc': 'USD', 'txt': 'Долар США', 'enname': 'US Dollar', 'rate': 27.9038, 'units': 1, 'rate_per_unit': 27.9038, 'group': '1', 'calcdate': '17.02.2021'}, {'exchangedate': '17.02.2021', 'r030': 840, 'cc': 'USD', 'txt': 'Долар США', 'enname': 'US Dollar', 'rate': 27.8304, 'units': 1, 'rate_per_unit': 27.8304, 'group': '1', 'calcdate': '16.02.2021'}, {'exchangedate': '16.02.2021', 'r030': 840, 'cc': 'USD', 'txt': 'Долар США', 'enname': 'US Dollar', 'rate': 27.9671, 'units': 1, 'rate_per_unit': 27.9671, 'group': '1', 'calcdate': '15.02.2021'}, {'exchangedate': '15.02.2021', 'r030': 840, 'cc': 'USD', 'txt': 'Долар США', 'enname': 'US Dollar', 'rate': 27.844, 'units': 1, 'rate_per_unit': 27.844, 'group': '1', 'calcdate': '12.02.2021'}, {'exchangedate': '14.02.2021', 'r030': 840, 'cc': 'USD', 'txt': 'Долар США', 'enname': 'US Dollar', 'rate': 27.8384, 'units': 1, 'rate_per_unit': 27.8384, 'group': '1', 'calcdate': '11.02.2021'}, {'exchangedate': '13.02.2021', 'r030': 840, 'cc': 'USD', 'txt': 'Долар США', 'enname': 'US Dollar', 'rate': 27.8384, 'units': 1, 'rate_per_unit': 27.8384, 'group': '1', 'calcdate': '11.02.2021'}, {'exchangedate': '12.02.2021', 'r030': 840, 'cc': 'USD', 'txt': 'Долар США', 'enname': 'US Dollar', 'rate': 27.8384, 'units': 1, 'rate_per_unit': 27.8384, 'group': '1', 'calcdate': '11.02.2021'}, {'exchangedate': '11.02.2021', 'r030': 840, 'cc': 'USD', 'txt': 'Долар США', 'enname': 'US Dollar', 'rate': 27.7665, 'units': 1, 'rate_per_unit': 27.7665, 'group': '1', 'calcdate': '10.02.2021'}, {'exchangedate': '10.02.2021', 'r030': 840, 'cc': 'USD', 'txt': 'Долар США', 'enname': 'US Dollar', 'rate': 27.6426, 'units': 1, 'rate_per_unit': 27.6426, 'group': '1', 'calcdate': '09.02.2021'}, {'exchangedate': '09.02.2021', 'r030': 840, 'cc': 'USD', 'txt': 'Долар США', 'enname': 'US Dollar', 'rate': 27.6651, 'units': 1, 'rate_per_unit': 27.6651, 'group': '1', 'calcdate': '08.02.2021'}, {'exchangedate': '08.02.2021', 'r030': 840, 'cc': 'USD', 'txt': 'Долар США', 'enname': 'US Dollar', 'rate': 27.7711, 'units': 1, 'rate_per_unit': 27.7711, 'group': '1', 'calcdate': '05.02.2021'}, {'exchangedate': '07.02.2021', 'r030': 840, 'cc': 'USD', 'txt': 'Долар США', 'enname': 'US Dollar', 'rate': 27.8885, 'units': 1, 'rate_per_unit': 27.8885, 'group': '1', 'calcdate': '04.02.2021'}, {'exchangedate': '06.02.2021', 'r030': 840, 'cc': 'USD', 'txt': 'Долар США', 'enname': 'US Dollar', 'rate': 27.8885, 'units': 1, 'rate_per_unit': 27.8885, 'group': '1', 'calcdate': '04.02.2021'}, {'exchangedate': '05.02.2021', 'r030': 840, 'cc': 'USD', 'txt': 'Долар США', 'enname': 'US Dollar', 'rate': 27.8885, 'units': 1, 'rate_per_unit': 27.8885, 'group': '1', 'calcdate': '04.02.2021'}, {'exchangedate': '04.02.2021', 'r030': 840, 'cc': 'USD', 'txt': 'Долар США', 'enname': 'US Dollar', 'rate': 27.995, 'units': 1, 'rate_per_unit': 27.995, 'group': '1', 'calcdate': '03.02.2021'}, {'exchangedate': '03.02.2021', 'r030': 840, 'cc': 'USD', 'txt': 'Долар США', 'enname': 'US Dollar', 'rate': 28.0589, 'units': 1, 'rate_per_unit': 28.0589, 'group': '1', 'calcdate': '02.02.2021'}, {'exchangedate': '02.02.2021', 'r030': 840, 'cc': 'USD', 'txt': 'Долар США', 'enname': 'US Dollar', 'rate': 28.0603, 'units': 1, 'rate_per_unit': 28.0603, 'group': '1', 'calcdate': '01.02.2021'}, {'exchangedate': '01.02.2021', 'r030': 840, 'cc': 'USD', 'txt': 'Долар США', 'enname': 'US Dollar', 'rate': 28.1324, 'units': 1, 'rate_per_unit': 28.1324, 'group': '1', 'calcdate': '29.01.2021'}, {'exchangedate': '31.01.2021', 'r030': 840, 'cc': 'USD', 'txt': 'Долар США', 'enname': 'US Dollar', 'rate': 28.1929, 'units': 1, 'rate_per_unit': 28.1929, 'group': '1', 'calcdate': '28.01.2021'}, {'exchangedate': '30.01.2021', 'r030': 840, 'cc': 'USD', 'txt': 'Долар США', 'enname': 'US Dollar', 'rate': 28.1929, 'units': 1, 'rate_per_unit': 28.1929, 'group': '1', 'calcdate': '28.01.2021'}, {'exchangedate': '29.01.2021', 'r030': 840, 'cc': 'USD', 'txt': 'Долар США', 'enname': 'US Dollar', 'rate': 28.1929, 'units': 1, 'rate_per_unit': 28.1929, 'group': '1', 'calcdate': '28.01.2021'}, {'exchangedate': '28.01.2021', 'r030': 840, 'cc': 'USD', 'txt': 'Долар США', 'enname': 'US Dollar', 'rate': 28.1652, 'units': 1, 'rate_per_unit': 28.1652, 'group': '1', 'calcdate': '27.01.2021'}, {'exchangedate': '27.01.2021', 'r030': 840, 'cc': 'USD', 'txt': 'Долар США', 'enname': 'US Dollar', 'rate': 28.1524, 'units': 1, 'rate_per_unit': 28.1524, 'group': '1', 'calcdate': '26.01.2021'}, {'exchangedate': '26.01.2021', 'r030': 840, 'cc': 'USD', 'txt': 'Долар США', 'enname': 'US Dollar', 'rate': 28.1665, 'units': 1, 'rate_per_unit': 28.1665, 'group': '1', 'calcdate': '25.01.2021'}, {'exchangedate': '25.01.2021', 'r030': 840, 'cc': 'USD', 'txt': 'Долар США', 'enname': 'US Dollar', 'rate': 28.1648, 'units': 1, 'rate_per_unit': 28.1648, 'group': '1', 'calcdate': '22.01.2021'}, {'exchangedate': '24.01.2021', 'r030': 840, 'cc': 'USD', 'txt': 'Долар США', 'enname': 'US Dollar', 'rate': 28.2561, 'units': 1, 'rate_per_unit': 28.2561, 'group': '1', 'calcdate': '21.01.2021'}, {'exchangedate': '23.01.2021', 'r030': 840, 'cc': 'USD', 'txt': 'Долар США', 'enname': 'US Dollar', 'rate': 28.2561, 'units': 1, 'rate_per_unit': 28.2561, 'group': '1', 'calcdate': '21.01.2021'}, {'exchangedate': '22.01.2021', 'r030': 840, 'cc': 'USD', 'txt': 'Долар США', 'enname': 'US Dollar', 'rate': 28.2561, 'units': 1, 'rate_per_unit': 28.2561, 'group': '1', 'calcdate': '21.01.2021'}, {'exchangedate': '21.01.2021', 'r030': 840, 'cc': 'USD', 'txt': 'Долар США', 'enname': 'US Dollar', 'rate': 28.2035, 'units': 1, 'rate_per_unit': 28.2035, 'group': '1', 'calcdate': '20.01.2021'}, {'exchangedate': '20.01.2021', 'r030': 840, 'cc': 'USD', 'txt': 'Долар США', 'enname': 'US Dollar', 'rate': 28.1544, 'units': 1, 'rate_per_unit': 28.1544, 'group': '1', 'calcdate': '19.01.2021'}, {'exchangedate': '19.01.2021', 'r030': 840, 'cc': 'USD', 'txt': 'Долар США', 'enname': 'US Dollar', 'rate': 28.1926, 'units': 1, 'rate_per_unit': 28.1926, 'group': '1', 'calcdate': '18.01.2021'}, {'exchangedate': '18.01.2021', 'r030': 840, 'cc': 'USD', 'txt': 'Долар США', 'enname': 'US Dollar', 'rate': 28.0524, 'units': 1, 'rate_per_unit': 28.0524, 'group': '1', 'calcdate': '16.01.2021'}, {'exchangedate': '17.01.2021', 'r030': 840, 'cc': 'USD', 'txt': 'Долар США', 'enname': 'US Dollar', 'rate': 28.0524, 'units': 1, 'rate_per_unit': 28.0524, 'group': '1', 'calcdate': '15.01.2021'}, {'exchangedate': '16.01.2021', 'r030': 840, 'cc': 'USD', 'txt': 'Долар США', 'enname': 'US Dollar', 'rate': 28.0524, 'units': 1, 'rate_per_unit': 28.0524, 'group': '1', 'calcdate': '15.01.2021'}, {'exchangedate': '15.01.2021', 'r030': 840, 'cc': 'USD', 'txt': 'Долар США', 'enname': 'US Dollar', 'rate': 28.0609, 'units': 1, 'rate_per_unit': 28.0609, 'group': '1', 'calcdate': '14.01.2021'}, {'exchangedate': '14.01.2021', 'r030': 840, 'cc': 'USD', 'txt': 'Долар США', 'enname': 'US Dollar', 'rate': 27.9705, 'units': 1, 'rate_per_unit': 27.9705, 'group': '1', 'calcdate': '13.01.2021'}, {'exchangedate': '13.01.2021', 'r030': 840, 'cc': 'USD', 'txt': 'Долар США', 'enname': 'US Dollar', 'rate': 28.046, 'units': 1, 'rate_per_unit': 28.046, 'group': '1', 'calcdate': '12.01.2021'}, {'exchangedate': '12.01.2021', 'r030': 840, 'cc': 'USD', 'txt': 'Долар США', 'enname': 'US Dollar', 'rate': 28.2038, 'units': 1, 'rate_per_unit': 28.2038, 'group': '1', 'calcdate': '11.01.2021'}, {'exchangedate': '11.01.2021', 'r030': 840, 'cc': 'USD', 'txt': 'Долар США', 'enname': 'US Dollar', 'rate': 28.2847, 'units': 1, 'rate_per_unit': 28.2847, 'group': '1', 'calcdate': '06.01.2021'}, {'exchangedate': '10.01.2021', 'r030': 840, 'cc': 'USD', 'txt': 'Долар США', 'enname': 'US Dollar', 'rate': 28.4028, 'units': 1, 'rate_per_unit': 28.4028, 'group': '1', 'calcdate': '05.01.2021'}, {'exchangedate': '09.01.2021', 'r030': 840, 'cc': 'USD', 'txt': 'Долар США', 'enname': 'US Dollar', 'rate': 28.4028, 'units': 1, 'rate_per_unit': 28.4028, 'group': '1', 'calcdate': '05.01.2021'}, {'exchangedate': '08.01.2021', 'r030': 840, 'cc': 'USD', 'txt': 'Долар США', 'enname': 'US Dollar', 'rate': 28.4028, 'units': 1, 'rate_per_unit': 28.4028, 'group': '1', 'calcdate': '05.01.2021'}, {'exchangedate': '07.01.2021', 'r030': 840, 'cc': 'USD', 'txt': 'Долар США', 'enname': 'US Dollar', 'rate': 28.4028, 'units': 1, 'rate_per_unit': 28.4028, 'group': '1', 'calcdate': '05.01.2021'}, {'exchangedate': '06.01.2021', 'r030': 840, 'cc': 'USD', 'txt': 'Долар США', 'enname': 'US Dollar', 'rate': 28.4028, 'units': 1, 'rate_per_unit': 28.4028, 'group': '1', 'calcdate': '05.01.2021'}, {'exchangedate': '05.01.2021', 'r030': 840, 'cc': 'USD', 'txt': 'Долар США', 'enname': 'US Dollar', 'rate': 28.431, 'units': 1, 'rate_per_unit': 28.431, 'group': '1', 'calcdate': '04.01.2021'}, {'exchangedate': '04.01.2021', 'r030': 840, 'cc': 'USD', 'txt': 'Долар США', 'enname': 'US Dollar', 'rate': 28.2746, 'units': 1, 'rate_per_unit': 28.2746, 'group': '1', 'calcdate': '30.12.2020'}, {'exchangedate': '03.01.2021', 'r030': 840, 'cc': 'USD', 'txt': 'Долар США', 'enname': 'US Dollar', 'rate': 28.2746, 'units': 1, 'rate_per_unit': 28.2746, 'group': '1', 'calcdate': '30.12.2020'}, {'exchangedate': '02.01.2021', 'r030': 840, 'cc': 'USD', 'txt': 'Долар США', 'enname': 'US Dollar', 'rate': 28.2746, 'units': 1, 'rate_per_unit': 28.2746, 'group': '1', 'calcdate': '30.12.2020'}, {'exchangedate': '01.01.2021', 'r030': 840, 'cc': 'USD', 'txt': 'Долар США', 'enname': 'US Dollar', 'rate': 28.2746, 'units': 1, 'rate_per_unit': 28.2746, 'group': '1', 'calcdate': '30.12.2020'}, {'exchangedate': '31.12.2020', 'r030': 840, 'cc': 'USD', 'txt': 'Долар США', 'enname': 'US Dollar', 'rate': 28.2746, 'units': 1, 'rate_per_unit': 28.2746, 'group': '1', 'calcdate': '30.12.2020'}, {'exchangedate': '30.12.2020', 'r030': 840, 'cc': 'USD', 'txt': 'Долар США', 'enname': 'US Dollar', 'rate': 28.2605, 'units': 1, 'rate_per_unit': 28.2605, 'group': '1', 'calcdate': '29.12.2020'}, {'exchangedate': '29.12.2020', 'r030': 840, 'cc': 'USD', 'txt': 'Долар США', 'enname': 'US Dollar', 'rate': 28.3668, 'units': 1, 'rate_per_unit': 28.3668, 'group': '1', 'calcdate': '28.12.2020'}, {'exchangedate': '28.12.2020', 'r030': 840, 'cc': 'USD', 'txt': 'Долар США', 'enname': 'US Dollar', 'rate': 28.3547, 'units': 1, 'rate_per_unit': 28.3547, 'group': '1', 'calcdate': '24.12.2020'}, {'exchangedate': '27.12.2020', 'r030': 840, 'cc': 'USD', 'txt': 'Долар США', 'enname': 'US Dollar', 'rate': 28.4551, 'units': 1, 'rate_per_unit': 28.4551, 'group': '1', 'calcdate': '23.12.2020'}, {'exchangedate': '26.12.2020', 'r030': 840, 'cc': 'USD', 'txt': 'Долар США', 'enname': 'US Dollar', 'rate': 28.4551, 'units': 1, 'rate_per_unit': 28.4551, 'group': '1', 'calcdate': '23.12.2020'}, {'exchangedate': '25.12.2020', 'r030': 840, 'cc': 'USD', 'txt': 'Долар США', 'enname': 'US Dollar', 'rate': 28.4551, 'units': 1, 'rate_per_unit': 28.4551, 'group': '1', 'calcdate': '23.12.2020'}, {'exchangedate': '24.12.2020', 'r030': 840, 'cc': 'USD', 'txt': 'Долар США', 'enname': 'US Dollar', 'rate': 28.4551, 'units': 1, 'rate_per_unit': 28.4551, 'group': '1', 'calcdate': '23.12.2020'}, {'exchangedate': '23.12.2020', 'r030': 840, 'cc': 'USD', 'txt': 'Долар США', 'enname': 'US Dollar', 'rate': 28.2513, 'units': 1, 'rate_per_unit': 28.2513, 'group': '1', 'calcdate': '22.12.2020'}, {'exchangedate': '22.12.2020', 'r030': 840, 'cc': 'USD', 'txt': 'Долар США', 'enname': 'US Dollar', 'rate': 28.0391, 'units': 1, 'rate_per_unit': 28.0391, 'group': '1', 'calcdate': '21.12.2020'}, {'exchangedate': '21.12.2020', 'r030': 840, 'cc': 'USD', 'txt': 'Долар США', 'enname': 'US Dollar', 'rate': 27.828, 'units': 1, 'rate_per_unit': 27.828, 'group': '1', 'calcdate': '18.12.2020'}, {'exchangedate': '20.12.2020', 'r030': 840, 'cc': 'USD', 'txt': 'Долар США', 'enname': 'US Dollar', 'rate': 27.8184, 'units': 1, 'rate_per_unit': 27.8184, 'group': '1', 'calcdate': '17.12.2020'}, {'exchangedate': '19.12.2020', 'r030': 840, 'cc': 'USD', 'txt': 'Долар США', 'enname': 'US Dollar', 'rate': 27.8184, 'units': 1, 'rate_per_unit': 27.8184, 'group': '1', 'calcdate': '17.12.2020'}, {'exchangedate': '18.12.2020', 'r030': 840, 'cc': 'USD', 'txt': 'Долар США', 'enname': 'US Dollar', 'rate': 27.8184, 'units': 1, 'rate_per_unit': 27.8184, 'group': '1', 'calcdate': '17.12.2020'}, {'exchangedate': '17.12.2020', 'r030': 840, 'cc': 'USD', 'txt': 'Долар США', 'enname': 'US Dollar', 'rate': 27.7373, 'units': 1, 'rate_per_unit': 27.7373, 'group': '1', 'calcdate': '16.12.2020'}, {'exchangedate': '16.12.2020', 'r030': 840, 'cc': 'USD', 'txt': 'Долар США', 'enname': 'US Dollar', 'rate': 27.759, 'units': 1, 'rate_per_unit': 27.759, 'group': '1', 'calcdate': '15.12.2020'}, {'exchangedate': '15.12.2020', 'r030': 840, 'cc': 'USD', 'txt': 'Долар США', 'enname': 'US Dollar', 'rate': 27.8661, 'units': 1, 'rate_per_unit': 27.8661, 'group': '1', 'calcdate': '14.12.2020'}, {'exchangedate': '14.12.2020', 'r030': 840, 'cc': 'USD', 'txt': 'Долар США', 'enname': 'US Dollar', 'rate': 27.9666, 'units': 1, 'rate_per_unit': 27.9666, 'group': '1', 'calcdate': '11.12.2020'}, {'exchangedate': '13.12.2020', 'r030': 840, 'cc': 'USD', 'txt': 'Долар США', 'enname': 'US Dollar', 'rate': 28.075, 'units': 1, 'rate_per_unit': 28.075, 'group': '1', 'calcdate': '10.12.2020'}, {'exchangedate': '12.12.2020', 'r030': 840, 'cc': 'USD', 'txt': 'Долар США', 'enname': 'US Dollar', 'rate': 28.075, 'units': 1, 'rate_per_unit': 28.075, 'group': '1', 'calcdate': '10.12.2020'}, {'exchangedate': '11.12.2020', 'r030': 840, 'cc': 'USD', 'txt': 'Долар США', 'enname': 'US Dollar', 'rate': 28.075, 'units': 1, 'rate_per_unit': 28.075, 'group': '1', 'calcdate': '10.12.2020'}, {'exchangedate': '10.12.2020', 'r030': 840, 'cc': 'USD', 'txt': 'Долар США', 'enname': 'US Dollar', 'rate': 28.0406, 'units': 1, 'rate_per_unit': 28.0406, 'group': '1', 'calcdate': '09.12.2020'}, {'exchangedate': '09.12.2020', 'r030': 840, 'cc': 'USD', 'txt': 'Долар США', 'enname': 'US Dollar', 'rate': 28.0828, 'units': 1, 'rate_per_unit': 28.0828, 'group': '1', 'calcdate': '08.12.2020'}, {'exchangedate': '08.12.2020', 'r030': 840, 'cc': 'USD', 'txt': 'Долар США', 'enname': 'US Dollar', 'rate': 28.2394, 'units': 1, 'rate_per_unit': 28.2394, 'group': '1', 'calcdate': '07.12.2020'}, {'exchangedate': '07.12.2020', 'r030': 840, 'cc': 'USD', 'txt': 'Долар США', 'enname': 'US Dollar', 'rate': 28.2913, 'units': 1, 'rate_per_unit': 28.2913, 'group': '1', 'calcdate': '04.12.2020'}, {'exchangedate': '06.12.2020', 'r030': 840, 'cc': 'USD', 'txt': 'Долар США', 'enname': 'US Dollar', 'rate': 28.3038, 'units': 1, 'rate_per_unit': 28.3038, 'group': '1', 'calcdate': '03.12.2020'}, {'exchangedate': '05.12.2020', 'r030': 840, 'cc': 'USD', 'txt': 'Долар США', 'enname': 'US Dollar', 'rate': 28.3038, 'units': 1, 'rate_per_unit': 28.3038, 'group': '1', 'calcdate': '03.12.2020'}, {'exchangedate': '04.12.2020', 'r030': 840, 'cc': 'USD', 'txt': 'Долар США', 'enname': 'US Dollar', 'rate': 28.3038, 'units': 1, 'rate_per_unit': 28.3038, 'group': '1', 'calcdate': '03.12.2020'}, {'exchangedate': '03.12.2020', 'r030': 840, 'cc': 'USD', 'txt': 'Долар США', 'enname': 'US Dollar', 'rate': 28.4367, 'units': 1, 'rate_per_unit': 28.4367, 'group': '1', 'calcdate': '02.12.2020'}, {'exchangedate': '02.12.2020', 'r030': 840, 'cc': 'USD', 'txt': 'Долар США', 'enname': 'US Dollar', 'rate': 28.5583, 'units': 1, 'rate_per_unit': 28.5583, 'group': '1', 'calcdate': '01.12.2020'}, {'exchangedate': '01.12.2020', 'r030': 840, 'cc': 'USD', 'txt': 'Долар США', 'enname': 'US Dollar', 'rate': 28.4962, 'units': 1, 'rate_per_unit': 28.4962, 'group': '1', 'calcdate': '30.11.2020'}, {'exchangedate': '30.11.2020', 'r030': 840, 'cc': 'USD', 'txt': 'Долар США', 'enname': 'US Dollar', 'rate': 28.4681, 'units': 1, 'rate_per_unit': 28.4681, 'group': '1', 'calcdate': '27.11.2020'}, {'exchangedate': '29.11.2020', 'r030': 840, 'cc': 'USD', 'txt': 'Долар США', 'enname': 'US Dollar', 'rate': 28.4428, 'units': 1, 'rate_per_unit': 28.4428, 'group': '1', 'calcdate': '26.11.2020'}, {'exchangedate': '28.11.2020', 'r030': 840, 'cc': 'USD', 'txt': 'Долар США', 'enname': 'US Dollar', 'rate': 28.4428, 'units': 1, 'rate_per_unit': 28.4428, 'group': '1', 'calcdate': '26.11.2020'}, {'exchangedate': '27.11.2020', 'r030': 840, 'cc': 'USD', 'txt': 'Долар США', 'enname': 'US Dollar', 'rate': 28.4428, 'units': 1, 'rate_per_unit': 28.4428, 'group': '1', 'calcdate': '26.11.2020'}, {'exchangedate': '26.11.2020', 'r030': 840, 'cc': 'USD', 'txt': 'Долар США', 'enname': 'US Dollar', 'rate': 28.3816, 'units': 1, 'rate_per_unit': 28.3816, 'group': '1', 'calcdate': '25.11.2020'}, {'exchangedate': '25.11.2020', 'r030': 840, 'cc': 'USD', 'txt': 'Долар США', 'enname': 'US Dollar', 'rate': 28.3741, 'units': 1, 'rate_per_unit': 28.3741, 'group': '1', 'calcdate': '24.11.2020'}, {'exchangedate': '24.11.2020', 'r030': 840, 'cc': 'USD', 'txt': 'Долар США', 'enname': 'US Dollar', 'rate': 28.3694, 'units': 1, 'rate_per_unit': 28.3694, 'group': '1', 'calcdate': '23.11.2020'}, {'exchangedate': '23.11.2020', 'r030': 840, 'cc': 'USD', 'txt': 'Долар США', 'enname': 'US Dollar', 'rate': 28.3553, 'units': 1, 'rate_per_unit': 28.3553, 'group': '1', 'calcdate': '20.11.2020'}, {'exchangedate': '22.11.2020', 'r030': 840, 'cc': 'USD', 'txt': 'Долар США', 'enname': 'US Dollar', 'rate': 28.2572, 'units': 1, 'rate_per_unit': 28.2572, 'group': '1', 'calcdate': '19.11.2020'}, {'exchangedate': '21.11.2020', 'r030': 840, 'cc': 'USD', 'txt': 'Долар США', 'enname': 'US Dollar', 'rate': 28.2572, 'units': 1, 'rate_per_unit': 28.2572, 'group': '1', 'calcdate': '19.11.2020'}, {'exchangedate': '20.11.2020', 'r030': 840, 'cc': 'USD', 'txt': 'Долар США', 'enname': 'US Dollar', 'rate': 28.2572, 'units': 1, 'rate_per_unit': 28.2572, 'group': '1', 'calcdate': '19.11.2020'}, {'exchangedate': '19.11.2020', 'r030': 840, 'cc': 'USD', 'txt': 'Долар США', 'enname': 'US Dollar', 'rate': 28.13, 'units': 1, 'rate_per_unit': 28.13, 'group': '1', 'calcdate': '18.11.2020'}, {'exchangedate': '18.11.2020', 'r030': 840, 'cc': 'USD', 'txt': 'Долар США', 'enname': 'US Dollar', 'rate': 28.1067, 'units': 1, 'rate_per_unit': 28.1067, 'group': '1', 'calcdate': '17.11.2020'}, {'exchangedate': '17.11.2020', 'r030': 840, 'cc': 'USD', 'txt': 'Долар США', 'enname': 'US Dollar', 'rate': 28.112, 'units': 1, 'rate_per_unit': 28.112, 'group': '1', 'calcdate': '16.11.2020'}, {'exchangedate': '16.11.2020', 'r030': 840, 'cc': 'USD', 'txt': 'Долар США', 'enname': 'US Dollar', 'rate': 28.1158, 'units': 1, 'rate_per_unit': 28.1158, 'group': '1', 'calcdate': '13.11.2020'}, {'exchangedate': '15.11.2020', 'r030': 840, 'cc': 'USD', 'txt': 'Долар США', 'enname': 'US Dollar', 'rate': 28.1963, 'units': 1, 'rate_per_unit': 28.1963, 'group': '1', 'calcdate': '12.11.2020'}, {'exchangedate': '14.11.2020', 'r030': 840, 'cc': 'USD', 'txt': 'Долар США', 'enname': 'US Dollar', 'rate': 28.1963, 'units': 1, 'rate_per_unit': 28.1963, 'group': '1', 'calcdate': '12.11.2020'}, {'exchangedate': '13.11.2020', 'r030': 840, 'cc': 'USD', 'txt': 'Долар США', 'enname': 'US Dollar', 'rate': 28.1963, 'units': 1, 'rate_per_unit': 28.1963, 'group': '1', 'calcdate': '12.11.2020'}, {'exchangedate': '12.11.2020', 'r030': 840, 'cc': 'USD', 'txt': 'Долар США', 'enname': 'US Dollar', 'rate': 28.161, 'units': 1, 'rate_per_unit': 28.161, 'group': '1', 'calcdate': '11.11.2020'}, {'exchangedate': '11.11.2020', 'r030': 840, 'cc': 'USD', 'txt': 'Долар США', 'enname': 'US Dollar', 'rate': 28.1206, 'units': 1, 'rate_per_unit': 28.1206, 'group': '1', 'calcdate': '10.11.2020'}, {'exchangedate': '10.11.2020', 'r030': 840, 'cc': 'USD', 'txt': 'Долар США', 'enname': 'US Dollar', 'rate': 28.1116, 'units': 1, 'rate_per_unit': 28.1116, 'group': '1', 'calcdate': '09.11.2020'}, {'exchangedate': '09.11.2020', 'r030': 840, 'cc': 'USD', 'txt': 'Долар США', 'enname': 'US Dollar', 'rate': 28.1375, 'units': 1, 'rate_per_unit': 28.1375, 'group': '1', 'calcdate': '06.11.2020'}, {'exchangedate': '08.11.2020', 'r030': 840, 'cc': 'USD', 'txt': 'Долар США', 'enname': 'US Dollar', 'rate': 28.3643, 'units': 1, 'rate_per_unit': 28.3643, 'group': '1', 'calcdate': '05.11.2020'}, {'exchangedate': '07.11.2020', 'r030': 840, 'cc': 'USD', 'txt': 'Долар США', 'enname': 'US Dollar', 'rate': 28.3643, 'units': 1, 'rate_per_unit': 28.3643, 'group': '1', 'calcdate': '05.11.2020'}, {'exchangedate': '06.11.2020', 'r030': 840, 'cc': 'USD', 'txt': 'Долар США', 'enname': 'US Dollar', 'rate': 28.3643, 'units': 1, 'rate_per_unit': 28.3643, 'group': '1', 'calcdate': '05.11.2020'}, {'exchangedate': '05.11.2020', 'r030': 840, 'cc': 'USD', 'txt': 'Долар США', 'enname': 'US Dollar', 'rate': 28.5074, 'units': 1, 'rate_per_unit': 28.5074, 'group': '1', 'calcdate': '04.11.2020'}, {'exchangedate': '04.11.2020', 'r030': 840, 'cc': 'USD', 'txt': 'Долар США', 'enname': 'US Dollar', 'rate': 28.6, 'units': 1, 'rate_per_unit': 28.6, 'group': '1', 'calcdate': '03.11.2020'}, {'exchangedate': '03.11.2020', 'r030': 840, 'cc': 'USD', 'txt': 'Долар США', 'enname': 'US Dollar', 'rate': 28.5827, 'units': 1, 'rate_per_unit': 28.5827, 'group': '1', 'calcdate': '02.11.2020'}, {'exchangedate': '02.11.2020', 'r030': 840, 'cc': 'USD', 'txt': 'Долар США', 'enname': 'US Dollar', 'rate': 28.4507, 'units': 1, 'rate_per_unit': 28.4507, 'group': '1', 'calcdate': '30.10.2020'}, {'exchangedate': '01.11.2020', 'r030': 840, 'cc': 'USD', 'txt': 'Долар США', 'enname': 'US Dollar', 'rate': 28.4383, 'units': 1, 'rate_per_unit': 28.4383, 'group': '1', 'calcdate': '29.10.2020'}, {'exchangedate': '31.10.2020', 'r030': 840, 'cc': 'USD', 'txt': 'Долар США', 'enname': 'US Dollar', 'rate': 28.4383, 'units': 1, 'rate_per_unit': 28.4383, 'group': '1', 'calcdate': '29.10.2020'}, {'exchangedate': '30.10.2020', 'r030': 840, 'cc': 'USD', 'txt': 'Долар США', 'enname': 'US Dollar', 'rate': 28.4383, 'units': 1, 'rate_per_unit': 28.4383, 'group': '1', 'calcdate': '29.10.2020'}, {'exchangedate': '29.10.2020', 'r030': 840, 'cc': 'USD', 'txt': 'Долар США', 'enname': 'US Dollar', 'rate': 28.3989, 'units': 1, 'rate_per_unit': 28.3989, 'group': '1', 'calcdate': '28.10.2020'}, {'exchangedate': '28.10.2020', 'r030': 840, 'cc': 'USD', 'txt': 'Долар США', 'enname': 'US Dollar', 'rate': 28.3655, 'units': 1, 'rate_per_unit': 28.3655, 'group': '1', 'calcdate': '27.10.2020'}, {'exchangedate': '27.10.2020', 'r030': 840, 'cc': 'USD', 'txt': 'Долар США', 'enname': 'US Dollar', 'rate': 28.3352, 'units': 1, 'rate_per_unit': 28.3352, 'group': '1', 'calcdate': '26.10.2020'}, {'exchangedate': '26.10.2020', 'r030': 840, 'cc': 'USD', 'txt': 'Долар США', 'enname': 'US Dollar', 'rate': 28.2911, 'units': 1, 'rate_per_unit': 28.2911, 'group': '1', 'calcdate': '23.10.2020'}, {'exchangedate': '25.10.2020', 'r030': 840, 'cc': 'USD', 'txt': 'Долар США', 'enname': 'US Dollar', 'rate': 28.265, 'units': 1, 'rate_per_unit': 28.265, 'group': '1', 'calcdate': '22.10.2020'}, {'exchangedate': '24.10.2020', 'r030': 840, 'cc': 'USD', 'txt': 'Долар США', 'enname': 'US Dollar', 'rate': 28.265, 'units': 1, 'rate_per_unit': 28.265, 'group': '1', 'calcdate': '22.10.2020'}, {'exchangedate': '23.10.2020', 'r030': 840, 'cc': 'USD', 'txt': 'Долар США', 'enname': 'US Dollar', 'rate': 28.265, 'units': 1, 'rate_per_unit': 28.265, 'group': '1', 'calcdate': '22.10.2020'}, {'exchangedate': '22.10.2020', 'r030': 840, 'cc': 'USD', 'txt': 'Долар США', 'enname': 'US Dollar', 'rate': 28.2737, 'units': 1, 'rate_per_unit': 28.2737, 'group': '1', 'calcdate': '21.10.2020'}, {'exchangedate': '21.10.2020', 'r030': 840, 'cc': 'USD', 'txt': 'Долар США', 'enname': 'US Dollar', 'rate': 28.3707, 'units': 1, 'rate_per_unit': 28.3707, 'group': '1', 'calcdate': '20.10.2020'}, {'exchangedate': '20.10.2020', 'r030': 840, 'cc': 'USD', 'txt': 'Долар США', 'enname': 'US Dollar', 'rate': 28.3762, 'units': 1, 'rate_per_unit': 28.3762, 'group': '1', 'calcdate': '19.10.2020'}, {'exchangedate': '19.10.2020', 'r030': 840, 'cc': 'USD', 'txt': 'Долар США', 'enname': 'US Dollar', 'rate': 28.3649, 'units': 1, 'rate_per_unit': 28.3649, 'group': '1', 'calcdate': '16.10.2020'}, {'exchangedate': '18.10.2020', 'r030': 840, 'cc': 'USD', 'txt': 'Долар США', 'enname': 'US Dollar', 'rate': 28.3365, 'units': 1, 'rate_per_unit': 28.3365, 'group': '1', 'calcdate': '15.10.2020'}, {'exchangedate': '17.10.2020', 'r030': 840, 'cc': 'USD', 'txt': 'Долар США', 'enname': 'US Dollar', 'rate': 28.3365, 'units': 1, 'rate_per_unit': 28.3365, 'group': '1', 'calcdate': '15.10.2020'}, {'exchangedate': '16.10.2020', 'r030': 840, 'cc': 'USD', 'txt': 'Долар США', 'enname': 'US Dollar', 'rate': 28.3365, 'units': 1, 'rate_per_unit': 28.3365, 'group': '1', 'calcdate': '15.10.2020'}, {'exchangedate': '15.10.2020', 'r030': 840, 'cc': 'USD', 'txt': 'Долар США', 'enname': 'US Dollar', 'rate': 28.3164, 'units': 1, 'rate_per_unit': 28.3164, 'group': '1', 'calcdate': '13.10.2020'}, {'exchangedate': '14.10.2020', 'r030': 840, 'cc': 'USD', 'txt': 'Долар США', 'enname': 'US Dollar', 'rate': 28.2481, 'units': 1, 'rate_per_unit': 28.2481, 'group': '1', 'calcdate': '12.10.2020'}, {'exchangedate': '13.10.2020', 'r030': 840, 'cc': 'USD', 'txt': 'Долар США', 'enname': 'US Dollar', 'rate': 28.2481, 'units': 1, 'rate_per_unit': 28.2481, 'group': '1', 'calcdate': '12.10.2020'}, {'exchangedate': '12.10.2020', 'r030': 840, 'cc': 'USD', 'txt': 'Долар США', 'enname': 'US Dollar', 'rate': 28.2098, 'units': 1, 'rate_per_unit': 28.2098, 'group': '1', 'calcdate': '09.10.2020'}, {'exchangedate': '11.10.2020', 'r030': 840, 'cc': 'USD', 'txt': 'Долар США', 'enname': 'US Dollar', 'rate': 28.2836, 'units': 1, 'rate_per_unit': 28.2836, 'group': '1', 'calcdate': '08.10.2020'}, {'exchangedate': '10.10.2020', 'r030': 840, 'cc': 'USD', 'txt': 'Долар США', 'enname': 'US Dollar', 'rate': 28.2836, 'units': 1, 'rate_per_unit': 28.2836, 'group': '1', 'calcdate': '08.10.2020'}, {'exchangedate': '09.10.2020', 'r030': 840, 'cc': 'USD', 'txt': 'Долар США', 'enname': 'US Dollar', 'rate': 28.2836, 'units': 1, 'rate_per_unit': 28.2836, 'group': '1', 'calcdate': '08.10.2020'}, {'exchangedate': '08.10.2020', 'r030': 840, 'cc': 'USD', 'txt': 'Долар США', 'enname': 'US Dollar', 'rate': 28.324, 'units': 1, 'rate_per_unit': 28.324, 'group': '1', 'calcdate': '07.10.2020'}, {'exchangedate': '07.10.2020', 'r030': 840, 'cc': 'USD', 'txt': 'Долар США', 'enname': 'US Dollar', 'rate': 28.3639, 'units': 1, 'rate_per_unit': 28.3639, 'group': '1', 'calcdate': '06.10.2020'}, {'exchangedate': '06.10.2020', 'r030': 840, 'cc': 'USD', 'txt': 'Долар США', 'enname': 'US Dollar', 'rate': 28.4009, 'units': 1, 'rate_per_unit': 28.4009, 'group': '1', 'calcdate': '05.10.2020'}, {'exchangedate': '05.10.2020', 'r030': 840, 'cc': 'USD', 'txt': 'Долар США', 'enname': 'US Dollar', 'rate': 28.3408, 'units': 1, 'rate_per_unit': 28.3408, 'group': '1', 'calcdate': '02.10.2020'}, {'exchangedate': '04.10.2020', 'r030': 840, 'cc': 'USD', 'txt': 'Долар США', 'enname': 'US Dollar', 'rate': 28.3343, 'units': 1, 'rate_per_unit': 28.3343, 'group': '1', 'calcdate': '01.10.2020'}, {'exchangedate': '03.10.2020', 'r030': 840, 'cc': 'USD', 'txt': 'Долар США', 'enname': 'US Dollar', 'rate': 28.3343, 'units': 1, 'rate_per_unit': 28.3343, 'group': '1', 'calcdate': '01.10.2020'}, {'exchangedate': '02.10.2020', 'r030': 840, 'cc': 'USD', 'txt': 'Долар США', 'enname': 'US Dollar', 'rate': 28.3343, 'units': 1, 'rate_per_unit': 28.3343, 'group': '1', 'calcdate': '01.10.2020'}, {'exchangedate': '01.10.2020', 'r030': 840, 'cc': 'USD', 'txt': 'Долар США', 'enname': 'US Dollar', 'rate': 28.3105, 'units': 1, 'rate_per_unit': 28.3105, 'group': '1', 'calcdate': '30.09.2020'}, {'exchangedate': '30.09.2020', 'r030': 840, 'cc': 'USD', 'txt': 'Долар США', 'enname': 'US Dollar', 'rate': 28.2989, 'units': 1, 'rate_per_unit': 28.2989, 'group': '1', 'calcdate': '29.09.2020'}, {'exchangedate': '29.09.2020', 'r030': 840, 'cc': 'USD', 'txt': 'Долар США', 'enname': 'US Dollar', 'rate': 28.3062, 'units': 1, 'rate_per_unit': 28.3062, 'group': '1', 'calcdate': '28.09.2020'}, {'exchangedate': '28.09.2020', 'r030': 840, 'cc': 'USD', 'txt': 'Долар США', 'enname': 'US Dollar', 'rate': 28.2673, 'units': 1, 'rate_per_unit': 28.2673, 'group': '1', 'calcdate': '25.09.2020'}, {'exchangedate': '27.09.2020', 'r030': 840, 'cc': 'USD', 'txt': 'Долар США', 'enname': 'US Dollar', 'rate': 28.2487, 'units': 1, 'rate_per_unit': 28.2487, 'group': '1', 'calcdate': '24.09.2020'}, {'exchangedate': '26.09.2020', 'r030': 840, 'cc': 'USD', 'txt': 'Долар США', 'enname': 'US Dollar', 'rate': 28.2487, 'units': 1, 'rate_per_unit': 28.2487, 'group': '1', 'calcdate': '24.09.2020'}, {'exchangedate': '25.09.2020', 'r030': 840, 'cc': 'USD', 'txt': 'Долар США', 'enname': 'US Dollar', 'rate': 28.2487, 'units': 1, 'rate_per_unit': 28.2487, 'group': '1', 'calcdate': '24.09.2020'}, {'exchangedate': '24.09.2020', 'r030': 840, 'cc': 'USD', 'txt': 'Долар США', 'enname': 'US Dollar', 'rate': 28.1874, 'units': 1, 'rate_per_unit': 28.1874, 'group': '1', 'calcdate': '23.09.2020'}, {'exchangedate': '23.09.2020', 'r030': 840, 'cc': 'USD', 'txt': 'Долар США', 'enname': 'US Dollar', 'rate': 28.2059, 'units': 1, 'rate_per_unit': 28.2059, 'group': '1', 'calcdate': '22.09.2020'}, {'exchangedate': '22.09.2020', 'r030': 840, 'cc': 'USD', 'txt': 'Долар США', 'enname': 'US Dollar', 'rate': 28.2022, 'units': 1, 'rate_per_unit': 28.2022, 'group': '1', 'calcdate': '21.09.2020'}, {'exchangedate': '21.09.2020', 'r030': 840, 'cc': 'USD', 'txt': 'Долар США', 'enname': 'US Dollar', 'rate': 28.1718, 'units': 1, 'rate_per_unit': 28.1718, 'group': '1', 'calcdate': '18.09.2020'}, {'exchangedate': '20.09.2020', 'r030': 840, 'cc': 'USD', 'txt': 'Долар США', 'enname': 'US Dollar', 'rate': 28.1127, 'units': 1, 'rate_per_unit': 28.1127, 'group': '1', 'calcdate': '17.09.2020'}, {'exchangedate': '19.09.2020', 'r030': 840, 'cc': 'USD', 'txt': 'Долар США', 'enname': 'US Dollar', 'rate': 28.1127, 'units': 1, 'rate_per_unit': 28.1127, 'group': '1', 'calcdate': '17.09.2020'}, {'exchangedate': '18.09.2020', 'r030': 840, 'cc': 'USD', 'txt': 'Долар США', 'enname': 'US Dollar', 'rate': 28.1127, 'units': 1, 'rate_per_unit': 28.1127, 'group': '1', 'calcdate': '17.09.2020'}, {'exchangedate': '17.09.2020', 'r030': 840, 'cc': 'USD', 'txt': 'Долар США', 'enname': 'US Dollar', 'rate': 28.1195, 'units': 1, 'rate_per_unit': 28.1195, 'group': '1', 'calcdate': '16.09.2020'}, {'exchangedate': '16.09.2020', 'r030': 840, 'cc': 'USD', 'txt': 'Долар США', 'enname': 'US Dollar', 'rate': 28.0556, 'units': 1, 'rate_per_unit': 28.0556, 'group': '1', 'calcdate': '15.09.2020'}, {'exchangedate': '15.09.2020', 'r030': 840, 'cc': 'USD', 'txt': 'Долар США', 'enname': 'US Dollar', 'rate': 28.0003, 'units': 1, 'rate_per_unit': 28.0003, 'group': '1', 'calcdate': '14.09.2020'}, {'exchangedate': '14.09.2020', 'r030': 840, 'cc': 'USD', 'txt': 'Долар США', 'enname': 'US Dollar', 'rate': 27.9003, 'units': 1, 'rate_per_unit': 27.9003, 'group': '1', 'calcdate': '11.09.2020'}, {'exchangedate': '13.09.2020', 'r030': 840, 'cc': 'USD', 'txt': 'Долар США', 'enname': 'US Dollar', 'rate': 27.8346, 'units': 1, 'rate_per_unit': 27.8346, 'group': '1', 'calcdate': '10.09.2020'}, {'exchangedate': '12.09.2020', 'r030': 840, 'cc': 'USD', 'txt': 'Долар США', 'enname': 'US Dollar', 'rate': 27.8346, 'units': 1, 'rate_per_unit': 27.8346, 'group': '1', 'calcdate': '10.09.2020'}, {'exchangedate': '11.09.2020', 'r030': 840, 'cc': 'USD', 'txt': 'Долар США', 'enname': 'US Dollar', 'rate': 27.8346, 'units': 1, 'rate_per_unit': 27.8346, 'group': '1', 'calcdate': '10.09.2020'}, {'exchangedate': '10.09.2020', 'r030': 840, 'cc': 'USD', 'txt': 'Долар США', 'enname': 'US Dollar', 'rate': 27.8296, 'units': 1, 'rate_per_unit': 27.8296, 'group': '1', 'calcdate': '09.09.2020'}, {'exchangedate': '09.09.2020', 'r030': 840, 'cc': 'USD', 'txt': 'Долар США', 'enname': 'US Dollar', 'rate': 27.8032, 'units': 1, 'rate_per_unit': 27.8032, 'group': '1', 'calcdate': '08.09.2020'}, {'exchangedate': '08.09.2020', 'r030': 840, 'cc': 'USD', 'txt': 'Долар США', 'enname': 'US Dollar', 'rate': 27.7509, 'units': 1, 'rate_per_unit': 27.7509, 'group': '1', 'calcdate': '07.09.2020'}, {'exchangedate': '07.09.2020', 'r030': 840, 'cc': 'USD', 'txt': 'Долар США', 'enname': 'US Dollar', 'rate': 27.7325, 'units': 1, 'rate_per_unit': 27.7325, 'group': '1', 'calcdate': '04.09.2020'}, {'exchangedate': '06.09.2020', 'r030': 840, 'cc': 'USD', 'txt': 'Долар США', 'enname': 'US Dollar', 'rate': 27.6908, 'units': 1, 'rate_per_unit': 27.6908, 'group': '1', 'calcdate': '03.09.2020'}, {'exchangedate': '05.09.2020', 'r030': 840, 'cc': 'USD', 'txt': 'Долар США', 'enname': 'US Dollar', 'rate': 27.6908, 'units': 1, 'rate_per_unit': 27.6908, 'group': '1', 'calcdate': '03.09.2020'}, {'exchangedate': '04.09.2020', 'r030': 840, 'cc': 'USD', 'txt': 'Долар США', 'enname': 'US Dollar', 'rate': 27.6908, 'units': 1, 'rate_per_unit': 27.6908, 'group': '1', 'calcdate': '03.09.2020'}, {'exchangedate': '03.09.2020', 'r030': 840, 'cc': 'USD', 'txt': 'Долар США', 'enname': 'US Dollar', 'rate': 27.6428, 'units': 1, 'rate_per_unit': 27.6428, 'group': '1', 'calcdate': '02.09.2020'}, {'exchangedate': '02.09.2020', 'r030': 840, 'cc': 'USD', 'txt': 'Долар США', 'enname': 'US Dollar', 'rate': 27.6049, 'units': 1, 'rate_per_unit': 27.6049, 'group': '1', 'calcdate': '01.09.2020'}, {'exchangedate': '01.09.2020', 'r030': 840, 'cc': 'USD', 'txt': 'Долар США', 'enname': 'US Dollar', 'rate': 27.5618, 'units': 1, 'rate_per_unit': 27.5618, 'group': '1', 'calcdate': '31.08.2020'}, {'exchangedate': '31.08.2020', 'r030': 840, 'cc': 'USD', 'txt': 'Долар США', 'enname': 'US Dollar', 'rate': 27.4759, 'units': 1, 'rate_per_unit': 27.4759, 'group': '1', 'calcdate': '28.08.2020'}, {'exchangedate': '30.08.2020', 'r030': 840, 'cc': 'USD', 'txt': 'Долар США', 'enname': 'US Dollar', 'rate': 27.4615, 'units': 1, 'rate_per_unit': 27.4615, 'group': '1', 'calcdate': '27.08.2020'}, {'exchangedate': '29.08.2020', 'r030': 840, 'cc': 'USD', 'txt': 'Долар США', 'enname': 'US Dollar', 'rate': 27.4615, 'units': 1, 'rate_per_unit': 27.4615, 'group': '1', 'calcdate': '27.08.2020'}, {'exchangedate': '28.08.2020', 'r030': 840, 'cc': 'USD', 'txt': 'Долар США', 'enname': 'US Dollar', 'rate': 27.4615, 'units': 1, 'rate_per_unit': 27.4615, 'group': '1', 'calcdate': '27.08.2020'}, {'exchangedate': '27.08.2020', 'r030': 840, 'cc': 'USD', 'txt': 'Долар США', 'enname': 'US Dollar', 'rate': 27.386, 'units': 1, 'rate_per_unit': 27.386, 'group': '1', 'calcdate': '26.08.2020'}, {'exchangedate': '26.08.2020', 'r030': 840, 'cc': 'USD', 'txt': 'Долар США', 'enname': 'US Dollar', 'rate': 27.4383, 'units': 1, 'rate_per_unit': 27.4383, 'group': '1', 'calcdate': '25.08.2020'}, {'exchangedate': '25.08.2020', 'r030': 840, 'cc': 'USD', 'txt': 'Долар США', 'enname': 'US Dollar', 'rate': 27.3942, 'units': 1, 'rate_per_unit': 27.3942, 'group': '1', 'calcdate': '21.08.2020'}, {'exchangedate': '24.08.2020', 'r030': 840, 'cc': 'USD', 'txt': 'Долар США', 'enname': 'US Dollar', 'rate': 27.4812, 'units': 1, 'rate_per_unit': 27.4812, 'group': '1', 'calcdate': '20.08.2020'}, {'exchangedate': '23.08.2020', 'r030': 840, 'cc': 'USD', 'txt': 'Долар США', 'enname': 'US Dollar', 'rate': 27.4812, 'units': 1, 'rate_per_unit': 27.4812, 'group': '1', 'calcdate': '20.08.2020'}, {'exchangedate': '22.08.2020', 'r030': 840, 'cc': 'USD', 'txt': 'Долар США', 'enname': 'US Dollar', 'rate': 27.4812, 'units': 1, 'rate_per_unit': 27.4812, 'group': '1', 'calcdate': '20.08.2020'}, {'exchangedate': '21.08.2020', 'r030': 840, 'cc': 'USD', 'txt': 'Долар США', 'enname': 'US Dollar', 'rate': 27.4812, 'units': 1, 'rate_per_unit': 27.4812, 'group': '1', 'calcdate': '20.08.2020'}, {'exchangedate': '20.08.2020', 'r030': 840, 'cc': 'USD', 'txt': 'Долар США', 'enname': 'US Dollar', 'rate': 27.316, 'units': 1, 'rate_per_unit': 27.316, 'group': '1', 'calcdate': '19.08.2020'}, {'exchangedate': '19.08.2020', 'r030': 840, 'cc': 'USD', 'txt': 'Долар США', 'enname': 'US Dollar', 'rate': 27.2297, 'units': 1, 'rate_per_unit': 27.2297, 'group': '1', 'calcdate': '18.08.2020'}, {'exchangedate': '18.08.2020', 'r030': 840, 'cc': 'USD', 'txt': 'Долар США', 'enname': 'US Dollar', 'rate': 27.3061, 'units': 1, 'rate_per_unit': 27.3061, 'group': '1', 'calcdate': '17.08.2020'}, {'exchangedate': '17.08.2020', 'r030': 840, 'cc': 'USD', 'txt': 'Долар США', 'enname': 'US Dollar', 'rate': 27.3474, 'units': 1, 'rate_per_unit': 27.3474, 'group': '1', 'calcdate': '14.08.2020'}, {'exchangedate': '16.08.2020', 'r030': 840, 'cc': 'USD', 'txt': 'Долар США', 'enname': 'US Dollar', 'rate': 27.4083, 'units': 1, 'rate_per_unit': 27.4083, 'group': '1', 'calcdate': '13.08.2020'}, {'exchangedate': '15.08.2020', 'r030': 840, 'cc': 'USD', 'txt': 'Долар США', 'enname': 'US Dollar', 'rate': 27.4083, 'units': 1, 'rate_per_unit': 27.4083, 'group': '1', 'calcdate': '13.08.2020'}, {'exchangedate': '14.08.2020', 'r030': 840, 'cc': 'USD', 'txt': 'Долар США', 'enname': 'US Dollar', 'rate': 27.4083, 'units': 1, 'rate_per_unit': 27.4083, 'group': '1', 'calcdate': '13.08.2020'}, {'exchangedate': '13.08.2020', 'r030': 840, 'cc': 'USD', 'txt': 'Долар США', 'enname': 'US Dollar', 'rate': 27.5266, 'units': 1, 'rate_per_unit': 27.5266, 'group': '1', 'calcdate': '12.08.2020'}, {'exchangedate': '12.08.2020', 'r030': 840, 'cc': 'USD', 'txt': 'Долар США', 'enname': 'US Dollar', 'rate': 27.5982, 'units': 1, 'rate_per_unit': 27.5982, 'group': '1', 'calcdate': '11.08.2020'}, {'exchangedate': '11.08.2020', 'r030': 840, 'cc': 'USD', 'txt': 'Долар США', 'enname': 'US Dollar', 'rate': 27.6007, 'units': 1, 'rate_per_unit': 27.6007, 'group': '1', 'calcdate': '10.08.2020'}, {'exchangedate': '10.08.2020', 'r030': 840, 'cc': 'USD', 'txt': 'Долар США', 'enname': 'US Dollar', 'rate': 27.6486, 'units': 1, 'rate_per_unit': 27.6486, 'group': '1', 'calcdate': '07.08.2020'}, {'exchangedate': '09.08.2020', 'r030': 840, 'cc': 'USD', 'txt': 'Долар США', 'enname': 'US Dollar', 'rate': 27.6793, 'units': 1, 'rate_per_unit': 27.6793, 'group': '1', 'calcdate': '06.08.2020'}, {'exchangedate': '08.08.2020', 'r030': 840, 'cc': 'USD', 'txt': 'Долар США', 'enname': 'US Dollar', 'rate': 27.6793, 'units': 1, 'rate_per_unit': 27.6793, 'group': '1', 'calcdate': '06.08.2020'}, {'exchangedate': '07.08.2020', 'r030': 840, 'cc': 'USD', 'txt': 'Долар США', 'enname': 'US Dollar', 'rate': 27.6793, 'units': 1, 'rate_per_unit': 27.6793, 'group': '1', 'calcdate': '06.08.2020'}, {'exchangedate': '06.08.2020', 'r030': 840, 'cc': 'USD', 'txt': 'Долар США', 'enname': 'US Dollar', 'rate': 27.7028, 'units': 1, 'rate_per_unit': 27.7028, 'group': '1', 'calcdate': '05.08.2020'}, {'exchangedate': '05.08.2020', 'r030': 840, 'cc': 'USD', 'txt': 'Долар США', 'enname': 'US Dollar', 'rate': 27.8225, 'units': 1, 'rate_per_unit': 27.8225, 'group': '1', 'calcdate': '04.08.2020'}, {'exchangedate': '04.08.2020', 'r030': 840, 'cc': 'USD', 'txt': 'Долар США', 'enname': 'US Dollar', 'rate': 27.7365, 'units': 1, 'rate_per_unit': 27.7365, 'group': '1', 'calcdate': '03.08.2020'}, {'exchangedate': '03.08.2020', 'r030': 840, 'cc': 'USD', 'txt': 'Долар США', 'enname': 'US Dollar', 'rate': 27.6798, 'units': 1, 'rate_per_unit': 27.6798, 'group': '1', 'calcdate': '31.07.2020'}, {'exchangedate': '02.08.2020', 'r030': 840, 'cc': 'USD', 'txt': 'Долар США', 'enname': 'US Dollar', 'rate': 27.6913, 'units': 1, 'rate_per_unit': 27.6913, 'group': '1', 'calcdate': '30.07.2020'}, {'exchangedate': '01.08.2020', 'r030': 840, 'cc': 'USD', 'txt': 'Долар США', 'enname': 'US Dollar', 'rate': 27.6913, 'units': 1, 'rate_per_unit': 27.6913, 'group': '1', 'calcdate': '30.07.2020'}, {'exchangedate': '31.07.2020', 'r030': 840, 'cc': 'USD', 'txt': 'Долар США', 'enname': 'US Dollar', 'rate': 27.6913, 'units': 1, 'rate_per_unit': 27.6913, 'group': '1', 'calcdate': '30.07.2020'}, {'exchangedate': '30.07.2020', 'r030': 840, 'cc': 'USD', 'txt': 'Долар США', 'enname': 'US Dollar', 'rate': 27.6867, 'units': 1, 'rate_per_unit': 27.6867, 'group': '1', 'calcdate': '29.07.2020'}, {'exchangedate': '29.07.2020', 'r030': 840, 'cc': 'USD', 'txt': 'Долар США', 'enname': 'US Dollar', 'rate': 27.6851, 'units': 1, 'rate_per_unit': 27.6851, 'group': '1', 'calcdate': '28.07.2020'}, {'exchangedate': '28.07.2020', 'r030': 840, 'cc': 'USD', 'txt': 'Долар США', 'enname': 'US Dollar', 'rate': 27.7571, 'units': 1, 'rate_per_unit': 27.7571, 'group': '1', 'calcdate': '27.07.2020'}, {'exchangedate': '27.07.2020', 'r030': 840, 'cc': 'USD', 'txt': 'Долар США', 'enname': 'US Dollar', 'rate': 27.7559, 'units': 1, 'rate_per_unit': 27.7559, 'group': '1', 'calcdate': '24.07.2020'}, {'exchangedate': '26.07.2020', 'r030': 840, 'cc': 'USD', 'txt': 'Долар США', 'enname': 'US Dollar', 'rate': 27.8779, 'units': 1, 'rate_per_unit': 27.8779, 'group': '1', 'calcdate': '23.07.2020'}, {'exchangedate': '25.07.2020', 'r030': 840, 'cc': 'USD', 'txt': 'Долар США', 'enname': 'US Dollar', 'rate': 27.8779, 'units': 1, 'rate_per_unit': 27.8779, 'group': '1', 'calcdate': '23.07.2020'}, {'exchangedate': '24.07.2020', 'r030': 840, 'cc': 'USD', 'txt': 'Долар США', 'enname': 'US Dollar', 'rate': 27.8779, 'units': 1, 'rate_per_unit': 27.8779, 'group': '1', 'calcdate': '23.07.2020'}, {'exchangedate': '23.07.2020', 'r030': 840, 'cc': 'USD', 'txt': 'Долар США', 'enname': 'US Dollar', 'rate': 27.7798, 'units': 1, 'rate_per_unit': 27.7798, 'group': '1', 'calcdate': '22.07.2020'}, {'exchangedate': '22.07.2020', 'r030': 840, 'cc': 'USD', 'txt': 'Долар США', 'enname': 'US Dollar', 'rate': 27.6647, 'units': 1, 'rate_per_unit': 27.6647, 'group': '1', 'calcdate': '21.07.2020'}, {'exchangedate': '21.07.2020', 'r030': 840, 'cc': 'USD', 'txt': 'Долар США', 'enname': 'US Dollar', 'rate': 27.6011, 'units': 1, 'rate_per_unit': 27.6011, 'group': '1', 'calcdate': '20.07.2020'}, {'exchangedate': '20.07.2020', 'r030': 840, 'cc': 'USD', 'txt': 'Долар США', 'enname': 'US Dollar', 'rate': 27.3606, 'units': 1, 'rate_per_unit': 27.3606, 'group': '1', 'calcdate': '17.07.2020'}, {'exchangedate': '19.07.2020', 'r030': 840, 'cc': 'USD', 'txt': 'Долар США', 'enname': 'US Dollar', 'rate': 27.2738, 'units': 1, 'rate_per_unit': 27.2738, 'group': '1', 'calcdate': '16.07.2020'}, {'exchangedate': '18.07.2020', 'r030': 840, 'cc': 'USD', 'txt': 'Долар США', 'enname': 'US Dollar', 'rate': 27.2738, 'units': 1, 'rate_per_unit': 27.2738, 'group': '1', 'calcdate': '16.07.2020'}, {'exchangedate': '17.07.2020', 'r030': 840, 'cc': 'USD', 'txt': 'Долар США', 'enname': 'US Dollar', 'rate': 27.2738, 'units': 1, 'rate_per_unit': 27.2738, 'group': '1', 'calcdate': '16.07.2020'}, {'exchangedate': '16.07.2020', 'r030': 840, 'cc': 'USD', 'txt': 'Долар США', 'enname': 'US Dollar', 'rate': 27.119, 'units': 1, 'rate_per_unit': 27.119, 'group': '1', 'calcdate': '15.07.2020'}, {'exchangedate': '15.07.2020', 'r030': 840, 'cc': 'USD', 'txt': 'Долар США', 'enname': 'US Dollar', 'rate': 27.1436, 'units': 1, 'rate_per_unit': 27.1436, 'group': '1', 'calcdate': '14.07.2020'}, {'exchangedate': '14.07.2020', 'r030': 840, 'cc': 'USD', 'txt': 'Долар США', 'enname': 'US Dollar', 'rate': 27.0883, 'units': 1, 'rate_per_unit': 27.0883, 'group': '1', 'calcdate': '13.07.2020'}, {'exchangedate': '13.07.2020', 'r030': 840, 'cc': 'USD', 'txt': 'Долар США', 'enname': 'US Dollar', 'rate': 26.9505, 'units': 1, 'rate_per_unit': 26.9505, 'group': '1', 'calcdate': '10.07.2020'}, {'exchangedate': '12.07.2020', 'r030': 840, 'cc': 'USD', 'txt': 'Долар США', 'enname': 'US Dollar', 'rate': 26.9335, 'units': 1, 'rate_per_unit': 26.9335, 'group': '1', 'calcdate': '09.07.2020'}, {'exchangedate': '11.07.2020', 'r030': 840, 'cc': 'USD', 'txt': 'Долар США', 'enname': 'US Dollar', 'rate': 26.9335, 'units': 1, 'rate_per_unit': 26.9335, 'group': '1', 'calcdate': '09.07.2020'}, {'exchangedate': '10.07.2020', 'r030': 840, 'cc': 'USD', 'txt': 'Долар США', 'enname': 'US Dollar', 'rate': 26.9335, 'units': 1, 'rate_per_unit': 26.9335, 'group': '1', 'calcdate': '09.07.2020'}, {'exchangedate': '09.07.2020', 'r030': 840, 'cc': 'USD', 'txt': 'Долар США', 'enname': 'US Dollar', 'rate': 26.9514, 'units': 1, 'rate_per_unit': 26.9514, 'group': '1', 'calcdate': '08.07.2020'}, {'exchangedate': '08.07.2020', 'r030': 840, 'cc': 'USD', 'txt': 'Долар США', 'enname': 'US Dollar', 'rate': 26.9309, 'units': 1, 'rate_per_unit': 26.9309, 'group': '1', 'calcdate': '07.07.2020'}, {'exchangedate': '07.07.2020', 'r030': 840, 'cc': 'USD', 'txt': 'Долар США', 'enname': 'US Dollar', 'rate': 27.1269, 'units': 1, 'rate_per_unit': 27.1269, 'group': '1', 'calcdate': '06.07.2020'}, {'exchangedate': '06.07.2020', 'r030': 840, 'cc': 'USD', 'txt': 'Долар США', 'enname': 'US Dollar', 'rate': 27.1716, 'units': 1, 'rate_per_unit': 27.1716, 'group': '1', 'calcdate': '03.07.2020'}, {'exchangedate': '05.07.2020', 'r030': 840, 'cc': 'USD', 'txt': 'Долар США', 'enname': 'US Dollar', 'rate': 27.1801, 'units': 1, 'rate_per_unit': 27.1801, 'group': '1', 'calcdate': '02.07.2020'}, {'exchangedate': '04.07.2020', 'r030': 840, 'cc': 'USD', 'txt': 'Долар США', 'enname': 'US Dollar', 'rate': 27.1801, 'units': 1, 'rate_per_unit': 27.1801, 'group': '1', 'calcdate': '02.07.2020'}, {'exchangedate': '03.07.2020', 'r030': 840, 'cc': 'USD', 'txt': 'Долар США', 'enname': 'US Dollar', 'rate': 27.1801, 'units': 1, 'rate_per_unit': 27.1801, 'group': '1', 'calcdate': '02.07.2020'}, {'exchangedate': '02.07.2020', 'r030': 840, 'cc': 'USD', 'txt': 'Долар США', 'enname': 'US Dollar', 'rate': 26.77, 'units': 1, 'rate_per_unit': 26.77, 'group': '1', 'calcdate': '01.07.2020'}, {'exchangedate': '01.07.2020', 'r030': 840, 'cc': 'USD', 'txt': 'Долар США', 'enname': 'US Dollar', 'rate': 26.6676, 'units': 1, 'rate_per_unit': 26.6676, 'group': '1', 'calcdate': '30.06.2020'}, {'exchangedate': '30.06.2020', 'r030': 840, 'cc': 'USD', 'txt': 'Долар США', 'enname': 'US Dollar', 'rate': 26.6922, 'units': 1, 'rate_per_unit': 26.6922, 'group': '1', 'calcdate': '26.06.2020'}, {'exchangedate': '29.06.2020', 'r030': 840, 'cc': 'USD', 'txt': 'Долар США', 'enname': 'US Dollar', 'rate': 26.7002, 'units': 1, 'rate_per_unit': 26.7002, 'group': '1', 'calcdate': '25.06.2020'}, {'exchangedate': '28.06.2020', 'r030': 840, 'cc': 'USD', 'txt': 'Долар США', 'enname': 'US Dollar', 'rate': 26.7002, 'units': 1, 'rate_per_unit': 26.7002, 'group': '1', 'calcdate': '25.06.2020'}, {'exchangedate': '27.06.2020', 'r030': 840, 'cc': 'USD', 'txt': 'Долар США', 'enname': 'US Dollar', 'rate': 26.7002, 'units': 1, 'rate_per_unit': 26.7002, 'group': '1', 'calcdate': '25.06.2020'}, {'exchangedate': '26.06.2020', 'r030': 840, 'cc': 'USD', 'txt': 'Долар США', 'enname': 'US Dollar', 'rate': 26.7002, 'units': 1, 'rate_per_unit': 26.7002, 'group': '1', 'calcdate': '25.06.2020'}, {'exchangedate': '25.06.2020', 'r030': 840, 'cc': 'USD', 'txt': 'Долар США', 'enname': 'US Dollar', 'rate': 26.6509, 'units': 1, 'rate_per_unit': 26.6509, 'group': '1', 'calcdate': '24.06.2020'}, {'exchangedate': '24.06.2020', 'r030': 840, 'cc': 'USD', 'txt': 'Долар США', 'enname': 'US Dollar', 'rate': 26.6078, 'units': 1, 'rate_per_unit': 26.6078, 'group': '1', 'calcdate': '23.06.2020'}, {'exchangedate': '23.06.2020', 'r030': 840, 'cc': 'USD', 'txt': 'Долар США', 'enname': 'US Dollar', 'rate': 26.6695, 'units': 1, 'rate_per_unit': 26.6695, 'group': '1', 'calcdate': '22.06.2020'}, {'exchangedate': '22.06.2020', 'r030': 840, 'cc': 'USD', 'txt': 'Долар США', 'enname': 'US Dollar', 'rate': 26.7207, 'units': 1, 'rate_per_unit': 26.7207, 'group': '1', 'calcdate': '19.06.2020'}, {'exchangedate': '21.06.2020', 'r030': 840, 'cc': 'USD', 'txt': 'Долар США', 'enname': 'US Dollar', 'rate': 26.7633, 'units': 1, 'rate_per_unit': 26.7633, 'group': '1', 'calcdate': '18.06.2020'}, {'exchangedate': '20.06.2020', 'r030': 840, 'cc': 'USD', 'txt': 'Долар США', 'enname': 'US Dollar', 'rate': 26.7633, 'units': 1, 'rate_per_unit': 26.7633, 'group': '1', 'calcdate': '18.06.2020'}, {'exchangedate': '19.06.2020', 'r030': 840, 'cc': 'USD', 'txt': 'Долар США', 'enname': 'US Dollar', 'rate': 26.7633, 'units': 1, 'rate_per_unit': 26.7633, 'group': '1', 'calcdate': '18.06.2020'}, {'exchangedate': '18.06.2020', 'r030': 840, 'cc': 'USD', 'txt': 'Долар США', 'enname': 'US Dollar', 'rate': 26.776, 'units': 1, 'rate_per_unit': 26.776, 'group': '1', 'calcdate': '17.06.2020'}, {'exchangedate': '17.06.2020', 'r030': 840, 'cc': 'USD', 'txt': 'Долар США', 'enname': 'US Dollar', 'rate': 26.7424, 'units': 1, 'rate_per_unit': 26.7424, 'group': '1', 'calcdate': '16.06.2020'}, {'exchangedate': '16.06.2020', 'r030': 840, 'cc': 'USD', 'txt': 'Долар США', 'enname': 'US Dollar', 'rate': 26.844, 'units': 1, 'rate_per_unit': 26.844, 'group': '1', 'calcdate': '15.06.2020'}, {'exchangedate': '15.06.2020', 'r030': 840, 'cc': 'USD', 'txt': 'Долар США', 'enname': 'US Dollar', 'rate': 26.7303, 'units': 1, 'rate_per_unit': 26.7303, 'group': '1', 'calcdate': '12.06.2020'}, {'exchangedate': '14.06.2020', 'r030': 840, 'cc': 'USD', 'txt': 'Долар США', 'enname': 'US Dollar', 'rate': 26.5999, 'units': 1, 'rate_per_unit': 26.5999, 'group': '1', 'calcdate': '11.06.2020'}, {'exchangedate': '13.06.2020', 'r030': 840, 'cc': 'USD', 'txt': 'Долар США', 'enname': 'US Dollar', 'rate': 26.5999, 'units': 1, 'rate_per_unit': 26.5999, 'group': '1', 'calcdate': '11.06.2020'}, {'exchangedate': '12.06.2020', 'r030': 840, 'cc': 'USD', 'txt': 'Долар США', 'enname': 'US Dollar', 'rate': 26.5999, 'units': 1, 'rate_per_unit': 26.5999, 'group': '1', 'calcdate': '11.06.2020'}, {'exchangedate': '11.06.2020', 'r030': 840, 'cc': 'USD', 'txt': 'Долар США', 'enname': 'US Dollar', 'rate': 26.6367, 'units': 1, 'rate_per_unit': 26.6367, 'group': '1', 'calcdate': '10.06.2020'}, {'exchangedate': '10.06.2020', 'r030': 840, 'cc': 'USD', 'txt': 'Долар США', 'enname': 'US Dollar', 'rate': 26.6412, 'units': 1, 'rate_per_unit': 26.6412, 'group': '1', 'calcdate': '09.06.2020'}, {'exchangedate': '09.06.2020', 'r030': 840, 'cc': 'USD', 'txt': 'Долар США', 'enname': 'US Dollar', 'rate': 26.6005, 'units': 1, 'rate_per_unit': 26.6005, 'group': '1', 'calcdate': '05.06.2020'}, {'exchangedate': '08.06.2020', 'r030': 840, 'cc': 'USD', 'txt': 'Долар США', 'enname': 'US Dollar', 'rate': 26.6953, 'units': 1, 'rate_per_unit': 26.6953, 'group': '1', 'calcdate': '04.06.2020'}, {'exchangedate': '07.06.2020', 'r030': 840, 'cc': 'USD', 'txt': 'Долар США', 'enname': 'US Dollar', 'rate': 26.6953, 'units': 1, 'rate_per_unit': 26.6953, 'group': '1', 'calcdate': '04.06.2020'}, {'exchangedate': '06.06.2020', 'r030': 840, 'cc': 'USD', 'txt': 'Долар США', 'enname': 'US Dollar', 'rate': 26.6953, 'units': 1, 'rate_per_unit': 26.6953, 'group': '1', 'calcdate': '04.06.2020'}, {'exchangedate': '05.06.2020', 'r030': 840, 'cc': 'USD', 'txt': 'Долар США', 'enname': 'US Dollar', 'rate': 26.6953, 'units': 1, 'rate_per_unit': 26.6953, 'group': '1', 'calcdate': '04.06.2020'}, {'exchangedate': '04.06.2020', 'r030': 840, 'cc': 'USD', 'txt': 'Долар США', 'enname': 'US Dollar', 'rate': 26.7544, 'units': 1, 'rate_per_unit': 26.7544, 'group': '1', 'calcdate': '03.06.2020'}, {'exchangedate': '03.06.2020', 'r030': 840, 'cc': 'USD', 'txt': 'Долар США', 'enname': 'US Dollar', 'rate': 26.7955, 'units': 1, 'rate_per_unit': 26.7955, 'group': '1', 'calcdate': '02.06.2020'}, {'exchangedate': '02.06.2020', 'r030': 840, 'cc': 'USD', 'txt': 'Долар США', 'enname': 'US Dollar', 'rate': 26.8181, 'units': 1, 'rate_per_unit': 26.8181, 'group': '1', 'calcdate': '01.06.2020'}, {'exchangedate': '01.06.2020', 'r030': 840, 'cc': 'USD', 'txt': 'Долар США', 'enname': 'US Dollar', 'rate': 26.8685, 'units': 1, 'rate_per_unit': 26.8685, 'group': '1', 'calcdate': '29.05.2020'}, {'exchangedate': '31.05.2020', 'r030': 840, 'cc': 'USD', 'txt': 'Долар США', 'enname': 'US Dollar', 'rate': 26.9059, 'units': 1, 'rate_per_unit': 26.9059, 'group': '1', 'calcdate': '28.05.2020'}, {'exchangedate': '30.05.2020', 'r030': 840, 'cc': 'USD', 'txt': 'Долар США', 'enname': 'US Dollar', 'rate': 26.9059, 'units': 1, 'rate_per_unit': 26.9059, 'group': '1', 'calcdate': '28.05.2020'}, {'exchangedate': '29.05.2020', 'r030': 840, 'cc': 'USD', 'txt': 'Долар США', 'enname': 'US Dollar', 'rate': 26.9059, 'units': 1, 'rate_per_unit': 26.9059, 'group': '1', 'calcdate': '28.05.2020'}, {'exchangedate': '28.05.2020', 'r030': 840, 'cc': 'USD', 'txt': 'Долар США', 'enname': 'US Dollar', 'rate': 27.0002, 'units': 1, 'rate_per_unit': 27.0002, 'group': '1', 'calcdate': '27.05.2020'}, {'exchangedate': '27.05.2020', 'r030': 840, 'cc': 'USD', 'txt': 'Долар США', 'enname': 'US Dollar', 'rate': 26.9029, 'units': 1, 'rate_per_unit': 26.9029, 'group': '1', 'calcdate': '26.05.2020'}, {'exchangedate': '26.05.2020', 'r030': 840, 'cc': 'USD', 'txt': 'Долар США', 'enname': 'US Dollar', 'rate': 26.8742, 'units': 1, 'rate_per_unit': 26.8742, 'group': '1', 'calcdate': '25.05.2020'}, {'exchangedate': '25.05.2020', 'r030': 840, 'cc': 'USD', 'txt': 'Долар США', 'enname': 'US Dollar', 'rate': 26.7556, 'units': 1, 'rate_per_unit': 26.7556, 'group': '1', 'calcdate': '22.05.2020'}, {'exchangedate': '24.05.2020', 'r030': 840, 'cc': 'USD', 'txt': 'Долар США', 'enname': 'US Dollar', 'rate': 26.7699, 'units': 1, 'rate_per_unit': 26.7699, 'group': '1', 'calcdate': '21.05.2020'}, {'exchangedate': '23.05.2020', 'r030': 840, 'cc': 'USD', 'txt': 'Долар США', 'enname': 'US Dollar', 'rate': 26.7699, 'units': 1, 'rate_per_unit': 26.7699, 'group': '1', 'calcdate': '21.05.2020'}, {'exchangedate': '22.05.2020', 'r030': 840, 'cc': 'USD', 'txt': 'Долар США', 'enname': 'US Dollar', 'rate': 26.7699, 'units': 1, 'rate_per_unit': 26.7699, 'group': '1', 'calcdate': '21.05.2020'}, {'exchangedate': '21.05.2020', 'r030': 840, 'cc': 'USD', 'txt': 'Долар США', 'enname': 'US Dollar', 'rate': 26.5854, 'units': 1, 'rate_per_unit': 26.5854, 'group': '1', 'calcdate': '20.05.2020'}, {'exchangedate': '20.05.2020', 'r030': 840, 'cc': 'USD', 'txt': 'Долар США', 'enname': 'US Dollar', 'rate': 26.5159, 'units': 1, 'rate_per_unit': 26.5159, 'group': '1', 'calcdate': '19.05.2020'}, {'exchangedate': '19.05.2020', 'r030': 840, 'cc': 'USD', 'txt': 'Долар США', 'enname': 'US Dollar', 'rate': 26.571, 'units': 1, 'rate_per_unit': 26.571, 'group': '1', 'calcdate': '18.05.2020'}, {'exchangedate': '18.05.2020', 'r030': 840, 'cc': 'USD', 'txt': 'Долар США', 'enname': 'US Dollar', 'rate': 26.638, 'units': 1, 'rate_per_unit': 26.638, 'group': '1', 'calcdate': '15.05.2020'}, {'exchangedate': '17.05.2020', 'r030': 840, 'cc': 'USD', 'txt': 'Долар США', 'enname': 'US Dollar', 'rate': 26.6792, 'units': 1, 'rate_per_unit': 26.6792, 'group': '1', 'calcdate': '14.05.2020'}, {'exchangedate': '16.05.2020', 'r030': 840, 'cc': 'USD', 'txt': 'Долар США', 'enname': 'US Dollar', 'rate': 26.6792, 'units': 1, 'rate_per_unit': 26.6792, 'group': '1', 'calcdate': '14.05.2020'}, {'exchangedate': '15.05.2020', 'r030': 840, 'cc': 'USD', 'txt': 'Долар США', 'enname': 'US Dollar', 'rate': 26.6792, 'units': 1, 'rate_per_unit': 26.6792, 'group': '1', 'calcdate': '14.05.2020'}, {'exchangedate': '14.05.2020', 'r030': 840, 'cc': 'USD', 'txt': 'Долар США', 'enname': 'US Dollar', 'rate': 26.6897, 'units': 1, 'rate_per_unit': 26.6897, 'group': '1', 'calcdate': '13.05.2020'}, {'exchangedate': '13.05.2020', 'r030': 840, 'cc': 'USD', 'txt': 'Долар США', 'enname': 'US Dollar', 'rate': 26.7947, 'units': 1, 'rate_per_unit': 26.7947, 'group': '1', 'calcdate': '12.05.2020'}, {'exchangedate': '12.05.2020', 'r030': 840, 'cc': 'USD', 'txt': 'Долар США', 'enname': 'US Dollar', 'rate': 26.8196, 'units': 1, 'rate_per_unit': 26.8196, 'group': '1', 'calcdate': '08.05.2020'}, {'exchangedate': '11.05.2020', 'r030': 840, 'cc': 'USD', 'txt': 'Долар США', 'enname': 'US Dollar', 'rate': 26.8185, 'units': 1, 'rate_per_unit': 26.8185, 'group': '1', 'calcdate': '07.05.2020'}, {'exchangedate': '10.05.2020', 'r030': 840, 'cc': 'USD', 'txt': 'Долар США', 'enname': 'US Dollar', 'rate': 26.8185, 'units': 1, 'rate_per_unit': 26.8185, 'group': '1', 'calcdate': '07.05.2020'}, {'exchangedate': '09.05.2020', 'r030': 840, 'cc': 'USD', 'txt': 'Долар США', 'enname': 'US Dollar', 'rate': 26.8185, 'units': 1, 'rate_per_unit': 26.8185, 'group': '1', 'calcdate': '07.05.2020'}, {'exchangedate': '08.05.2020', 'r030': 840, 'cc': 'USD', 'txt': 'Долар США', 'enname': 'US Dollar', 'rate': 26.8185, 'units': 1, 'rate_per_unit': 26.8185, 'group': '1', 'calcdate': '07.05.2020'}, {'exchangedate': '07.05.2020', 'r030': 840, 'cc': 'USD', 'txt': 'Долар США', 'enname': 'US Dollar', 'rate': 26.9323, 'units': 1, 'rate_per_unit': 26.9323, 'group': '1', 'calcdate': '06.05.2020'}, {'exchangedate': '06.05.2020', 'r030': 840, 'cc': 'USD', 'txt': 'Долар США', 'enname': 'US Dollar', 'rate': 26.9774, 'units': 1, 'rate_per_unit': 26.9774, 'group': '1', 'calcdate': '05.05.2020'}, {'exchangedate': '05.05.2020', 'r030': 840, 'cc': 'USD', 'txt': 'Долар США', 'enname': 'US Dollar', 'rate': 26.9749, 'units': 1, 'rate_per_unit': 26.9749, 'group': '1', 'calcdate': '04.05.2020'}, {'exchangedate': '04.05.2020', 'r030': 840, 'cc': 'USD', 'txt': 'Долар США', 'enname': 'US Dollar', 'rate': 26.9592, 'units': 1, 'rate_per_unit': 26.9592, 'group': '1', 'calcdate': '30.04.2020'}, {'exchangedate': '03.05.2020', 'r030': 840, 'cc': 'USD', 'txt': 'Долар США', 'enname': 'US Dollar', 'rate': 26.9714, 'units': 1, 'rate_per_unit': 26.9714, 'group': '1', 'calcdate': '29.04.2020'}, {'exchangedate': '02.05.2020', 'r030': 840, 'cc': 'USD', 'txt': 'Долар США', 'enname': 'US Dollar', 'rate': 26.9714, 'units': 1, 'rate_per_unit': 26.9714, 'group': '1', 'calcdate': '29.04.2020'}, {'exchangedate': '01.05.2020', 'r030': 840, 'cc': 'USD', 'txt': 'Долар США', 'enname': 'US Dollar', 'rate': 26.9714, 'units': 1, 'rate_per_unit': 26.9714, 'group': '1', 'calcdate': '29.04.2020'}, {'exchangedate': '30.04.2020', 'r030': 840, 'cc': 'USD', 'txt': 'Долар США', 'enname': 'US Dollar', 'rate': 26.9714, 'units': 1, 'rate_per_unit': 26.9714, 'group': '1', 'calcdate': '29.04.2020'}, {'exchangedate': '29.04.2020', 'r030': 840, 'cc': 'USD', 'txt': 'Долар США', 'enname': 'US Dollar', 'rate': 27.0485, 'units': 1, 'rate_per_unit': 27.0485, 'group': '1', 'calcdate': '28.04.2020'}, {'exchangedate': '28.04.2020', 'r030': 840, 'cc': 'USD', 'txt': 'Долар США', 'enname': 'US Dollar', 'rate': 27.1025, 'units': 1, 'rate_per_unit': 27.1025, 'group': '1', 'calcdate': '27.04.2020'}, {'exchangedate': '27.04.2020', 'r030': 840, 'cc': 'USD', 'txt': 'Долар США', 'enname': 'US Dollar', 'rate': 27.1441, 'units': 1, 'rate_per_unit': 27.1441, 'group': '1', 'calcdate': '24.04.2020'}, {'exchangedate': '26.04.2020', 'r030': 840, 'cc': 'USD', 'txt': 'Долар США', 'enname': 'US Dollar', 'rate': 27.0137, 'units': 1, 'rate_per_unit': 27.0137, 'group': '1', 'calcdate': '23.04.2020'}, {'exchangedate': '25.04.2020', 'r030': 840, 'cc': 'USD', 'txt': 'Долар США', 'enname': 'US Dollar', 'rate': 27.0137, 'units': 1, 'rate_per_unit': 27.0137, 'group': '1', 'calcdate': '23.04.2020'}, {'exchangedate': '24.04.2020', 'r030': 840, 'cc': 'USD', 'txt': 'Долар США', 'enname': 'US Dollar', 'rate': 27.0137, 'units': 1, 'rate_per_unit': 27.0137, 'group': '1', 'calcdate': '23.04.2020'}, {'exchangedate': '23.04.2020', 'r030': 840, 'cc': 'USD', 'txt': 'Долар США', 'enname': 'US Dollar', 'rate': 27.0536, 'units': 1, 'rate_per_unit': 27.0536, 'group': '1', 'calcdate': '22.04.2020'}, {'exchangedate': '22.04.2020', 'r030': 840, 'cc': 'USD', 'txt': 'Долар США', 'enname': 'US Dollar', 'rate': 27.0815, 'units': 1, 'rate_per_unit': 27.0815, 'group': '1', 'calcdate': '21.04.2020'}, {'exchangedate': '21.04.2020', 'r030': 840, 'cc': 'USD', 'txt': 'Долар США', 'enname': 'US Dollar', 'rate': 27.0774, 'units': 1, 'rate_per_unit': 27.0774, 'group': '1', 'calcdate': '17.04.2020'}, {'exchangedate': '20.04.2020', 'r030': 840, 'cc': 'USD', 'txt': 'Долар США', 'enname': 'US Dollar', 'rate': 27.2022, 'units': 1, 'rate_per_unit': 27.2022, 'group': '1', 'calcdate': '16.04.2020'}, {'exchangedate': '19.04.2020', 'r030': 840, 'cc': 'USD', 'txt': 'Долар США', 'enname': 'US Dollar', 'rate': 27.2022, 'units': 1, 'rate_per_unit': 27.2022, 'group': '1', 'calcdate': '16.04.2020'}, {'exchangedate': '18.04.2020', 'r030': 840, 'cc': 'USD', 'txt': 'Долар США', 'enname': 'US Dollar', 'rate': 27.2022, 'units': 1, 'rate_per_unit': 27.2022, 'group': '1', 'calcdate': '16.04.2020'}, {'exchangedate': '17.04.2020', 'r030': 840, 'cc': 'USD', 'txt': 'Долар США', 'enname': 'US Dollar', 'rate': 27.2022, 'units': 1, 'rate_per_unit': 27.2022, 'group': '1', 'calcdate': '16.04.2020'}, {'exchangedate': '16.04.2020', 'r030': 840, 'cc': 'USD', 'txt': 'Долар США', 'enname': 'US Dollar', 'rate': 27.2219, 'units': 1, 'rate_per_unit': 27.2219, 'group': '1', 'calcdate': '15.04.2020'}, {'exchangedate': '15.04.2020', 'r030': 840, 'cc': 'USD', 'txt': 'Долар США', 'enname': 'US Dollar', 'rate': 27.0899, 'units': 1, 'rate_per_unit': 27.0899, 'group': '1', 'calcdate': '14.04.2020'}, {'exchangedate': '14.04.2020', 'r030': 840, 'cc': 'USD', 'txt': 'Долар США', 'enname': 'US Dollar', 'rate': 27.0404, 'units': 1, 'rate_per_unit': 27.0404, 'group': '1', 'calcdate': '13.04.2020'}, {'exchangedate': '13.04.2020', 'r030': 840, 'cc': 'USD', 'txt': 'Долар США', 'enname': 'US Dollar', 'rate': 27.2022, 'units': 1, 'rate_per_unit': 27.2022, 'group': '1', 'calcdate': '10.04.2020'}, {'exchangedate': '12.04.2020', 'r030': 840, 'cc': 'USD', 'txt': 'Долар США', 'enname': 'US Dollar', 'rate': 27.2598, 'units': 1, 'rate_per_unit': 27.2598, 'group': '1', 'calcdate': '09.04.2020'}, {'exchangedate': '11.04.2020', 'r030': 840, 'cc': 'USD', 'txt': 'Долар США', 'enname': 'US Dollar', 'rate': 27.2598, 'units': 1, 'rate_per_unit': 27.2598, 'group': '1', 'calcdate': '09.04.2020'}, {'exchangedate': '10.04.2020', 'r030': 840, 'cc': 'USD', 'txt': 'Долар США', 'enname': 'US Dollar', 'rate': 27.2598, 'units': 1, 'rate_per_unit': 27.2598, 'group': '1', 'calcdate': '09.04.2020'}, {'exchangedate': '09.04.2020', 'r030': 840, 'cc': 'USD', 'txt': 'Долар США', 'enname': 'US Dollar', 'rate': 27.1965, 'units': 1, 'rate_per_unit': 27.1965, 'group': '1', 'calcdate': '08.04.2020'}, {'exchangedate': '08.04.2020', 'r030': 840, 'cc': 'USD', 'txt': 'Долар США', 'enname': 'US Dollar', 'rate': 27.0996, 'units': 1, 'rate_per_unit': 27.0996, 'group': '1', 'calcdate': '07.04.2020'}, {'exchangedate': '07.04.2020', 'r030': 840, 'cc': 'USD', 'txt': 'Долар США', 'enname': 'US Dollar', 'rate': 27.2365, 'units': 1, 'rate_per_unit': 27.2365, 'group': '1', 'calcdate': '06.04.2020'}, {'exchangedate': '06.04.2020', 'r030': 840, 'cc': 'USD', 'txt': 'Долар США', 'enname': 'US Dollar', 'rate': 27.373, 'units': 1, 'rate_per_unit': 27.373, 'group': '1', 'calcdate': '03.04.2020'}, {'exchangedate': '05.04.2020', 'r030': 840, 'cc': 'USD', 'txt': 'Долар США', 'enname': 'US Dollar', 'rate': 27.5962, 'units': 1, 'rate_per_unit': 27.5962, 'group': '1', 'calcdate': '02.04.2020'}, {'exchangedate': '04.04.2020', 'r030': 840, 'cc': 'USD', 'txt': 'Долар США', 'enname': 'US Dollar', 'rate': 27.5962, 'units': 1, 'rate_per_unit': 27.5962, 'group': '1', 'calcdate': '02.04.2020'}, {'exchangedate': '03.04.2020', 'r030': 840, 'cc': 'USD', 'txt': 'Долар США', 'enname': 'US Dollar', 'rate': 27.5962, 'units': 1, 'rate_per_unit': 27.5962, 'group': '1', 'calcdate': '02.04.2020'}, {'exchangedate': '02.04.2020', 'r030': 840, 'cc': 'USD', 'txt': 'Долар США', 'enname': 'US Dollar', 'rate': 27.7538, 'units': 1, 'rate_per_unit': 27.7538, 'group': '1', 'calcdate': '01.04.2020'}, {'exchangedate': '01.04.2020', 'r030': 840, 'cc': 'USD', 'txt': 'Долар США', 'enname': 'US Dollar', 'rate': 27.6289, 'units': 1, 'rate_per_unit': 27.6289, 'group': '1', 'calcdate': '31.03.2020'}, {'exchangedate': '31.03.2020', 'r030': 840, 'cc': 'USD', 'txt': 'Долар США', 'enname': 'US Dollar', 'rate': 28.0615, 'units': 1, 'rate_per_unit': 28.0615, 'group': '1', 'calcdate': '30.03.2020'}, {'exchangedate': '30.03.2020', 'r030': 840, 'cc': 'USD', 'txt': 'Долар США', 'enname': 'US Dollar', 'rate': 28.183, 'units': 1, 'rate_per_unit': 28.183, 'group': '1', 'calcdate': '27.03.2020'}, {'exchangedate': '29.03.2020', 'r030': 840, 'cc': 'USD', 'txt': 'Долар США', 'enname': 'US Dollar', 'rate': 28.1381, 'units': 1, 'rate_per_unit': 28.1381, 'group': '1', 'calcdate': '26.03.2020'}, {'exchangedate': '28.03.2020', 'r030': 840, 'cc': 'USD', 'txt': 'Долар США', 'enname': 'US Dollar', 'rate': 28.1381, 'units': 1, 'rate_per_unit': 28.1381, 'group': '1', 'calcdate': '26.03.2020'}, {'exchangedate': '27.03.2020', 'r030': 840, 'cc': 'USD', 'txt': 'Долар США', 'enname': 'US Dollar', 'rate': 28.1381, 'units': 1, 'rate_per_unit': 28.1381, 'group': '1', 'calcdate': '26.03.2020'}, {'exchangedate': '26.03.2020', 'r030': 840, 'cc': 'USD', 'txt': 'Долар США', 'enname': 'US Dollar', 'rate': 27.9552, 'units': 1, 'rate_per_unit': 27.9552, 'group': '1', 'calcdate': '25.03.2020'}, {'exchangedate': '25.03.2020', 'r030': 840, 'cc': 'USD', 'txt': 'Долар США', 'enname': 'US Dollar', 'rate': 27.7728, 'units': 1, 'rate_per_unit': 27.7728, 'group': '1', 'calcdate': '24.03.2020'}, {'exchangedate': '24.03.2020', 'r030': 840, 'cc': 'USD', 'txt': 'Долар США', 'enname': 'US Dollar', 'rate': 28.1126, 'units': 1, 'rate_per_unit': 28.1126, 'group': '1', 'calcdate': '23.03.2020'}, {'exchangedate': '23.03.2020', 'r030': 840, 'cc': 'USD', 'txt': 'Долар США', 'enname': 'US Dollar', 'rate': 27.7386, 'units': 1, 'rate_per_unit': 27.7386, 'group': '1', 'calcdate': '20.03.2020'}, {'exchangedate': '22.03.2020', 'r030': 840, 'cc': 'USD', 'txt': 'Долар США', 'enname': 'US Dollar', 'rate': 27.8025, 'units': 1, 'rate_per_unit': 27.8025, 'group': '1', 'calcdate': '19.03.2020'}, {'exchangedate': '21.03.2020', 'r030': 840, 'cc': 'USD', 'txt': 'Долар США', 'enname': 'US Dollar', 'rate': 27.8025, 'units': 1, 'rate_per_unit': 27.8025, 'group': '1', 'calcdate': '19.03.2020'}, {'exchangedate': '20.03.2020', 'r030': 840, 'cc': 'USD', 'txt': 'Долар США', 'enname': 'US Dollar', 'rate': 27.8025, 'units': 1, 'rate_per_unit': 27.8025, 'group': '1', 'calcdate': '19.03.2020'}, {'exchangedate': '19.03.2020', 'r030': 840, 'cc': 'USD', 'txt': 'Долар США', 'enname': 'US Dollar', 'rate': 27.2685, 'units': 1, 'rate_per_unit': 27.2685, 'group': '1', 'calcdate': '18.03.2020'}, {'exchangedate': '18.03.2020', 'r030': 840, 'cc': 'USD', 'txt': 'Долар США', 'enname': 'US Dollar', 'rate': 27.0566, 'units': 1, 'rate_per_unit': 27.0566, 'group': '1', 'calcdate': '17.03.2020'}, {'exchangedate': '17.03.2020', 'r030': 840, 'cc': 'USD', 'txt': 'Долар США', 'enname': 'US Dollar', 'rate': 26.5249, 'units': 1, 'rate_per_unit': 26.5249, 'group': '1', 'calcdate': '16.03.2020'}, {'exchangedate': '16.03.2020', 'r030': 840, 'cc': 'USD', 'txt': 'Долар США', 'enname': 'US Dollar', 'rate': 26.089, 'units': 1, 'rate_per_unit': 26.089, 'group': '1', 'calcdate': '13.03.2020'}, {'exchangedate': '15.03.2020', 'r030': 840, 'cc': 'USD', 'txt': 'Долар США', 'enname': 'US Dollar', 'rate': 25.858, 'units': 1, 'rate_per_unit': 25.858, 'group': '1', 'calcdate': '12.03.2020'}, {'exchangedate': '14.03.2020', 'r030': 840, 'cc': 'USD', 'txt': 'Долар США', 'enname': 'US Dollar', 'rate': 25.858, 'units': 1, 'rate_per_unit': 25.858, 'group': '1', 'calcdate': '12.03.2020'}, {'exchangedate': '13.03.2020', 'r030': 840, 'cc': 'USD', 'txt': 'Долар США', 'enname': 'US Dollar', 'rate': 25.858, 'units': 1, 'rate_per_unit': 25.858, 'group': '1', 'calcdate': '12.03.2020'}, {'exchangedate': '12.03.2020', 'r030': 840, 'cc': 'USD', 'txt': 'Долар США', 'enname': 'US Dollar', 'rate': 25.624, 'units': 1, 'rate_per_unit': 25.624, 'group': '1', 'calcdate': '11.03.2020'}, {'exchangedate': '11.03.2020', 'r030': 840, 'cc': 'USD', 'txt': 'Долар США', 'enname': 'US Dollar', 'rate': 25.3135, 'units': 1, 'rate_per_unit': 25.3135, 'group': '1', 'calcdate': '10.03.2020'}]\n"
     ],
     "output_type":"stream"
    }
   ],
   "metadata":{
    "datalore":{
     "node_id":"H38sDJirKWI1SSo9dwTNPE",
     "type":"CODE",
     "hide_input_from_viewers":false,
     "hide_output_from_viewers":false,
     "report_properties":{
      "rowId":"W8bEstFoVKUlSu14Kh0Zvr"
     }
    }
   }
  },
  {
   "cell_type":"markdown",
   "source":[
    "2. Отримати курс долара за останній рік."
   ],
   "attachments":{
    
   },
   "metadata":{
    "datalore":{
     "node_id":"c70E8XpvGggcUTBpy9HMbL",
     "type":"MD",
     "hide_input_from_viewers":false,
     "hide_output_from_viewers":false,
     "report_properties":{
      "rowId":"i1oV2plgXCJhpMFh6MMusd"
     }
    }
   }
  },
  {
   "cell_type":"code",
   "source":[
    "from collections import defaultdict\n",
    "\n",
    "def take_course(database = DB, what_you_need = 'only_month_year_rate'):\n",
    "\n",
    "    DB_only_date_rate = {}\n",
    "    DB_only_rate = []\n",
    "    DB_only_month_year_rate = defaultdict(list)\n",
    "\n",
    "    for day in database:\n",
    "        DB_only_date_rate[day['exchangedate']] = day['rate'] \n",
    "        \n",
    "        DB_only_rate.append(day['rate'])\n",
    "\n",
    "        month_and_year = day['exchangedate'].split(\".\")[1] + '.' + day['exchangedate'].split(\".\")[2]\n",
    "        DB_only_month_year_rate[month_and_year].append(day['rate'])\n",
    "\n",
    "    \n",
    "    if what_you_need == 'only_rate':\n",
    "        return DB_only_rate\n",
    "    elif what_you_need == 'only_date_rate':\n",
    "        return DB_only_date_rate\n",
    "    elif what_you_need == 'only_month_year_rate':\n",
    "        return dict(DB_only_month_year_rate)\n",
    "        \n",
    "print(\"Курс долара за рік по датах: \", take_course(what_you_need= 'only_date_rate'))\n",
    "print(\"Курс долара за рік по місяцям і рокам: \", take_course(what_you_need= 'only_month_year_rate'))\n",
    "print(\"Курс долара за рік: \", take_course(what_you_need='only_rate'))"
   ],
   "execution_count":2,
   "outputs":[
    {
     "name":"stdout",
     "text":[
      "Курс долара за рік по датах:  {'11.03.2021': 27.7016, '10.03.2021': 27.7431, '09.03.2021': 27.7091, '08.03.2021': 27.7564, '07.03.2021': 27.7564, '06.03.2021': 27.7564, '05.03.2021': 27.7564, '04.03.2021': 27.8477, '03.03.2021': 27.933, '02.03.2021': 28.0007, '01.03.2021': 27.9456, '28.02.2021': 27.9301, '27.02.2021': 27.9301, '26.02.2021': 27.9301, '25.02.2021': 27.9492, '24.02.2021': 27.8976, '23.02.2021': 27.9304, '22.02.2021': 27.8468, '21.02.2021': 27.8461, '20.02.2021': 27.8461, '19.02.2021': 27.8461, '18.02.2021': 27.9038, '17.02.2021': 27.8304, '16.02.2021': 27.9671, '15.02.2021': 27.844, '14.02.2021': 27.8384, '13.02.2021': 27.8384, '12.02.2021': 27.8384, '11.02.2021': 27.7665, '10.02.2021': 27.6426, '09.02.2021': 27.6651, '08.02.2021': 27.7711, '07.02.2021': 27.8885, '06.02.2021': 27.8885, '05.02.2021': 27.8885, '04.02.2021': 27.995, '03.02.2021': 28.0589, '02.02.2021': 28.0603, '01.02.2021': 28.1324, '31.01.2021': 28.1929, '30.01.2021': 28.1929, '29.01.2021': 28.1929, '28.01.2021': 28.1652, '27.01.2021': 28.1524, '26.01.2021': 28.1665, '25.01.2021': 28.1648, '24.01.2021': 28.2561, '23.01.2021': 28.2561, '22.01.2021': 28.2561, '21.01.2021': 28.2035, '20.01.2021': 28.1544, '19.01.2021': 28.1926, '18.01.2021': 28.0524, '17.01.2021': 28.0524, '16.01.2021': 28.0524, '15.01.2021': 28.0609, '14.01.2021': 27.9705, '13.01.2021': 28.046, '12.01.2021': 28.2038, '11.01.2021': 28.2847, '10.01.2021': 28.4028, '09.01.2021': 28.4028, '08.01.2021': 28.4028, '07.01.2021': 28.4028, '06.01.2021': 28.4028, '05.01.2021': 28.431, '04.01.2021': 28.2746, '03.01.2021': 28.2746, '02.01.2021': 28.2746, '01.01.2021': 28.2746, '31.12.2020': 28.2746, '30.12.2020': 28.2605, '29.12.2020': 28.3668, '28.12.2020': 28.3547, '27.12.2020': 28.4551, '26.12.2020': 28.4551, '25.12.2020': 28.4551, '24.12.2020': 28.4551, '23.12.2020': 28.2513, '22.12.2020': 28.0391, '21.12.2020': 27.828, '20.12.2020': 27.8184, '19.12.2020': 27.8184, '18.12.2020': 27.8184, '17.12.2020': 27.7373, '16.12.2020': 27.759, '15.12.2020': 27.8661, '14.12.2020': 27.9666, '13.12.2020': 28.075, '12.12.2020': 28.075, '11.12.2020': 28.075, '10.12.2020': 28.0406, '09.12.2020': 28.0828, '08.12.2020': 28.2394, '07.12.2020': 28.2913, '06.12.2020': 28.3038, '05.12.2020': 28.3038, '04.12.2020': 28.3038, '03.12.2020': 28.4367, '02.12.2020': 28.5583, '01.12.2020': 28.4962, '30.11.2020': 28.4681, '29.11.2020': 28.4428, '28.11.2020': 28.4428, '27.11.2020': 28.4428, '26.11.2020': 28.3816, '25.11.2020': 28.3741, '24.11.2020': 28.3694, '23.11.2020': 28.3553, '22.11.2020': 28.2572, '21.11.2020': 28.2572, '20.11.2020': 28.2572, '19.11.2020': 28.13, '18.11.2020': 28.1067, '17.11.2020': 28.112, '16.11.2020': 28.1158, '15.11.2020': 28.1963, '14.11.2020': 28.1963, '13.11.2020': 28.1963, '12.11.2020': 28.161, '11.11.2020': 28.1206, '10.11.2020': 28.1116, '09.11.2020': 28.1375, '08.11.2020': 28.3643, '07.11.2020': 28.3643, '06.11.2020': 28.3643, '05.11.2020': 28.5074, '04.11.2020': 28.6, '03.11.2020': 28.5827, '02.11.2020': 28.4507, '01.11.2020': 28.4383, '31.10.2020': 28.4383, '30.10.2020': 28.4383, '29.10.2020': 28.3989, '28.10.2020': 28.3655, '27.10.2020': 28.3352, '26.10.2020': 28.2911, '25.10.2020': 28.265, '24.10.2020': 28.265, '23.10.2020': 28.265, '22.10.2020': 28.2737, '21.10.2020': 28.3707, '20.10.2020': 28.3762, '19.10.2020': 28.3649, '18.10.2020': 28.3365, '17.10.2020': 28.3365, '16.10.2020': 28.3365, '15.10.2020': 28.3164, '14.10.2020': 28.2481, '13.10.2020': 28.2481, '12.10.2020': 28.2098, '11.10.2020': 28.2836, '10.10.2020': 28.2836, '09.10.2020': 28.2836, '08.10.2020': 28.324, '07.10.2020': 28.3639, '06.10.2020': 28.4009, '05.10.2020': 28.3408, '04.10.2020': 28.3343, '03.10.2020': 28.3343, '02.10.2020': 28.3343, '01.10.2020': 28.3105, '30.09.2020': 28.2989, '29.09.2020': 28.3062, '28.09.2020': 28.2673, '27.09.2020': 28.2487, '26.09.2020': 28.2487, '25.09.2020': 28.2487, '24.09.2020': 28.1874, '23.09.2020': 28.2059, '22.09.2020': 28.2022, '21.09.2020': 28.1718, '20.09.2020': 28.1127, '19.09.2020': 28.1127, '18.09.2020': 28.1127, '17.09.2020': 28.1195, '16.09.2020': 28.0556, '15.09.2020': 28.0003, '14.09.2020': 27.9003, '13.09.2020': 27.8346, '12.09.2020': 27.8346, '11.09.2020': 27.8346, '10.09.2020': 27.8296, '09.09.2020': 27.8032, '08.09.2020': 27.7509, '07.09.2020': 27.7325, '06.09.2020': 27.6908, '05.09.2020': 27.6908, '04.09.2020': 27.6908, '03.09.2020': 27.6428, '02.09.2020': 27.6049, '01.09.2020': 27.5618, '31.08.2020': 27.4759, '30.08.2020': 27.4615, '29.08.2020': 27.4615, '28.08.2020': 27.4615, '27.08.2020': 27.386, '26.08.2020': 27.4383, '25.08.2020': 27.3942, '24.08.2020': 27.4812, '23.08.2020': 27.4812, '22.08.2020': 27.4812, '21.08.2020': 27.4812, '20.08.2020': 27.316, '19.08.2020': 27.2297, '18.08.2020': 27.3061, '17.08.2020': 27.3474, '16.08.2020': 27.4083, '15.08.2020': 27.4083, '14.08.2020': 27.4083, '13.08.2020': 27.5266, '12.08.2020': 27.5982, '11.08.2020': 27.6007, '10.08.2020': 27.6486, '09.08.2020': 27.6793, '08.08.2020': 27.6793, '07.08.2020': 27.6793, '06.08.2020': 27.7028, '05.08.2020': 27.8225, '04.08.2020': 27.7365, '03.08.2020': 27.6798, '02.08.2020': 27.6913, '01.08.2020': 27.6913, '31.07.2020': 27.6913, '30.07.2020': 27.6867, '29.07.2020': 27.6851, '28.07.2020': 27.7571, '27.07.2020': 27.7559, '26.07.2020': 27.8779, '25.07.2020': 27.8779, '24.07.2020': 27.8779, '23.07.2020': 27.7798, '22.07.2020': 27.6647, '21.07.2020': 27.6011, '20.07.2020': 27.3606, '19.07.2020': 27.2738, '18.07.2020': 27.2738, '17.07.2020': 27.2738, '16.07.2020': 27.119, '15.07.2020': 27.1436, '14.07.2020': 27.0883, '13.07.2020': 26.9505, '12.07.2020': 26.9335, '11.07.2020': 26.9335, '10.07.2020': 26.9335, '09.07.2020': 26.9514, '08.07.2020': 26.9309, '07.07.2020': 27.1269, '06.07.2020': 27.1716, '05.07.2020': 27.1801, '04.07.2020': 27.1801, '03.07.2020': 27.1801, '02.07.2020': 26.77, '01.07.2020': 26.6676, '30.06.2020': 26.6922, '29.06.2020': 26.7002, '28.06.2020': 26.7002, '27.06.2020': 26.7002, '26.06.2020': 26.7002, '25.06.2020': 26.6509, '24.06.2020': 26.6078, '23.06.2020': 26.6695, '22.06.2020': 26.7207, '21.06.2020': 26.7633, '20.06.2020': 26.7633, '19.06.2020': 26.7633, '18.06.2020': 26.776, '17.06.2020': 26.7424, '16.06.2020': 26.844, '15.06.2020': 26.7303, '14.06.2020': 26.5999, '13.06.2020': 26.5999, '12.06.2020': 26.5999, '11.06.2020': 26.6367, '10.06.2020': 26.6412, '09.06.2020': 26.6005, '08.06.2020': 26.6953, '07.06.2020': 26.6953, '06.06.2020': 26.6953, '05.06.2020': 26.6953, '04.06.2020': 26.7544, '03.06.2020': 26.7955, '02.06.2020': 26.8181, '01.06.2020': 26.8685, '31.05.2020': 26.9059, '30.05.2020': 26.9059, '29.05.2020': 26.9059, '28.05.2020': 27.0002, '27.05.2020': 26.9029, '26.05.2020': 26.8742, '25.05.2020': 26.7556, '24.05.2020': 26.7699, '23.05.2020': 26.7699, '22.05.2020': 26.7699, '21.05.2020': 26.5854, '20.05.2020': 26.5159, '19.05.2020': 26.571, '18.05.2020': 26.638, '17.05.2020': 26.6792, '16.05.2020': 26.6792, '15.05.2020': 26.6792, '14.05.2020': 26.6897, '13.05.2020': 26.7947, '12.05.2020': 26.8196, '11.05.2020': 26.8185, '10.05.2020': 26.8185, '09.05.2020': 26.8185, '08.05.2020': 26.8185, '07.05.2020': 26.9323, '06.05.2020': 26.9774, '05.05.2020': 26.9749, '04.05.2020': 26.9592, '03.05.2020': 26.9714, '02.05.2020': 26.9714, '01.05.2020': 26.9714, '30.04.2020': 26.9714, '29.04.2020': 27.0485, '28.04.2020': 27.1025, '27.04.2020': 27.1441, '26.04.2020': 27.0137, '25.04.2020': 27.0137, '24.04.2020': 27.0137, '23.04.2020': 27.0536, '22.04.2020': 27.0815, '21.04.2020': 27.0774, '20.04.2020': 27.2022, '19.04.2020': 27.2022, '18.04.2020': 27.2022, '17.04.2020': 27.2022, '16.04.2020': 27.2219, '15.04.2020': 27.0899, '14.04.2020': 27.0404, '13.04.2020': 27.2022, '12.04.2020': 27.2598, '11.04.2020': 27.2598, '10.04.2020': 27.2598, '09.04.2020': 27.1965, '08.04.2020': 27.0996, '07.04.2020': 27.2365, '06.04.2020': 27.373, '05.04.2020': 27.5962, '04.04.2020': 27.5962, '03.04.2020': 27.5962, '02.04.2020': 27.7538, '01.04.2020': 27.6289, '31.03.2020': 28.0615, '30.03.2020': 28.183, '29.03.2020': 28.1381, '28.03.2020': 28.1381, '27.03.2020': 28.1381, '26.03.2020': 27.9552, '25.03.2020': 27.7728, '24.03.2020': 28.1126, '23.03.2020': 27.7386, '22.03.2020': 27.8025, '21.03.2020': 27.8025, '20.03.2020': 27.8025, '19.03.2020': 27.2685, '18.03.2020': 27.0566, '17.03.2020': 26.5249, '16.03.2020': 26.089, '15.03.2020': 25.858, '14.03.2020': 25.858, '13.03.2020': 25.858, '12.03.2020': 25.624, '11.03.2020': 25.3135}\n",
      "Курс долара за рік по місяцям і рокам:  {'03.2021': [27.7016, 27.7431, 27.7091, 27.7564, 27.7564, 27.7564, 27.7564, 27.8477, 27.933, 28.0007, 27.9456], '02.2021': [27.9301, 27.9301, 27.9301, 27.9492, 27.8976, 27.9304, 27.8468, 27.8461, 27.8461, 27.8461, 27.9038, 27.8304, 27.9671, 27.844, 27.8384, 27.8384, 27.8384, 27.7665, 27.6426, 27.6651, 27.7711, 27.8885, 27.8885, 27.8885, 27.995, 28.0589, 28.0603, 28.1324], '01.2021': [28.1929, 28.1929, 28.1929, 28.1652, 28.1524, 28.1665, 28.1648, 28.2561, 28.2561, 28.2561, 28.2035, 28.1544, 28.1926, 28.0524, 28.0524, 28.0524, 28.0609, 27.9705, 28.046, 28.2038, 28.2847, 28.4028, 28.4028, 28.4028, 28.4028, 28.4028, 28.431, 28.2746, 28.2746, 28.2746, 28.2746], '12.2020': [28.2746, 28.2605, 28.3668, 28.3547, 28.4551, 28.4551, 28.4551, 28.4551, 28.2513, 28.0391, 27.828, 27.8184, 27.8184, 27.8184, 27.7373, 27.759, 27.8661, 27.9666, 28.075, 28.075, 28.075, 28.0406, 28.0828, 28.2394, 28.2913, 28.3038, 28.3038, 28.3038, 28.4367, 28.5583, 28.4962], '11.2020': [28.4681, 28.4428, 28.4428, 28.4428, 28.3816, 28.3741, 28.3694, 28.3553, 28.2572, 28.2572, 28.2572, 28.13, 28.1067, 28.112, 28.1158, 28.1963, 28.1963, 28.1963, 28.161, 28.1206, 28.1116, 28.1375, 28.3643, 28.3643, 28.3643, 28.5074, 28.6, 28.5827, 28.4507, 28.4383], '10.2020': [28.4383, 28.4383, 28.3989, 28.3655, 28.3352, 28.2911, 28.265, 28.265, 28.265, 28.2737, 28.3707, 28.3762, 28.3649, 28.3365, 28.3365, 28.3365, 28.3164, 28.2481, 28.2481, 28.2098, 28.2836, 28.2836, 28.2836, 28.324, 28.3639, 28.4009, 28.3408, 28.3343, 28.3343, 28.3343, 28.3105], '09.2020': [28.2989, 28.3062, 28.2673, 28.2487, 28.2487, 28.2487, 28.1874, 28.2059, 28.2022, 28.1718, 28.1127, 28.1127, 28.1127, 28.1195, 28.0556, 28.0003, 27.9003, 27.8346, 27.8346, 27.8346, 27.8296, 27.8032, 27.7509, 27.7325, 27.6908, 27.6908, 27.6908, 27.6428, 27.6049, 27.5618], '08.2020': [27.4759, 27.4615, 27.4615, 27.4615, 27.386, 27.4383, 27.3942, 27.4812, 27.4812, 27.4812, 27.4812, 27.316, 27.2297, 27.3061, 27.3474, 27.4083, 27.4083, 27.4083, 27.5266, 27.5982, 27.6007, 27.6486, 27.6793, 27.6793, 27.6793, 27.7028, 27.8225, 27.7365, 27.6798, 27.6913, 27.6913], '07.2020': [27.6913, 27.6867, 27.6851, 27.7571, 27.7559, 27.8779, 27.8779, 27.8779, 27.7798, 27.6647, 27.6011, 27.3606, 27.2738, 27.2738, 27.2738, 27.119, 27.1436, 27.0883, 26.9505, 26.9335, 26.9335, 26.9335, 26.9514, 26.9309, 27.1269, 27.1716, 27.1801, 27.1801, 27.1801, 26.77, 26.6676], '06.2020': [26.6922, 26.7002, 26.7002, 26.7002, 26.7002, 26.6509, 26.6078, 26.6695, 26.7207, 26.7633, 26.7633, 26.7633, 26.776, 26.7424, 26.844, 26.7303, 26.5999, 26.5999, 26.5999, 26.6367, 26.6412, 26.6005, 26.6953, 26.6953, 26.6953, 26.6953, 26.7544, 26.7955, 26.8181, 26.8685], '05.2020': [26.9059, 26.9059, 26.9059, 27.0002, 26.9029, 26.8742, 26.7556, 26.7699, 26.7699, 26.7699, 26.5854, 26.5159, 26.571, 26.638, 26.6792, 26.6792, 26.6792, 26.6897, 26.7947, 26.8196, 26.8185, 26.8185, 26.8185, 26.8185, 26.9323, 26.9774, 26.9749, 26.9592, 26.9714, 26.9714, 26.9714], '04.2020': [26.9714, 27.0485, 27.1025, 27.1441, 27.0137, 27.0137, 27.0137, 27.0536, 27.0815, 27.0774, 27.2022, 27.2022, 27.2022, 27.2022, 27.2219, 27.0899, 27.0404, 27.2022, 27.2598, 27.2598, 27.2598, 27.1965, 27.0996, 27.2365, 27.373, 27.5962, 27.5962, 27.5962, 27.7538, 27.6289], '03.2020': [28.0615, 28.183, 28.1381, 28.1381, 28.1381, 27.9552, 27.7728, 28.1126, 27.7386, 27.8025, 27.8025, 27.8025, 27.2685, 27.0566, 26.5249, 26.089, 25.858, 25.858, 25.858, 25.624, 25.3135]}\n",
      "Курс долара за рік:  [27.7016, 27.7431, 27.7091, 27.7564, 27.7564, 27.7564, 27.7564, 27.8477, 27.933, 28.0007, 27.9456, 27.9301, 27.9301, 27.9301, 27.9492, 27.8976, 27.9304, 27.8468, 27.8461, 27.8461, 27.8461, 27.9038, 27.8304, 27.9671, 27.844, 27.8384, 27.8384, 27.8384, 27.7665, 27.6426, 27.6651, 27.7711, 27.8885, 27.8885, 27.8885, 27.995, 28.0589, 28.0603, 28.1324, 28.1929, 28.1929, 28.1929, 28.1652, 28.1524, 28.1665, 28.1648, 28.2561, 28.2561, 28.2561, 28.2035, 28.1544, 28.1926, 28.0524, 28.0524, 28.0524, 28.0609, 27.9705, 28.046, 28.2038, 28.2847, 28.4028, 28.4028, 28.4028, 28.4028, 28.4028, 28.431, 28.2746, 28.2746, 28.2746, 28.2746, 28.2746, 28.2605, 28.3668, 28.3547, 28.4551, 28.4551, 28.4551, 28.4551, 28.2513, 28.0391, 27.828, 27.8184, 27.8184, 27.8184, 27.7373, 27.759, 27.8661, 27.9666, 28.075, 28.075, 28.075, 28.0406, 28.0828, 28.2394, 28.2913, 28.3038, 28.3038, 28.3038, 28.4367, 28.5583, 28.4962, 28.4681, 28.4428, 28.4428, 28.4428, 28.3816, 28.3741, 28.3694, 28.3553, 28.2572, 28.2572, 28.2572, 28.13, 28.1067, 28.112, 28.1158, 28.1963, 28.1963, 28.1963, 28.161, 28.1206, 28.1116, 28.1375, 28.3643, 28.3643, 28.3643, 28.5074, 28.6, 28.5827, 28.4507, 28.4383, 28.4383, 28.4383, 28.3989, 28.3655, 28.3352, 28.2911, 28.265, 28.265, 28.265, 28.2737, 28.3707, 28.3762, 28.3649, 28.3365, 28.3365, 28.3365, 28.3164, 28.2481, 28.2481, 28.2098, 28.2836, 28.2836, 28.2836, 28.324, 28.3639, 28.4009, 28.3408, 28.3343, 28.3343, 28.3343, 28.3105, 28.2989, 28.3062, 28.2673, 28.2487, 28.2487, 28.2487, 28.1874, 28.2059, 28.2022, 28.1718, 28.1127, 28.1127, 28.1127, 28.1195, 28.0556, 28.0003, 27.9003, 27.8346, 27.8346, 27.8346, 27.8296, 27.8032, 27.7509, 27.7325, 27.6908, 27.6908, 27.6908, 27.6428, 27.6049, 27.5618, 27.4759, 27.4615, 27.4615, 27.4615, 27.386, 27.4383, 27.3942, 27.4812, 27.4812, 27.4812, 27.4812, 27.316, 27.2297, 27.3061, 27.3474, 27.4083, 27.4083, 27.4083, 27.5266, 27.5982, 27.6007, 27.6486, 27.6793, 27.6793, 27.6793, 27.7028, 27.8225, 27.7365, 27.6798, 27.6913, 27.6913, 27.6913, 27.6867, 27.6851, 27.7571, 27.7559, 27.8779, 27.8779, 27.8779, 27.7798, 27.6647, 27.6011, 27.3606, 27.2738, 27.2738, 27.2738, 27.119, 27.1436, 27.0883, 26.9505, 26.9335, 26.9335, 26.9335, 26.9514, 26.9309, 27.1269, 27.1716, 27.1801, 27.1801, 27.1801, 26.77, 26.6676, 26.6922, 26.7002, 26.7002, 26.7002, 26.7002, 26.6509, 26.6078, 26.6695, 26.7207, 26.7633, 26.7633, 26.7633, 26.776, 26.7424, 26.844, 26.7303, 26.5999, 26.5999, 26.5999, 26.6367, 26.6412, 26.6005, 26.6953, 26.6953, 26.6953, 26.6953, 26.7544, 26.7955, 26.8181, 26.8685, 26.9059, 26.9059, 26.9059, 27.0002, 26.9029, 26.8742, 26.7556, 26.7699, 26.7699, 26.7699, 26.5854, 26.5159, 26.571, 26.638, 26.6792, 26.6792, 26.6792, 26.6897, 26.7947, 26.8196, 26.8185, 26.8185, 26.8185, 26.8185, 26.9323, 26.9774, 26.9749, 26.9592, 26.9714, 26.9714, 26.9714, 26.9714, 27.0485, 27.1025, 27.1441, 27.0137, 27.0137, 27.0137, 27.0536, 27.0815, 27.0774, 27.2022, 27.2022, 27.2022, 27.2022, 27.2219, 27.0899, 27.0404, 27.2022, 27.2598, 27.2598, 27.2598, 27.1965, 27.0996, 27.2365, 27.373, 27.5962, 27.5962, 27.5962, 27.7538, 27.6289, 28.0615, 28.183, 28.1381, 28.1381, 28.1381, 27.9552, 27.7728, 28.1126, 27.7386, 27.8025, 27.8025, 27.8025, 27.2685, 27.0566, 26.5249, 26.089, 25.858, 25.858, 25.858, 25.624, 25.3135]\n"
     ],
     "output_type":"stream"
    }
   ],
   "metadata":{
    "datalore":{
     "node_id":"WdresgTtVtRQq85dm6Lnfj",
     "type":"CODE",
     "hide_input_from_viewers":false,
     "hide_output_from_viewers":false,
     "report_properties":{
      "rowId":"oCT3yOeYYrXeuao67G43qS"
     }
    }
   }
  },
  {
   "cell_type":"markdown",
   "source":[
    "3. Вивести середнє значення та відхилення курсу за кожний місяць."
   ],
   "attachments":{
    
   },
   "metadata":{
    "datalore":{
     "node_id":"dHoy90aWj51ZIyCVTorH46",
     "type":"MD",
     "hide_input_from_viewers":false,
     "hide_output_from_viewers":false,
     "report_properties":{
      "rowId":"wUl5TW6JNj84RKeITAjXky"
     }
    }
   }
  },
  {
   "cell_type":"code",
   "source":[
    "def mean(list):\n",
    "    summ = 0\n",
    "    for value in list:\n",
    "        summ += value\n",
    "    return summ\/len(list)\n",
    "\n",
    "def standart_deviation(list):\n",
    "    m = mean(list)\n",
    "    summ = 0\n",
    "    for value in list:\n",
    "        summ = summ + (value - m)**2\n",
    "    return (summ\/len(list))**0.5\n",
    "\n",
    "def create_info_about_months(database = DB):\n",
    "    DB_info_about_month = {}\n",
    "    DB_only_month_year_rate = take_course(database=DB, what_you_need='only_month_year_rate')\n",
    "    for month in DB_only_month_year_rate.keys():\n",
    "\n",
    "        DB_info_about_month[month] = {\n",
    "            'mean':  mean(DB_only_month_year_rate[month]),\n",
    "            'st_dev': standart_deviation(DB_only_month_year_rate[month])\n",
    "        }\n",
    "        \n",
    "    return DB_info_about_month\n",
    "\n",
    "print(\"Інформація про кожен місяць: \", create_info_about_months())"
   ],
   "execution_count":3,
   "outputs":[
    {
     "name":"stdout",
     "text":[
      "Інформація про кожен місяць:  {'03.2021': {'mean': 27.80967272727273, 'st_dev': 0.0996365129395032}, '02.2021': {'mean': 27.88466071428572, 'st_dev': 0.10439519125243588}, '01.2021': {'mean': 28.21977096774193, 'st_dev': 0.12115058663084943}, '12.2020': {'mean': 28.169719354838726, 'st_dev': 0.24570683871868976}, '11.2020': {'mean': 28.310153333333332, 'st_dev': 0.14835098411837006}, '10.2020': {'mean': 28.324951612903224, 'st_dev': 0.054615157242512376}, '09.2020': {'mean': 27.976716666666665, 'st_dev': 0.23686450850409987}, '08.2020': {'mean': 27.521419354838706, 'st_dev': 0.14578470741375016}, '07.2020': {'mean': 27.31283870967742, 'st_dev': 0.3582872713677414}, '06.2020': {'mean': 26.707343333333327, 'st_dev': 0.07162276492537516}, '05.2020': {'mean': 26.814329032258065, 'st_dev': 0.1325143648781648}, '04.2020': {'mean': 27.224653333333332, 'st_dev': 0.20623525681986457}, '03.2020': {'mean': 27.19504761904762, 'st_dev': 0.9908945562177391}}\n"
     ],
     "output_type":"stream"
    }
   ],
   "metadata":{
    "datalore":{
     "node_id":"DLzJtMOZdha0qxVc3IYLQq",
     "type":"CODE",
     "hide_input_from_viewers":false,
     "hide_output_from_viewers":false,
     "report_properties":{
      "rowId":"D9wEiDHu3zcM2nwh152L4M"
     }
    }
   }
  },
  {
   "cell_type":"markdown",
   "source":[
    "4. Дану інформацію записати у файл за допомогою pickle."
   ],
   "attachments":{
    
   },
   "metadata":{
    "datalore":{
     "node_id":"fSI9QSeuoNdNWYutTxQ5js",
     "type":"MD",
     "hide_input_from_viewers":false,
     "hide_output_from_viewers":false,
     "report_properties":{
      "rowId":"CpXapWSTCJM7G11axHxjpV"
     }
    }
   }
  },
  {
   "cell_type":"code",
   "source":[
    "import pickle\n",
    "\n",
    "with open('result', 'wb') as file:\n",
    "    pickle.dump(create_info_about_months(), file)\n",
    "\n",
    "file.close()"
   ],
   "execution_count":4,
   "outputs":[
    
   ],
   "metadata":{
    "datalore":{
     "node_id":"OEPvNOMeY1nXniGbbzT9hI",
     "type":"CODE",
     "hide_input_from_viewers":false,
     "hide_output_from_viewers":false,
     "report_properties":{
      "rowId":"rni6bw0YxxGz5K6vdX2Fv3"
     }
    }
   }
  },
  {
   "cell_type":"markdown",
   "source":[
    "### Завдання 2:"
   ],
   "attachments":{
    
   },
   "metadata":{
    "datalore":{
     "node_id":"t0BQeapFDVFqoctLLF7erN",
     "type":"MD",
     "hide_input_from_viewers":false,
     "hide_output_from_viewers":false,
     "report_properties":{
      "rowId":"FGOSXS5CWGonySaUToCRFQ"
     }
    }
   }
  },
  {
   "cell_type":"markdown",
   "source":[
    "Потрібно проаналізувати всі товари на сайті: \n",
    "https:\/\/smallpacking.agrosem.ua\/shop\/"
   ],
   "attachments":{
    
   },
   "metadata":{
    "datalore":{
     "node_id":"enC5pxF38tEXz6so1LJa8X",
     "type":"MD",
     "hide_input_from_viewers":false,
     "hide_output_from_viewers":false,
     "report_properties":{
      "rowId":"XQYWFYN1Poyggsj42NRHrp"
     }
    }
   }
  },
  {
   "cell_type":"markdown",
   "source":[
    "Створіть базу даних, що містить таблицю із такими стовбцями: \n",
    "    - артикул товару\n",
    "    - найменування\n",
    "    - ціна \n",
    "    - вага"
   ],
   "attachments":{
    
   },
   "metadata":{
    "datalore":{
     "node_id":"STMLDn4FQl5tENgAVaDgmo",
     "type":"MD",
     "hide_input_from_viewers":false,
     "hide_output_from_viewers":false,
     "report_properties":{
      "rowId":"jgGz7EJkk6qQL4YZnOUavs"
     }
    }
   }
  },
  {
   "cell_type":"code",
   "source":[
    "import requests\n",
    "from bs4 import BeautifulSoup\n",
    "import sqlite3\n",
    "\n",
    "\n",
    "URL_AGROSEM = 'https:\/\/smallpacking.agrosem.ua\/products\/'\n",
    "\n",
    "request_headers = {\n",
    "    'authority': 'www.google.com',\n",
    "    'cache-control': 'max-age=0',\n",
    "    'sec-ch-ua': '\"Google Chrome\";v=\"87\", \" Not;A Brand\";v=\"99\", \"Chromium\";v=\"87\"',\n",
    "    'sec-ch-ua-mobile': '?0',\n",
    "    'upgrade-insecure-requests': '1',\n",
    "    'user-agent': 'Mozilla\/5.0 (Windows NT 10.0; Win64; x64) AppleWebKit\/537.36 (KHTML, like Gecko) Chrome\/87.0.4280.88 Safari\/537.36',\n",
    "    'accept': 'text\/html,application\/xhtml+xml,application\/xml;q=0.9,image\/avif,image\/webp,image\/apng,*\/*;q=0.8,application\/signed-exchange;v=b3;q=0.9',\n",
    "    'x-client-data': 'CIu2yQEIorbJAQjBtskBCKmdygEIrMfKAQj4x8oBCKPNygEI3NXKAQin+csB',\n",
    "    'sec-fetch-site': 'same-origin',\n",
    "    'sec-fetch-mode': 'navigate',\n",
    "    'sec-fetch-user': '?1',\n",
    "    'sec-fetch-dest': 'document',\n",
    "    'accept-language': 'uk',\n",
    "    'Cookie': 'PHPSESSID=qdlhab2dm6pheh8ugpgfp1m9dd' #Should be replaced from active session's cookies\n",
    "}\n",
    "\n",
    "conn = sqlite3.connect('store.db')\n",
    "cur = conn.cursor()\n",
    "        \n",
    "def working_with_all_page():\n",
    "    create_db()\n",
    "\n",
    "    for i in range(1, 11):\n",
    "        response_agrosem = requests.get(url=URL_AGROSEM + '?page=' + str(i) + \"\", headers=request_headers)\n",
    "        soup = BeautifulSoup(response_agrosem.text, 'lxml')\n",
    "        working_with_one_page(soup)\n",
    "\n",
    "    show_db()\n",
    "\n",
    "def working_with_one_page(soup):\n",
    "      for item in soup.findAll('div', class_ = 'item'):\n",
    "        art = get_art(item)  #find id\n",
    "        name = get_name(item) #find name \n",
    "        weight = get_weight(item) #find weight \n",
    "        price = get_price(item) #find price\n",
    "        \n",
    "        if 'кг' not in weight and 'мл' not in weight and 'л' not in weight: #some product doesnt have weight\n",
    "            name, weight = name+weight, ''\n",
    "        \n",
    "        insert_in_db(art, name, weight, price)\n",
    "        \n",
    "def get_art(item):\n",
    "    art = item.find('div', class_= 'info').find('a')['href']  #find id\n",
    "    art = art.split(\"\/\")[-1]\n",
    "    return art\n",
    "\n",
    "def get_name(item):\n",
    "    name_and_weight = item.find('div', class_= 'info').find('a').string #find a line with name and weight\n",
    "    list_name = name_and_weight.split()[0:-2:1]\n",
    "    name = \"\".join(i+\" \" for i in list_name)[:-1] #create the line\n",
    "    return name\n",
    "\n",
    "def get_weight(item):\n",
    "    name_and_weight = item.find('div', class_= 'info').find('a').string\n",
    "    list_weight = name_and_weight.split()[-2::1]\n",
    "    weight = \"\".join(i+\" \" for i in list_weight)[:-1]\n",
    "    return weight\n",
    "\n",
    "def get_price(item):\n",
    "    price = item.find('div', class_ = 'order').find('p', class_ = 'price').string[:-2]\n",
    "    return price.replace(' ', '')\n",
    "\n",
    "def insert_in_db(art, name, weight, price):\n",
    "    sql = f\"\"\"\n",
    "    INSERT INTO product(Article, Name, Weight, Price)\n",
    "    VALUES ({art}, '{name}', '{weight}', '{price}');\n",
    "    \"\"\"\n",
    "    cur.execute(sql)\n",
    "\n",
    "def create_db():\n",
    "    sql = \"\"\"\n",
    "    CREATE TABLE IF NOT EXISTS product(\n",
    "    Id integer PRIMARY KEY AUTOINCREMENT,\n",
    "\tArticle integer NOT NULL,\n",
    "    Name text NOT NULL,\n",
    "    Weight text NOT NULL,\n",
    "   \tPrice real NOT NULL\n",
    "    );\n",
    "    \"\"\"\n",
    "    cur.execute(sql)\n",
    "\n",
    "def show_db():\n",
    "    sql = \"\"\"\n",
    "    SELECT *\n",
    "    FROM product\n",
    "    \"\"\"\n",
    "    cur.execute(sql)\n",
    "    for u in cur.fetchall():\n",
    "        print(u)\n",
    "\n",
    "\n",
    "working_with_all_page()\n",
    "conn.close()"
   ],
   "execution_count":5,
   "outputs":[
    {
     "name":"stdout",
     "text":[
      "(1, 1542, 'ДОБРИВО ДЛЯ ВІЧНОЗЕЛЕНИХ ДЕРЕВ ТА КУЩІВ ОСІНЬ', '3 кг', 799.0)\n",
      "(2, 1523, 'ДОБРИВО ДЛЯ ВІЧНОЗЕЛЕНИХ ДЕРЕВ ТА КУЩІВ ОСІНЬ', '10 кг', 2299.0)\n",
      "(3, 1525, 'ДОБРИВО УНІВЕРСАЛЬНЕ ГРУНТОВЕ ОСІНЬ', '1 кг', 348.0)\n",
      "(4, 1528, 'ДОБРИВО ДЛЯ ГАЗОНУ ОСІНЬ', '1 кг', 348.0)\n",
      "(5, 1536, 'ДОБРИВО ДЛЯ ГАЗОНУ ОСІНЬ', '10 кг', 2299.0)\n",
      "(6, 1608, 'ДОБРИВО ДЛЯ САМШИТУ ТА ВІЧНОЗЕЛЕНИХ ЧАГАРНИКІВ, Yara Folicare180 г', '', 119.0)\n",
      "(7, 1610, 'ДОБРИВО ДЛЯ ХВОЙНИХ РОСЛИН, Yara Folicare180 г', '', 169.0)\n",
      "(8, 1537, 'ДОБРИВО ДЛЯ ДЕКОРАТИВНИХ ЛИСТОВИХ ВЕСНА-ЛІТО', '3 кг', 799.0)\n",
      "(9, 1538, 'ДОБРИВО ДЛЯ ВІЧНОЗЕЛЕНИХ ДЕРЕВ ТА КУЩІВ ВЕСНА-ЛІТО', '10 кг', 2299.0)\n",
      "(10, 1539, 'ДОБРИВО ДЛЯ ДЕКОРАТИВНИХ ЛИСТОВИХ ВЕСНА-ЛІТО', '1 кг', 348.0)\n",
      "(11, 1540, 'ДОБРИВО ДЛЯ ОВОЧІВ', '3 кг', 799.0)\n",
      "(12, 1541, 'ДОБРИВО ДЛЯ ВИНОГРАДУ', '1 кг', 348.0)\n",
      "(13, 1543, 'ДОБРИВО ДЛЯ ГАЗОНУ ВЕСНА-ЛІТО', '1 кг', 348.0)\n",
      "(14, 1544, 'ДОБРИВО ДЛЯ ОВОЧІВ', '1 кг', 348.0)\n",
      "(15, 1545, 'ДОБРИВО ДЛЯ РОЗСАДИ', '1 кг', 348.0)\n",
      "(16, 1546, 'ДОБРИВО ДЛЯ ТЕПЛИЧНИХ ОВОЧІВ', '3 кг', 799.0)\n",
      "(17, 1547, 'ДОБРИВО ДЛЯ ТРОЯНД', '1 кг', 348.0)\n",
      "(18, 1548, 'ДОБРИВО ДЛЯ ВІЧНОЗЕЛЕНИХ ДЕРЕВ ТА КУЩІВ ВЕСНА-ЛІТО', '1 кг', 348.0)\n",
      "(19, 1549, 'ДОБРИВО ДЛЯ ГАЗОНУ ВЕСНА-ЛІТО', '10 кг', 2299.0)\n",
      "(20, 1550, 'ДОБРИВО ДЛЯ ТЕПЛИЧНИХ ОВОЧІВ', '1 кг', 348.0)\n",
      "(21, 1551, 'PULAN 34.4', '', 17800.0)\n",
      "(22, 1554, 'SALETRZAK27 MACRO', '', 4850.0)\n",
      "(23, 1555, 'SIARCZAN AS21 MACRO', '', 11790.0)\n",
      "(24, 1556, 'YARABELA СУЛЬФАН', '', 26680.0)\n",
      "(25, 1557, 'YARAMILA NP20-20 +9,0SO3', '', 29320.0)\n",
      "(26, 1558, 'YARAMILANPK 12-24-12', '', 33160.0)\n",
      "(27, 1559, 'YARAMILANPK 16-16-16', '', 30250.0)\n",
      "(28, 1560, 'YARAMILANPK 16-27-7', '', 33910.0)\n",
      "(29, 1562, 'YARAMILANPK 7-20-28', '', 33160.0)\n",
      "(30, 1563, 'YARAMILANPK 8-24-24', '', 34920.0)\n",
      "(31, 1564, 'YARAMILA NPK 9-12-25 + 2MGO + 6,5SO3+ MICRO', '', 28470.0)\n",
      "(32, 1565, 'СУЛЬФАТМАГНІЮ ГРАНУЛЬОВАНИЙ', '', 24880.0)\n",
      "(33, 1566, 'FERTICARE HYDRO 6-14-30+ MICRO', '', 3750.0)\n",
      "(34, 1567, 'FERTICARE KOMBI 14-11-25+ MICRO', '', 3450.0)\n",
      "(35, 1568, 'YARATERA SOP(СУЛЬФАТ КАЛІЮ)', '', 1995.0)\n",
      "(36, 1569, 'YARATERA КRISTA MAG(НІТРАТ МАГНІЮ)', '', 1630.0)\n",
      "(37, 1570, 'YaraTera КRISTA К(НІТРАТ КАЛІЮ)', '', 2840.0)\n",
      "(38, 1571, 'YaraTera КRISTA МАР(МОНОАМОНІЙ ФОСФАТ)', '', 3510.0)\n",
      "(39, 1572, 'YaraTera КRISTA МКР(МОНОКАЛІЙ ФОСФАТ)', '', 3990.0)\n",
      "(40, 1573, 'СУЛЬФАТМАГНІЮ (СЕМИВОДНЕВИЙ)', '', 807.0)\n",
      "(41, 1574, 'ЯРА (FOLICARE)NPK 10-5-40+MICRO', '', 3820.0)\n",
      "(42, 1575, 'ЯРА (FOLICARE)NPK 12-0-38', '', 3180.0)\n",
      "(43, 1576, 'ЯРА (FOLICARE)NPK 12-46-8+MICRO', '', 4450.0)\n",
      "(44, 1577, 'ЯРА (FOLICARE)NPK 18-18-18+MICRO', '', 3960.0)\n",
      "(45, 1578, 'ЯРА (FOLICARE)NPK 22-5-22+MICRO', '', 3580.0)\n",
      "(46, 1579, 'ЯРАFERTICARE TOMATO', '', 3450.0)\n",
      "(47, 1580, 'ЯРАFERTICARE ОВОЧІ', '', 3510.0)\n",
      "(48, 1581, 'YARAVITAФОСАМКО БІО', '', 2770.0)\n",
      "(49, 1583, 'ДОБРИВО НА ОСНОВІ ВИТЯЖКИ МОРСЬКИХ ВОДОРОСТЕЙ YaraVITA,', '1 л', 574.0)\n",
      "(50, 1584, 'YARAVITAТЕПРОСИН NP+ZN', '', 5060.0)\n",
      "(51, 1586, 'YARAVITA БОРТРАК', '', 2560.0)\n",
      "(52, 1587, 'YARAVITAБРАСІТРЕЛ ПРО', '', 3670.0)\n",
      "(53, 1588, 'YARAVITA ГРАМІТРЕЛ', '', 3630.0)\n",
      "(54, 1589, 'YARAVITA КОМБІФОС', '', 4070.0)\n",
      "(55, 1590, 'YARAVITA МАНКОЦИН', '', 2330.0)\n",
      "(56, 1591, 'YARAVITAМАНТРАК ПРО', '', 2350.0)\n",
      "(57, 1592, 'YARAVITAМАЇЗ БУСТ', '', 4890.0)\n",
      "(58, 1593, 'YARAVITA МОЛІТРАК', '', 10970.0)\n",
      "(59, 1594, 'YARAVITA ТІОТРАК', '', 2280.0)\n",
      "(60, 1596, 'YARAVITA ЦИНТРАК', '', 3060.0)\n",
      "(61, 1597, 'ДОБРИВО ДЛЯ АЗАЛІЙ ТА РОДОДЕНДРОНІВ, Yara Folicare180 г', '', 169.0)\n",
      "(62, 1598, 'ДОБРИВО ДЛЯ ВИНОГРАДУ, Yara Folicare180 г', '', 169.0)\n",
      "(63, 1599, 'ДОБРИВО ДЛЯ ДЕКОРАТИВНО-ЛИСТЯНИХ КІМНАТНИХ РОСЛИН, Yara Folicare180 г', '', 169.0)\n",
      "(64, 1600, 'ДОБРИВО ДЛЯ КВІТУЧИХ КІМНАТНИХ РОСЛИН, Yara Folicare180 г', '', 169.0)\n",
      "(65, 1601, 'ДОБРИВО ДЛЯ ЛОХИНИ ТА ЧОРНИЦІ, Yara Folicare180 г', '', 169.0)\n",
      "(66, 1602, 'ДОБРИВО ДЛЯ МАГНОЛІЙ, ГОРТЕНЗІЙ, Yara Folicare180 г', '', 169.0)\n",
      "(67, 1603, 'ДОБРИВО ДЛЯ ОВОЧІВ ТА ЗЕЛЕНІ, Yara Folicare180 г', '', 169.0)\n",
      "(68, 1604, 'ДОБРИВО ДЛЯ ОРХІДЕЙ, Yara Folicare180 г', '', 169.0)\n",
      "(69, 1605, 'ДОБРИВО ДЛЯ ПЕТУНІЙ ТА СУРФІНІЙ, Yara Folicare180 г', '', 169.0)\n",
      "(70, 1606, 'ДОБРИВО ДЛЯ ПЛОДОВО-ЯГІДНИХ КУЛЬТУР, Yara Folicare180 г', '', 169.0)\n",
      "(71, 1607, 'ДОБРИВО ДЛЯ САДУ ТА ГОРОДУ, Yara Folicare180 г', '', 169.0)\n",
      "(72, 1609, 'ДОБРИВО ДЛЯ ТРОЯНД ТА КВІТУЧИХ РОСЛИН, Yara Folicare180 г', '', 169.0)\n",
      "(73, 1611, 'YARAIRIX', '', 24000.0)\n",
      "(74, 1612, 'YARAVITA BIOMARIS', '', 7010.0)\n",
      "(75, 1614, 'YARAVITA БІОТРАК', '', 5990.0)\n",
      "(76, 1617, 'ДОБРИВО ДЛЯ ГАЗОНУ ВЕСНА-ЛІТО', '3 кг', 3900.0)\n",
      "(77, 1618, 'ДОБРИВО ДЛЯ ГАЗОНУ ОСІНЬ', '10 кг', 3900.0)\n",
      "(78, 1621, 'ДОБРИВО НА ОСНОВІ ВИТЯЖКИ МОРСЬКИХ ВОДОРОСТЕЙ YaraVITA,', '0,5 л', 55.0)\n",
      "(79, 1624, 'ДОБРИВО НА ОСНОВІ ВИТЯЖКИ МОРСЬКИХ ВОДОРОСТЕЙ YaraVITA,', '0,5 л', 339.0)\n",
      "(80, 1625, 'БІОСТИМУЛЯТОР РОСТУ. ТРОЯНДИ', '20 мл', 60.0)\n",
      "(81, 1626, 'ВІДНОВЛЕННЯ ТА АКТИВІЗАЦІЯ РОСТУ ОВОЧЕВИХ ТА ФРУКТОВИХ РОСЛИН', '20 мл', 60.0)\n",
      "(82, 1627, 'БІОСТИМУЛЯТОР РОСТУ ДЛЯ ЛОХИНИ ТА ЯГІДНИХ КУЩІВ', '20 мл', 60.0)\n",
      "(83, 1628, 'ГАЗОН. ЗАХИСТ ВІД ПОЖОВТІННЯ', '20 мл', 90.0)\n",
      "(84, 1629, 'РЯСНЕ ЦВІТІННЯ ТА ПЛОДОНОШЕННЯ. ОВОЧІ, ФРУКТИ ТА ЯГОДИ', '25 мл', 80.0)\n",
      "(85, 1630, 'РЯСНЕ ЦВІТІННЯ. ГОРТЕНЗІЯ ТА МАГНОЛІЯ', '20 мл', 60.0)\n",
      "(86, 1631, 'СИЛЬНИЙ КОРІНЬ. СТАРТ. ОВОЧІ ТА ЗЕЛЕНЬ', '25 мл', 80.0)\n",
      "(87, 1632, 'УРОЖАЙНА КАРТОПЛЯ ТА КОРЕНЕПЛОДИ', '25 мл', 80.0)\n",
      "(88, 1633, 'ЯСКРАВА ХВОЯ. ЗАХИСТ ТА РОЗВИТОК', '20 мл', 90.0)\n",
      "(89, 1634, 'Монокалій фосфат 0-52-34Nova Peak', '', 3880.0)\n",
      "(90, 1509, 'YARALIVA КАЛЬЦИНІТ', '', 1380.0)\n",
      "(91, 1510, 'YARALIVA НІТРАБОР', '', 1390.0)\n",
      "(92, 1511, 'YARAMILACOMPLEX 12-11-18', '', 1900.0)\n",
      "(93, 1512, 'YARAMILACROPCARE 11-11-21', '', 1900.0)\n",
      "(94, 1513, 'YARATERA REXOLIN ABC(КОМПЛЕКС МІКРОЕЛЕМЕНТІВ)', '', 3350.0)\n",
      "(95, 1514, 'YARATERA REXOLIN D12(ХЕЛАТ ЗАЛІЗА)', '', 3150.0)\n",
      "(96, 1515, 'СУЛЬФАТ МАГНІЮ ЯРАKRISTA MGS', '', 1015.0)\n",
      "(97, 1516, 'ДОБРИВО ДЛЯ ФРУКТОВИХ ТА ГОРІХОВИХ ДЕРЕВ', '3 кг', 799.0)\n",
      "(98, 1517, 'ДОБРИВО ДЛЯ ЯГІДНИХ ЧАГАРНИКІВ', '3 кг', 799.0)\n",
      "(99, 1518, 'ДОБРИВО ДЛЯ ЯГІДНИХ ЧАГАРНИКІВ', '1 кг', 348.0)\n",
      "(100, 1519, 'ДОБРИВО УНІВЕРСАЛЬНЕ ГРУНТОВЕ', '1 кг', 348.0)\n",
      "(101, 1520, 'ДОБРИВО УНІВЕРСАЛЬНЕ ГРУНТОВЕ', '3 кг', 799.0)\n",
      "(102, 1521, 'ДОБРИВО УНІВЕРСАЛЬНЕ ГРУНТОВЕ', '10 кг', 2299.0)\n",
      "(103, 1522, 'ДОБРИВО ДЛЯ ДЕКОРАТИВНИХ ЛИСТОВИХ ОСІНЬ', '3 кг', 799.0)\n",
      "(104, 1524, 'ДОБРИВО УНІВЕРСАЛЬНЕ ГРУНТОВЕ ОСІНЬ', '3 кг', 799.0)\n",
      "(105, 1526, 'ДОБРИВО ДЛЯ ГАЗОНУ ОСІНЬ', '3 кг', 799.0)\n",
      "(106, 1527, 'ДОБРИВО ДЛЯ ВІЧНОЗЕЛЕНИХ ДЕРЕВ ТА КУЩІВ ОСІНЬ', '1 кг', 348.0)\n",
      "(107, 1529, 'ДОБРИВО ДЛЯ ДЕКОРАТИВНИХ ЛИСТОВИХ ОСІНЬ', '1 кг', 348.0)\n",
      "(108, 1530, 'ДОБРИВО УНІВЕРСАЛЬНЕ ГРУНТОВЕ ОСІНЬ', '10 кг', 2299.0)\n",
      "(109, 1531, 'ДОБРИВО ДЛЯ ГАЗОНУ ВЕСНА-ЛІТО', '3 кг', 799.0)\n",
      "(110, 1532, 'ДОБРИВО ДЛЯ ПОЛУНИЦІ', '1 кг', 348.0)\n",
      "(111, 1533, 'ДОБРИВО ДЛЯ ВІЧНОЗЕЛЕНИХ ДЕРЕВ ТА КУЩІВ ВЕСНА-ЛІТО', '3 кг', 799.0)\n",
      "(112, 1535, 'ДОБРИВО ДЛЯ ФРУКТОВИХ ТА ГОРІХОВИХ ДЕРЕВ', '1 кг', 348.0)\n"
     ],
     "output_type":"stream"
    }
   ],
   "metadata":{
    "datalore":{
     "node_id":"7j1TjnN2CiPj6jWLzl3Nf1",
     "type":"CODE",
     "hide_input_from_viewers":false,
     "hide_output_from_viewers":false,
     "report_properties":{
      "rowId":"shUxfZlrufWmN8pRE7SEUf"
     }
    }
   }
  },
  {
   "cell_type":"markdown",
   "source":[
    "### Завдання 3: "
   ],
   "attachments":{
    
   },
   "metadata":{
    "datalore":{
     "node_id":"ydaddVyOwZK7UgJVPZhDDX",
     "type":"MD",
     "hide_input_from_viewers":false,
     "hide_output_from_viewers":false,
     "report_properties":{
      "rowId":"Jb5mtWozoKaEilXBwfLj80"
     }
    }
   }
  },
  {
   "cell_type":"markdown",
   "source":[
    "Ознайомтеся із роботою SQLite та відповідним модулем у Python.\n",
    "Завантажте базу даних для виконання лабораторної роботи.\n",
    "Підключіться до завантаженої бази SQLite."
   ],
   "attachments":{
    
   },
   "metadata":{
    "datalore":{
     "node_id":"9BytyMuK63McjtoWhjnzcW",
     "type":"MD",
     "hide_input_from_viewers":false,
     "hide_output_from_viewers":false,
     "report_properties":{
      "rowId":"5HGMZ5JxsMZBkUMx8vZqEy"
     }
    }
   }
  },
  {
   "cell_type":"markdown",
   "source":[
    "1. Виведіть інформацію про дану базу."
   ],
   "attachments":{
    
   },
   "metadata":{
    "datalore":{
     "node_id":"wx2ssmrFv7Pa0MH9BEdiXY",
     "type":"MD",
     "hide_input_from_viewers":false,
     "hide_output_from_viewers":false,
     "report_properties":{
      "rowId":"sLzjpZvwvKGW3cExHxgwto"
     }
    }
   }
  },
  {
   "cell_type":"code",
   "source":[
    "import sqlite3\n",
    "\n",
    "con = sqlite3.connect('tysql.sqlite')\n",
    "cur = con.cursor()\n",
    "\n",
    "sql = \"\"\"\n",
    "PRAGMA database_list\n",
    "\"\"\"\n",
    "cur.execute(sql)\n",
    "for u in cur.fetchall():\n",
    "    print(u)"
   ],
   "execution_count":8,
   "outputs":[
    {
     "name":"stdout",
     "text":[
      "(0, 'main', '\/data\/notebook_files\/tysql.sqlite')\n"
     ],
     "output_type":"stream"
    }
   ],
   "metadata":{
    "datalore":{
     "node_id":"wJohY6b9SELVCGvzAt0LjQ",
     "type":"CODE",
     "hide_input_from_viewers":false,
     "hide_output_from_viewers":false,
     "report_properties":{
      "rowId":"XCvrP9NZndpY66XVLTJdoS"
     }
    }
   }
  },
  {
   "cell_type":"markdown",
   "source":[
    "2. Виведіть перелік всіх таблиць."
   ],
   "attachments":{
    
   },
   "metadata":{
    "datalore":{
     "node_id":"J0wpsMP8jN0IpMa6WB88CI",
     "type":"MD",
     "hide_input_from_viewers":false,
     "hide_output_from_viewers":false,
     "report_properties":{
      "rowId":"b14QRZhXsfFMf9Tloc82yJ"
     }
    }
   }
  },
  {
   "cell_type":"code",
   "source":[
    "sql = \"\"\"\n",
    "SELECT tbl_name \n",
    "FROM sqlite_master \n",
    "WHERE type = 'table'\n",
    "\"\"\"\n",
    "cur.execute(sql)\n",
    "for u in cur.fetchall():\n",
    "    print(u)"
   ],
   "execution_count":9,
   "outputs":[
    {
     "name":"stdout",
     "text":[
      "('Customers',)\n",
      "('OrderItems',)\n",
      "('Orders',)\n",
      "('Products',)\n",
      "('Vendors',)\n"
     ],
     "output_type":"stream"
    }
   ],
   "metadata":{
    "datalore":{
     "node_id":"Jrdnc6t0qt68oR2dl7Klx8",
     "type":"CODE",
     "hide_input_from_viewers":false,
     "hide_output_from_viewers":false,
     "report_properties":{
      "rowId":"6Gw316sjsGwCnJ4SO7zElV"
     }
    }
   }
  },
  {
   "cell_type":"markdown",
   "source":[
    "3. Список всіх cust_id з таблиці Customers table."
   ],
   "attachments":{
    
   },
   "metadata":{
    "datalore":{
     "node_id":"ODRUetL52DIKCk0O6t5BJE",
     "type":"MD",
     "hide_input_from_viewers":false,
     "hide_output_from_viewers":false,
     "report_properties":{
      "rowId":"4psIUVHC49tPc450QG0MJb"
     }
    }
   }
  },
  {
   "cell_type":"code",
   "source":[
    "sql = \"\"\"\n",
    "SELECT cust_id \n",
    "FROM Customers\n",
    "\"\"\"\n",
    "cur.execute(sql)\n",
    "for u in cur.fetchall():\n",
    "    print(u)"
   ],
   "execution_count":10,
   "outputs":[
    {
     "name":"stdout",
     "text":[
      "('1000000001',)\n",
      "('1000000002',)\n",
      "('1000000003',)\n",
      "('1000000004',)\n",
      "('1000000005',)\n"
     ],
     "output_type":"stream"
    }
   ],
   "metadata":{
    "datalore":{
     "node_id":"vE9I9x6v0xeRQYyvIhyi3w",
     "type":"CODE",
     "hide_input_from_viewers":false,
     "hide_output_from_viewers":false,
     "report_properties":{
      "rowId":"Nu4v0sQAmq5UKNZ4sU3NYR"
     }
    }
   }
  },
  {
   "cell_type":"markdown",
   "source":[
    "4. Всю таблицю Customers table"
   ],
   "attachments":{
    
   },
   "metadata":{
    "datalore":{
     "node_id":"vo3iYjgDfrgWXStdBDlAsX",
     "type":"MD",
     "hide_input_from_viewers":false,
     "hide_output_from_viewers":false,
     "report_properties":{
      "rowId":"NH3T9ewophCTkNarZKEiiX"
     }
    }
   }
  },
  {
   "cell_type":"code",
   "source":[
    "sql = \"\"\"\n",
    "SELECT *\n",
    "FROM Customers\n",
    "\"\"\"\n",
    "cur.execute(sql)\n",
    "for u in cur.fetchall():\n",
    "    print(u)"
   ],
   "execution_count":11,
   "outputs":[
    {
     "name":"stdout",
     "text":[
      "('1000000001', 'Village Toys', '200 Maple Lane', 'Detroit', 'MI', '44444', 'USA', 'John Smith', 'sales@villagetoys.com')\n",
      "('1000000002', 'Kids Place', '333 South Lake Drive', 'Columbus', 'OH', '43333', 'USA', 'Michelle Green', None)\n",
      "('1000000003', 'Fun4All', '1 Sunny Place', 'Muncie', 'IN', '42222', 'USA', 'Jim Jones', 'jjones@fun4all.com')\n",
      "('1000000004', 'Fun4All', '829 Riverside Drive', 'Phoenix', 'AZ', '88888', 'USA', 'Denise L. Stephens', 'dstephens@fun4all.com')\n",
      "('1000000005', 'The Toy Store', '4545 53rd Street', 'Chicago', 'IL', '54545', 'USA', 'Kim Howard', None)\n"
     ],
     "output_type":"stream"
    }
   ],
   "metadata":{
    "datalore":{
     "node_id":"NrDM0w5bl3lyRYLV9ykD4N",
     "type":"CODE",
     "hide_input_from_viewers":false,
     "hide_output_from_viewers":false,
     "report_properties":{
      "rowId":"iQ8kxWuD0ekiofFMrmEEHp"
     }
    }
   }
  },
  {
   "cell_type":"markdown",
   "source":[
    "5. Список клієнтів (cust_names) відсортованих від Z до A"
   ],
   "attachments":{
    
   },
   "metadata":{
    "datalore":{
     "node_id":"VhYyh5p1UcTf4lQQ9wfjuw",
     "type":"MD",
     "hide_input_from_viewers":false,
     "hide_output_from_viewers":false,
     "report_properties":{
      "rowId":"rTOHNAdSEXeyjBM8ALIB2B"
     }
    }
   }
  },
  {
   "cell_type":"code",
   "source":[
    "sql = \"\"\"\n",
    "SELECT cust_name\n",
    "FROM Customers\n",
    "ORDER BY cust_name DESC\n",
    "\"\"\"\n",
    "cur.execute(sql)\n",
    "for u in cur.fetchall():\n",
    "    print(u)"
   ],
   "execution_count":12,
   "outputs":[
    {
     "name":"stdout",
     "text":[
      "('Village Toys',)\n",
      "('The Toy Store',)\n",
      "('Kids Place',)\n",
      "('Fun4All',)\n",
      "('Fun4All',)\n"
     ],
     "output_type":"stream"
    }
   ],
   "metadata":{
    "datalore":{
     "node_id":"Z9Ya8G5FdCv8Sxvan161YX",
     "type":"CODE",
     "hide_input_from_viewers":false,
     "hide_output_from_viewers":false,
     "report_properties":{
      "rowId":"oTTQqvMaEC2j3d5EGM03Wi"
     }
    }
   }
  },
  {
   "cell_type":"markdown",
   "source":[
    "6. Таблицю клієнтів та замовлень (cust_id і order_num) . Відсортуйте по клієнту і потім по даті замовлення"
   ],
   "attachments":{
    
   },
   "metadata":{
    "datalore":{
     "node_id":"HDQMJRfTbAQW5CExidktiX",
     "type":"MD",
     "hide_input_from_viewers":false,
     "hide_output_from_viewers":false,
     "report_properties":{
      "rowId":"KBAIHq5ukAsjqceP6ndZ13"
     }
    }
   }
  },
  {
   "cell_type":"code",
   "source":[
    "sql = \"\"\"\n",
    "SELECT cust_id, order_num\n",
    "FROM Orders \n",
    "ORDER BY cust_id, order_date \n",
    "\"\"\"\n",
    "cur.execute(sql)\n",
    "for u in cur.fetchall():\n",
    "    print(u)"
   ],
   "execution_count":13,
   "outputs":[
    {
     "name":"stdout",
     "text":[
      "('1000000001', 20009)\n",
      "('1000000001', 20005)\n",
      "('1000000003', 20006)\n",
      "('1000000004', 20007)\n",
      "('1000000005', 20008)\n"
     ],
     "output_type":"stream"
    }
   ],
   "metadata":{
    "datalore":{
     "node_id":"AsmEyRO65tKQpRXBgEEEQw",
     "type":"CODE",
     "hide_input_from_viewers":false,
     "hide_output_from_viewers":false,
     "report_properties":{
      "rowId":"VjpVxjkMDCTfmkNHzxYmK0"
     }
    }
   }
  },
  {
   "cell_type":"markdown",
   "source":[
    "7. Таблицю (на основі Items) з кількість та вартістю товару. Відсортуйте в порядку спадання по кількості та вартості"
   ],
   "attachments":{
    
   },
   "metadata":{
    "datalore":{
     "node_id":"hOX9pflQYXahUwQPtLAn2F",
     "type":"MD",
     "hide_input_from_viewers":false,
     "hide_output_from_viewers":false,
     "report_properties":{
      "rowId":"mmWZzYZm7xIAbYziimIAKk"
     }
    }
   }
  },
  {
   "cell_type":"code",
   "source":[
    "sql = \"\"\"\n",
    "SELECT order_num, quantity, item_price\n",
    "FROM OrderItems \n",
    "ORDER BY quantity DESC, item_price DESC\n",
    "\"\"\"\n",
    "cur.execute(sql)\n",
    "for u in cur.fetchall():\n",
    "    print(u)"
   ],
   "execution_count":14,
   "outputs":[
    {
     "name":"stdout",
     "text":[
      "(20009, 250, 2.49)\n",
      "(20009, 250, 2.49)\n",
      "(20009, 250, 2.49)\n",
      "(20005, 100, 10.99)\n",
      "(20005, 100, 5.49)\n",
      "(20007, 100, 2.99)\n",
      "(20007, 100, 2.99)\n",
      "(20007, 100, 2.99)\n",
      "(20007, 50, 11.49)\n",
      "(20007, 50, 4.49)\n",
      "(20006, 20, 5.99)\n",
      "(20006, 10, 11.99)\n",
      "(20006, 10, 8.99)\n",
      "(20008, 10, 3.49)\n",
      "(20008, 10, 3.49)\n",
      "(20008, 10, 3.49)\n",
      "(20008, 5, 11.99)\n",
      "(20008, 5, 4.99)\n"
     ],
     "output_type":"stream"
    }
   ],
   "metadata":{
    "datalore":{
     "node_id":"qHubf4IRjakHznLbsXAroJ",
     "type":"CODE",
     "hide_input_from_viewers":false,
     "hide_output_from_viewers":false,
     "report_properties":{
      "rowId":"JKLEwXOYhJtl0hW2YEDxYW"
     }
    }
   }
  },
  {
   "cell_type":"markdown",
   "source":[
    "8. Товар (з таблиці Products), ціна якого становить 9.49"
   ],
   "attachments":{
    
   },
   "metadata":{
    "datalore":{
     "node_id":"sKXcWkEwjjcPujb4rjgeup",
     "type":"MD",
     "hide_input_from_viewers":false,
     "hide_output_from_viewers":false,
     "report_properties":{
      "rowId":"PJiVBqeuSmHViqOIBvDsmb"
     }
    }
   }
  },
  {
   "cell_type":"code",
   "source":[
    "sql = \"\"\"\n",
    "SELECT prod_id, prod_name\n",
    "FROM Products\n",
    "WHERE prod_price = 9.49\n",
    "\"\"\"\n",
    "cur.execute(sql)\n",
    "for u in cur.fetchall():\n",
    "    print(u)"
   ],
   "execution_count":15,
   "outputs":[
    {
     "name":"stdout",
     "text":[
      "('RYL01', 'King doll')\n",
      "('RYL02', 'Queen doll')\n"
     ],
     "output_type":"stream"
    }
   ],
   "metadata":{
    "datalore":{
     "node_id":"tA15goaufPiGHwK75bILiK",
     "type":"CODE",
     "hide_input_from_viewers":false,
     "hide_output_from_viewers":false,
     "report_properties":{
      "rowId":"BbpIsQC9RGP6BQxWMYXLcU"
     }
    }
   }
  },
  {
   "cell_type":"markdown",
   "source":[
    "9. Виведіть назву товару та ціну, яка лежить в діапазоні від  3 до 6. Відсортуйте результат в по ціні в порядку зростання"
   ],
   "attachments":{
    
   },
   "metadata":{
    "datalore":{
     "node_id":"4q44nOzbACXvSYyZkQsO13",
     "type":"MD",
     "hide_input_from_viewers":false,
     "hide_output_from_viewers":false,
     "report_properties":{
      "rowId":"ARG5SJGmO7IUMoQTRC8p5k"
     }
    }
   }
  },
  {
   "cell_type":"code",
   "source":[
    "sql = \"\"\"\n",
    "SELECT prod_name, prod_price\n",
    "FROM Products\n",
    "WHERE prod_price BETWEEN 3 and 6\n",
    "ORDER BY prod_price\n",
    "\"\"\"\n",
    "cur.execute(sql)\n",
    "for u in cur.fetchall():\n",
    "    print(u)"
   ],
   "execution_count":16,
   "outputs":[
    {
     "name":"stdout",
     "text":[
      "('Fish bean bag toy', 3.49)\n",
      "('Bird bean bag toy', 3.49)\n",
      "('Rabbit bean bag toy', 3.49)\n",
      "('Raggedy Ann', 4.99)\n",
      "('8 inch teddy bear', 5.99)\n"
     ],
     "output_type":"stream"
    }
   ],
   "metadata":{
    "datalore":{
     "node_id":"l1w1CYr3e9kMsp7JfMlFMs",
     "type":"CODE",
     "hide_input_from_viewers":false,
     "hide_output_from_viewers":false,
     "report_properties":{
      "rowId":"jviezh6JJLYZjszi6j0IZ2"
     }
    }
   }
  },
  {
   "cell_type":"markdown",
   "source":[
    "10. Кількість товару, що було продано"
   ],
   "attachments":{
    
   },
   "metadata":{
    "datalore":{
     "node_id":"poNBO2XAK2BWd1d6lezomc",
     "type":"MD",
     "hide_input_from_viewers":false,
     "hide_output_from_viewers":false,
     "report_properties":{
      "rowId":"ekMZeO75XpjBbhI310U3Fa"
     }
    }
   }
  },
  {
   "cell_type":"code",
   "source":[
    "sql = \"\"\"\n",
    "SELECT SUM(quantity)\n",
    "FROM OrderItems \n",
    "\"\"\"\n",
    "cur.execute(sql)\n",
    "for u in cur.fetchall():\n",
    "    print(u)"
   ],
   "execution_count":17,
   "outputs":[
    {
     "name":"stdout",
     "text":[
      "(1430,)\n"
     ],
     "output_type":"stream"
    }
   ],
   "metadata":{
    "datalore":{
     "node_id":"RiAyu9ppXcCLsODnX3WxId",
     "type":"CODE",
     "hide_input_from_viewers":false,
     "hide_output_from_viewers":false,
     "report_properties":{
      "rowId":"34Z7NSPObipWyOiMKy8r6Z"
     }
    }
   }
  },
  {
   "cell_type":"markdown",
   "source":[
    "11. Кількість найменувань товару, ціна якого більша за 4"
   ],
   "attachments":{
    
   },
   "metadata":{
    "datalore":{
     "node_id":"RdNS8MZSeWn9CUcDcu5x3q",
     "type":"MD",
     "hide_input_from_viewers":false,
     "hide_output_from_viewers":false,
     "report_properties":{
      "rowId":"zV7btN7NpXoIydIIqROTPZ"
     }
    }
   }
  },
  {
   "cell_type":"code",
   "source":[
    "sql = \"\"\"\n",
    "SELECT COUNT(prod_id)\n",
    "FROM Products\n",
    "WHERE prod_price > 4\n",
    "\"\"\"\n",
    "cur.execute(sql)\n",
    "for u in cur.fetchall():\n",
    "    print(u)"
   ],
   "execution_count":18,
   "outputs":[
    {
     "name":"stdout",
     "text":[
      "(6,)\n"
     ],
     "output_type":"stream"
    }
   ],
   "metadata":{
    "datalore":{
     "node_id":"qXQw6aoUbQPUL7USX4LSee",
     "type":"CODE",
     "hide_input_from_viewers":false,
     "hide_output_from_viewers":false,
     "report_properties":{
      "rowId":"q2I2VGOMOCWjYvXJxHJrM8"
     }
    }
   }
  },
  {
   "cell_type":"markdown",
   "source":[
    "12. Розробіть алгоритм для виведення 3 найдорожчих товарів в базі"
   ],
   "attachments":{
    
   },
   "metadata":{
    "datalore":{
     "node_id":"CLaLBOarMsbwtdN420qA8o",
     "type":"MD",
     "hide_input_from_viewers":false,
     "hide_output_from_viewers":false,
     "report_properties":{
      "rowId":"qUEThoLiyKH9Yyk6DucPU5"
     }
    }
   }
  },
  {
   "cell_type":"code",
   "source":[
    "sql = \"\"\"\n",
    "SELECT prod_id, prod_name, prod_price\n",
    "FROM Products \n",
    "ORDER BY prod_price DESC \n",
    "LIMIT 3\n",
    "\"\"\"\n",
    "cur.execute(sql)\n",
    "for u in cur.fetchall():\n",
    "    print(u)"
   ],
   "execution_count":19,
   "outputs":[
    {
     "name":"stdout",
     "text":[
      "('BR03', '18 inch teddy bear', 11.99)\n",
      "('RYL01', 'King doll', 9.49)\n",
      "('RYL02', 'Queen doll', 9.49)\n"
     ],
     "output_type":"stream"
    }
   ],
   "metadata":{
    "datalore":{
     "node_id":"PaOjy2wEw83PhRi9cdXdug",
     "type":"CODE",
     "hide_input_from_viewers":false,
     "hide_output_from_viewers":false,
     "report_properties":{
      "rowId":"D6seU7jQ80XiqLc6dNnUTF"
     }
    }
   }
  },
  {
   "cell_type":"markdown",
   "source":[
    "13. Підрахуйте кількість замовлень для кожного клієнта використовуючи підзапити"
   ],
   "attachments":{
    
   },
   "metadata":{
    "datalore":{
     "node_id":"ZUn0LHFha6C0cpo1b8Ry7I",
     "type":"MD",
     "hide_input_from_viewers":false,
     "hide_output_from_viewers":false,
     "report_properties":{
      "rowId":"P7jvHjCDHXHs7CX5LoXIzw"
     }
    }
   }
  },
  {
   "cell_type":"code",
   "source":[
    "sql = \"\"\"\n",
    "SELECT cust_id, cust_name, (\n",
    "    SELECT COUNT(order_num)\n",
    "    FROM Orders\n",
    "    WHERE Orders.cust_id = Customers.cust_id\n",
    ") AS Count\n",
    "FROM Customers \n",
    "\"\"\"\n",
    "cur.execute(sql)\n",
    "for u in cur.fetchall():\n",
    "    print(u)"
   ],
   "execution_count":20,
   "outputs":[
    {
     "name":"stdout",
     "text":[
      "('1000000001', 'Village Toys', 2)\n",
      "('1000000002', 'Kids Place', 0)\n",
      "('1000000003', 'Fun4All', 1)\n",
      "('1000000004', 'Fun4All', 1)\n",
      "('1000000005', 'The Toy Store', 1)\n"
     ],
     "output_type":"stream"
    }
   ],
   "metadata":{
    "datalore":{
     "node_id":"WdIbairJbywLj40dFNpIFy",
     "type":"CODE",
     "hide_input_from_viewers":false,
     "hide_output_from_viewers":false,
     "report_properties":{
      "rowId":"CKzwLfBTmXOzdOTKG8TDv5"
     }
    }
   }
  },
  {
   "cell_type":"markdown",
   "source":[
    "14. Виведіть список клієнтів та їх замовлення (використайте JOIN)"
   ],
   "attachments":{
    
   },
   "metadata":{
    "datalore":{
     "node_id":"IkqyXy138b6yymqBiDKJiX",
     "type":"MD",
     "hide_input_from_viewers":false,
     "hide_output_from_viewers":false,
     "report_properties":{
      "rowId":"TDlrqTOuGzUledgtmMM1HE"
     }
    }
   }
  },
  {
   "cell_type":"code",
   "source":[
    "sql = \"\"\"\n",
    "SELECT Customers.cust_id, Customers.cust_name, Orders.order_num \n",
    "FROM Customers \n",
    "LEFT JOIN Orders \n",
    "ON Customers.cust_id = Orders.cust_id\n",
    "\"\"\"\n",
    "cur.execute(sql)\n",
    "for u in cur.fetchall():\n",
    "    print(u)"
   ],
   "execution_count":21,
   "outputs":[
    {
     "name":"stdout",
     "text":[
      "('1000000001', 'Village Toys', 20005)\n",
      "('1000000001', 'Village Toys', 20009)\n",
      "('1000000002', 'Kids Place', None)\n",
      "('1000000003', 'Fun4All', 20006)\n",
      "('1000000004', 'Fun4All', 20007)\n",
      "('1000000005', 'The Toy Store', 20008)\n"
     ],
     "output_type":"stream"
    }
   ],
   "metadata":{
    "datalore":{
     "node_id":"6f8fM7EBDgdbH1Uymj4TZT",
     "type":"CODE",
     "hide_input_from_viewers":false,
     "hide_output_from_viewers":false,
     "report_properties":{
      "rowId":"Ikhq4S2e4kKr3xjuGDFNoj"
     }
    }
   }
  },
  {
   "cell_type":"markdown",
   "source":[
    "Зверху бачимо, що не у кожного покупця є замовлення"
   ],
   "attachments":{
    
   },
   "metadata":{
    "datalore":{
     "node_id":"IO7QgMBMd8UKK402pjrnD9",
     "type":"MD",
     "hide_input_from_viewers":true,
     "hide_output_from_viewers":true
    }
   }
  },
  {
   "cell_type":"code",
   "source":[
    "sql = \"\"\"\n",
    "SELECT  Customers.cust_id, Customers.cust_name, Orders.order_num\n",
    "FROM Orders \n",
    "LEFT JOIN Customers\n",
    "ON  Orders.cust_id = Customers.cust_id\n",
    "\"\"\"\n",
    "cur.execute(sql)\n",
    "for u in cur.fetchall():\n",
    "    print(u)"
   ],
   "execution_count":22,
   "outputs":[
    {
     "name":"stdout",
     "text":[
      "('1000000001', 'Village Toys', 20005)\n",
      "('1000000003', 'Fun4All', 20006)\n",
      "('1000000004', 'Fun4All', 20007)\n",
      "('1000000005', 'The Toy Store', 20008)\n",
      "('1000000001', 'Village Toys', 20009)\n"
     ],
     "output_type":"stream"
    }
   ],
   "metadata":{
    "datalore":{
     "node_id":"lHrtMqj1tKLwjr9LN0gvEI",
     "type":"CODE",
     "hide_input_from_viewers":true,
     "hide_output_from_viewers":true
    }
   }
  },
  {
   "cell_type":"markdown",
   "source":[
    "Зверху бачимо, що у кожного замовлення є покупець"
   ],
   "attachments":{
    
   },
   "metadata":{
    "datalore":{
     "node_id":"luf2Tc0wuataiiP4is6XB0",
     "type":"MD",
     "hide_input_from_viewers":true,
     "hide_output_from_viewers":true
    }
   }
  },
  {
   "cell_type":"markdown",
   "source":[
    "15. Зробіть два запити: список товарів, ціна яких менша 5 та список товарів, ціна який більша рівна 5. Використайте UNION для об'єднання цих запитів"
   ],
   "attachments":{
    
   },
   "metadata":{
    "datalore":{
     "node_id":"le0rWU9oTKpBSu8MqquXwU",
     "type":"MD",
     "hide_input_from_viewers":false,
     "hide_output_from_viewers":false,
     "report_properties":{
      "rowId":"Ro61VShoAx8fVpsauoqIzV"
     }
    }
   }
  },
  {
   "cell_type":"code",
   "source":[
    "sql = \"\"\"\n",
    "SELECT prod_id, prod_name, prod_price\n",
    "FROM Products \n",
    "WHERE prod_price < 5\n",
    "UNION\n",
    "SELECT prod_id, prod_name, prod_price\n",
    "FROM Products \n",
    "WHERE prod_price >= 5\n",
    "\"\"\"\n",
    "cur.execute(sql)\n",
    "for u in cur.fetchall():\n",
    "    print(u)"
   ],
   "execution_count":23,
   "outputs":[
    {
     "name":"stdout",
     "text":[
      "('BNBG01', 'Fish bean bag toy', 3.49)\n",
      "('BNBG02', 'Bird bean bag toy', 3.49)\n",
      "('BNBG03', 'Rabbit bean bag toy', 3.49)\n",
      "('BR01', '8 inch teddy bear', 5.99)\n",
      "('BR02', '12 inch teddy bear', 8.99)\n",
      "('BR03', '18 inch teddy bear', 11.99)\n",
      "('RGAN01', 'Raggedy Ann', 4.99)\n",
      "('RYL01', 'King doll', 9.49)\n",
      "('RYL02', 'Queen doll', 9.49)\n"
     ],
     "output_type":"stream"
    }
   ],
   "metadata":{
    "datalore":{
     "node_id":"Po0EMPzoHvr1u5u1f7eNKm",
     "type":"CODE",
     "hide_input_from_viewers":false,
     "hide_output_from_viewers":false,
     "report_properties":{
      "rowId":"RJlXosTHv3jDDD3HmBuRuB"
     }
    }
   }
  },
  {
   "cell_type":"markdown",
   "source":[
    "### Завдання 4: "
   ],
   "attachments":{
    
   },
   "metadata":{
    "datalore":{
     "node_id":"XbYxzkikWNeUlpcFQbFxPX",
     "type":"MD",
     "hide_input_from_viewers":false,
     "hide_output_from_viewers":false,
     "report_properties":{
      "rowId":"TJ04lbevYgHWVaIp8j11xm"
     }
    }
   }
  },
  {
   "cell_type":"markdown",
   "source":[
    "Зареєструйтеся на сайті  http:\/\/www.sql-ex.ru\/\n",
    "\n",
    "Виконайте завдання із блоку SELECT; з 1 по 30 завдання\n",
    "\n",
    "Код запитів вставляйте сюди"
   ],
   "attachments":{
    
   },
   "metadata":{
    "datalore":{
     "node_id":"UudPIuaL2x8a5V1lovPZ3m",
     "type":"MD",
     "hide_input_from_viewers":false,
     "hide_output_from_viewers":false,
     "report_properties":{
      "rowId":"qINXPmU60MqIAJq7ukPF33"
     }
    }
   }
  },
  {
   "cell_type":"markdown",
   "source":[
    ">The database scheme consists of four tables:\n",
    "Product(maker, model, type)\n",
    "PC(code, model, speed, ram, hd, cd, price)\n",
    "Laptop(code, model, speed, ram, hd, screen, price)\n",
    "Printer(code, model, color, type, price)\n",
    "The Product table contains data on the maker, model number, and type of product ('PC', 'Laptop', or 'Printer'). It is assumed that model numbers in the Product table are unique for all makers and product types. Each personal computer in the PC table is unambiguously identified by a unique code, and is additionally characterized by its model (foreign key referring to the Product table), processor speed (in MHz) – speed field, RAM capacity (in Mb) - ram, hard disk drive capacity (in Gb) – hd, CD-ROM speed (e.g, '4x') - cd, and its price. The Laptop table is similar to the PC table, except that instead of the CD-ROM speed, it contains the screen size (in inches) – screen. For each printer model in the Printer table, its output type (‘y’ for color and ‘n’ for monochrome) – color field, printing technology ('Laser', 'Jet', or 'Matrix') – type, and price are specified."
   ],
   "attachments":{
    
   },
   "metadata":{
    "datalore":{
     "node_id":"NwfBqtCcufyHVuAQN8KhJo",
     "type":"MD",
     "hide_input_from_viewers":true,
     "hide_output_from_viewers":true
    }
   }
  },
  {
   "cell_type":"markdown",
   "source":[
    "### 1. Find the model number, speed and hard drive capacity for all the PCs with prices below $500. Result set: model, speed, hd."
   ],
   "attachments":{
    
   },
   "metadata":{
    "datalore":{
     "node_id":"4phxj29m3sAELoezPGtYba",
     "type":"MD",
     "hide_input_from_viewers":true,
     "hide_output_from_viewers":true
    }
   }
  },
  {
   "cell_type":"code",
   "source":[
    "sql = \"\"\"\n",
    "SELECT model, speed, hd\n",
    "FROM PC\n",
    "WHERE price < 500\n",
    "\"\"\""
   ],
   "execution_count":null,
   "outputs":[
    
   ],
   "metadata":{
    "datalore":{
     "node_id":"rrz43fOHH8953XKF7oHi9q",
     "type":"CODE",
     "hide_input_from_viewers":true,
     "hide_output_from_viewers":true
    }
   }
  },
  {
   "cell_type":"markdown",
   "source":[
    "### 2.List all printer makers. Result set: maker."
   ],
   "attachments":{
    
   },
   "metadata":{
    "datalore":{
     "node_id":"bNG7J33bXvPdQA8kwuFtNA",
     "type":"MD",
     "hide_input_from_viewers":true,
     "hide_output_from_viewers":true
    }
   }
  },
  {
   "cell_type":"code",
   "source":[
    "sql = \"\"\"\n",
    "SELECT DISTINCT maker\n",
    "FROM Product\n",
    "WHERE type = 'Printer'\n",
    "\"\"\""
   ],
   "execution_count":null,
   "outputs":[
    
   ],
   "metadata":{
    "datalore":{
     "node_id":"0HlJpacahUfz7e0HkgXOex",
     "type":"CODE",
     "hide_input_from_viewers":true,
     "hide_output_from_viewers":true
    }
   }
  },
  {
   "cell_type":"markdown",
   "source":[
    "### 3. Find the model number, RAM and screen size of the laptops with prices over $1000."
   ],
   "attachments":{
    
   },
   "metadata":{
    "datalore":{
     "node_id":"XgLXTFUcXPqdzqj1vDbnPg",
     "type":"MD",
     "hide_input_from_viewers":true,
     "hide_output_from_viewers":true
    }
   }
  },
  {
   "cell_type":"code",
   "source":[
    "sql = \"\"\"\n",
    "SELECT model, ram, screen\n",
    "FROM Laptop\n",
    "WHERE price > 1000\n",
    "\"\"\""
   ],
   "execution_count":null,
   "outputs":[
    
   ],
   "metadata":{
    "datalore":{
     "node_id":"gOEp6HsKdoNMUq6AkBUfwL",
     "type":"CODE",
     "hide_input_from_viewers":true,
     "hide_output_from_viewers":true
    }
   }
  },
  {
   "cell_type":"markdown",
   "source":[
    "### 4. Find all records from the Printer table containing data about color printers."
   ],
   "attachments":{
    
   },
   "metadata":{
    "datalore":{
     "node_id":"rX52mZW4Mh9VMEyKyWRBlB",
     "type":"MD",
     "hide_input_from_viewers":true,
     "hide_output_from_viewers":true
    }
   }
  },
  {
   "cell_type":"code",
   "source":[
    "sql = \"\"\"\n",
    "SELECT code, model, color, type, price\n",
    "FROM Printer\n",
    "WHERE color = 'y'\n",
    "\"\"\""
   ],
   "execution_count":null,
   "outputs":[
    
   ],
   "metadata":{
    "datalore":{
     "node_id":"pEcBTf2qbkJJtm67xTYSg5",
     "type":"CODE",
     "hide_input_from_viewers":true,
     "hide_output_from_viewers":true
    }
   }
  },
  {
   "cell_type":"markdown",
   "source":[
    "### 5. Find the model number, speed and hard drive capacity of PCs cheaper than $600 having a 12x or a 24x CD drive."
   ],
   "attachments":{
    
   },
   "metadata":{
    "datalore":{
     "node_id":"LbS9JkoETH1KlC7Blg0v7s",
     "type":"MD",
     "hide_input_from_viewers":true,
     "hide_output_from_viewers":true
    }
   }
  },
  {
   "cell_type":"code",
   "source":[
    "sql = \"\"\"\n",
    "SELECT  model, speed, hd\n",
    "FROM PC\n",
    "WHERE (price < 600) and cd in ('12x', '24x')\n",
    "\"\"\""
   ],
   "execution_count":null,
   "outputs":[
    
   ],
   "metadata":{
    "datalore":{
     "node_id":"IaD4RzMZTR1X8FxwiB34NL",
     "type":"CODE",
     "hide_input_from_viewers":true,
     "hide_output_from_viewers":true
    }
   }
  },
  {
   "cell_type":"markdown",
   "source":[
    "### 6. For each maker producing laptops with a hard drive capacity of 10 Gb or higher, find the speed of such laptops. Result set: maker, speed."
   ],
   "attachments":{
    
   },
   "metadata":{
    "datalore":{
     "node_id":"CGOzEf519uj6x4qUW8I4EC",
     "type":"MD",
     "hide_input_from_viewers":true,
     "hide_output_from_viewers":true
    }
   }
  },
  {
   "cell_type":"code",
   "source":[
    "sql = \"\"\"\n",
    "SELECT DISTINCT Product.maker, Laptop.speed\n",
    "FROM Product \n",
    "JOIN Laptop on Laptop.model = Product.model\n",
    "WHERE Laptop.hd >= 10\n",
    "\"\"\""
   ],
   "execution_count":null,
   "outputs":[
    
   ],
   "metadata":{
    "datalore":{
     "node_id":"bGZS0CispzS11JodhSItcd",
     "type":"CODE",
     "hide_input_from_viewers":true,
     "hide_output_from_viewers":true
    }
   }
  },
  {
   "cell_type":"markdown",
   "source":[
    "### 7. Get the models and prices for all commercially available products (of any type) produced by maker B."
   ],
   "attachments":{
    
   },
   "metadata":{
    "datalore":{
     "node_id":"t2Ae0tjROsdDbiGFeyl3s5",
     "type":"MD",
     "hide_input_from_viewers":true,
     "hide_output_from_viewers":true
    }
   }
  },
  {
   "cell_type":"code",
   "source":[
    "sql = \"\"\"\n",
    "SELECT Laptop.model, Laptop.price\n",
    "FROM Product \n",
    "JOIN Laptop ON Laptop.model = Product.model\n",
    "WHERE Product.maker = 'B'\n",
    "\n",
    "UNION\n",
    "\n",
    "SELECT PC.model, PC.price\n",
    "FROM Product \n",
    "JOIN PC ON PC.model = Product.model\n",
    "WHERE Product.maker = 'B'\n",
    "\n",
    "UNION\n",
    "\n",
    "SELECT Printer.model, Printer.price\n",
    "FROM Product \n",
    "JOIN Printer ON Printer.model = Product.model\n",
    "where Product.maker = 'B'\n",
    "\"\"\""
   ],
   "execution_count":null,
   "outputs":[
    
   ],
   "metadata":{
    "datalore":{
     "node_id":"l2rAo0E0zFWlUEde0dwyGC",
     "type":"CODE",
     "hide_input_from_viewers":true,
     "hide_output_from_viewers":true
    }
   }
  },
  {
   "cell_type":"markdown",
   "source":[
    "### 8. Find the makers producing PCs but not laptops."
   ],
   "attachments":{
    
   },
   "metadata":{
    "datalore":{
     "node_id":"tfJ15jwf91EwPdxFRsAOUu",
     "type":"MD",
     "hide_input_from_viewers":true,
     "hide_output_from_viewers":true
    }
   }
  },
  {
   "cell_type":"code",
   "source":[
    "sql = \"\"\"\n",
    "SELECT DISTINCT maker\n",
    "FROM Product\n",
    "WHERE type = 'PC' and maker not in (\n",
    "    SELECT maker \n",
    "    FROM Product \n",
    "    WHERE type = 'Laptop')\n",
    "\n",
    "\"\"\""
   ],
   "execution_count":null,
   "outputs":[
    
   ],
   "metadata":{
    "datalore":{
     "node_id":"UaftyCFIBtRqYqBEzDjcSt",
     "type":"CODE",
     "hide_input_from_viewers":true,
     "hide_output_from_viewers":true
    }
   }
  },
  {
   "cell_type":"markdown",
   "source":[
    "### 9. Find the makers of PCs with a processor speed of 450 MHz or more. Result set: maker."
   ],
   "attachments":{
    
   },
   "metadata":{
    "datalore":{
     "node_id":"YRA4KUkD7xxinvYkMrwkmi",
     "type":"MD",
     "hide_input_from_viewers":true,
     "hide_output_from_viewers":true
    }
   }
  },
  {
   "cell_type":"code",
   "source":[
    "sql = \"\"\"\n",
    "SELECT DISTINCT Product.maker\n",
    "FROM Product \n",
    "JOIN PC on PC.model= Product.model\n",
    "WHERE PC.speed >= 450\n",
    "\n",
    "\"\"\""
   ],
   "execution_count":null,
   "outputs":[
    
   ],
   "metadata":{
    "datalore":{
     "node_id":"kGwlBzD4GwTDxKSsI65KWo",
     "type":"CODE",
     "hide_input_from_viewers":true,
     "hide_output_from_viewers":true
    }
   }
  },
  {
   "cell_type":"markdown",
   "source":[
    "### 10. Find the printer models having the highest price. Result set: model, price."
   ],
   "attachments":{
    
   },
   "metadata":{
    "datalore":{
     "node_id":"b0AayUKkx8vIOCWGSRQC5w",
     "type":"MD",
     "hide_input_from_viewers":true,
     "hide_output_from_viewers":true
    }
   }
  },
  {
   "cell_type":"code",
   "source":[
    "sql = \"\"\"\n",
    "SELECT model, price\n",
    "FROM Printer\n",
    "WHERE price = (\n",
    "    SELECT MAX(price)\n",
    "    FROM Printer)\n",
    "\"\"\""
   ],
   "execution_count":null,
   "outputs":[
    
   ],
   "metadata":{
    "datalore":{
     "node_id":"dGLyt4XUfIQwIuHRwe4sZY",
     "type":"CODE",
     "hide_input_from_viewers":true,
     "hide_output_from_viewers":true
    }
   }
  },
  {
   "cell_type":"markdown",
   "source":[
    "### 11. Find out the average speed of PCs."
   ],
   "attachments":{
    
   },
   "metadata":{
    "datalore":{
     "node_id":"CJjU4ZlSDGV8doO2kh6oAl",
     "type":"MD",
     "hide_input_from_viewers":true,
     "hide_output_from_viewers":true
    }
   }
  },
  {
   "cell_type":"code",
   "source":[
    "sql = \"\"\"\n",
    "SELECT AVG(speed)\n",
    "FROM PC\n",
    "\"\"\""
   ],
   "execution_count":null,
   "outputs":[
    
   ],
   "metadata":{
    "datalore":{
     "node_id":"YcIKXUg18Lkl6AxcTKYpLG",
     "type":"CODE",
     "hide_input_from_viewers":true,
     "hide_output_from_viewers":true
    }
   }
  },
  {
   "cell_type":"markdown",
   "source":[
    "### 12. Find out the average speed of the laptops priced over $1000"
   ],
   "attachments":{
    
   },
   "metadata":{
    "datalore":{
     "node_id":"Hf1G8sDFiNZlMy7gJfahOp",
     "type":"MD",
     "hide_input_from_viewers":true,
     "hide_output_from_viewers":true
    }
   }
  },
  {
   "cell_type":"code",
   "source":[
    "sql = \"\"\"\n",
    "SELECT AVG(speed)\n",
    "FROM Laptop\n",
    "WHERE price > 1000\n",
    "\n",
    "\"\"\""
   ],
   "execution_count":null,
   "outputs":[
    
   ],
   "metadata":{
    "datalore":{
     "node_id":"NshLXEYWwDVqam0oHgsb5B",
     "type":"CODE",
     "hide_input_from_viewers":true,
     "hide_output_from_viewers":true
    }
   }
  },
  {
   "cell_type":"markdown",
   "source":[
    "### 13. Find out the average speed of the PCs produced by maker A."
   ],
   "attachments":{
    
   },
   "metadata":{
    "datalore":{
     "node_id":"79ee9bGBtx3GA0xhwCVOSX",
     "type":"MD",
     "hide_input_from_viewers":true,
     "hide_output_from_viewers":true
    }
   }
  },
  {
   "cell_type":"code",
   "source":[
    "sql = \"\"\"\n",
    "SELECT AVG(pc.speed)\n",
    "FROM PC AS pc\n",
    "JOIN Product AS pr \n",
    "ON pc.model = pr.model\n",
    "WHERE pr.maker = 'A'\n",
    "\"\"\""
   ],
   "execution_count":null,
   "outputs":[
    
   ],
   "metadata":{
    "datalore":{
     "node_id":"YIHqPVYuQRyqaQW8xsD8pZ",
     "type":"CODE",
     "hide_input_from_viewers":true,
     "hide_output_from_viewers":true
    }
   }
  },
  {
   "cell_type":"markdown",
   "source":[
    "### 14. For the ships in the Ships table that have at least 10 guns, get the class, name, and country."
   ],
   "attachments":{
    
   },
   "metadata":{
    "datalore":{
     "node_id":"vVmos4kdPGrzuUoHb434Wh",
     "type":"MD",
     "hide_input_from_viewers":true,
     "hide_output_from_viewers":true
    }
   }
  },
  {
   "cell_type":"code",
   "source":[
    "sql = \"\"\"\n",
    "SELECT c.class, s.name, c.country\n",
    "FROM Ships AS s\n",
    "JOIN Classes AS c\n",
    "ON s.class = c.class\n",
    "WHERE c.numGuns >= 10\n",
    "\n",
    "\"\"\""
   ],
   "execution_count":null,
   "outputs":[
    
   ],
   "metadata":{
    "datalore":{
     "node_id":"mayWVNSqB3D4OwFMqmRUUu",
     "type":"CODE",
     "hide_input_from_viewers":true,
     "hide_output_from_viewers":true
    }
   }
  },
  {
   "cell_type":"markdown",
   "source":[
    "### 15. Get hard drive capacities that are identical for two or more PCs. Result set: hd."
   ],
   "attachments":{
    
   },
   "metadata":{
    "datalore":{
     "node_id":"KAhZ52ocrgSfIaFubKfMxW",
     "type":"MD",
     "hide_input_from_viewers":true,
     "hide_output_from_viewers":true
    }
   }
  },
  {
   "cell_type":"code",
   "source":[
    "sql = \"\"\"\n",
    "SELECT hd\n",
    "FROM PC\n",
    "GROUP BY hd\n",
    "HAVING COUNT(hd) >=2\n",
    "\"\"\""
   ],
   "execution_count":null,
   "outputs":[
    
   ],
   "metadata":{
    "datalore":{
     "node_id":"BetLb78rskz3F8m670ulgn",
     "type":"CODE",
     "hide_input_from_viewers":true,
     "hide_output_from_viewers":true
    }
   }
  },
  {
   "cell_type":"markdown",
   "source":[
    "### 16. Get pairs of PC models with identical speeds and the same RAM capacity. Each resulting pair should be displayed only once, i.e. (i, j) but not (j, i). Result set: model with the bigger number, model with the smaller number, speed, and RAM."
   ],
   "attachments":{
    
   },
   "metadata":{
    "datalore":{
     "node_id":"CGv6zv34ANk97CUlsf52bM",
     "type":"MD",
     "hide_input_from_viewers":true,
     "hide_output_from_viewers":true
    }
   }
  },
  {
   "cell_type":"code",
   "source":[
    "sql = \"\"\"\n",
    "SELECT DISTINCT p1.model, p2.model, p1.speed, p1.ram\n",
    "FROM PC p1, PC p2\n",
    "WHERE p1.speed = p2.speed AND p1.ram = p2.ram AND p1.model > p2.model\n",
    "\n",
    "\"\"\""
   ],
   "execution_count":null,
   "outputs":[
    
   ],
   "metadata":{
    "datalore":{
     "node_id":"MPUw2dwTehRWtz80JyMVUl",
     "type":"CODE",
     "hide_input_from_viewers":true,
     "hide_output_from_viewers":true
    }
   }
  },
  {
   "cell_type":"markdown",
   "source":[
    "### 17. Get the laptop models that have a speed smaller than the speed of any PC. Result set: type, model, speed."
   ],
   "attachments":{
    
   },
   "metadata":{
    "datalore":{
     "node_id":"Nf6ykNs77DWKIaL3cb6aHj",
     "type":"MD",
     "hide_input_from_viewers":true,
     "hide_output_from_viewers":true
    }
   }
  },
  {
   "cell_type":"code",
   "source":[
    "sql = \"\"\"\n",
    "SELECT DISTINCT p.type, l.model, l.speed\n",
    "FROM Laptop AS l\n",
    "JOIN Product AS p\n",
    "ON p.model = l.model\n",
    "WHERE l.speed < ALL(\n",
    "      SELECT speed\n",
    "      FROM PC\n",
    ")\n",
    "\"\"\""
   ],
   "execution_count":null,
   "outputs":[
    
   ],
   "metadata":{
    "datalore":{
     "node_id":"dmb8NKypueMEFVDNfwAhW1",
     "type":"CODE",
     "hide_input_from_viewers":true,
     "hide_output_from_viewers":true
    }
   }
  },
  {
   "cell_type":"markdown",
   "source":[
    "### 18. Find the makers of the cheapest color printers. Result set: maker, price."
   ],
   "attachments":{
    
   },
   "metadata":{
    "datalore":{
     "node_id":"7uwvKTswGkjL6zjIXeyNhE",
     "type":"MD",
     "hide_input_from_viewers":true,
     "hide_output_from_viewers":true
    }
   }
  },
  {
   "cell_type":"code",
   "source":[
    "sql = \"\"\"\n",
    "SELECT DISTINCT Product.maker, Printer.price\n",
    "FROM Product\n",
    "JOIN Printer\n",
    "ON Product.model = Printer.model\n",
    "WHERE Printer.price IN (\n",
    "        SELECT MIN(price)\n",
    "        FROM Printer\n",
    "        WHERE color = 'y'\n",
    ") AND Printer.color = 'y'\n",
    "\"\"\""
   ],
   "execution_count":null,
   "outputs":[
    
   ],
   "metadata":{
    "datalore":{
     "node_id":"oDLkzovsEZhPzQaevDoUgn",
     "type":"CODE",
     "hide_input_from_viewers":true,
     "hide_output_from_viewers":true
    }
   }
  },
  {
   "cell_type":"markdown",
   "source":[
    "###  19. For each maker having models in the Laptop table, find out the average screen size of the laptops he produces. Result set: maker, average screen size."
   ],
   "attachments":{
    
   },
   "metadata":{
    "datalore":{
     "node_id":"WCLKwtVprnrhVPn6oF74cF",
     "type":"MD",
     "hide_input_from_viewers":true,
     "hide_output_from_viewers":true
    }
   }
  },
  {
   "cell_type":"code",
   "source":[
    "sql = \"\"\"\n",
    "SELECT DISTINCT p.maker, AVG(l.screen)\n",
    "FROM Product AS p\n",
    "JOIN Laptop AS l\n",
    "ON p.model = l.model\n",
    "WHERE type = 'Laptop'\n",
    "GROUP BY p.maker\n",
    "\"\"\""
   ],
   "execution_count":null,
   "outputs":[
    
   ],
   "metadata":{
    "datalore":{
     "node_id":"lgwikfCPr9La0Ha9xNlDLO",
     "type":"CODE",
     "hide_input_from_viewers":true,
     "hide_output_from_viewers":true
    }
   }
  },
  {
   "cell_type":"markdown",
   "source":[
    "### 20. Find the makers producing at least three distinct models of PCs. Result set: maker, number of PC models."
   ],
   "attachments":{
    
   },
   "metadata":{
    "datalore":{
     "node_id":"swt1Qy9Wq0Be0Ne1d0dRLO",
     "type":"MD",
     "hide_input_from_viewers":true,
     "hide_output_from_viewers":true
    }
   }
  },
  {
   "cell_type":"code",
   "source":[
    "sql = \"\"\"\n",
    "SELECT DISTINCT maker, COUNT(DISTINCT model)\n",
    "FROM Product\n",
    "WHERE type = 'PC'\n",
    "GROUP by maker\n",
    "HAVING COUNT(DISTINCT model) > 2\n",
    "\n",
    "\"\"\""
   ],
   "execution_count":null,
   "outputs":[
    
   ],
   "metadata":{
    "datalore":{
     "node_id":"wK2iYX0VaIQc0VaBlSXlAM",
     "type":"CODE",
     "hide_input_from_viewers":true,
     "hide_output_from_viewers":true
    }
   }
  },
  {
   "cell_type":"markdown",
   "source":[
    "### 21. Find out the maximum PC price for each maker having models in the PC table. Result set: maker, maximum price."
   ],
   "attachments":{
    
   },
   "metadata":{
    "datalore":{
     "node_id":"EMZpZJxlcWFikEM57AsUCZ",
     "type":"MD",
     "hide_input_from_viewers":true,
     "hide_output_from_viewers":true
    }
   }
  },
  {
   "cell_type":"code",
   "source":[
    "sql = \"\"\"\n",
    "SELECT DISTINCT Product.maker, MAX(PC.price)\n",
    "FROM Product\n",
    "JOIN PC\n",
    "ON Product.model = PC.model\n",
    "GROUP BY Product.maker\n",
    "\"\"\""
   ],
   "execution_count":null,
   "outputs":[
    
   ],
   "metadata":{
    "datalore":{
     "node_id":"aomLjFyDjzalvYeGTY4AVI",
     "type":"CODE",
     "hide_input_from_viewers":true,
     "hide_output_from_viewers":true
    }
   }
  },
  {
   "cell_type":"markdown",
   "source":[
    "###  22. For each value of PC speed that exceeds 600 MHz, find out the average price of PCs with identical speeds. Result set: speed, average price."
   ],
   "attachments":{
    
   },
   "metadata":{
    "datalore":{
     "node_id":"sSRbBZs45NMHZnq5OdEhOR",
     "type":"MD",
     "hide_input_from_viewers":true,
     "hide_output_from_viewers":true
    }
   }
  },
  {
   "cell_type":"code",
   "source":[
    "sql = \"\"\"\n",
    "SELECT DISTINCT speed, AVG(price)\n",
    "FROM PC\n",
    "GROUP BY speed\n",
    "HAVING speed > 600\n",
    "\"\"\""
   ],
   "execution_count":null,
   "outputs":[
    
   ],
   "metadata":{
    "datalore":{
     "node_id":"qlhsKxtvE1d85kjPltm7zv",
     "type":"CODE",
     "hide_input_from_viewers":true,
     "hide_output_from_viewers":true
    }
   }
  },
  {
   "cell_type":"markdown",
   "source":[
    "### 23. Get the makers producing both PCs having a speed of 750 MHz or higher and laptops with a speed of 750 MHz or higher.Result set: maker"
   ],
   "attachments":{
    
   },
   "metadata":{
    "datalore":{
     "node_id":"ewjf4wFROiz5k3DuLd1qYG",
     "type":"MD",
     "hide_input_from_viewers":true,
     "hide_output_from_viewers":true
    }
   }
  },
  {
   "cell_type":"code",
   "source":[
    "sql = \"\"\"\n",
    "SELECT DISTINCT maker\n",
    "FROM Product\n",
    "WHERE maker in (SELECT Product.maker\n",
    "FROM Product \n",
    "JOIN PC \n",
    "ON Product.model = PC.model\n",
    "WHERE PC.speed >= 750\n",
    "INTERSECT \n",
    "SELECT Product.maker\n",
    "FROM Product \n",
    "JOIN Laptop\n",
    "ON Product.model = Laptop.model\n",
    "WHERE Laptop.speed >= 750\n",
    ")\n",
    "\"\"\""
   ],
   "execution_count":null,
   "outputs":[
    
   ],
   "metadata":{
    "datalore":{
     "node_id":"UUuAo180aHyCe7zzprT4Tn",
     "type":"CODE",
     "hide_input_from_viewers":true,
     "hide_output_from_viewers":true
    }
   }
  },
  {
   "cell_type":"markdown",
   "source":[
    "### 24. List the models of any type having the highest price of all products present in the database."
   ],
   "attachments":{
    
   },
   "metadata":{
    "datalore":{
     "node_id":"VU20W6muBeK4EryjkHBCDi",
     "type":"MD",
     "hide_input_from_viewers":true,
     "hide_output_from_viewers":true
    }
   }
  },
  {
   "cell_type":"code",
   "source":[
    "sql = \"\"\"\n",
    "WITH all_price_all_model AS(SELECT model, price\n",
    "FROM PC \n",
    "UNION\n",
    "SELECT model, price\n",
    "FROM Laptop \n",
    "UNION\n",
    "SELECT model, price\n",
    "FROM Printer \n",
    ")\n",
    "\n",
    "SELECT DISTINCT model\n",
    "FROM all_price_all_model\n",
    "WHERE price = (SELECT MAX(price)\n",
    "               FROM all_price_all_model)\n",
    "\n",
    "\"\"\""
   ],
   "execution_count":null,
   "outputs":[
    
   ],
   "metadata":{
    "datalore":{
     "node_id":"rq1cIr3eV7TUMTTt5Q7vr5",
     "type":"CODE",
     "hide_input_from_viewers":true,
     "hide_output_from_viewers":true
    }
   }
  },
  {
   "cell_type":"markdown",
   "source":[
    "### 25. Find the printer makers also producing PCs with the lowest RAM capacity and the highest processor speed of all PCs having the lowest RAM capacity. Result set: maker."
   ],
   "attachments":{
    
   },
   "metadata":{
    "datalore":{
     "node_id":"nI5mgrqsYGXBQumqb6ExNl",
     "type":"MD",
     "hide_input_from_viewers":true,
     "hide_output_from_viewers":true
    }
   }
  },
  {
   "cell_type":"code",
   "source":[
    "sql = \"\"\"\n",
    "SELECT DISTINCT maker \n",
    "FROM Product \n",
    "WHERE type = 'printer' AND maker IN \n",
    "(SELECT maker \n",
    "FROM Product \n",
    "JOIN PC \n",
    "ON Product.model = PC.model \n",
    "WHERE ram = (SELECT MIN(ram) FROM PC) AND speed = (SELECT MAX(speed) \n",
    "FROM PC \n",
    "WHERE ram = (SELECT MIN(ram) \n",
    "FROM PC)))\n",
    "\"\"\""
   ],
   "execution_count":null,
   "outputs":[
    
   ],
   "metadata":{
    "datalore":{
     "node_id":"fQWvSWBNiHCsvZevyPDGcb",
     "type":"CODE",
     "hide_input_from_viewers":true,
     "hide_output_from_viewers":true
    }
   }
  },
  {
   "cell_type":"markdown",
   "source":[
    "### 26. Find out the average price of PCs and laptops produced by maker A. Result set: one overall average price for all items."
   ],
   "attachments":{
    
   },
   "metadata":{
    "datalore":{
     "node_id":"qb28YZsMG26muvYn3RKli3",
     "type":"MD",
     "hide_input_from_viewers":true,
     "hide_output_from_viewers":true
    }
   }
  },
  {
   "cell_type":"code",
   "source":[
    "sql = \"\"\"\n",
    "WITH all_price_all_model AS(\n",
    "\n",
    "SELECT model, price \n",
    "FROM PC \n",
    "WHERE model in (SELECT model FROM product WHERE maker = 'A')\n",
    "\n",
    "UNION ALL \n",
    "\n",
    "SELECT Laptop.model, price\n",
    "FROM Laptop\n",
    "WHERE model in (SELECT model FROM product WHERE maker = 'A')\n",
    ")\n",
    "\n",
    "SELECT AVG(price)\n",
    "FROM all_price_all_model\n",
    "\"\"\""
   ],
   "execution_count":null,
   "outputs":[
    
   ],
   "metadata":{
    "datalore":{
     "node_id":"rfoTUyrQlzr5isSe5pxOZk",
     "type":"CODE",
     "hide_input_from_viewers":true,
     "hide_output_from_viewers":true
    }
   }
  },
  {
   "cell_type":"markdown",
   "source":[
    "### 27. Find out the average hard disk drive capacity of PCs produced by makers who also manufacture printers. Result set: maker, average HDD capacity."
   ],
   "attachments":{
    
   },
   "metadata":{
    "datalore":{
     "node_id":"doDx6mOfFwm6LRJXukQgGG",
     "type":"MD",
     "hide_input_from_viewers":true,
     "hide_output_from_viewers":true
    }
   }
  },
  {
   "cell_type":"code",
   "source":[
    "sql = \"\"\"\n",
    "SELECT maker, AVG(hd)\n",
    "FROM Product\n",
    "JOIN PC\n",
    "ON Product.model = PC.model\n",
    "WHERE maker in (SELECT maker FROM Product WHERE type = 'Printer')\n",
    "GROUP BY maker\n",
    "\n",
    "\"\"\""
   ],
   "execution_count":null,
   "outputs":[
    
   ],
   "metadata":{
    "datalore":{
     "node_id":"5nh3Pnc20kMCGW7OFLza41",
     "type":"CODE",
     "hide_input_from_viewers":true,
     "hide_output_from_viewers":true
    }
   }
  },
  {
   "cell_type":"markdown",
   "source":[
    "### 28. Using Product table, find out the number of makers who produce only one model."
   ],
   "attachments":{
    
   },
   "metadata":{
    "datalore":{
     "node_id":"2y8dmG7GmdtmdRPI29xzoq",
     "type":"MD",
     "hide_input_from_viewers":true,
     "hide_output_from_viewers":true
    }
   }
  },
  {
   "cell_type":"code",
   "source":[
    "sql = \"\"\"\n",
    "WITH one_model AS (SELECT DISTINCT maker\n",
    "FROM Product\n",
    "GROUP BY maker\n",
    "HAVING COUNT(distinct model) = 1)\n",
    "\n",
    "SELECT COUNT(*)\n",
    "FROM one_model\n",
    "\"\"\""
   ],
   "execution_count":null,
   "outputs":[
    
   ],
   "metadata":{
    "datalore":{
     "node_id":"axKMPcnXB5AaeWD2OMYzy8",
     "type":"CODE",
     "hide_input_from_viewers":true,
     "hide_output_from_viewers":true
    }
   }
  },
  {
   "cell_type":"markdown",
   "source":[
    "### 29. В предположении, что приход и расход денег на каждом пункте приема фиксируется не чаще одного раза в день [т.е. первичный ключ (пункт, дата)], написать запрос с выходными данными (пункт, дата, приход, расход). Использовать таблицы Income_o и Outcome_o."
   ],
   "attachments":{
    
   },
   "metadata":{
    "datalore":{
     "node_id":"clCh7IKgr3BjJoTRB5Xege",
     "type":"MD",
     "hide_input_from_viewers":true,
     "hide_output_from_viewers":true
    }
   }
  },
  {
   "cell_type":"code",
   "source":[
    "sql = \"\"\"\n",
    "SELECT \n",
    "CASE\n",
    "WHEN i.point is NULL\n",
    "THEN o.point\n",
    "ELSE i.point\n",
    "END point,\n",
    "\n",
    "CASE\n",
    "WHEN i.date is NULL\n",
    "THEN o.date\n",
    "ELSE i.date\n",
    "END date,\n",
    "\n",
    "i.inc, o.out\n",
    "FROM Income_o i\n",
    "FULL OUTER JOIN Outcome_o o ON i.point = o.point AND i.date = o.date\n",
    "ORDER BY i.point, i.date\n",
    "\n",
    "\"\"\""
   ],
   "execution_count":null,
   "outputs":[
    
   ],
   "metadata":{
    "datalore":{
     "node_id":"EQSeJYWr5jHv0MbVZmPACj",
     "type":"CODE",
     "hide_input_from_viewers":true,
     "hide_output_from_viewers":true
    }
   }
  },
  {
   "cell_type":"markdown",
   "source":[
    "###  30. В предположении, что приход и расход денег на каждом пункте приема фиксируется произвольное число раз (первичным ключом в таблицах является столбец code), требуется получить таблицу, в которой каждому пункту за каждую дату выполнения операций будет соответствовать одна строка.\n",
    "#### Вывод: point, date, суммарный расход пункта за день (out), суммарный приход пункта за день (inc). Отсутствующие значения считать неопределенными (NULL)."
   ],
   "attachments":{
    
   },
   "metadata":{
    "datalore":{
     "node_id":"TL1mBsxKqx5Wom6xCtIT6g",
     "type":"MD",
     "hide_input_from_viewers":true,
     "hide_output_from_viewers":true
    }
   }
  },
  {
   "cell_type":"code",
   "source":[
    "sql = \"\"\"\n",
    "SELECT \n",
    "    point, \n",
    "    CONVERT(datetime, date) AS datetime, \n",
    "    SUM(out) AS total_outcome, \n",
    "    SUM(inc) AS total_income\n",
    "FROM \n",
    "    (\n",
    "    SELECT \n",
    "        point, \n",
    "        date, \n",
    "        NULL AS out, \n",
    "        inc \n",
    "    FROM \n",
    "        Income \n",
    "    UNION ALL \n",
    "    SELECT \n",
    "        point, \n",
    "        date, \n",
    "        out, \n",
    "        NULL AS inc \n",
    "    FROM \n",
    "        Outcome\n",
    "    ) AS t \n",
    "GROUP BY \n",
    "    point, \n",
    "    CONVERT(datetime, date)\n",
    "ORDER BY \n",
    "    point, \n",
    "    CONVERT(datetime, date)\n",
    "\"\"\""
   ],
   "execution_count":null,
   "outputs":[
    
   ],
   "metadata":{
    "datalore":{
     "node_id":"0f3aoN5RequUX67NgSTVpj",
     "type":"CODE",
     "hide_input_from_viewers":true,
     "hide_output_from_viewers":true
    }
   }
  }
 ],
 "metadata":{
  "kernelspec":{
   "display_name":"Python",
   "language":"python",
   "name":"python"
  },
  "datalore":{
   "computation_mode":"JUPYTER",
   "package_manager":"pip",
   "base_environment":"default",
   "packages":[
    
   ],
   "report_row_ids":[
    "2ImcRQA9OJ28da1fo6tstb",
    "F4sQ6YMLitmujUPiS9eadx",
    "PmHjgwa5dtv6yglc3kZ6l1",
    "WZO8AgUDhXD5eRV7wXViqU",
    "bizPLr2jgYZVT9SYEAMLDV",
    "2UARIavdzzOyvBrr1JBpWT",
    "W8bEstFoVKUlSu14Kh0Zvr",
    "i1oV2plgXCJhpMFh6MMusd",
    "oCT3yOeYYrXeuao67G43qS",
    "wUl5TW6JNj84RKeITAjXky",
    "D9wEiDHu3zcM2nwh152L4M",
    "CpXapWSTCJM7G11axHxjpV",
    "rni6bw0YxxGz5K6vdX2Fv3",
    "FGOSXS5CWGonySaUToCRFQ",
    "XQYWFYN1Poyggsj42NRHrp",
    "jgGz7EJkk6qQL4YZnOUavs",
    "shUxfZlrufWmN8pRE7SEUf",
    "Jb5mtWozoKaEilXBwfLj80",
    "5HGMZ5JxsMZBkUMx8vZqEy",
    "sLzjpZvwvKGW3cExHxgwto",
    "XCvrP9NZndpY66XVLTJdoS",
    "b14QRZhXsfFMf9Tloc82yJ",
    "6Gw316sjsGwCnJ4SO7zElV",
    "4psIUVHC49tPc450QG0MJb",
    "Nu4v0sQAmq5UKNZ4sU3NYR",
    "NH3T9ewophCTkNarZKEiiX",
    "iQ8kxWuD0ekiofFMrmEEHp",
    "rTOHNAdSEXeyjBM8ALIB2B",
    "oTTQqvMaEC2j3d5EGM03Wi",
    "KBAIHq5ukAsjqceP6ndZ13",
    "VjpVxjkMDCTfmkNHzxYmK0",
    "mmWZzYZm7xIAbYziimIAKk",
    "JKLEwXOYhJtl0hW2YEDxYW",
    "PJiVBqeuSmHViqOIBvDsmb",
    "BbpIsQC9RGP6BQxWMYXLcU",
    "ARG5SJGmO7IUMoQTRC8p5k",
    "jviezh6JJLYZjszi6j0IZ2",
    "ekMZeO75XpjBbhI310U3Fa",
    "34Z7NSPObipWyOiMKy8r6Z",
    "zV7btN7NpXoIydIIqROTPZ",
    "q2I2VGOMOCWjYvXJxHJrM8",
    "qUEThoLiyKH9Yyk6DucPU5",
    "D6seU7jQ80XiqLc6dNnUTF",
    "P7jvHjCDHXHs7CX5LoXIzw",
    "CKzwLfBTmXOzdOTKG8TDv5",
    "TDlrqTOuGzUledgtmMM1HE",
    "Ikhq4S2e4kKr3xjuGDFNoj",
    "Ro61VShoAx8fVpsauoqIzV",
    "RJlXosTHv3jDDD3HmBuRuB",
    "TJ04lbevYgHWVaIp8j11xm",
    "qINXPmU60MqIAJq7ukPF33",
    "TY7t6ybtv7ogIQEoe1Q6Tw"
   ],
   "version":2
  }
 },
 "nbformat":4,
 "nbformat_minor":4
}