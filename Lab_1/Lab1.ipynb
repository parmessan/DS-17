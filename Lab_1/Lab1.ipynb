{
 "cells":[
  {
   "cell_type":"markdown",
   "source":[
    "# Завдання №2  \n",
    "<br>\n",
    "\n",
    "### Mardown tuttorial пройдено. \n",
    "\n",
    "![](https:\/\/i1.wp.com\/chiwassu.ru\/wp-content\/uploads\/2020\/07\/1bb1f7613da0448dafd3953c1c510dee_tplv-banciyuan-w650-5.jpg?fit=1024%2C538&ssl=1)"
   ],
   "attachments":{
    
   },
   "metadata":{
    "datalore":{
     "node_id":"OGcI9GB3Wu5DqpRn5P20CO",
     "type":"MD",
     "hide_input_from_viewers":false,
     "hide_output_from_viewers":false,
     "report_properties":{
      "y":0
     }
    }
   }
  },
  {
   "cell_type":"markdown",
   "source":[
    "# Завдання №3\n",
    "\n",
    "# 1. Опрацювання матеріалу\n",
    "* Навчились робити списки, різні стилі тексту\n",
    "* Застосували *markdown*\n",
    "* Порекомендувалиу чаті книгу: [гарна книга](http:\/\/loveread.ec\/read_book.php?id=76269&p=1)  \n",
    "\n",
    "<br>\n",
    "<br>\n",
    "\n",
    "# Heading 1\n",
    "\n",
    "## Heading2\n",
    "\n",
    "якась мудра цитата із Наруто на сірому фоні:\n",
    ">«Истинная честь шиноби не в том, как он живет,   \n",
    "а в том, как он умирает»   \n",
    ">*Джирайя*  \n",
    "\n",
    "\n",
    "Можна ще **математикою** займатись: $$y_{sub} =\\sqrt(x_{sub})$$  \n",
    "Можна ще і програмуванням:  \n",
    "```python\n",
    "\n",
    "import math  \n",
    "\n",
    "def naruto_voice():\n",
    "    return \"даттебае\"\n",
    "\n",
    "```\n",
    "\n",
    "\n"
   ],
   "attachments":{
    
   },
   "metadata":{
    "datalore":{
     "node_id":"iFrGwCPMpFLCvd1uXBRlol",
     "type":"MD",
     "hide_input_from_viewers":false,
     "hide_output_from_viewers":false,
     "report_properties":{
      "y":16
     }
    }
   }
  },
  {
   "cell_type":"markdown",
   "source":[
    "# Завдання №4  \n",
    "\n",
    "<br><br>\n",
    "\n",
    "#### Here is the sample mean:  \n",
    "$$\\overline{y} = \\frac{1}{n}\\sum_{i = 1}^{n}y_{i}$$\n",
    "\n",
    "#### Here is the sample variance:\n",
    "$$\\sigma^{2} = \\frac{\\sum_{i = 1}^{n}(y_{i} - \\overline{y})^{2}}{n-1}$$\n",
    "\n",
    "#### Here is the sample standart deviation:\n",
    "$$\\sigma = \\sqrt{\\frac{\\sum_{i = 1}^{n}(y_{i} - \\overline{y})^{2}}{n-1}}$$"
   ],
   "attachments":{
    
   },
   "metadata":{
    "datalore":{
     "node_id":"oSDSVgyBlMU029lnTxAeb0",
     "type":"MD",
     "hide_input_from_viewers":false,
     "hide_output_from_viewers":false,
     "report_properties":{
      "y":37
     }
    }
   }
  }
 ],
 "metadata":{
  "kernelspec":{
   "display_name":"Python",
   "language":"python",
   "name":"python"
  },
  "datalore":{
   "version":1,
   "computation_mode":"JUPYTER",
   "package_manager":"pip",
   "base_environment":"default",
   "packages":[
    
   ]
  }
 },
 "nbformat":4,
 "nbformat_minor":4
}