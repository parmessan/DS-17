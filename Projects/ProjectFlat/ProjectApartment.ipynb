{
 "cells":[
  {
   "cell_type":"markdown",
   "source":[
    "# Parsing flat"
   ],
   "attachments":{
    
   },
   "metadata":{
    "datalore":{
     "node_id":"Parsing flat",
     "type":"MD",
     "hide_input_from_viewers":false,
     "hide_output_from_viewers":false,
     "sheet_delimiter":true
    }
   }
  },
  {
   "cell_type":"markdown",
   "source":[
    "## Парсінг сторінки.\n",
    "### Список отриманої інформації: ціна на квартиру, к-сть кімнат, площа квартири, район, адреса."
   ],
   "attachments":{
    
   },
   "metadata":{
    "datalore":{
     "node_id":"Y9yl3kjfGvX3KamnIBfvrx",
     "type":"MD",
     "hide_input_from_viewers":true,
     "hide_output_from_viewers":true
    }
   }
  },
  {
   "cell_type":"code",
   "source":[
    "import requests\n",
    "from bs4 import BeautifulSoup"
   ],
   "execution_count":null,
   "outputs":[
    
   ],
   "metadata":{
    "datalore":{
     "node_id":"mlv99VDXEAuYhPfWxr1flZ",
     "type":"CODE",
     "hide_input_from_viewers":true,
     "hide_output_from_viewers":true
    }
   }
  },
  {
   "cell_type":"code",
   "source":[
    "flat_price = []\n",
    "flat_room_count = [] #к-сть кімнат\n",
    "flat_area = [] #площа квартири\n",
    "flat_district = [] #район\n",
    "flat_street = []  #адреса\n",
    "\n",
    "\n",
    "\n",
    "def work_with_all_page():\n",
    "    for i in range(1, 300):\n",
    "        url = f'https:\/\/rieltor.ua\/flats-rent\/?page={i}'\n",
    "        r = requests.get(url)\n",
    "        soup = BeautifulSoup(r.text, 'lxml')\n",
    "        print(url)\n",
    "        work_with_one_page(soup)\n",
    "\n",
    "\n",
    "def work_with_one_page(soup):\n",
    "    for item in soup.findAll('div', class_ = \"catalog-card-content\"):\n",
    "        find_price(item)\n",
    "        find_room_count(item)\n",
    "        find_area(item)\n",
    "        find_district(item)\n",
    "        find_street(item)\n",
    "\n",
    "\n",
    "def find_price(item):\n",
    "    price = item.find('div', class_= \"catalog-card-price\").find('strong').text\n",
    "    price = make_standart_price(price)\n",
    "    flat_price.append(price)\n",
    "\n",
    "def make_standart_price(price):\n",
    "    if price.split()[-1] == \"грн\/міс\":\n",
    "        new_price = \"\".join(filter(lambda x: x.isdigit(), price))\n",
    "        new_price = int(new_price)\n",
    "    elif price.split()[-1] == \"$\/міс\":\n",
    "        new_price = \"\".join(filter(lambda x: x.isdigit(), price))\n",
    "        new_price = int(new_price)*37\n",
    "    else:\n",
    "        new_price = None\n",
    "    return new_price\n",
    "\n",
    "\n",
    "\n",
    "def find_room_count(item):\n",
    "    room_count = item.findAll('div', class_ = 'catalog-card-details-row')[0].find('span').text\n",
    "    room_count = make_standart_room_count(room_count)\n",
    "    flat_room_count.append(room_count)\n",
    "\n",
    "def make_standart_room_count(room_count):\n",
    "    if room_count.split()[0] == 'Вільне':\n",
    "        return 1\n",
    "    else:\n",
    "        return int(room_count.split()[0])\n",
    "\n",
    "\n",
    "\n",
    "def find_area(item):\n",
    "    area = item.findAll('div', class_ = 'catalog-card-details-row')[1].find('span').text\n",
    "    area = make_standart_area(area)\n",
    "    flat_area.append(area)\n",
    "\n",
    "def make_standart_area(area):\n",
    "    return float(area.split()[0])\n",
    "\n",
    "\n",
    "\n",
    "def find_district(item):\n",
    "    district = item.find('div', class_ = \"catalog-card-region\").findAll('a')[1].text\n",
    "    district = make_standart_district(district)\n",
    "    flat_district.append(district)\n",
    "\n",
    "def make_standart_district(district):\n",
    "    return district.split()[0]\n",
    "\n",
    "\n",
    "def find_street(item):\n",
    "    street = item.find('div', class_ = 'catalog-card-address').text\n",
    "    street = make_standart_street(street)\n",
    "    flat_street.append(street)\n",
    "\n",
    "def make_standart_street(street):\n",
    "    return street\n",
    "\n",
    "\n",
    "\n",
    "\n",
    "\n",
    "work_with_all_page()"
   ],
   "execution_count":null,
   "outputs":[
    
   ],
   "metadata":{
    "datalore":{
     "node_id":"cBCaNjGz1UfRew53tEuIxa",
     "type":"CODE",
     "hide_input_from_viewers":true,
     "hide_output_from_viewers":true
    }
   }
  },
  {
   "cell_type":"markdown",
   "source":[
    "## Створення словника для подальшого збереження."
   ],
   "attachments":{
    
   },
   "metadata":{
    "datalore":{
     "node_id":"vn2B3wivgAq40GT9w7RGY9",
     "type":"MD",
     "hide_input_from_viewers":true,
     "hide_output_from_viewers":true
    }
   }
  },
  {
   "cell_type":"code",
   "source":[
    "dict_flat = {'flat_street': flat_street, \n",
    "        'flat_price': flat_price, \n",
    "        'flat_room_count': flat_room_count, \n",
    "        'flat_area': flat_area, \n",
    "        'flat_district': flat_district}\n"
   ],
   "execution_count":null,
   "outputs":[
    
   ],
   "metadata":{
    "datalore":{
     "node_id":"6ibsIXfuX2PSjxQ3LsikIi",
     "type":"CODE",
     "hide_input_from_viewers":true,
     "hide_output_from_viewers":true
    }
   }
  },
  {
   "cell_type":"markdown",
   "source":[
    "## Збереження словника."
   ],
   "attachments":{
    
   },
   "metadata":{
    "datalore":{
     "node_id":"mZ7UyzvwdpQhF12xcBIb2d",
     "type":"MD",
     "hide_input_from_viewers":true,
     "hide_output_from_viewers":true
    }
   }
  },
  {
   "cell_type":"code",
   "source":[
    "import pickle\n",
    "\n",
    "with open('start_info_about_flat', 'wb') as file:\n",
    "    pickle.dump(dict_flat, file)\n",
    "\n",
    "file.close()"
   ],
   "execution_count":null,
   "outputs":[
    
   ],
   "metadata":{
    "datalore":{
     "node_id":"LA8wDhqdyU6WNVt6o6PCZh",
     "type":"CODE",
     "hide_input_from_viewers":true,
     "hide_output_from_viewers":true
    }
   }
  },
  {
   "cell_type":"markdown",
   "source":[
    "# Parsing metro"
   ],
   "attachments":{
    
   },
   "metadata":{
    "datalore":{
     "node_id":"Parsing metro",
     "type":"MD",
     "hide_input_from_viewers":false,
     "hide_output_from_viewers":false,
     "sheet_delimiter":true
    }
   }
  },
  {
   "cell_type":"markdown",
   "source":[
    "## Парсінг інформації про метро."
   ],
   "attachments":{
    
   },
   "metadata":{
    "datalore":{
     "node_id":"vLD3CSFv8RsFbBZOkbBhK8",
     "type":"MD",
     "hide_input_from_viewers":true,
     "hide_output_from_viewers":true
    }
   }
  },
  {
   "cell_type":"code",
   "source":[
    "import requests\n",
    "from bs4 import BeautifulSoup\n",
    "\n",
    "url = 'https:\/\/locator.ua\/near-me\/stancii-metro\/ru\/'\n",
    "r = requests.get(url)\n",
    "soup = BeautifulSoup(r.text, 'lxml')\n",
    "\n",
    "list_metro_name = []\n",
    "list_metro_address = []\n",
    "\n",
    "def parsing():\n",
    "    for item in soup.findAll('div', class_ = 'padding10px'):\n",
    "        get_name(item)\n",
    "        get_address(item)\n",
    "\n",
    "\n",
    "def get_name(item):\n",
    "    metro_name = item.find('div', class_ = 'title') \n",
    "    if metro_name is not None:\n",
    "        if metro_name.text != \"Здесь может быть ваша компания\":\n",
    "            list_metro_name.append(''.join(x+\" \" for x in metro_name.text.split()[:-3]))\n",
    "\n",
    "def get_address(item):\n",
    "    metro_address = item.find('div', class_ = 'descr') \n",
    "    if metro_address is not None:\n",
    "        if metro_address.text != 'Locator.ua':\n",
    "            metro_address = metro_address.text\n",
    "            list_metro_address.append(metro_address.split(\", тел.\")[0])\n",
    "        \n",
    "parsing()\n",
    "\n",
    "\n"
   ],
   "execution_count":null,
   "outputs":[
    
   ],
   "metadata":{
    "datalore":{
     "node_id":"WK4Vy4QMN9vLLG4m2qx7O7",
     "type":"CODE",
     "hide_input_from_viewers":true,
     "hide_output_from_viewers":true
    }
   }
  },
  {
   "cell_type":"markdown",
   "source":[
    "## Створення словника для подальшого збереження."
   ],
   "attachments":{
    
   },
   "metadata":{
    "datalore":{
     "node_id":"0kNEAgzShtkgeDPbIbAHMl",
     "type":"MD",
     "hide_input_from_viewers":true,
     "hide_output_from_viewers":true
    }
   }
  },
  {
   "cell_type":"code",
   "source":[
    "dict_metro = {\n",
    "    'metro_name': list_metro_name,\n",
    "    'metro_address': list_metro_address\n",
    "}"
   ],
   "execution_count":null,
   "outputs":[
    
   ],
   "metadata":{
    "datalore":{
     "node_id":"opojpMf7Mx0CO47I8jaPfA",
     "type":"CODE",
     "hide_input_from_viewers":true,
     "hide_output_from_viewers":true
    }
   }
  },
  {
   "cell_type":"markdown",
   "source":[
    "## Перевірка відображення у датафреймі."
   ],
   "attachments":{
    
   },
   "metadata":{
    "datalore":{
     "node_id":"vmjxKQ3HuXTxbIKjzVkY8l",
     "type":"MD",
     "hide_input_from_viewers":true,
     "hide_output_from_viewers":true
    }
   }
  },
  {
   "cell_type":"code",
   "source":[
    "import pandas\n",
    "\n",
    "df = pandas.DataFrame(dict_metro)\n",
    "df.head(6)"
   ],
   "execution_count":null,
   "outputs":[
    
   ],
   "metadata":{
    "datalore":{
     "node_id":"YpmPjAncjO7TgV065mlTKh",
     "type":"CODE",
     "hide_input_from_viewers":true,
     "hide_output_from_viewers":true
    }
   }
  },
  {
   "cell_type":"markdown",
   "source":[
    "## Збереження інформації про метро."
   ],
   "attachments":{
    
   },
   "metadata":{
    "datalore":{
     "node_id":"ZxZXod51lahEjArJZRhDsk",
     "type":"MD",
     "hide_input_from_viewers":true,
     "hide_output_from_viewers":true
    }
   }
  },
  {
   "cell_type":"code",
   "source":[
    "import pickle\n",
    "\n",
    "with open('info_about_metro', 'wb') as file:\n",
    "    pickle.dump(dict_metro, file)\n",
    "\n",
    "file.close()"
   ],
   "execution_count":null,
   "outputs":[
    
   ],
   "metadata":{
    "datalore":{
     "node_id":"lSEFRpqc3MSOEun1GK2OAj",
     "type":"CODE",
     "hide_input_from_viewers":true,
     "hide_output_from_viewers":true
    }
   }
  },
  {
   "cell_type":"markdown",
   "source":[
    "# Count distance"
   ],
   "attachments":{
    
   },
   "metadata":{
    "datalore":{
     "node_id":"Count distance",
     "type":"MD",
     "hide_input_from_viewers":false,
     "hide_output_from_viewers":false,
     "sheet_delimiter":true
    }
   }
  },
  {
   "cell_type":"markdown",
   "source":[
    "## Завантаження інформації."
   ],
   "attachments":{
    
   },
   "metadata":{
    "datalore":{
     "node_id":"jor6CoLGVElasD5yQUoY7Q",
     "type":"MD",
     "hide_input_from_viewers":true,
     "hide_output_from_viewers":true
    }
   }
  },
  {
   "cell_type":"code",
   "source":[
    "import pickle\n",
    "from geopy.geocoders import Nominatim\n",
    "\n",
    "info_metro = pickle.load(open('info_about_metro', 'rb'))\n",
    "info_flat = pickle.load(open('start_info_about_flat', 'rb'))"
   ],
   "execution_count":null,
   "outputs":[
    
   ],
   "metadata":{
    "datalore":{
     "node_id":"pp26Eafg7wHu6ouQMOCAml",
     "type":"CODE",
     "hide_input_from_viewers":true,
     "hide_output_from_viewers":true
    }
   }
  },
  {
   "cell_type":"markdown",
   "source":[
    "## Метод для отримання координат. \n",
    "#### Адреса квартир задана на укр.мові, адреса метро - на рос.мові."
   ],
   "attachments":{
    
   },
   "metadata":{
    "datalore":{
     "node_id":"jKMhISYx2Z0EzdMS8AoHx3",
     "type":"MD",
     "hide_input_from_viewers":true,
     "hide_output_from_viewers":true
    }
   }
  },
  {
   "cell_type":"code",
   "source":[
    "def get_coordinate(street, language = 'uk'):\n",
    "    try:\n",
    "        if language == 'uk':\n",
    "            street = \"\".join(x + \" \" for x in street.split()[:-2]) + ', Київ'\n",
    "            geolocator = Nominatim(user_agent=\"my-applicatio121232n\")\n",
    "            location = geolocator.geocode(street, language=\"uk\")\n",
    "            return (location.latitude, location.longitude)\n",
    "        if language == 'rus':\n",
    "            street = \"\".join(x + \" \" for x in street.split()[1:]) + ', Киeв'\n",
    "            geolocator = Nominatim(user_agent=\"my-applicati34343on\")\n",
    "            location = geolocator.geocode(street, language=\"ru\")\n",
    "            return (location.latitude, location.longitude)\n",
    "    except AttributeError as e:\n",
    "        return None"
   ],
   "execution_count":null,
   "outputs":[
    
   ],
   "metadata":{
    "datalore":{
     "node_id":"jtg1ff7vwoVagg4Mm4C0BG",
     "type":"CODE",
     "hide_input_from_viewers":true,
     "hide_output_from_viewers":true
    }
   }
  },
  {
   "cell_type":"markdown",
   "source":[
    "## Отримання координат кожного метро."
   ],
   "attachments":{
    
   },
   "metadata":{
    "datalore":{
     "node_id":"nh7JpWlWP9ln0UWnGecUrl",
     "type":"MD",
     "hide_input_from_viewers":true,
     "hide_output_from_viewers":true
    }
   }
  },
  {
   "cell_type":"code",
   "source":[
    "metro_coordinate = []\n",
    "\n",
    "for street in info_metro['metro_address']:\n",
    "    metro_coordinate.append(get_coordinate(street, language='rus'))"
   ],
   "execution_count":null,
   "outputs":[
    
   ],
   "metadata":{
    "datalore":{
     "node_id":"LM9DippNbxu37ZRUw86knE",
     "type":"CODE",
     "hide_input_from_viewers":true,
     "hide_output_from_viewers":true
    }
   }
  },
  {
   "cell_type":"markdown",
   "source":[
    "## Ручне встановлення пропущених значень."
   ],
   "attachments":{
    
   },
   "metadata":{
    "datalore":{
     "node_id":"NF9k1pTVYamaV51lqRz1B4",
     "type":"MD",
     "hide_input_from_viewers":true,
     "hide_output_from_viewers":true
    }
   }
  },
  {
   "cell_type":"code",
   "source":[
    "metro_coordinate[-5] = (50.501450, 30.497799)"
   ],
   "execution_count":null,
   "outputs":[
    
   ],
   "metadata":{
    "datalore":{
     "node_id":"T48J10mkPYt1adjYaGfNTJ",
     "type":"CODE",
     "hide_input_from_viewers":true,
     "hide_output_from_viewers":true
    }
   }
  },
  {
   "cell_type":"markdown",
   "source":[
    "## Знаходження для кожної квартири дистанції до найближчого метро:\n",
    "#### 1. Ітерації по списку адрес квартир.\n",
    "#### 2. Знаходження координат квартири.\n",
    "#### 3. Знаходження відстаней від квартири до кожного метро.\n",
    "#### 4. Вибір найменшої дистанції.\n",
    "#### 5. Додавання \"дистанції\" до словника з інформацією про квартири.\n",
    "#### 6. Збереження словника."
   ],
   "attachments":{
    
   },
   "metadata":{
    "datalore":{
     "node_id":"QybbLUjOp1PnwTebm9fHDg",
     "type":"MD",
     "hide_input_from_viewers":true,
     "hide_output_from_viewers":true
    }
   }
  },
  {
   "cell_type":"code",
   "source":[
    "from geopy.distance import geodesic\n",
    "\n",
    "distance = []\n",
    "\n",
    "def count_for_all_flat():\n",
    "    for street in info_flat['flat_street']:\n",
    "        distance.append(count_for_one_flat(street))\n",
    "\n",
    "def count_for_one_flat(street):\n",
    "    min_distance = 100\n",
    "    flat_coord = get_coordinate(street)\n",
    "    if flat_coord is None:\n",
    "        return None\n",
    "    else:\n",
    "        for metro_coord in metro_coordinate:\n",
    "            dist = geodesic(flat_coord, metro_coord).km\n",
    "            if dist < min_distance:\n",
    "                min_distance =  dist\n",
    "        return min_distance\n",
    "\n",
    "            \n",
    "count_for_all_flat()\n",
    "info_flat['distance'] = distance\n",
    "\n",
    "import pickle\n",
    "\n",
    "with open('info_about_flat', 'wb') as file:\n",
    "    pickle.dump(info_flat, file)\n",
    "\n",
    "file.close()"
   ],
   "execution_count":null,
   "outputs":[
    
   ],
   "metadata":{
    "datalore":{
     "node_id":"11xheSwSEWdA9qTm0DFMpS",
     "type":"CODE",
     "hide_input_from_viewers":true,
     "hide_output_from_viewers":true
    }
   }
  },
  {
   "cell_type":"markdown",
   "source":[
    "# Clear data"
   ],
   "attachments":{
    
   },
   "metadata":{
    "datalore":{
     "node_id":"Clear data",
     "type":"MD",
     "hide_input_from_viewers":false,
     "hide_output_from_viewers":false,
     "sheet_delimiter":true
    }
   }
  },
  {
   "cell_type":"markdown",
   "source":[
    "# Очищення інформації."
   ],
   "attachments":{
    
   },
   "metadata":{
    "datalore":{
     "node_id":"zdxQtyuhfk2H2o11o0TInR",
     "type":"MD",
     "hide_input_from_viewers":true,
     "hide_output_from_viewers":true
    }
   }
  },
  {
   "cell_type":"markdown",
   "source":[
    "## Завантаження інформації про квартири.\n",
    "#### Інформація вже з дистанцією."
   ],
   "attachments":{
    
   },
   "metadata":{
    "datalore":{
     "node_id":"USW3BkhnVJkaEJsOSnq6to",
     "type":"MD",
     "hide_input_from_viewers":true,
     "hide_output_from_viewers":true
    }
   }
  },
  {
   "cell_type":"code",
   "source":[
    "import pickle \n",
    "\n",
    "info_flat = pickle.load(open('info_about_flat', 'rb'))"
   ],
   "execution_count":null,
   "outputs":[
    
   ],
   "metadata":{
    "datalore":{
     "node_id":"ZHdN5KMjH2j1oqJetNt8cF",
     "type":"CODE",
     "hide_input_from_viewers":true,
     "hide_output_from_viewers":true
    }
   }
  },
  {
   "cell_type":"markdown",
   "source":[
    "## Перетворення у датафрейм."
   ],
   "attachments":{
    
   },
   "metadata":{
    "datalore":{
     "node_id":"3mUtfqIaAjaUKPdxNNTNQD",
     "type":"MD",
     "hide_input_from_viewers":true,
     "hide_output_from_viewers":true
    }
   }
  },
  {
   "cell_type":"code",
   "source":[
    "import pandas as pd\n",
    "\n",
    "info_flat = pd.DataFrame(info_flat)"
   ],
   "execution_count":null,
   "outputs":[
    
   ],
   "metadata":{
    "datalore":{
     "node_id":"9GjziYj789UAwH7jCuX7Pa",
     "type":"CODE",
     "hide_input_from_viewers":true,
     "hide_output_from_viewers":true
    }
   }
  },
  {
   "cell_type":"markdown",
   "source":[
    "## Перший огляд.\n",
    "\n",
    "#### Всього рядків: 5980. Всі null значення в колонці з дистанцією."
   ],
   "attachments":{
    
   },
   "metadata":{
    "datalore":{
     "node_id":"TBWo3FjA44Z5yVVG7Sx8J2",
     "type":"MD",
     "hide_input_from_viewers":true,
     "hide_output_from_viewers":true
    }
   }
  },
  {
   "cell_type":"code",
   "source":[
    "info_flat.describe()"
   ],
   "execution_count":null,
   "outputs":[
    
   ],
   "metadata":{
    "datalore":{
     "node_id":"VEGLttqHNHJhpl0qQ71C4m",
     "type":"CODE",
     "hide_input_from_viewers":true,
     "hide_output_from_viewers":true
    }
   }
  },
  {
   "cell_type":"markdown",
   "source":[
    "## Заповнення null значень.\n",
    "#### Пропущені значення замінюються на медіану по району."
   ],
   "attachments":{
    
   },
   "metadata":{
    "datalore":{
     "node_id":"u2EaCz5pt2jwzOJPQ3TRta",
     "type":"MD",
     "hide_input_from_viewers":true,
     "hide_output_from_viewers":true
    }
   }
  },
  {
   "cell_type":"code",
   "source":[
    "info_flat['distance'] = info_flat.groupby('flat_district')['distance'].transform(lambda x: x.fillna(x.median()))"
   ],
   "execution_count":null,
   "outputs":[
    
   ],
   "metadata":{
    "datalore":{
     "node_id":"jewtSHL7rqJjHpqMOlXo70",
     "type":"CODE",
     "hide_input_from_viewers":true,
     "hide_output_from_viewers":true
    }
   }
  },
  {
   "cell_type":"markdown",
   "source":[
    "## Видалення викидів.\n",
    "### Беремо лише ті квартири, ціна на котрі лежить між 25% і 75% квартилями."
   ],
   "attachments":{
    
   },
   "metadata":{
    "datalore":{
     "node_id":"xQDGh8y4aLa3YrIKpmy1nl",
     "type":"MD",
     "hide_input_from_viewers":true,
     "hide_output_from_viewers":true
    }
   }
  },
  {
   "cell_type":"code",
   "source":[
    "q1 = info_flat['flat_price'].quantile(0.25)\n",
    "q3 = info_flat['flat_price'].quantile(0.75)\n",
    "iqr = q3 - q1\n",
    "\n",
    "upper = q3 + 1.5 * iqr\n",
    "lower = q1 - 1.5 * iqr\n",
    "\n",
    "info_flat = info_flat[(info_flat['flat_price'] > lower) & (info_flat['flat_price'] < upper)]"
   ],
   "execution_count":null,
   "outputs":[
    
   ],
   "metadata":{
    "datalore":{
     "node_id":"pUDYOHqvJP0IClzfVPqIZW",
     "type":"CODE",
     "hide_input_from_viewers":true,
     "hide_output_from_viewers":true
    }
   }
  },
  {
   "cell_type":"markdown",
   "source":[
    "### Беремо лише ті квартири, дистанція до найближчого метро у котрих лежить між 25% і 75% квартилями."
   ],
   "attachments":{
    
   },
   "metadata":{
    "datalore":{
     "node_id":"jpt7bKJyKJVmjCRJOfOkCY",
     "type":"MD",
     "hide_input_from_viewers":true,
     "hide_output_from_viewers":true
    }
   }
  },
  {
   "cell_type":"code",
   "source":[
    "q1 = info_flat['distance'].quantile(0.25)\n",
    "q3 = info_flat['distance'].quantile(0.75)\n",
    "iqr = q3 - q1\n",
    "\n",
    "upper = q3 + 1.5 * iqr\n",
    "lower = q1 - 1.5 * iqr\n",
    "\n",
    "info_flat = info_flat[(info_flat['distance'] > lower) & (info_flat['distance'] < upper)]"
   ],
   "execution_count":null,
   "outputs":[
    
   ],
   "metadata":{
    "datalore":{
     "node_id":"iLfXChZN2VrrJ3OPj5NCLK",
     "type":"CODE",
     "hide_input_from_viewers":true,
     "hide_output_from_viewers":true
    }
   }
  },
  {
   "cell_type":"markdown",
   "source":[
    "## Другий огляд."
   ],
   "attachments":{
    
   },
   "metadata":{
    "datalore":{
     "node_id":"Go4F0A7iAKtJ921mCOuBrh",
     "type":"MD",
     "hide_input_from_viewers":true,
     "hide_output_from_viewers":true
    }
   }
  },
  {
   "cell_type":"code",
   "source":[
    "info_flat.describe()"
   ],
   "execution_count":null,
   "outputs":[
    
   ],
   "metadata":{
    "datalore":{
     "node_id":"NZT7XLLFJY3noEnXggKKOx",
     "type":"CODE",
     "hide_input_from_viewers":true,
     "hide_output_from_viewers":true
    }
   }
  },
  {
   "cell_type":"code",
   "source":[
    "info_flat.head(5)"
   ],
   "execution_count":null,
   "outputs":[
    
   ],
   "metadata":{
    "datalore":{
     "node_id":"bKVo6Lfgh7P2w5rWKWZ0bp",
     "type":"CODE",
     "hide_input_from_viewers":true,
     "hide_output_from_viewers":true
    }
   }
  },
  {
   "cell_type":"code",
   "source":[
    "info_flat.info()"
   ],
   "execution_count":null,
   "outputs":[
    
   ],
   "metadata":{
    "datalore":{
     "node_id":"hlgXV8vTVmnbYa3EFzvxBh",
     "type":"CODE",
     "hide_input_from_viewers":true,
     "hide_output_from_viewers":true
    }
   }
  },
  {
   "cell_type":"markdown",
   "source":[
    "# Візуалізація."
   ],
   "attachments":{
    
   },
   "metadata":{
    "datalore":{
     "node_id":"QF18hwkCXVOCTFNrrTqBtS",
     "type":"MD",
     "hide_input_from_viewers":true,
     "hide_output_from_viewers":true
    }
   }
  },
  {
   "cell_type":"code",
   "source":[
    "import matplotlib.pyplot as plt"
   ],
   "execution_count":null,
   "outputs":[
    
   ],
   "metadata":{
    "datalore":{
     "node_id":"tgC16yzAUbOW7glFnUNGYN",
     "type":"CODE",
     "hide_input_from_viewers":true,
     "hide_output_from_viewers":true
    }
   }
  },
  {
   "cell_type":"markdown",
   "source":[
    "##  Відображення залежностей.\n",
    "### 1. Ціна від площі\n",
    "### 2. Ціна від дистанції до метро\n",
    "### 3. Ціна від к-сті кімнат"
   ],
   "attachments":{
    
   },
   "metadata":{
    "datalore":{
     "node_id":"ozGEzdwBXXcS2guQJm6vWU",
     "type":"MD",
     "hide_input_from_viewers":true,
     "hide_output_from_viewers":true
    }
   }
  },
  {
   "cell_type":"code",
   "source":[
    "fig, ax = plt.subplots(3, figsize = (15, 25))\n",
    "\n",
    "plt.subplots_adjust(wspace= 5, hspace=0.2)\n",
    "\n",
    "ax[0].scatter(info_flat['flat_area'], info_flat['flat_price'])\n",
    "ax[0].set_xlabel('Price')\n",
    "ax[0].set_ylabel('Area')\n",
    "ax[0].set_title('Графік залежності')\n",
    "ax[1].scatter(info_flat['distance'], info_flat['flat_price'])\n",
    "ax[1].set_xlabel('Price')\n",
    "ax[1].set_ylabel('Distance')\n",
    "ax[1].set_title('Графік залежності')\n",
    "ax[2].scatter(info_flat['flat_room_count'], info_flat['flat_price'])\n",
    "ax[2].set_xlabel('Price')\n",
    "ax[2].set_ylabel('Room count')\n",
    "ax[2].set_title('Графік залежності')\n"
   ],
   "execution_count":null,
   "outputs":[
    
   ],
   "metadata":{
    "datalore":{
     "node_id":"wVqIYp6U2xSNLlDRKu1sOj",
     "type":"CODE",
     "hide_input_from_viewers":true,
     "hide_output_from_viewers":true
    }
   }
  },
  {
   "cell_type":"markdown",
   "source":[
    "## Графіки розподілу.\n",
    "### 1. Розподіл цін.\n",
    "### 2. Розподіл площ.\n",
    "### 3. Розподіл к-сті кімнат.\n",
    "### 4. Розподіл дистанції до метро."
   ],
   "attachments":{
    
   },
   "metadata":{
    "datalore":{
     "node_id":"3zG6VUAK9FyadY1gpfrfvv",
     "type":"MD",
     "hide_input_from_viewers":true,
     "hide_output_from_viewers":true
    }
   }
  },
  {
   "cell_type":"code",
   "source":[
    "fig, ax = plt.subplots(2, 2, figsize = (12, 10))\n",
    "\n",
    "ax[0][0].hist(info_flat['flat_price'])\n",
    "ax[0][0].set_title(\"Price\")\n",
    "ax[1][0].hist(info_flat['flat_area'])\n",
    "ax[1][0].set_title(\"Area\")\n",
    "ax[0][1].hist(info_flat['flat_room_count'], )\n",
    "ax[0][1].set_title(\"Room count\")\n",
    "ax[1][1].hist(info_flat['distance'])\n",
    "ax[1][1].set_title(\"Distance\")"
   ],
   "execution_count":null,
   "outputs":[
    
   ],
   "metadata":{
    "datalore":{
     "node_id":"FA696wE4UJH2bZZTnxBHD7",
     "type":"CODE",
     "hide_input_from_viewers":true,
     "hide_output_from_viewers":true
    }
   }
  },
  {
   "cell_type":"markdown",
   "source":[
    "## Збереження інформації про квартири."
   ],
   "attachments":{
    
   },
   "metadata":{
    "datalore":{
     "node_id":"NS3Cza7B4BsI9ReNgFm8o6",
     "type":"MD",
     "hide_input_from_viewers":true,
     "hide_output_from_viewers":true
    }
   }
  },
  {
   "cell_type":"code",
   "source":[
    "with open('info_about_flat', 'wb') as file:\n",
    "    pickle.dump(info_flat, file)\n",
    "\n",
    "file.close()"
   ],
   "execution_count":null,
   "outputs":[
    
   ],
   "metadata":{
    "datalore":{
     "node_id":"vLhO4ijpSfbKVj1SqUih7N",
     "type":"CODE",
     "hide_input_from_viewers":true,
     "hide_output_from_viewers":true
    }
   }
  },
  {
   "cell_type":"markdown",
   "source":[
    "# Find model"
   ],
   "attachments":{
    
   },
   "metadata":{
    "datalore":{
     "node_id":"Find model",
     "type":"MD",
     "hide_input_from_viewers":false,
     "hide_output_from_viewers":false,
     "sheet_delimiter":true
    }
   }
  },
  {
   "cell_type":"markdown",
   "source":[
    "## Завантаження інформації."
   ],
   "attachments":{
    
   },
   "metadata":{
    "datalore":{
     "node_id":"IUpvb8IdPL7LVg7EhuVsEh",
     "type":"MD",
     "hide_input_from_viewers":true,
     "hide_output_from_viewers":true
    }
   }
  },
  {
   "cell_type":"code",
   "source":[
    "import pickle\n",
    "import pandas as pd\n",
    "\n",
    "with open('info_about_flat', 'rb') as f:\n",
    "    flat = pickle.load(f)\n",
    "\n",
    "\n",
    "import warnings\n",
    "warnings.filterwarnings(\"ignore\")"
   ],
   "execution_count":null,
   "outputs":[
    
   ],
   "metadata":{
    "datalore":{
     "node_id":"NjsS0K9wDwyZ597SI1JL4Y",
     "type":"CODE",
     "hide_input_from_viewers":true,
     "hide_output_from_viewers":true
    }
   }
  },
  {
   "cell_type":"markdown",
   "source":[
    "# Підготовка методів"
   ],
   "attachments":{
    
   },
   "metadata":{
    "datalore":{
     "node_id":"NjHKawfU4RjtWnof6X7B87",
     "type":"MD",
     "hide_input_from_viewers":true,
     "hide_output_from_viewers":true
    }
   }
  },
  {
   "cell_type":"markdown",
   "source":[
    "## Лійнійна регресія\n",
    "### Без та з стандартизацією"
   ],
   "attachments":{
    
   },
   "metadata":{
    "datalore":{
     "node_id":"vgbf2jTTHIGe8gWn3zzZ6I",
     "type":"MD",
     "hide_input_from_viewers":true,
     "hide_output_from_viewers":true
    }
   }
  },
  {
   "cell_type":"code",
   "source":[
    "from sklearn.linear_model import LinearRegression\n",
    "from sklearn.model_selection import train_test_split\n",
    "from sklearn.metrics import *\n",
    "\n",
    "from sklearn.model_selection import cross_val_score\n",
    "\n",
    "from sklearn.preprocessing import StandardScaler\n",
    "\n",
    "def linear(X, y):\n",
    "    X_train, X_test, y_train, y_test = train_test_split(X, y, test_size=0.2, random_state=42)\n",
    "\n",
    "    model = LinearRegression()\n",
    "    model.fit(X_train, y_train)\n",
    "\n",
    "    score_for_train = model.score(X_train, y_train)\n",
    "\n",
    "    score_for_test = model.score(X_test, y_test)\n",
    "\n",
    "    y_pred = model.predict(X_test)\n",
    "\n",
    "    mse = mean_squared_error(y_test, y_pred)\n",
    "    rmse = mse**0.5\n",
    "\n",
    "    scores_CV = cross_val_score(model, X, y, cv = 5, scoring='r2')\n",
    "\n",
    "    return score_for_train, score_for_test, rmse, scores_CV.mean()\n",
    "\n",
    "def linear_with_scalar(X, y):\n",
    "    X_train, X_test, y_train, y_test = train_test_split(X, y, test_size=0.2, random_state=42)\n",
    "\n",
    "    scalar = StandardScaler()\n",
    "    X_train_scaled = scalar.fit_transform(X_train)\n",
    "    X_test_scaled = scalar.transform(X_test)\n",
    "\n",
    "    model = LinearRegression()\n",
    "    model.fit(X_train_scaled, y_train)\n",
    "\n",
    "    score_for_train = model.score(X_train_scaled, y_train)\n",
    "\n",
    "    score_for_test = model.score(X_test_scaled, y_test)\n",
    "\n",
    "    y_pred = model.predict(X_test_scaled)\n",
    "\n",
    "    mse = mean_squared_error(y_test, y_pred)\n",
    "    rmse = mse**0.5\n",
    "\n",
    "    scores_CV = cross_val_score(model, scalar.transform(X), y, cv = 5, scoring='r2')\n",
    "\n",
    "    return score_for_train, score_for_test, rmse, scores_CV.mean()\n"
   ],
   "execution_count":null,
   "outputs":[
    
   ],
   "metadata":{
    "datalore":{
     "node_id":"oJ0Dzb5VC7ui4JGcYUNESr",
     "type":"CODE",
     "hide_input_from_viewers":true,
     "hide_output_from_viewers":true
    }
   }
  },
  {
   "cell_type":"markdown",
   "source":[
    "## Лассо \n",
    "### Без та з стандартизацією"
   ],
   "attachments":{
    
   },
   "metadata":{
    "datalore":{
     "node_id":"oJCtM2HUfdRWTEDDj5Npf8",
     "type":"MD",
     "hide_input_from_viewers":true,
     "hide_output_from_viewers":true
    }
   }
  },
  {
   "cell_type":"code",
   "source":[
    "from sklearn.linear_model import LassoCV\n",
    "from sklearn.model_selection import train_test_split\n",
    "from sklearn.metrics import *\n",
    "\n",
    "from sklearn.preprocessing import StandardScaler\n",
    "\n",
    "def lasso(X, y):\n",
    "    X_train, X_test, y_train, y_test = train_test_split(X, y, test_size=0.2, random_state=42)\n",
    "\n",
    "    model = LassoCV(cv=5, random_state=42)\n",
    "    model.fit(X_train, y_train)\n",
    "\n",
    "    score_for_train = model.score(X_train, y_train)\n",
    "\n",
    "    score_for_test = model.score(X_test, y_test)\n",
    "\n",
    "    y_pred = model.predict(X_test)\n",
    "\n",
    "    mse = mean_squared_error(y_test, y_pred)\n",
    "    rmse = mse**0.5\n",
    "\n",
    "    scores_CV = cross_val_score(model, X, y, cv = 5, scoring='r2')\n",
    "\n",
    "    return score_for_train, score_for_test, rmse, scores_CV.mean()\n",
    "\n",
    "def lasso_with_scalar(X, y):\n",
    "    X_train, X_test, y_train, y_test = train_test_split(X, y, test_size=0.2, random_state=42)\n",
    "\n",
    "    scalar = StandardScaler()\n",
    "    X_train_scaled = scalar.fit_transform(X_train)\n",
    "    X_test_scaled = scalar.transform(X_test)\n",
    "\n",
    "    model = LassoCV(cv=5, random_state=42)\n",
    "    model.fit(X_train_scaled, y_train)\n",
    "\n",
    "    score_for_train = model.score(X_train_scaled, y_train)\n",
    "\n",
    "    score_for_test = model.score(X_test_scaled, y_test)\n",
    "\n",
    "    y_pred = model.predict(X_test_scaled)\n",
    "\n",
    "    mse = mean_squared_error(y_test, y_pred)\n",
    "    rmse = mse**0.5\n",
    "    \n",
    "    scores_CV = cross_val_score(model, scalar.transform(X), y, cv = 5, scoring='r2')\n",
    "\n",
    "    return score_for_train, score_for_test, rmse, scores_CV.mean()\n"
   ],
   "execution_count":null,
   "outputs":[
    
   ],
   "metadata":{
    "datalore":{
     "node_id":"ACqBX4eYnuVrfLp061p7XE",
     "type":"CODE",
     "hide_input_from_viewers":true,
     "hide_output_from_viewers":true
    }
   }
  },
  {
   "cell_type":"markdown",
   "source":[
    "## Ридж \n",
    "### Без та з стандартизацією"
   ],
   "attachments":{
    
   },
   "metadata":{
    "datalore":{
     "node_id":"djm1LC6N095IXAhy2xB858",
     "type":"MD",
     "hide_input_from_viewers":true,
     "hide_output_from_viewers":true
    }
   }
  },
  {
   "cell_type":"code",
   "source":[
    "from sklearn.linear_model import RidgeCV\n",
    "from sklearn.model_selection import train_test_split\n",
    "from sklearn.metrics import *\n",
    "\n",
    "from sklearn.preprocessing import StandardScaler\n",
    "\n",
    "def ridge(X, y):\n",
    "    X_train, X_test, y_train, y_test = train_test_split(X, y, test_size=0.2, random_state=42)\n",
    "\n",
    "    model = RidgeCV(cv=5)\n",
    "    model.fit(X_train, y_train)\n",
    "\n",
    "    score_for_train = model.score(X_train, y_train)\n",
    "    score_for_test = model.score(X_test, y_test)\n",
    "\n",
    "    y_pred = model.predict(X_test)\n",
    "\n",
    "    mse = mean_squared_error(y_test, y_pred)\n",
    "    rmse = mse**0.5\n",
    "    \n",
    "    scores_CV = cross_val_score(model, X, y, cv = 5, scoring='r2')\n",
    "    \n",
    "    return score_for_train, score_for_test, rmse, scores_CV.mean()\n",
    "\n",
    "def ridge_with_scalar(X, y):\n",
    "    X_train, X_test, y_train, y_test = train_test_split(X, y, test_size=0.2, random_state=42)\n",
    "\n",
    "    scalar = StandardScaler()\n",
    "    X_train_scaled = scalar.fit_transform(X_train)\n",
    "    X_test_scaled = scalar.transform(X_test)\n",
    "    \n",
    "    model = RidgeCV(cv = 5)\n",
    "    model.fit(X_train_scaled, y_train)\n",
    "\n",
    "    score_for_train = model.score(X_train_scaled, y_train)\n",
    "\n",
    "    score_for_test = model.score(X_test_scaled, y_test)\n",
    "\n",
    "    y_pred = model.predict(X_test_scaled)\n",
    "\n",
    "    mse = mean_squared_error(y_test, y_pred)\n",
    "    rmse = mse**0.5\n",
    "\n",
    "    scores_CV = cross_val_score(model, scalar.transform(X), y, cv = 5, scoring='r2')\n",
    "\n",
    "    return score_for_train, score_for_test, rmse, scores_CV.mean()"
   ],
   "execution_count":null,
   "outputs":[
    
   ],
   "metadata":{
    "datalore":{
     "node_id":"DQSlnyU121koNUsuIwCixr",
     "type":"CODE",
     "hide_input_from_viewers":true,
     "hide_output_from_viewers":true
    }
   }
  },
  {
   "cell_type":"markdown",
   "source":[
    "## Еластик\n",
    "### Без та з стандартизацією"
   ],
   "attachments":{
    
   },
   "metadata":{
    "datalore":{
     "node_id":"c55LxQTrqTeix9gxTQ1nvA",
     "type":"MD",
     "hide_input_from_viewers":true,
     "hide_output_from_viewers":true
    }
   }
  },
  {
   "cell_type":"code",
   "source":[
    "from sklearn.linear_model import ElasticNetCV\n",
    "from sklearn.model_selection import train_test_split\n",
    "from sklearn.metrics import *\n",
    "\n",
    "from sklearn.preprocessing import StandardScaler\n",
    "\n",
    "def elastic(X, y):\n",
    "    X_train, X_test, y_train, y_test = train_test_split(X, y, test_size=0.2, random_state=42)\n",
    "\n",
    "    model = ElasticNetCV(cv=5, random_state=42)\n",
    "    model.fit(X_train, y_train)\n",
    "\n",
    "    score_for_train = model.score(X_train, y_train)\n",
    "\n",
    "    score_for_test = model.score(X_test, y_test)\n",
    "\n",
    "    y_pred = model.predict(X_test)\n",
    "\n",
    "    mse = mean_squared_error(y_test, y_pred)\n",
    "    rmse = mse**0.5\n",
    "    \n",
    "    scores_CV = cross_val_score(model, X, y, cv = 5, scoring='r2')\n",
    "    \n",
    "    return score_for_train, score_for_test, rmse, scores_CV.mean()\n",
    "\n",
    "def elastic_with_scalar(X, y):\n",
    "    X_train, X_test, y_train, y_test = train_test_split(X, y, test_size=0.2, random_state=42)\n",
    "\n",
    "    scalar = StandardScaler()\n",
    "    X_train_scaled = scalar.fit_transform(X_train)\n",
    "    X_test_scaled = scalar.transform(X_test)\n",
    "    \n",
    "    model = ElasticNetCV(cv = 5, random_state=42)\n",
    "    model.fit(X_train_scaled, y_train)\n",
    "\n",
    "    score_for_train = model.score(X_train_scaled, y_train)\n",
    "\n",
    "    score_for_test = model.score(X_test_scaled, y_test)\n",
    "\n",
    "    y_pred = model.predict(X_test_scaled)\n",
    "\n",
    "    mse = mean_squared_error(y_test, y_pred)\n",
    "    rmse = mse**0.5\n",
    "    \n",
    "    scores_CV = cross_val_score(model, scalar.transform(X), y, cv = 5, scoring='r2')\n",
    "\n",
    "    return score_for_train, score_for_test, rmse, scores_CV.mean()\n"
   ],
   "execution_count":null,
   "outputs":[
    
   ],
   "metadata":{
    "datalore":{
     "node_id":"gCkO6g6j5tRFuMwY91s3IF",
     "type":"CODE",
     "hide_input_from_viewers":true,
     "hide_output_from_viewers":true
    }
   }
  },
  {
   "cell_type":"markdown",
   "source":[
    "## Дерева рішень"
   ],
   "attachments":{
    
   },
   "metadata":{
    "datalore":{
     "node_id":"8vsQjHqHG7f4ktALrm6n8l",
     "type":"MD",
     "hide_input_from_viewers":true,
     "hide_output_from_viewers":true
    }
   }
  },
  {
   "cell_type":"code",
   "source":[
    "from sklearn.tree import DecisionTreeRegressor\n",
    "from sklearn.model_selection import train_test_split\n",
    "from sklearn.metrics import mean_squared_error\n",
    "\n",
    "def tree(X, y, deep):\n",
    "\n",
    "    X_train, X_test, y_train, y_test = train_test_split(X, y, test_size=0.2, random_state=42)\n",
    "\n",
    "    model = DecisionTreeRegressor(max_depth=deep)\n",
    "    model.fit(X_train, y_train)\n",
    "\n",
    "    score_for_train = model.score(X_train, y_train)\n",
    "    score_for_test = model.score(X_test, y_test)\n",
    "\n",
    "    y_pred = model.predict(X_test)\n",
    "\n",
    "    mse = mean_squared_error(y_test, y_pred)\n",
    "    rmse = mse**0.5\n",
    "    \n",
    "    scores_CV = cross_val_score(model, X, y, cv = 5, scoring='r2')\n",
    "\n",
    "    return score_for_train, score_for_test, rmse, scores_CV.mean()"
   ],
   "execution_count":null,
   "outputs":[
    
   ],
   "metadata":{
    "datalore":{
     "node_id":"949M0BnTBbCPtzUSqhWFC4",
     "type":"CODE",
     "hide_input_from_viewers":true,
     "hide_output_from_viewers":true
    }
   }
  },
  {
   "cell_type":"markdown",
   "source":[
    "## Випадковий ліс"
   ],
   "attachments":{
    
   },
   "metadata":{
    "datalore":{
     "node_id":"y4rLgmnzTRLsfDOmlJsI7u",
     "type":"MD",
     "hide_input_from_viewers":true,
     "hide_output_from_viewers":true
    }
   }
  },
  {
   "cell_type":"code",
   "source":[
    "from sklearn.ensemble import RandomForestRegressor\n",
    "from sklearn.model_selection import train_test_split\n",
    "from sklearn.metrics import mean_squared_error\n",
    "\n",
    "def forest(X, y, i):\n",
    "\n",
    "    X_train, X_test, y_train, y_test = train_test_split(X, y, test_size=0.2, random_state=42)\n",
    "\n",
    "    model = RandomForestRegressor(n_estimators=100, random_state=42, max_depth=i)\n",
    "    model.fit(X_train, y_train)\n",
    "\n",
    "    score_for_train = model.score(X_train, y_train)\n",
    "    score_for_test = model.score(X_test, y_test)\n",
    "\n",
    "    y_pred = model.predict(X_test)\n",
    "\n",
    "    mse = mean_squared_error(y_test, y_pred)\n",
    "    rmse = mse**0.5\n",
    "\n",
    "    scores_CV = cross_val_score(model, X, y, cv = 5, scoring='r2')\n",
    "\n",
    "    return score_for_train, score_for_test, rmse, scores_CV.mean()"
   ],
   "execution_count":null,
   "outputs":[
    
   ],
   "metadata":{
    "datalore":{
     "node_id":"zi1MpfdbHpPTAiW5PU0FLj",
     "type":"CODE",
     "hide_input_from_viewers":true,
     "hide_output_from_viewers":true
    }
   }
  },
  {
   "cell_type":"markdown",
   "source":[
    "## XGBoost"
   ],
   "attachments":{
    
   },
   "metadata":{
    "datalore":{
     "node_id":"LyEmRDk1FZkhZVyUeiQ4NU",
     "type":"MD",
     "hide_input_from_viewers":true,
     "hide_output_from_viewers":true
    }
   }
  },
  {
   "cell_type":"code",
   "source":[
    "import xgboost as xgb\n",
    "from sklearn.model_selection import train_test_split\n",
    "from sklearn.metrics import mean_squared_error\n",
    "\n",
    "def xgboost(X, y):\n",
    "\n",
    "    X_train, X_test, y_train, y_test = train_test_split(X, y, test_size=0.2, random_state=42)\n",
    "\n",
    "    model = xgb.XGBRegressor(objective='reg:squarederror', random_state=42)\n",
    "    model.fit(X_train, y_train)\n",
    "\n",
    "    score_for_train = model.score(X_train, y_train)\n",
    "    score_for_test = model.score(X_test, y_test)\n",
    "\n",
    "    y_pred = model.predict(X_test)\n",
    "\n",
    "    mse = mean_squared_error(y_test, y_pred)\n",
    "    rmse = mse**0.5\n",
    "\n",
    "    scores_CV = cross_val_score(model, X, y, cv = 5, scoring='r2')\n",
    "\n",
    "    return score_for_train, score_for_test, rmse, scores_CV.mean()"
   ],
   "execution_count":null,
   "outputs":[
    
   ],
   "metadata":{
    "datalore":{
     "node_id":"I44TnA8euLAeK7GjPvIE79",
     "type":"CODE",
     "hide_input_from_viewers":true,
     "hide_output_from_viewers":true
    }
   }
  },
  {
   "cell_type":"markdown",
   "source":[
    "## Обробка\n",
    "#### 1. Перевіряється кожна модель\n",
    "#### 2. Перевіряється кожна степінь\n",
    "#### 3. Результати (score для тренування і тестування, а також похибка передбаченн) відправляються у словнику"
   ],
   "attachments":{
    
   },
   "metadata":{
    "datalore":{
     "node_id":"WOExYg1I3Pxy0VuADRMv7U",
     "type":"MD",
     "hide_input_from_viewers":true,
     "hide_output_from_viewers":true
    }
   }
  },
  {
   "cell_type":"code",
   "source":[
    "from sklearn.preprocessing import PolynomialFeatures\n",
    "\n",
    "def find_model(X, y):\n",
    "    model_name = []\n",
    "    score_for_train = []\n",
    "    score_for_test = []\n",
    "    mean_sq_er = []\n",
    "    score_CV = []\n",
    "\n",
    "    for i in range(1, 4):\n",
    "\n",
    "        poly = PolynomialFeatures(degree=i, include_bias=False)\n",
    "        X_poly = poly.fit_transform(X)\n",
    "    \n",
    "        model_name.append(f\"Linear regression, degree: {i}\")\n",
    "        result = linear(X_poly, y)\n",
    "        score_for_train.append(result[0])\n",
    "        score_for_test.append(result[1])\n",
    "        mean_sq_er.append(result[2])\n",
    "        score_CV.append(result[3])\n",
    "\n",
    "        model_name.append(f\"Linear regression with standartscaler, degree: {i}\")\n",
    "        result = linear_with_scalar(X_poly, y)\n",
    "        score_for_train.append(result[0])\n",
    "        score_for_test.append(result[1])\n",
    "        mean_sq_er.append(result[2])\n",
    "        score_CV.append(result[3])\n",
    "\n",
    "        model_name.append(f\"Lasso regression, degree: {i}\")\n",
    "        result = lasso(X_poly, y)\n",
    "        score_for_train.append(result[0])\n",
    "        score_for_test.append(result[1])\n",
    "        mean_sq_er.append(result[2])\n",
    "        score_CV.append(result[3])\n",
    "\n",
    "        model_name.append(f\"Lasso regression with standartscaler, degree: {i}\")\n",
    "        result = lasso_with_scalar(X_poly, y)\n",
    "        score_for_train.append(result[0])\n",
    "        score_for_test.append(result[1])\n",
    "        mean_sq_er.append(result[2])\n",
    "        score_CV.append(result[3])\n",
    "\n",
    "        model_name.append(f\"Ridge regression, degree: {i}\")\n",
    "        result = ridge(X_poly, y)\n",
    "        score_for_train.append(result[0])\n",
    "        score_for_test.append(result[1])\n",
    "        mean_sq_er.append(result[2])\n",
    "        score_CV.append(result[3])\n",
    "\n",
    "        model_name.append(f\"Ridge regression with standartscaler, degree: {i}\")\n",
    "        result = ridge_with_scalar(X_poly, y)\n",
    "        score_for_train.append(result[0])\n",
    "        score_for_test.append(result[1])\n",
    "        mean_sq_er.append(result[2])\n",
    "        score_CV.append(result[3])\n",
    "\n",
    "        model_name.append(f\"Elastic regression, degree: {i}\")\n",
    "        result = elastic(X_poly, y)\n",
    "        score_for_train.append(result[0])\n",
    "        score_for_test.append(result[1])\n",
    "        mean_sq_er.append(result[2])\n",
    "        score_CV.append(result[3])\n",
    "\n",
    "        model_name.append(f\"Elastic regression with standartscaler, degree: {i}\")\n",
    "        result = elastic_with_scalar(X_poly, y)\n",
    "        score_for_train.append(result[0])\n",
    "        score_for_test.append(result[1])\n",
    "        mean_sq_er.append(result[2])\n",
    "        score_CV.append(result[3])\n",
    "\n",
    "    for i in range(3, 13):\n",
    "        model_name.append(f\"DecisionTree, max_deep: {i}\")\n",
    "        result = tree(X, y, i)\n",
    "        score_for_train.append(result[0])\n",
    "        score_for_test.append(result[1])\n",
    "        mean_sq_er.append(result[2])\n",
    "        score_CV.append(result[3])\n",
    "    \n",
    "    for i in range(1, 8):\n",
    "        model_name.append(f\"RandomForest, max_deep: {i}\")\n",
    "        result = forest(X, y, i)\n",
    "        score_for_train.append(result[0])\n",
    "        score_for_test.append(result[1])\n",
    "        mean_sq_er.append(result[2])\n",
    "        score_CV.append(result[3])\n",
    "\n",
    "    model_name.append(f\"XGBoost\")\n",
    "    result = xgboost(X, y)\n",
    "    score_for_train.append(result[0])\n",
    "    score_for_test.append(result[1])\n",
    "    mean_sq_er.append(result[2])\n",
    "    score_CV.append(result[3])\n",
    "\n",
    "\n",
    "    return {'model_name': model_name, \n",
    "            'score_for_train': score_for_train,\n",
    "            'score_for_test': score_for_test,\n",
    "            'mean_sq_er': mean_sq_er,\n",
    "            'score_CV': score_CV}"
   ],
   "execution_count":null,
   "outputs":[
    
   ],
   "metadata":{
    "datalore":{
     "node_id":"uxLvttADXIDuTqyDhXHWeV",
     "type":"CODE",
     "hide_input_from_viewers":true,
     "hide_output_from_viewers":true
    }
   }
  },
  {
   "cell_type":"markdown",
   "source":[
    "# Тестування "
   ],
   "attachments":{
    
   },
   "metadata":{
    "datalore":{
     "node_id":"VDzXeMEur2zyRRt35OJZpI",
     "type":"MD",
     "hide_input_from_viewers":true,
     "hide_output_from_viewers":true
    }
   }
  },
  {
   "cell_type":"markdown",
   "source":[
    "## Варіант 1\n",
    "### Район - dummies, к-сть кімнат - закодовані (без змін)"
   ],
   "attachments":{
    
   },
   "metadata":{
    "datalore":{
     "node_id":"Mr2a14c41Iqxc0Lf6kvYYi",
     "type":"MD",
     "hide_input_from_viewers":true,
     "hide_output_from_viewers":true
    }
   }
  },
  {
   "cell_type":"code",
   "source":[
    "flat_1 = pd.get_dummies(flat, columns=['flat_district'])\n",
    "flat_1 = flat_1.drop(columns=['flat_street'])"
   ],
   "execution_count":null,
   "outputs":[
    
   ],
   "metadata":{
    "datalore":{
     "node_id":"HCBxXrcKQ8Ckkhi1k7dsoW",
     "type":"CODE",
     "hide_input_from_viewers":true,
     "hide_output_from_viewers":true
    }
   }
  },
  {
   "cell_type":"code",
   "source":[
    "x_1 = flat_1.drop(columns=['flat_price'], inplace=False)\n",
    "y_1 = flat_1['flat_price']"
   ],
   "execution_count":null,
   "outputs":[
    
   ],
   "metadata":{
    "datalore":{
     "node_id":"AqdVfaXkBqUtRIKHJAuMdT",
     "type":"CODE",
     "hide_input_from_viewers":true,
     "hide_output_from_viewers":true
    }
   }
  },
  {
   "cell_type":"code",
   "source":[
    "result_1 = find_model(x_1, y_1)"
   ],
   "execution_count":null,
   "outputs":[
    
   ],
   "metadata":{
    "datalore":{
     "node_id":"pIGNzFnaUgKaaRB0yrCaYe",
     "type":"CODE",
     "hide_input_from_viewers":true,
     "hide_output_from_viewers":true
    }
   }
  },
  {
   "cell_type":"code",
   "source":[
    "df_result_1 = pd.DataFrame(result_1)\n",
    "df_result_1['variant'] = 1\n",
    "df_result_1[(df_result_1['score_for_train'] > 0.55) & \n",
    "            (df_result_1['score_for_test'] > 0.55) & \n",
    "            (df_result_1['score_CV'] > 0.55)]"
   ],
   "execution_count":null,
   "outputs":[
    
   ],
   "metadata":{
    "datalore":{
     "node_id":"sPBJjv58chibM6GrYUrR0U",
     "type":"CODE",
     "hide_input_from_viewers":true,
     "hide_output_from_viewers":true
    }
   }
  },
  {
   "cell_type":"markdown",
   "source":[
    "## Варіант 2\n",
    "### Район - dummies, к-сть кімнат - dummies"
   ],
   "attachments":{
    
   },
   "metadata":{
    "datalore":{
     "node_id":"c4W1MOlv63iPtGq2Dc1UZH",
     "type":"MD",
     "hide_input_from_viewers":true,
     "hide_output_from_viewers":true
    }
   }
  },
  {
   "cell_type":"code",
   "source":[
    "flat_2 = pd.get_dummies(flat, columns=['flat_district', 'flat_room_count'])\n",
    "flat_2 = flat_2.drop(columns=['flat_street'])"
   ],
   "execution_count":null,
   "outputs":[
    
   ],
   "metadata":{
    "datalore":{
     "node_id":"H0uogrPrCRcurvzf5KzNnb",
     "type":"CODE",
     "hide_input_from_viewers":true,
     "hide_output_from_viewers":true
    }
   }
  },
  {
   "cell_type":"code",
   "source":[
    "x_2 = flat_2.drop(columns=['flat_price'], inplace=False)\n",
    "y_2 = flat_2['flat_price']"
   ],
   "execution_count":null,
   "outputs":[
    
   ],
   "metadata":{
    "datalore":{
     "node_id":"n7uBvWRnwJvBytZxAceJxj",
     "type":"CODE",
     "hide_input_from_viewers":true,
     "hide_output_from_viewers":true
    }
   }
  },
  {
   "cell_type":"code",
   "source":[
    "result_2 = find_model(x_2, y_2)"
   ],
   "execution_count":null,
   "outputs":[
    
   ],
   "metadata":{
    "datalore":{
     "node_id":"ZT6YTGXqUp41Z3aGBr2Ikg",
     "type":"CODE",
     "hide_input_from_viewers":true,
     "hide_output_from_viewers":true
    }
   }
  },
  {
   "cell_type":"code",
   "source":[
    "df_result_2 = pd.DataFrame(result_2)\n",
    "df_result_2['variant'] = 2\n",
    "df_result_2[(df_result_2['score_for_train'] > 0.55) & \n",
    "            (df_result_2['score_for_test'] > 0.55) & \n",
    "            (df_result_2['score_CV'] > 0.55)]"
   ],
   "execution_count":null,
   "outputs":[
    
   ],
   "metadata":{
    "datalore":{
     "node_id":"93qKw70WgdKfX5rnG6eqMo",
     "type":"CODE",
     "hide_input_from_viewers":true,
     "hide_output_from_viewers":true
    }
   }
  },
  {
   "cell_type":"markdown",
   "source":[
    "## Варіант 3\n",
    "### Райони - закодовані, к-сть кімнат - закодовані (без змін)"
   ],
   "attachments":{
    
   },
   "metadata":{
    "datalore":{
     "node_id":"F9j7xU9YFlj27Dl0T5Sy30",
     "type":"MD",
     "hide_input_from_viewers":true,
     "hide_output_from_viewers":true
    }
   }
  },
  {
   "cell_type":"code",
   "source":[
    "flat_3 = flat\n",
    "flat_3['prestige'] = flat_3['flat_district'].map({\"Голосіївський\": 2, \n",
    "                                              \"Оболонський\": 3, \n",
    "                                              \"Печерський\": 4,\n",
    "                                              \"Подільський\": 3,\n",
    "                                              \"Святошинський\": 2,\n",
    "                                              \"Солом'янський\": 2,\n",
    "                                              \"Шевченківський\": 3,\n",
    "                                              \"Дарницький\": 1,\n",
    "                                              \"Деснянський\": 1,\n",
    "                                              \"Дніпровський\": 1})\n",
    "\n",
    "flat_3 = flat_3.drop(columns=['flat_street', 'flat_district'])"
   ],
   "execution_count":null,
   "outputs":[
    
   ],
   "metadata":{
    "datalore":{
     "node_id":"GUkXIBAYTwiKJ4hYe4IYtJ",
     "type":"CODE",
     "hide_input_from_viewers":true,
     "hide_output_from_viewers":true
    }
   }
  },
  {
   "cell_type":"code",
   "source":[
    "x_3 = flat_3.drop(columns=['flat_price'])\n",
    "y_3 = flat_3['flat_price']"
   ],
   "execution_count":null,
   "outputs":[
    
   ],
   "metadata":{
    "datalore":{
     "node_id":"QM6pjVb1hmyEF3fRocRsdm",
     "type":"CODE",
     "hide_input_from_viewers":true,
     "hide_output_from_viewers":true
    }
   }
  },
  {
   "cell_type":"code",
   "source":[
    "result_3 = find_model(x_3, y_3)"
   ],
   "execution_count":null,
   "outputs":[
    
   ],
   "metadata":{
    "datalore":{
     "node_id":"IXBcLINUBuh9ObpsEZ19VM",
     "type":"CODE",
     "hide_input_from_viewers":true,
     "hide_output_from_viewers":true
    }
   }
  },
  {
   "cell_type":"code",
   "source":[
    "df_result_3 = pd.DataFrame(result_3)\n",
    "df_result_3['variant'] = 3\n",
    "df_result_3[(df_result_3['score_for_train'] > 0.55) & \n",
    "            (df_result_3['score_for_test'] > 0.55) & \n",
    "            (df_result_3['score_CV'] > 0.55)]"
   ],
   "execution_count":null,
   "outputs":[
    
   ],
   "metadata":{
    "datalore":{
     "node_id":"nN9dsjp5uA1033VPDK3Acd",
     "type":"CODE",
     "hide_input_from_viewers":true,
     "hide_output_from_viewers":true
    }
   }
  },
  {
   "cell_type":"markdown",
   "source":[
    "## Варіант 4\n",
    "### Райони - закодовані, к-сть кімнат - dummies"
   ],
   "attachments":{
    
   },
   "metadata":{
    "datalore":{
     "node_id":"28TRSoR5JN5e2Gn7ofbLGG",
     "type":"MD",
     "hide_input_from_viewers":true,
     "hide_output_from_viewers":true
    }
   }
  },
  {
   "cell_type":"code",
   "source":[
    "flat_4 = flat\n",
    "flat_4['prestige'] = flat_4['flat_district'].map({\"Голосіївський\": 2, \n",
    "                                              \"Оболонський\": 3, \n",
    "                                              \"Печерський\": 4,\n",
    "                                              \"Подільський\": 3,\n",
    "                                              \"Святошинський\": 2,\n",
    "                                              \"Солом'янський\": 2,\n",
    "                                              \"Шевченківський\": 3,\n",
    "                                              \"Дарницький\": 1,\n",
    "                                              \"Деснянський\": 1,\n",
    "                                              \"Дніпровський\": 1})\n",
    "\n",
    "flat_4 = flat_4.drop(columns=['flat_street', 'flat_district'])\n",
    "flat_4 = pd.get_dummies(flat_4, columns=['flat_room_count'])"
   ],
   "execution_count":null,
   "outputs":[
    
   ],
   "metadata":{
    "datalore":{
     "node_id":"iQJcWcD28uFLUlmbOMvDdD",
     "type":"CODE",
     "hide_input_from_viewers":true,
     "hide_output_from_viewers":true
    }
   }
  },
  {
   "cell_type":"code",
   "source":[
    "x_4 = flat_4.drop(columns=['flat_price'])\n",
    "y_4 = flat_4['flat_price']"
   ],
   "execution_count":null,
   "outputs":[
    
   ],
   "metadata":{
    "datalore":{
     "node_id":"A4NTATzb3gbj2jCM7McrOZ",
     "type":"CODE",
     "hide_input_from_viewers":true,
     "hide_output_from_viewers":true
    }
   }
  },
  {
   "cell_type":"code",
   "source":[
    "result_4 = find_model(x_4, y_4)"
   ],
   "execution_count":null,
   "outputs":[
    
   ],
   "metadata":{
    "datalore":{
     "node_id":"PY8VJhCyEOywe9LAD6SoD2",
     "type":"CODE",
     "hide_input_from_viewers":true,
     "hide_output_from_viewers":true
    }
   }
  },
  {
   "cell_type":"code",
   "source":[
    "df_result_4 = pd.DataFrame(result_4)\n",
    "df_result_4['variant'] = 4\n",
    "df_result_4[(df_result_4['score_for_train'] > 0.55) & \n",
    "            (df_result_4['score_for_test'] > 0.55) &\n",
    "            (df_result_4['score_CV'] > 0.55)]"
   ],
   "execution_count":null,
   "outputs":[
    
   ],
   "metadata":{
    "datalore":{
     "node_id":"S6715rnbaXXq0HzXvevBfr",
     "type":"CODE",
     "hide_input_from_viewers":true,
     "hide_output_from_viewers":true
    }
   }
  },
  {
   "cell_type":"markdown",
   "source":[
    "## Візуалізація тестування"
   ],
   "attachments":{
    
   },
   "metadata":{
    "datalore":{
     "node_id":"UXHLOOnXyhyih5vvHs8iUO",
     "type":"MD",
     "hide_input_from_viewers":true,
     "hide_output_from_viewers":true
    }
   }
  },
  {
   "cell_type":"code",
   "source":[
    "result = pd.concat([df_result_1, df_result_2, df_result_3, df_result_4])\n",
    "result.info()"
   ],
   "execution_count":null,
   "outputs":[
    
   ],
   "metadata":{
    "datalore":{
     "node_id":"2dMAQ5ZnrVvTYTZ5g7yMdO",
     "type":"CODE",
     "hide_input_from_viewers":true,
     "hide_output_from_viewers":true
    }
   }
  },
  {
   "cell_type":"code",
   "source":[
    "\n",
    "result = result[(result['score_for_train'] > 0.55) &\n",
    "                (result['score_for_test'] > 0.55) &\n",
    "                (result['score_CV'] > 0.55) &\n",
    "                (result['mean_sq_er'] > 0)]\n",
    "result = result.reset_index(drop=True)\n",
    "result.info()"
   ],
   "execution_count":null,
   "outputs":[
    
   ],
   "metadata":{
    "datalore":{
     "node_id":"Q4DGzFYCUkeXPiMmf8OxHs",
     "type":"CODE",
     "hide_input_from_viewers":true,
     "hide_output_from_viewers":true
    }
   }
  },
  {
   "cell_type":"markdown",
   "source":[
    "# Збереження результатів моделей"
   ],
   "attachments":{
    
   },
   "metadata":{
    "datalore":{
     "node_id":"EuVkTsRjinMMdCU3pJBeR1",
     "type":"MD",
     "hide_input_from_viewers":true,
     "hide_output_from_viewers":true
    }
   }
  },
  {
   "cell_type":"code",
   "source":[
    "with open('result', 'wb') as file:\n",
    "    pickle.dump(result, file)\n",
    "\n",
    "file.close()"
   ],
   "execution_count":null,
   "outputs":[
    
   ],
   "metadata":{
    "datalore":{
     "node_id":"r7EDbw5roS86h8VMHkBTCj",
     "type":"CODE",
     "hide_input_from_viewers":true,
     "hide_output_from_viewers":true
    }
   }
  }
 ],
 "metadata":{
  "kernelspec":{
   "display_name":"Python",
   "language":"python",
   "name":"python"
  },
  "datalore":{
   "computation_mode":"JUPYTER",
   "package_manager":"pip",
   "base_environment":"default",
   "packages":[
    {
     "name":"geopy",
     "version":"2.3.0",
     "source":"PIP"
    }
   ],
   "report_row_ids":[
    
   ],
   "version":3
  }
 },
 "nbformat":4,
 "nbformat_minor":4
}