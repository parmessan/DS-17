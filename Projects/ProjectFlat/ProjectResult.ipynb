{
 "cells":[
  {
   "cell_type":"markdown",
   "source":[
    "# Звіт"
   ],
   "attachments":{
    
   },
   "metadata":{
    "datalore":{
     "node_id":"w1zjcz6D0EQLeUtT7g6e5N",
     "type":"MD",
     "hide_input_from_viewers":true,
     "hide_output_from_viewers":true
    }
   }
  },
  {
   "cell_type":"markdown",
   "source":[
    "\n",
    "- Збір даних\n",
    "    - Збір інформації про квартири (ціна, адреса, район, к-сть кімнат, площа)\n",
    "    - Збір інформації про метро (назва, адреса)\n",
    "    - Розрахунок відстані від кожної квартири до найближчого метро:\n",
    "        - Знаходження координат метро\n",
    "        - Знаходження координат квартири\n",
    "        - Розрахунок відстаней до кожного метро\n",
    "        - Знаходження найменшої відстану\n",
    "        - !На цьому етапі виникали помилки, оскільки не для кожної адреси можно було знайти координати\n",
    "        - 5979 спостережень\n",
    "- Відчищення датасету\n",
    "    - Видалення викидів по ціні\n",
    "    - Видалення викидів по дистанції\n",
    "    - Заповнення пропущених значень. Усі null-значення були в колонці з дістанцією. Заповнювалося як медіана по району. \n",
    "    - Готова до обробки інформація збережена у окремий файл\n",
    "    - 5049 спостережень\n",
    "- Візуалізація даних\n",
    "    - Графік розподілу цін\n",
    "    - Графік розподілу площ\n",
    "    - Графік розподілу кількості кімнат\n",
    "    - Графік розподілу дистанцій до метро\n",
    "- Вибір найкращої моделі\n",
    "    - Підготовка моделей:\n",
    "        - Лінійна регресія\n",
    "        - Лінійна регресія з стандартизацією\n",
    "        - Лассо\n",
    "        - Лассо з стандартизацією\n",
    "        - Ридж\n",
    "        - Ридж з стандартизацією\n",
    "        - Еластик\n",
    "        - Еластик з стандартизацією\n",
    "        - Дерево рішень\n",
    "        - Випадковий ліс\n",
    "        - XGBoost\n",
    "    - Додаткові налаштування:\n",
    "        - Лінійна регресія та її похідні приймали x, x**2, x**3 (поліномільна фіча)\n",
    "        - Дерева рішень приймали максимальну глибина \n",
    "        - Випадковий ліс приймав максимальну глибину\n",
    "    - Трансформування даних:\n",
    "        - Варінт 1. Райони - dummies, к-сть кімнат - закодовані (без змін)\n",
    "        - Варінт 2. Райони - dummies, к-сть кімнат - dummies \n",
    "        - Варінт 3. Райони - закодовані (за престижем), к-сть кінмат - закодовані (без змін)\n",
    "        - Варінт 4. Райони - закодовані (за престижем), к-сть кімнат - dummies\n",
    "    - Кожна модель повертає чотири метрики: \n",
    "        - r^2 тренувальної виборки\n",
    "        - r^2 тестової виборки\n",
    "        - r^2 середнє при крос-валідації з 5 фолдами\n",
    "        - середня квадратична помилка між y_predict i y_test\n",
    "    - Всього розглянуто комбінацій (модель\/додаткові налаштування\/трансформування даних) - (3*8 + 12 + 8 + 1) * 4 = 180\n",
    "    - Результатів, де всі score > 0.55, збережені у окремий файл\n",
    "    - Всього комбінацій пройшло відбір - 14\n",
    "- Зараз:\n",
    "    - Звіт по роботі\n",
    "    - Візуалізація даних\n",
    "    - Візуалізація результатів моделей\n",
    "    - Вибір найкращої моделі \n",
    "  "
   ],
   "attachments":{
    
   },
   "metadata":{
    "datalore":{
     "node_id":"SB3HIyZjwsgPC2RlwRpjDO",
     "type":"MD",
     "hide_input_from_viewers":true,
     "hide_output_from_viewers":true
    }
   }
  },
  {
   "cell_type":"markdown",
   "source":[
    "# Дані"
   ],
   "attachments":{
    
   },
   "metadata":{
    "datalore":{
     "node_id":"utaaLpvg8bvDz2wWHq2jyG",
     "type":"MD",
     "hide_input_from_viewers":true,
     "hide_output_from_viewers":true
    }
   }
  },
  {
   "cell_type":"markdown",
   "source":[
    "## Завантаження даних"
   ],
   "attachments":{
    
   },
   "metadata":{
    "datalore":{
     "node_id":"NY31hLwrR9UcqG4td2zdhy",
     "type":"MD",
     "hide_input_from_viewers":true,
     "hide_output_from_viewers":true
    }
   }
  },
  {
   "cell_type":"code",
   "source":[
    "import pickle\n",
    "\n",
    "info_flat = pickle.load(open('info_about_flat', 'rb'))"
   ],
   "execution_count":4,
   "outputs":[
    
   ],
   "metadata":{
    "datalore":{
     "node_id":"ChFpzew0eoqFVnuYWg0hbA",
     "type":"CODE",
     "hide_input_from_viewers":true,
     "hide_output_from_viewers":true
    }
   }
  },
  {
   "cell_type":"code",
   "source":[
    "info_flat.describe()"
   ],
   "execution_count":5,
   "outputs":[
    {
     "data":{
      "text\/html":[
       "<div>\n",
       "<style scoped>\n",
       "    .dataframe tbody tr th:only-of-type {\n",
       "        vertical-align: middle;\n",
       "    }\n",
       "\n",
       "    .dataframe tbody tr th {\n",
       "        vertical-align: top;\n",
       "    }\n",
       "\n",
       "    .dataframe thead th {\n",
       "        text-align: right;\n",
       "    }\n",
       "<\/style>\n",
       "<table border=\"1\" class=\"dataframe\">\n",
       "  <thead>\n",
       "    <tr style=\"text-align: right;\">\n",
       "      <th><\/th>\n",
       "      <th>flat_price<\/th>\n",
       "      <th>flat_room_count<\/th>\n",
       "      <th>flat_area<\/th>\n",
       "      <th>distance<\/th>\n",
       "    <\/tr>\n",
       "  <\/thead>\n",
       "  <tbody>\n",
       "    <tr>\n",
       "      <th>count<\/th>\n",
       "      <td>5049.000000<\/td>\n",
       "      <td>5049.000000<\/td>\n",
       "      <td>5049.000000<\/td>\n",
       "      <td>5049.000000<\/td>\n",
       "    <\/tr>\n",
       "    <tr>\n",
       "      <th>mean<\/th>\n",
       "      <td>18701.437908<\/td>\n",
       "      <td>1.941969<\/td>\n",
       "      <td>64.428384<\/td>\n",
       "      <td>1.653989<\/td>\n",
       "    <\/tr>\n",
       "    <tr>\n",
       "      <th>std<\/th>\n",
       "      <td>12003.424554<\/td>\n",
       "      <td>0.855901<\/td>\n",
       "      <td>31.755026<\/td>\n",
       "      <td>1.327015<\/td>\n",
       "    <\/tr>\n",
       "    <tr>\n",
       "      <th>min<\/th>\n",
       "      <td>2000.000000<\/td>\n",
       "      <td>1.000000<\/td>\n",
       "      <td>15.000000<\/td>\n",
       "      <td>0.000000<\/td>\n",
       "    <\/tr>\n",
       "    <tr>\n",
       "      <th>25%<\/th>\n",
       "      <td>10000.000000<\/td>\n",
       "      <td>1.000000<\/td>\n",
       "      <td>44.000000<\/td>\n",
       "      <td>0.709788<\/td>\n",
       "    <\/tr>\n",
       "    <tr>\n",
       "      <th>50%<\/th>\n",
       "      <td>15000.000000<\/td>\n",
       "      <td>2.000000<\/td>\n",
       "      <td>55.000000<\/td>\n",
       "      <td>1.342459<\/td>\n",
       "    <\/tr>\n",
       "    <tr>\n",
       "      <th>75%<\/th>\n",
       "      <td>25000.000000<\/td>\n",
       "      <td>2.000000<\/td>\n",
       "      <td>77.000000<\/td>\n",
       "      <td>2.150560<\/td>\n",
       "    <\/tr>\n",
       "    <tr>\n",
       "      <th>max<\/th>\n",
       "      <td>57350.000000<\/td>\n",
       "      <td>6.000000<\/td>\n",
       "      <td>300.000000<\/td>\n",
       "      <td>5.903769<\/td>\n",
       "    <\/tr>\n",
       "  <\/tbody>\n",
       "<\/table>\n",
       "<\/div>"
      ]
     },
     "metadata":{
      
     },
     "output_type":"display_data"
    }
   ],
   "metadata":{
    "datalore":{
     "node_id":"6vY544H8BvzXxGGPrDsfg0",
     "type":"CODE",
     "hide_input_from_viewers":true,
     "hide_output_from_viewers":true
    }
   }
  },
  {
   "cell_type":"markdown",
   "source":[
    "## Візуалізація даних"
   ],
   "attachments":{
    
   },
   "metadata":{
    "datalore":{
     "node_id":"XU9V0v0g2JCobJveRrUKJF",
     "type":"MD",
     "hide_input_from_viewers":true,
     "hide_output_from_viewers":true
    }
   }
  },
  {
   "cell_type":"code",
   "source":[
    "import matplotlib.pyplot as plt"
   ],
   "execution_count":6,
   "outputs":[
    
   ],
   "metadata":{
    "datalore":{
     "node_id":"NJoV8ffGmuDeD2oUlNfWAw",
     "type":"CODE",
     "hide_input_from_viewers":true,
     "hide_output_from_viewers":true
    }
   }
  },
  {
   "cell_type":"markdown",
   "source":[
    "### Графіки розподілу.\n",
    "1 Розподіл цін.   \n",
    "2. Розподіл площ.   \n",
    "2. Розподіл к-сті кімнат.   \n",
    "3. Розподіл дистанції до метро.   "
   ],
   "attachments":{
    
   },
   "metadata":{
    "datalore":{
     "node_id":"zABDLdvZvuabBAI7yMJ1Sq",
     "type":"MD",
     "hide_input_from_viewers":true,
     "hide_output_from_viewers":true
    }
   }
  },
  {
   "cell_type":"code",
   "source":[
    "fig, ax = plt.subplots(2, 2, figsize = (12, 10))\n",
    "\n",
    "ax[0][0].hist(info_flat['flat_price'])\n",
    "ax[0][0].set_title(\"Price\")\n",
    "ax[1][0].hist(info_flat['flat_area'])\n",
    "ax[1][0].set_title(\"Area\")\n",
    "ax[0][1].hist(info_flat['flat_room_count'], )\n",
    "ax[0][1].set_title(\"Room count\")\n",
    "ax[1][1].hist(info_flat['distance'])\n",
    "ax[1][1].set_title(\"Distance\")"
   ],
   "execution_count":7,
   "outputs":[
    {
     "data":{
      "text\/plain":[
       "Text(0.5, 1.0, 'Distance')"
      ]
     },
     "metadata":{
      
     },
     "output_type":"display_data"
    },
    {
     "data":{
      "image\/png":"[encoded data removed]"
     },
     "metadata":{
      "image\/png":{
       
      }
     },
     "output_type":"display_data"
    }
   ],
   "metadata":{
    "datalore":{
     "node_id":"ZlR4njxCkAJIgNkwjqIGWB",
     "type":"CODE",
     "hide_input_from_viewers":true,
     "hide_output_from_viewers":true
    }
   }
  },
  {
   "cell_type":"markdown",
   "source":[
    "### Відображення залежностей.\n",
    "1. Ціна від площі\n",
    "2. Ціна від дистанції до метро\n",
    "3. Ціна від к-сті кімнат"
   ],
   "attachments":{
    
   },
   "metadata":{
    "datalore":{
     "node_id":"HZuLKzJVPp6bQOlvJBfY4e",
     "type":"MD",
     "hide_input_from_viewers":true,
     "hide_output_from_viewers":true
    }
   }
  },
  {
   "cell_type":"code",
   "source":[
    "fig, ax = plt.subplots(3, figsize = (15, 10))\n",
    "\n",
    "plt.subplots_adjust(wspace= 5, hspace=0.2)\n",
    "\n",
    "ax[0].scatter(info_flat['flat_area'], info_flat['flat_price'])\n",
    "ax[0].set_xlabel('Price')\n",
    "ax[0].set_ylabel('Area')\n",
    "ax[0].set_title('Графік залежності')\n",
    "ax[1].scatter(info_flat['distance'], info_flat['flat_price'])\n",
    "ax[1].set_xlabel('Price')\n",
    "ax[1].set_ylabel('Distance')\n",
    "ax[1].set_title('Графік залежності')\n",
    "ax[2].scatter(info_flat['flat_room_count'], info_flat['flat_price'])\n",
    "ax[2].set_xlabel('Price')\n",
    "ax[2].set_ylabel('Room count')\n",
    "ax[2].set_title('Графік залежності')"
   ],
   "execution_count":8,
   "outputs":[
    {
     "data":{
      "text\/plain":[
       "Text(0.5, 1.0, 'Графік залежності')"
      ]
     },
     "metadata":{
      
     },
     "output_type":"display_data"
    },
    {
     "data":{
      "image\/png":"[encoded data removed]"
     },
     "metadata":{
      "image\/png":{
       
      }
     },
     "output_type":"display_data"
    }
   ],
   "metadata":{
    "datalore":{
     "node_id":"qrXMq552fD5o849LrXwvFO",
     "type":"CODE",
     "hide_input_from_viewers":true,
     "hide_output_from_viewers":true
    }
   }
  },
  {
   "cell_type":"markdown",
   "source":[
    "# Результати алгоритмів"
   ],
   "attachments":{
    
   },
   "metadata":{
    "datalore":{
     "node_id":"jvFk5fUcagfZC9OdZQW4i4",
     "type":"MD",
     "hide_input_from_viewers":true,
     "hide_output_from_viewers":true
    }
   }
  },
  {
   "cell_type":"markdown",
   "source":[
    "## Завантаження результатів"
   ],
   "attachments":{
    
   },
   "metadata":{
    "datalore":{
     "node_id":"QJwQVQKZAdLg94ITegvNQK",
     "type":"MD",
     "hide_input_from_viewers":true,
     "hide_output_from_viewers":true
    }
   }
  },
  {
   "cell_type":"code",
   "source":[
    "result = pickle.load(open('result', 'rb'))"
   ],
   "execution_count":9,
   "outputs":[
    
   ],
   "metadata":{
    "datalore":{
     "node_id":"3uQipF3rBfLuhNeDahuit3",
     "type":"CODE",
     "hide_input_from_viewers":true,
     "hide_output_from_viewers":true
    }
   }
  },
  {
   "cell_type":"code",
   "source":[
    "result"
   ],
   "execution_count":10,
   "outputs":[
    {
     "data":{
      "text\/html":[
       "<div>\n",
       "<style scoped>\n",
       "    .dataframe tbody tr th:only-of-type {\n",
       "        vertical-align: middle;\n",
       "    }\n",
       "\n",
       "    .dataframe tbody tr th {\n",
       "        vertical-align: top;\n",
       "    }\n",
       "\n",
       "    .dataframe thead th {\n",
       "        text-align: right;\n",
       "    }\n",
       "<\/style>\n",
       "<table border=\"1\" class=\"dataframe\">\n",
       "  <thead>\n",
       "    <tr style=\"text-align: right;\">\n",
       "      <th><\/th>\n",
       "      <th>model_name<\/th>\n",
       "      <th>score_for_train<\/th>\n",
       "      <th>score_for_test<\/th>\n",
       "      <th>mean_sq_er<\/th>\n",
       "      <th>score_CV<\/th>\n",
       "      <th>variant<\/th>\n",
       "    <\/tr>\n",
       "  <\/thead>\n",
       "  <tbody>\n",
       "    <tr>\n",
       "      <th>0<\/th>\n",
       "      <td>Lasso regression with standartscaler, degree: 3<\/td>\n",
       "      <td>0.592269<\/td>\n",
       "      <td>0.571944<\/td>\n",
       "      <td>7878.730797<\/td>\n",
       "      <td>0.557674<\/td>\n",
       "      <td>1<\/td>\n",
       "    <\/tr>\n",
       "    <tr>\n",
       "      <th>1<\/th>\n",
       "      <td>Ridge regression with standartscaler, degree: 3<\/td>\n",
       "      <td>0.597477<\/td>\n",
       "      <td>0.570203<\/td>\n",
       "      <td>7894.738259<\/td>\n",
       "      <td>0.556168<\/td>\n",
       "      <td>1<\/td>\n",
       "    <\/tr>\n",
       "    <tr>\n",
       "      <th>2<\/th>\n",
       "      <td>RandomForest, max_deep: 6<\/td>\n",
       "      <td>0.635109<\/td>\n",
       "      <td>0.601216<\/td>\n",
       "      <td>7604.575597<\/td>\n",
       "      <td>0.561758<\/td>\n",
       "      <td>1<\/td>\n",
       "    <\/tr>\n",
       "    <tr>\n",
       "      <th>3<\/th>\n",
       "      <td>RandomForest, max_deep: 7<\/td>\n",
       "      <td>0.682984<\/td>\n",
       "      <td>0.622152<\/td>\n",
       "      <td>7402.262346<\/td>\n",
       "      <td>0.582684<\/td>\n",
       "      <td>1<\/td>\n",
       "    <\/tr>\n",
       "    <tr>\n",
       "      <th>4<\/th>\n",
       "      <td>XGBoost<\/td>\n",
       "      <td>0.888282<\/td>\n",
       "      <td>0.698763<\/td>\n",
       "      <td>6609.374098<\/td>\n",
       "      <td>0.658953<\/td>\n",
       "      <td>1<\/td>\n",
       "    <\/tr>\n",
       "    <tr>\n",
       "      <th>5<\/th>\n",
       "      <td>RandomForest, max_deep: 6<\/td>\n",
       "      <td>0.635528<\/td>\n",
       "      <td>0.601794<\/td>\n",
       "      <td>7599.063258<\/td>\n",
       "      <td>0.561981<\/td>\n",
       "      <td>2<\/td>\n",
       "    <\/tr>\n",
       "    <tr>\n",
       "      <th>6<\/th>\n",
       "      <td>RandomForest, max_deep: 7<\/td>\n",
       "      <td>0.683928<\/td>\n",
       "      <td>0.621645<\/td>\n",
       "      <td>7407.226146<\/td>\n",
       "      <td>0.582393<\/td>\n",
       "      <td>2<\/td>\n",
       "    <\/tr>\n",
       "    <tr>\n",
       "      <th>7<\/th>\n",
       "      <td>XGBoost<\/td>\n",
       "      <td>0.895422<\/td>\n",
       "      <td>0.699573<\/td>\n",
       "      <td>6600.481045<\/td>\n",
       "      <td>0.654289<\/td>\n",
       "      <td>2<\/td>\n",
       "    <\/tr>\n",
       "    <tr>\n",
       "      <th>8<\/th>\n",
       "      <td>RandomForest, max_deep: 6<\/td>\n",
       "      <td>0.633326<\/td>\n",
       "      <td>0.591124<\/td>\n",
       "      <td>7700.193308<\/td>\n",
       "      <td>0.563712<\/td>\n",
       "      <td>3<\/td>\n",
       "    <\/tr>\n",
       "    <tr>\n",
       "      <th>9<\/th>\n",
       "      <td>RandomForest, max_deep: 7<\/td>\n",
       "      <td>0.676411<\/td>\n",
       "      <td>0.607562<\/td>\n",
       "      <td>7543.819967<\/td>\n",
       "      <td>0.581965<\/td>\n",
       "      <td>3<\/td>\n",
       "    <\/tr>\n",
       "    <tr>\n",
       "      <th>10<\/th>\n",
       "      <td>XGBoost<\/td>\n",
       "      <td>0.885787<\/td>\n",
       "      <td>0.695978<\/td>\n",
       "      <td>6639.849199<\/td>\n",
       "      <td>0.650713<\/td>\n",
       "      <td>3<\/td>\n",
       "    <\/tr>\n",
       "    <tr>\n",
       "      <th>11<\/th>\n",
       "      <td>RandomForest, max_deep: 6<\/td>\n",
       "      <td>0.633345<\/td>\n",
       "      <td>0.591758<\/td>\n",
       "      <td>7694.226599<\/td>\n",
       "      <td>0.564155<\/td>\n",
       "      <td>4<\/td>\n",
       "    <\/tr>\n",
       "    <tr>\n",
       "      <th>12<\/th>\n",
       "      <td>RandomForest, max_deep: 7<\/td>\n",
       "      <td>0.676480<\/td>\n",
       "      <td>0.609304<\/td>\n",
       "      <td>7527.062243<\/td>\n",
       "      <td>0.581904<\/td>\n",
       "      <td>4<\/td>\n",
       "    <\/tr>\n",
       "    <tr>\n",
       "      <th>13<\/th>\n",
       "      <td>XGBoost<\/td>\n",
       "      <td>0.891460<\/td>\n",
       "      <td>0.693365<\/td>\n",
       "      <td>6668.327609<\/td>\n",
       "      <td>0.655115<\/td>\n",
       "      <td>4<\/td>\n",
       "    <\/tr>\n",
       "  <\/tbody>\n",
       "<\/table>\n",
       "<\/div>"
      ]
     },
     "metadata":{
      
     },
     "output_type":"display_data"
    }
   ],
   "metadata":{
    "datalore":{
     "node_id":"XNGRR5fDOlOjI9qgUrjIlW",
     "type":"CODE",
     "hide_input_from_viewers":true,
     "hide_output_from_viewers":true
    }
   }
  },
  {
   "cell_type":"markdown",
   "source":[
    "## Візуалізація результатів"
   ],
   "attachments":{
    
   },
   "metadata":{
    "datalore":{
     "node_id":"fgljEn8KcCoTBB0rE0sIFk",
     "type":"MD",
     "hide_input_from_viewers":true,
     "hide_output_from_viewers":true
    }
   }
  },
  {
   "cell_type":"code",
   "source":[
    "fig, ax = plt.subplots(figsize = (12, 7))\n",
    "\n",
    "\n",
    "ax.scatter(result.index, result['score_for_train'], label= 'train')\n",
    "ax.scatter(result.index, result['score_for_test'], label = 'test')\n",
    "ax.scatter(result.index, result['score_CV'], label = 'CV')\n",
    "ax.scatter(result.index, result['mean_sq_er']\/result['mean_sq_er'].max(), label = 'MSE')\n",
    "ax.set_xticks(result.index)\n",
    "ax.legend(loc = 1)\n",
    "fig.show"
   ],
   "execution_count":11,
   "outputs":[
    {
     "data":{
      "text\/plain":[
       "<bound method Figure.show of <Figure size 864x504 with 1 Axes>>"
      ]
     },
     "metadata":{
      
     },
     "output_type":"display_data"
    },
    {
     "data":{
      "image\/png":"[encoded data removed]"
     },
     "metadata":{
      "image\/png":{
       
      }
     },
     "output_type":"display_data"
    }
   ],
   "metadata":{
    "datalore":{
     "node_id":"m18LkSkQnryH5eBHsHjyiL",
     "type":"CODE",
     "hide_input_from_viewers":true,
     "hide_output_from_viewers":true
    }
   }
  },
  {
   "cell_type":"markdown",
   "source":[
    
   ],
   "attachments":{
    
   },
   "metadata":{
    "datalore":{
     "node_id":"9WZ6tw8AfRGs5BZzgMIpsN",
     "type":"MD",
     "hide_input_from_viewers":true,
     "hide_output_from_viewers":true
    }
   }
  },
  {
   "cell_type":"markdown",
   "source":[
    "Не дивлячись на занажто добрі результати для тренувань, перенавчання немає, оскільки результати по іншим метрикам у спостережень 4 7 10 13 накрайщі"
   ],
   "attachments":{
    
   },
   "metadata":{
    "datalore":{
     "node_id":"orc4EmPMJpYwDBO5MQNRJF",
     "type":"MD",
     "hide_input_from_viewers":true,
     "hide_output_from_viewers":true
    }
   }
  },
  {
   "cell_type":"code",
   "source":[
    "import pandas as pd\n",
    "\n",
    "top4 = pd.concat([result.iloc[4], result.iloc[7], result.iloc[10], result.iloc[13]], axis=1)\n",
    "top4 = top4.transpose()"
   ],
   "execution_count":21,
   "outputs":[
    
   ],
   "metadata":{
    "datalore":{
     "node_id":"x2wWW4i1nhVqcTvPmimGjK",
     "type":"CODE",
     "hide_input_from_viewers":true,
     "hide_output_from_viewers":true
    }
   }
  },
  {
   "cell_type":"code",
   "source":[
    "top4"
   ],
   "execution_count":24,
   "outputs":[
    {
     "data":{
      "text\/html":[
       "<div>\n",
       "<style scoped>\n",
       "    .dataframe tbody tr th:only-of-type {\n",
       "        vertical-align: middle;\n",
       "    }\n",
       "\n",
       "    .dataframe tbody tr th {\n",
       "        vertical-align: top;\n",
       "    }\n",
       "\n",
       "    .dataframe thead th {\n",
       "        text-align: right;\n",
       "    }\n",
       "<\/style>\n",
       "<table border=\"1\" class=\"dataframe\">\n",
       "  <thead>\n",
       "    <tr style=\"text-align: right;\">\n",
       "      <th><\/th>\n",
       "      <th>model_name<\/th>\n",
       "      <th>score_for_train<\/th>\n",
       "      <th>score_for_test<\/th>\n",
       "      <th>mean_sq_er<\/th>\n",
       "      <th>score_CV<\/th>\n",
       "      <th>variant<\/th>\n",
       "    <\/tr>\n",
       "  <\/thead>\n",
       "  <tbody>\n",
       "    <tr>\n",
       "      <th>4<\/th>\n",
       "      <td>XGBoost<\/td>\n",
       "      <td>0.888282<\/td>\n",
       "      <td>0.698763<\/td>\n",
       "      <td>6609.374098<\/td>\n",
       "      <td>0.658953<\/td>\n",
       "      <td>1<\/td>\n",
       "    <\/tr>\n",
       "    <tr>\n",
       "      <th>7<\/th>\n",
       "      <td>XGBoost<\/td>\n",
       "      <td>0.895422<\/td>\n",
       "      <td>0.699573<\/td>\n",
       "      <td>6600.481045<\/td>\n",
       "      <td>0.654289<\/td>\n",
       "      <td>2<\/td>\n",
       "    <\/tr>\n",
       "    <tr>\n",
       "      <th>10<\/th>\n",
       "      <td>XGBoost<\/td>\n",
       "      <td>0.885787<\/td>\n",
       "      <td>0.695978<\/td>\n",
       "      <td>6639.849199<\/td>\n",
       "      <td>0.650713<\/td>\n",
       "      <td>3<\/td>\n",
       "    <\/tr>\n",
       "    <tr>\n",
       "      <th>13<\/th>\n",
       "      <td>XGBoost<\/td>\n",
       "      <td>0.89146<\/td>\n",
       "      <td>0.693365<\/td>\n",
       "      <td>6668.327609<\/td>\n",
       "      <td>0.655115<\/td>\n",
       "      <td>4<\/td>\n",
       "    <\/tr>\n",
       "  <\/tbody>\n",
       "<\/table>\n",
       "<\/div>"
      ]
     },
     "metadata":{
      
     },
     "output_type":"display_data"
    }
   ],
   "metadata":{
    "datalore":{
     "node_id":"pdR7lnUGK9MmHP4QoHk15Z",
     "type":"CODE",
     "hide_input_from_viewers":true,
     "hide_output_from_viewers":true
    }
   }
  },
  {
   "cell_type":"markdown",
   "source":[
    "Кожна модель найкраща по своїй, окремій метриці, тому для подальшого вибору ми створимо окрему метрику"
   ],
   "attachments":{
    
   },
   "metadata":{
    "datalore":{
     "node_id":"IYMlGFmuC9HhumkOFFm8bL",
     "type":"MD",
     "hide_input_from_viewers":true,
     "hide_output_from_viewers":true
    }
   }
  },
  {
   "cell_type":"code",
   "source":[
    "top4['crit'] = top4['score_for_test'] + top4['score_CV'] - top4['mean_sq_er']\/7000\n",
    "top4"
   ],
   "execution_count":25,
   "outputs":[
    {
     "data":{
      "text\/html":[
       "<div>\n",
       "<style scoped>\n",
       "    .dataframe tbody tr th:only-of-type {\n",
       "        vertical-align: middle;\n",
       "    }\n",
       "\n",
       "    .dataframe tbody tr th {\n",
       "        vertical-align: top;\n",
       "    }\n",
       "\n",
       "    .dataframe thead th {\n",
       "        text-align: right;\n",
       "    }\n",
       "<\/style>\n",
       "<table border=\"1\" class=\"dataframe\">\n",
       "  <thead>\n",
       "    <tr style=\"text-align: right;\">\n",
       "      <th><\/th>\n",
       "      <th>model_name<\/th>\n",
       "      <th>score_for_train<\/th>\n",
       "      <th>score_for_test<\/th>\n",
       "      <th>mean_sq_er<\/th>\n",
       "      <th>score_CV<\/th>\n",
       "      <th>variant<\/th>\n",
       "      <th>crit<\/th>\n",
       "    <\/tr>\n",
       "  <\/thead>\n",
       "  <tbody>\n",
       "    <tr>\n",
       "      <th>4<\/th>\n",
       "      <td>XGBoost<\/td>\n",
       "      <td>0.888282<\/td>\n",
       "      <td>0.698763<\/td>\n",
       "      <td>6609.374098<\/td>\n",
       "      <td>0.658953<\/td>\n",
       "      <td>1<\/td>\n",
       "      <td>0.413519<\/td>\n",
       "    <\/tr>\n",
       "    <tr>\n",
       "      <th>7<\/th>\n",
       "      <td>XGBoost<\/td>\n",
       "      <td>0.895422<\/td>\n",
       "      <td>0.699573<\/td>\n",
       "      <td>6600.481045<\/td>\n",
       "      <td>0.654289<\/td>\n",
       "      <td>2<\/td>\n",
       "      <td>0.410936<\/td>\n",
       "    <\/tr>\n",
       "    <tr>\n",
       "      <th>10<\/th>\n",
       "      <td>XGBoost<\/td>\n",
       "      <td>0.885787<\/td>\n",
       "      <td>0.695978<\/td>\n",
       "      <td>6639.849199<\/td>\n",
       "      <td>0.650713<\/td>\n",
       "      <td>3<\/td>\n",
       "      <td>0.398141<\/td>\n",
       "    <\/tr>\n",
       "    <tr>\n",
       "      <th>13<\/th>\n",
       "      <td>XGBoost<\/td>\n",
       "      <td>0.89146<\/td>\n",
       "      <td>0.693365<\/td>\n",
       "      <td>6668.327609<\/td>\n",
       "      <td>0.655115<\/td>\n",
       "      <td>4<\/td>\n",
       "      <td>0.395862<\/td>\n",
       "    <\/tr>\n",
       "  <\/tbody>\n",
       "<\/table>\n",
       "<\/div>"
      ]
     },
     "metadata":{
      
     },
     "output_type":"display_data"
    }
   ],
   "metadata":{
    "datalore":{
     "node_id":"ZxMNrQMWSg0CpAb0QWVr0c",
     "type":"CODE",
     "hide_input_from_viewers":true,
     "hide_output_from_viewers":true
    }
   }
  },
  {
   "cell_type":"code",
   "source":[
    "top4[top4['crit'] == top4['crit'].max()]"
   ],
   "execution_count":26,
   "outputs":[
    {
     "data":{
      "text\/html":[
       "<div>\n",
       "<style scoped>\n",
       "    .dataframe tbody tr th:only-of-type {\n",
       "        vertical-align: middle;\n",
       "    }\n",
       "\n",
       "    .dataframe tbody tr th {\n",
       "        vertical-align: top;\n",
       "    }\n",
       "\n",
       "    .dataframe thead th {\n",
       "        text-align: right;\n",
       "    }\n",
       "<\/style>\n",
       "<table border=\"1\" class=\"dataframe\">\n",
       "  <thead>\n",
       "    <tr style=\"text-align: right;\">\n",
       "      <th><\/th>\n",
       "      <th>model_name<\/th>\n",
       "      <th>score_for_train<\/th>\n",
       "      <th>score_for_test<\/th>\n",
       "      <th>mean_sq_er<\/th>\n",
       "      <th>score_CV<\/th>\n",
       "      <th>variant<\/th>\n",
       "      <th>crit<\/th>\n",
       "    <\/tr>\n",
       "  <\/thead>\n",
       "  <tbody>\n",
       "    <tr>\n",
       "      <th>4<\/th>\n",
       "      <td>XGBoost<\/td>\n",
       "      <td>0.888282<\/td>\n",
       "      <td>0.698763<\/td>\n",
       "      <td>6609.374098<\/td>\n",
       "      <td>0.658953<\/td>\n",
       "      <td>1<\/td>\n",
       "      <td>0.413519<\/td>\n",
       "    <\/tr>\n",
       "  <\/tbody>\n",
       "<\/table>\n",
       "<\/div>"
      ]
     },
     "metadata":{
      
     },
     "output_type":"display_data"
    }
   ],
   "metadata":{
    "datalore":{
     "node_id":"GrITImcRwODSGRTS33enO9",
     "type":"CODE",
     "hide_input_from_viewers":true,
     "hide_output_from_viewers":true
    }
   }
  },
  {
   "cell_type":"markdown",
   "source":[
    "# Висновок\n",
    "### Накращий результат показав XGBoost при першому варіанти трансформування даних (райони - dummies, к-сть кімнат - без змін)\n",
    "- Score_train 88.83%\n",
    "- Score_test 69.88%\n",
    "- MSE 6609\n",
    "- Score_CV 65.90%"
   ],
   "attachments":{
    
   },
   "metadata":{
    "datalore":{
     "node_id":"5O0tlBL0UdMprCK3FIv2qh",
     "type":"MD",
     "hide_input_from_viewers":true,
     "hide_output_from_viewers":true
    }
   }
  },
  {
   "cell_type":"markdown",
   "source":[
    "# Міркування\n",
    "#### Не дивлячись на занадто малу кількість даних о квартирах (ми не знали ні стан квартири, бо вбиті апартаменти навіть на Печерську здаються дешевше, ніж круті на Святошину; ніякої інформації про ремонт, бо дизайнерьский ремонт та білі блогерські квартирки дорожче звичайних; не було даних про наявну техніку, бо логічно, що гарна плазма та теплі поли зарєшають; не знали нічого про будинок, бо є Тетріс Холл, а поруч з ним стоїть хрущовка; та елітність вулиці, бо навіть на Оболоні є вулиці однаково близькі до метро, але їх престижність дуже відрізняється)"
   ],
   "attachments":{
    
   },
   "metadata":{
    "datalore":{
     "node_id":"fwG7EgGItyR2xehylhc2Vt",
     "type":"MD",
     "hide_input_from_viewers":true,
     "hide_output_from_viewers":true
    }
   }
  },
  {
   "cell_type":"markdown",
   "source":[
    "# Ідеї покращення прогнозів\n",
    "#### Запровадити алгоритми для аналізу фото квартири та її опису"
   ],
   "attachments":{
    
   },
   "metadata":{
    "datalore":{
     "node_id":"F131RYAMP5FCqAhc9RFPg2",
     "type":"MD",
     "hide_input_from_viewers":true,
     "hide_output_from_viewers":true
    }
   }
  }
 ],
 "metadata":{
  "kernelspec":{
   "display_name":"Python",
   "language":"python",
   "name":"python"
  },
  "datalore":{
   "computation_mode":"JUPYTER",
   "package_manager":"pip",
   "base_environment":"default",
   "packages":[
    
   ],
   "report_row_ids":[
    
   ],
   "version":3
  }
 },
 "nbformat":4,
 "nbformat_minor":4
}