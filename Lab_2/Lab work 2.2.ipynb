{
 "cells":[
  {
   "cell_type":"markdown",
   "source":[
    "___\n",
    "\n",
    "<a href='https:\/\/mainacademy.ua\/'> <img src='https:\/\/mainacademy.ua\/wp-content\/uploads\/2019\/03\/logo-main.png' alt = 'Хмм, щось з інтернетом'\/><\/a>\n",
    "___\n",
    "\n",
    "# Module 2: Basic Python"
   ],
   "attachments":{
    
   },
   "metadata":{
    "datalore":{
     "node_id":"0fRwW1jTqxhSO9tXyr63cs",
     "type":"MD",
     "hide_input_from_viewers":false,
     "hide_output_from_viewers":false,
     "report_properties":{
      
     }
    }
   }
  },
  {
   "cell_type":"markdown",
   "source":[
    "## Lab work 2.2\n"
   ],
   "attachments":{
    
   },
   "metadata":{
    "datalore":{
     "node_id":"qG5nmtU6xOstq1tBUH9GhW",
     "type":"MD",
     "hide_input_from_viewers":false,
     "hide_output_from_viewers":false,
     "report_properties":{
      
     }
    }
   }
  },
  {
   "cell_type":"markdown",
   "source":[
    "#### Мета: \n",
    "\n",
    "* навчитися працювати із основними інструкціями Python;\n",
    "* ознайомитися із базовими алгоритмами;"
   ],
   "attachments":{
    
   },
   "metadata":{
    "datalore":{
     "node_id":"gDp17Ne2hMVyhbvYcXdb6L",
     "type":"MD",
     "hide_input_from_viewers":false,
     "hide_output_from_viewers":false,
     "report_properties":{
      
     }
    }
   }
  },
  {
   "cell_type":"markdown",
   "source":[
    "### Завдання 1"
   ],
   "attachments":{
    
   },
   "metadata":{
    "datalore":{
     "node_id":"APBDJ9CwN0trT5oNchw3ya",
     "type":"MD",
     "hide_input_from_viewers":false,
     "hide_output_from_viewers":false,
     "report_properties":{
      
     }
    }
   }
  },
  {
   "cell_type":"markdown",
   "source":[
    "Для трьох введених натуральних чисел (користувач вводить числа через пробіл) знайдіть мінімальне та максимальне"
   ],
   "attachments":{
    
   },
   "metadata":{
    "datalore":{
     "node_id":"d6jJ0b9AkJIr0NhS6mfUuZ",
     "type":"MD",
     "hide_input_from_viewers":false,
     "hide_output_from_viewers":false,
     "report_properties":{
      
     }
    }
   }
  },
  {
   "cell_type":"code",
   "source":[
    "numbers = input()\n",
    "numbers = numbers.split()\n",
    "\n",
    "maxx = int(numbers[0])\n",
    "minn = int(numbers[0])\n",
    "\n",
    "for i in numbers:\n",
    "    i = int(i)\n",
    "    if i > maxx:\n",
    "        maxx = i\n",
    "    elif i < minn:\n",
    "        minn = i\n",
    "\n",
    "print(\"Максимальне число: \", maxx)\n",
    "print(\"Мінімальне число: \", minn)\n",
    "\n"
   ],
   "execution_count":3,
   "outputs":[
    {
     "name":"stdout",
     "text":[
      " 56 78 6\n",
      "Максимальне число:  78\n",
      "Мінімальне число:  6\n"
     ],
     "output_type":"stream"
    }
   ],
   "metadata":{
    "datalore":{
     "node_id":"y20L3gwhqwfheOqrBczcKp",
     "type":"CODE",
     "hide_input_from_viewers":false,
     "hide_output_from_viewers":false,
     "report_properties":{
      
     }
    }
   }
  },
  {
   "cell_type":"markdown",
   "source":[
    "### Завдання 2"
   ],
   "attachments":{
    
   },
   "metadata":{
    "datalore":{
     "node_id":"RFl6KL6mJYJdUZxb9X5sGv",
     "type":"MD",
     "hide_input_from_viewers":false,
     "hide_output_from_viewers":false,
     "report_properties":{
      
     }
    }
   }
  },
  {
   "cell_type":"markdown",
   "source":[
    "Програма приймає на вхід два параметри: стать спортсмена(`sex = (f, m)`) та вік спортсмена(`age = [0,100]`).  Спортсмен-дівчина може брати участь у змаганні, якщо її вік більший 18, спортсмен-хлопець - якщо вік більший 16\n",
    "\n",
    "Якщо введеніть не коректні дані, виведіть повідомлення про помилку"
   ],
   "attachments":{
    
   },
   "metadata":{
    "datalore":{
     "node_id":"13OQ6I7PbVN1vWlPGctdS7",
     "type":"MD",
     "hide_input_from_viewers":false,
     "hide_output_from_viewers":false,
     "report_properties":{
      
     }
    }
   }
  },
  {
   "cell_type":"code",
   "source":[
    "sex = input()\n",
    "age = float(input())\n",
    "\n",
    "if sex == \"f\":\n",
    "    if 18 <= age <= 100:\n",
    "        print(\"Участь дозволена\")\n",
    "    elif 0 <= age < 18:\n",
    "        print(\"Участь не дозволено\")\n",
    "    else:\n",
    "        print(\"Неправильно введений вік\")\n",
    "\n",
    "elif sex == \"m\":\n",
    "    if 16 <= age <= 100:\n",
    "        print(\"Участь дозволена\")\n",
    "    elif 0 <= age < 16:\n",
    "        print(\"Участь не дозволено\")\n",
    "    else:\n",
    "        print(\"Неправильно введений вік\")\n",
    "\n",
    "else:\n",
    "    print(\"Неправильно введена стать\")\n"
   ],
   "execution_count":5,
   "outputs":[
    {
     "name":"stdout",
     "text":[
      " f\n",
      " 34\n",
      "Участь дозволена\n"
     ],
     "output_type":"stream"
    }
   ],
   "metadata":{
    "datalore":{
     "node_id":"nJ6TyG9gFPot0eO3TlkaZ5",
     "type":"CODE",
     "hide_input_from_viewers":false,
     "hide_output_from_viewers":false,
     "report_properties":{
      
     }
    }
   }
  },
  {
   "cell_type":"markdown",
   "source":[
    "### Завдання 3"
   ],
   "attachments":{
    
   },
   "metadata":{
    "datalore":{
     "node_id":"q16NDHAE6yAypIPOYomJLe",
     "type":"MD",
     "hide_input_from_viewers":false,
     "hide_output_from_viewers":false,
     "report_properties":{
      
     }
    }
   }
  },
  {
   "cell_type":"markdown",
   "source":[
    "Для введеного натурального числа побудуйте драбинку. \n",
    "\n",
    "Наприклад, якщо N = 5, драбинка буде мати вигляд:\n",
    "    \n",
    "&\n",
    "\n",
    "&&\n",
    "\n",
    "&&&\n",
    "\n",
    "&&&&\n",
    "\n",
    "&&&&&"
   ],
   "attachments":{
    
   },
   "metadata":{
    "datalore":{
     "node_id":"uKftUzdntQBSjuKPXxeQOf",
     "type":"MD",
     "hide_input_from_viewers":false,
     "hide_output_from_viewers":false,
     "report_properties":{
      
     }
    }
   }
  },
  {
   "cell_type":"code",
   "source":[
    "N = int(input())\n",
    "for i in range(N):\n",
    "    print(\"&\"*(i+1))\n",
    "\n"
   ],
   "execution_count":12,
   "outputs":[
    {
     "name":"stdout",
     "text":[
      " 5\n",
      "&\n",
      "&&\n",
      "&&&\n",
      "&&&&\n",
      "&&&&&\n"
     ],
     "output_type":"stream"
    }
   ],
   "metadata":{
    "datalore":{
     "node_id":"pKtemqae3d5JtB6nMsPRR1",
     "type":"CODE",
     "hide_input_from_viewers":false,
     "hide_output_from_viewers":false,
     "report_properties":{
      
     }
    }
   }
  },
  {
   "cell_type":"markdown",
   "source":[
    "### Завдання 4"
   ],
   "attachments":{
    
   },
   "metadata":{
    "datalore":{
     "node_id":"mfArwjoOLUzoy7tYaI2snf",
     "type":"MD",
     "hide_input_from_viewers":false,
     "hide_output_from_viewers":false,
     "report_properties":{
      
     }
    }
   }
  },
  {
   "cell_type":"markdown",
   "source":[
    "Із заданого речення виведіть кожне слово і його довжину"
   ],
   "attachments":{
    
   },
   "metadata":{
    "datalore":{
     "node_id":"DVfgj4JH1WgYPAVrvW3aTF",
     "type":"MD",
     "hide_input_from_viewers":false,
     "hide_output_from_viewers":false,
     "report_properties":{
      
     }
    }
   }
  },
  {
   "cell_type":"code",
   "source":[
    "sentence = 'My favourite tutor in academy is Ihor'\n",
    "sentence = sentence.split()\n",
    "for i in sentence:\n",
    "    print(f\"Слово: {i}, довжина слова: {len(i)}\")\n",
    "\n"
   ],
   "execution_count":13,
   "outputs":[
    {
     "name":"stdout",
     "text":[
      "Слово: My, довжина слова: 2\n",
      "Слово: favourite, довжина слова: 9\n",
      "Слово: tutor, довжина слова: 5\n",
      "Слово: in, довжина слова: 2\n",
      "Слово: academy, довжина слова: 7\n",
      "Слово: is, довжина слова: 2\n",
      "Слово: Ihor, довжина слова: 4\n"
     ],
     "output_type":"stream"
    }
   ],
   "metadata":{
    "datalore":{
     "node_id":"3JbLLQl4nYYx5cRPdsPVXy",
     "type":"CODE",
     "hide_input_from_viewers":false,
     "hide_output_from_viewers":false,
     "report_properties":{
      
     }
    }
   }
  },
  {
   "cell_type":"markdown",
   "source":[
    "### Завдання 5"
   ],
   "attachments":{
    
   },
   "metadata":{
    "datalore":{
     "node_id":"eAiPVqFMxeFbenFszBD2Lk",
     "type":"MD",
     "hide_input_from_viewers":false,
     "hide_output_from_viewers":false,
     "report_properties":{
      
     }
    }
   }
  },
  {
   "cell_type":"markdown",
   "source":[
    "Для заданого тексту реалізуйте:\n",
    "* Знайдіть кількість слів\n",
    "* Знайдіть кількість унікальних слів\n",
    "* Своірть словник, де ключе буде слово із тексту, значенням - частота зустрічання в тексті\n",
    "* Виведіть топ-3 слів, що найчастіше зустрічаються\n",
    "\n",
    "Вважаємо, що слово це стрічка з трьох і більше букв, очищена від знаків пунктуації"
   ],
   "attachments":{
    
   },
   "metadata":{
    "datalore":{
     "node_id":"NKIqbG90BosLPy9gOGXvll",
     "type":"MD",
     "hide_input_from_viewers":false,
     "hide_output_from_viewers":false,
     "report_properties":{
      
     }
    }
   }
  },
  {
   "cell_type":"code",
   "source":[
    "text = \"\"\"До чого ж гарно і весело було в нашому горóді! Ото як вийти з сіней та подивись навколо — геть-чисто все зелене та буйне. А сад було як зацвіте весною! А що робилось на початку літа — огірки цвітуть, гарбузи цвітуть, картопля цвіте. Цвіте малина, смородина, тютюн, квасоля. А соняшника, а маку, буряків, лободи, укропу, моркви! Чого тільки не насадить наша невгамовна мати.\n",
    "\n",
    "— Нічого в світі так я не люблю, як саджати що-небудь у землю, щоб проізростало. Коли вилізає з землі всяка рослиночка, ото мені радість,— любила проказувати вона.\n",
    "\n",
    "Город до того переповнявсь рослинами, що десь серед літа вони вже не вміщалися в ньому. Вони лізли одна на одну, переплітались, душились, дерлися на хлів, на стріху, повзли на тин, а гарбузи звисали з тину прямо на вулицю.\n",
    "\n",
    "А малини — красної, білої! А вишень, а груш солодких, було. як наїсися,— цілий день живіт як бубон.\n",
    "\n",
    "І росло ще, пригадую, багато тютюну, в якому ми, маленькі, ходили, мов у лісі, в якому пізнали перші мозолі на дитячих руках.\n",
    "\n",
    "А вздовж тину, за старою повіткою, росли великі кущі смородини, бузини і ще якихось невідомих рослин. Там неслися кури нишком од матері і різне дрібне птаство. Туди ми рідко лазили. Там було темно навіть удень, і ми боялись гадюки. Хто з нас у дитинстві не боявся гадюки, так за все життя й не побачивши її ніде?\n",
    "\n",
    "Коло хати, що стояла в саду, цвіли квіти, а за хатою, проти сінешніх дверей, коло вишень,— поросла полином стара погребня з одкритою лядою, звідки завжди пахло цвіллю. Там, у льоху, в присмерку плигали жаби. Напевно, там водилися й гадюки.\n",
    "\n",
    "На погребні любив спати дід.\n",
    "\n",
    "У нас був дід дуже схожий на бога. Коли я молився богу, я завжди бачив на покуті портрет діда в старих срібнофольгових шатах, а сам дід лежав на печі і тихо кашляв, слухаючи своїх молитов.\n",
    "\n",
    "У неділю перед богами горіла маленька синенька лампадка, в яку завжди набиралось повно мух. Образ святого Миколая також був схожий на діда, особливо коли дід часом підстригав собі бороду і випивав перед обідом чарку горілки з перцем, і мати не лаялась. Святий Федосій більш скидався на батька. Федосію я не молився, в нього була ще темна борода, а в руці гирлига, одягнена чомусь у білу хустку. А от бог, схожий на діда, той тримав в одній руці круглу сільничку, а трьома пýчками другої неначе збирався взяти зубок часнику\n",
    "Звали нашого діда, як я вже потім довідавсь, Семеном. Він був високий і худий, і чоло в нього високе, хвилясте довге волосся сиве, а борода біла. І була в нього велика грижа ще з молодих чумацьких літ. Пахнув дід теплою землею і трохи млином. Він був письменний по-церковному і в неділю любив урочисто читати псалтир. Ні дід, ні ми не розуміли прочитаного, і це завжди хвилювало нас, як дивна таємниця, що надавала прочитаному особливого, небуденного смислу.\n",
    "\n",
    "Мати ненавиділа діда і вважала його за чорнокнижника. Ми не вірили матері і захищали діда од її нападів, бо псалтир всередині був не чорний, а білий, а товста шкіряна палітурка — коричнева, як гречаний мед чи стара халява. Зрештою, мати крадькома таки знищила псалтир. Вона спалила його в печі по одному листочку, боячись палити зразу весь, щоб він часом не вибухнув і не розніс печі.\n",
    "\n",
    "Любив дід гарну бесіду й добре слово. Часом по дорозі на луг, коли хто питав у нього дорогу на Борзну чи на Батурин, він довго стояв посеред шляху і, махаючи пужалном, гукав услід подорожньому:\n",
    "\n",
    "— Прямо, та й прямо, та й прямо, та й нікуди ж не звертайте!.. Добра людина поїхала, дай їй бог здоров'я,— зітхав він лагідно, коли подорожній нарешті зникав у кущах.\n",
    "\n",
    "— А хто вона, діду, людина ота? Звідки вона?\n",
    "\n",
    "— А бог її знає, хіба я знаю... Ну, чого стоїш як укопаний? — звертався дід до коня, сідаючи на воза.— Но, трогай-бо, ну...\n",
    "\n",
    "Він був наш добрий дух лугу і риби. Гриби й ягоди збирав він у лісі краще за нас усіх і розмовляв з кіньми, з телятами, з травами, з старою грушею і дубом — з усім живим, що росло і рухалось навколо.\n",
    "Більш за все на світі любив дід сонце. Він прожив під сонцем коло ста літ, ніколи не ховаючись у холодок. Так під сонцем на погребні, коло яблуні, він і помер, коли прийшов його час.\n",
    "\n",
    "Дід любив кашляти. Кашляв він часом так довго й гучно, що скільки ми не старалися, ніхто не міг його як слід передражнити. Його кашель чув увесь куток. Старі люди по дідовому кашлю вгадували навіть погоду.\n",
    "\"\"\"\n",
    "import string\n",
    "\n",
    "text = ''.join(c for c in text if c not in string.punctuation) #чистимо від знаків пунктуації\n",
    "text = text.split() #розбиваємо на слова\n",
    "\n",
    "words = {}\n",
    "count = 0\n",
    "\n",
    "for i in text:  #заповнюємо словник\n",
    "    if len(i) >= 3:\n",
    "        count = count + 1\n",
    "        words[i] = int(words.get(i, 0))+1\n",
    "\n",
    "\n",
    "\n",
    "\n",
    "uniq_count = 0  #шукаємо кількість унікальний слів та топ-3 повторювальних\n",
    "val = list(words.values()) #створили список зі значеннями словника, відсортували, подивилися на топ-3\n",
    "val.sort()\n",
    "top3 = []\n",
    "    \n",
    "for key in words:\n",
    "    if int(words[key]) == 1: #якщо унікальне\n",
    "        uniq_count = uniq_count + 1\n",
    "    if int(words[key]) == val[-1] or int(words[key]) == val[-2] or int(words[key]) == val[-3]: #ось тут пошук топових\n",
    "        top3.append(key)\n",
    "        \n",
    "print(\"Всього слів: \", count)\n",
    "print(\"Унікальних слів: \", uniq_count )\n",
    "print(\"Топ-3 слова: \", *top3)\n",
    "\n",
    "print(\"=======\")\n",
    "for i in top3:\n",
    "    print(i, words[i])\n"
   ],
   "execution_count":2,
   "outputs":[
    {
     "name":"stdout",
     "text":[
      "Всього слів:  537\n",
      "Унікальних слів:  379\n",
      "Топ-3 слова:  дід був діда він\n",
      "=======\n",
      "дід 9\n",
      "був 6\n",
      "діда 6\n",
      "він 6\n"
     ],
     "output_type":"stream"
    }
   ],
   "metadata":{
    "datalore":{
     "node_id":"K5y6ELZ2hquLcJAjA1QlEf",
     "type":"CODE",
     "hide_input_from_viewers":false,
     "hide_output_from_viewers":false,
     "report_properties":{
      
     }
    }
   }
  },
  {
   "cell_type":"markdown",
   "source":[
    "### Завдання 6 "
   ],
   "attachments":{
    
   },
   "metadata":{
    "datalore":{
     "node_id":"G7gghV1zJGoLcmJxumj8yA",
     "type":"MD",
     "hide_input_from_viewers":false,
     "hide_output_from_viewers":false,
     "report_properties":{
      
     }
    }
   }
  },
  {
   "cell_type":"markdown",
   "source":[
    "Напишіть функції, що:\n",
    "* рохраховує мінімальне та максимальне значення\n",
    "* середнє значення послідовності\n",
    "* медіану послідовності\n",
    "* частоту кожної цифри в послідовності\n",
    "* середнє квадратичне відхилення\n",
    "\n",
    "Послідовність чисел ганеруємо рандомно"
   ],
   "attachments":{
    
   },
   "metadata":{
    "datalore":{
     "node_id":"TtYVR0sTqBqMvPPWaSKzqi",
     "type":"MD",
     "hide_input_from_viewers":false,
     "hide_output_from_viewers":false,
     "report_properties":{
      
     }
    }
   }
  },
  {
   "cell_type":"code",
   "source":[
    "import random\n",
    "\n",
    "#генеруэмо тисячу чисел в діапазоні від 0 до 10\n",
    "list_with_random_numbers = [random.randint(0,100) for i in range(10)]\n",
    "\n",
    "def min_and_max(intlist): #пошук максимального і мінімального\n",
    "    max = intlist[0]\n",
    "    min = intlist[0]\n",
    "    for i in intlist:\n",
    "        if i > max:\n",
    "            max = i\n",
    "        if i < min:\n",
    "            min = i\n",
    "    return max, min\n",
    "\n",
    "def mean(intlist):  #середнє\n",
    "    summ = 0\n",
    "    for i in intlist:\n",
    "        summ = summ + i\n",
    "    return summ\/len(intlist)\n",
    "\n",
    "def mediana(intlist):  #медіана\n",
    "    l = len(intlist)\n",
    "    intlist.sort()\n",
    "    if l%2 == 1:\n",
    "        return intlist[int((l - 1)\/2)]  #якщо кількість чисел непарна,  то беремо те, що посередині \n",
    "    else:\n",
    "        return (intlist[int(l\/2)] + intlist[int(l\/2 - 1)])\/2   #якщо к-сть чисел парна, то беремо середнє арифметичне \n",
    "    \n",
    "def frequency(intlist):    #шукаємо к-сть цифр\n",
    "    number = []\n",
    "    for n in intlist:     #розбиваємо на числа\n",
    "        for k in str(n):   #розбиваємо на цифри\n",
    "            number.append(k)\n",
    "\n",
    "    for n in range(10):\n",
    "        print(n, \": \", number.count(str(n))) \n",
    "\n",
    "def deviation(intlist):   #шукаємо середню квадратичну помилку\n",
    "    m = mean(intlist)\n",
    "    summ = 0\n",
    "    for i in intlist:\n",
    "        summ = summ + (i - m)**2\n",
    "    return (summ\/len(intlist))**0.5\n",
    "\n",
    "print(*list_with_random_numbers)\n",
    "print(\"Максимальне і мінімальне: \", min_and_max(list_with_random_numbers))\n",
    "print(\"Медіана: \", mediana(list_with_random_numbers))\n",
    "print(\"Середнє арифметичне: \", mean(list_with_random_numbers))\n",
    "print(\"STD: \", deviation(list_with_random_numbers))\n",
    "print(\"Частота цифр\")\n",
    "frequency(list_with_random_numbers)\n",
    "\n",
    "                    "
   ],
   "execution_count":3,
   "outputs":[
    {
     "name":"stdout",
     "text":[
      "82 20 52 86 28 9 42 85 48 33\n",
      "Максимальне і мінімальне:  (86, 9)\n",
      "Медіана:  45.0\n",
      "Середнє арифметичне:  48.5\n",
      "STD:  26.360007587252323\n",
      "Частота цифр\n",
      "0 :  1\n",
      "1 :  0\n",
      "2 :  5\n",
      "3 :  2\n",
      "4 :  2\n",
      "5 :  2\n",
      "6 :  1\n",
      "7 :  0\n",
      "8 :  5\n",
      "9 :  1\n"
     ],
     "output_type":"stream"
    }
   ],
   "metadata":{
    "datalore":{
     "node_id":"1y7o3PcKjqLjMsqOdEUFSb",
     "type":"CODE",
     "hide_input_from_viewers":false,
     "hide_output_from_viewers":false,
     "report_properties":{
      
     }
    }
   }
  }
 ],
 "metadata":{
  "kernelspec":{
   "display_name":"Python",
   "language":"python",
   "name":"python"
  },
  "datalore":{
   "version":1,
   "computation_mode":"JUPYTER",
   "package_manager":"pip",
   "base_environment":"default",
   "packages":[
    
   ]
  }
 },
 "nbformat":4,
 "nbformat_minor":4
}