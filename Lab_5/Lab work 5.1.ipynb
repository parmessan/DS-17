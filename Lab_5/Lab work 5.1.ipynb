{
 "cells":[
  {
   "cell_type":"markdown",
   "source":[
    "___\n",
    "\n",
    "<a href='https:\/\/mainacademy.ua\/'> <img src='https:\/\/mainacademy.ua\/wp-content\/uploads\/2019\/03\/logo-main.png' alt = 'Хмм, щось з інтернетом'\/><\/a>\n",
    "___\n",
    "\n",
    "# Module 5: Data analysis with NumPy and Pandas"
   ],
   "attachments":{
    
   },
   "metadata":{
    "datalore":{
     "node_id":"s5sQa9L7PnVOA8TUt5N7P1",
     "type":"MD",
     "hide_input_from_viewers":false,
     "hide_output_from_viewers":false,
     "report_properties":{
      "rowId":"jkS2al6WWFCSNTjhSAcvnE"
     }
    }
   }
  },
  {
   "cell_type":"markdown",
   "source":[
    "## Lab work 5.1\n"
   ],
   "attachments":{
    
   },
   "metadata":{
    "datalore":{
     "node_id":"cIA2LABxqFZavuduT8SbHP",
     "type":"MD",
     "hide_input_from_viewers":false,
     "hide_output_from_viewers":false,
     "report_properties":{
      "rowId":"U7h5fl1mufd32YJ2jAgbJE"
     }
    }
   }
  },
  {
   "cell_type":"markdown",
   "source":[
    "#### Мета: \n",
    "\n",
    "* навчитися працювати із бібліотекою NumPy в Python"
   ],
   "attachments":{
    
   },
   "metadata":{
    "datalore":{
     "node_id":"2UIqxUZxyZaFHhGB9MV5aD",
     "type":"MD",
     "hide_input_from_viewers":false,
     "hide_output_from_viewers":false,
     "report_properties":{
      "rowId":"nYEBIKUPr5CJNAsoHLp8Bg"
     }
    }
   }
  },
  {
   "cell_type":"markdown",
   "source":[
    "### Завдання:"
   ],
   "attachments":{
    
   },
   "metadata":{
    "datalore":{
     "node_id":"iXt2thZ5Aqn1jJVWux1Mfj",
     "type":"MD",
     "hide_input_from_viewers":false,
     "hide_output_from_viewers":false,
     "report_properties":{
      "rowId":"citp9ibjGWpXBDtF008qIE"
     }
    }
   }
  },
  {
   "cell_type":"code",
   "source":[
    "import numpy as np"
   ],
   "execution_count":1,
   "outputs":[
    
   ],
   "metadata":{
    "datalore":{
     "node_id":"3pEhK3beHTA0Ge7A37mEsh",
     "type":"CODE",
     "hide_input_from_viewers":false,
     "hide_output_from_viewers":false,
     "report_properties":{
      "rowId":"Quzv60hG6VphVcJ9u4Nj10"
     }
    }
   }
  },
  {
   "cell_type":"markdown",
   "source":[
    "# Вивести версію та конфігурацію бібліотеки:"
   ],
   "attachments":{
    
   },
   "metadata":{
    "datalore":{
     "node_id":"K5Z0GozeVcLKxa5gyrc1wZ",
     "type":"MD",
     "hide_input_from_viewers":false,
     "hide_output_from_viewers":false,
     "report_properties":{
      "rowId":"Lyxg026MT2Hu8wmHSYk6xC"
     }
    }
   }
  },
  {
   "cell_type":"code",
   "source":[
    "# Версія бібліотеки numpy\n",
    "print(\"Версія numpy:\", np.__version__)\n",
    "\n",
    "# Конфігурація бібліотеки numpy\n",
    "print(\"Конфігурація numpy:\")\n",
    "np.show_config()"
   ],
   "execution_count":2,
   "outputs":[
    {
     "name":"stdout",
     "text":[
      "Версія numpy: 1.23.5\n",
      "Конфігурація numpy:\n",
      "openblas64__info:\n",
      "    libraries = ['openblas64_', 'openblas64_']\n",
      "    library_dirs = ['\/usr\/local\/lib']\n",
      "    language = c\n",
      "    define_macros = [('HAVE_CBLAS', None), ('BLAS_SYMBOL_SUFFIX', '64_'), ('HAVE_BLAS_ILP64', None)]\n",
      "    runtime_library_dirs = ['\/usr\/local\/lib']\n",
      "blas_ilp64_opt_info:\n",
      "    libraries = ['openblas64_', 'openblas64_']\n",
      "    library_dirs = ['\/usr\/local\/lib']\n",
      "    language = c\n",
      "    define_macros = [('HAVE_CBLAS', None), ('BLAS_SYMBOL_SUFFIX', '64_'), ('HAVE_BLAS_ILP64', None)]\n",
      "    runtime_library_dirs = ['\/usr\/local\/lib']\n",
      "openblas64__lapack_info:\n",
      "    libraries = ['openblas64_', 'openblas64_']\n",
      "    library_dirs = ['\/usr\/local\/lib']\n",
      "    language = c\n",
      "    define_macros = [('HAVE_CBLAS', None), ('BLAS_SYMBOL_SUFFIX', '64_'), ('HAVE_BLAS_ILP64', None), ('HAVE_LAPACKE', None)]\n",
      "    runtime_library_dirs = ['\/usr\/local\/lib']\n",
      "lapack_ilp64_opt_info:\n",
      "    libraries = ['openblas64_', 'openblas64_']\n",
      "    library_dirs = ['\/usr\/local\/lib']\n",
      "    language = c\n",
      "    define_macros = [('HAVE_CBLAS', None), ('BLAS_SYMBOL_SUFFIX', '64_'), ('HAVE_BLAS_ILP64', None), ('HAVE_LAPACKE', None)]\n",
      "    runtime_library_dirs = ['\/usr\/local\/lib']\n",
      "Supported SIMD extensions in this NumPy install:\n",
      "    baseline = SSE,SSE2,SSE3\n",
      "    found = SSSE3,SSE41,POPCNT,SSE42,AVX,F16C,FMA3,AVX2\n",
      "    not found = AVX512F,AVX512CD,AVX512_KNL,AVX512_KNM,AVX512_SKX,AVX512_CLX,AVX512_CNL,AVX512_ICL\n"
     ],
     "output_type":"stream"
    }
   ],
   "metadata":{
    "datalore":{
     "node_id":"Ow5NrWQVQuh2hb0TKoJ0zS",
     "type":"CODE",
     "hide_input_from_viewers":false,
     "hide_output_from_viewers":false,
     "report_properties":{
      "rowId":"nRDRQq5yKTxITz9dnkwj0z"
     }
    }
   }
  },
  {
   "cell_type":"markdown",
   "source":[
    "Створити вектор з 10 елементів, заповнений одиницями:"
   ],
   "attachments":{
    
   },
   "metadata":{
    "datalore":{
     "node_id":"jsHjjYjun69zujT0QfRQkd",
     "type":"MD",
     "hide_input_from_viewers":false,
     "hide_output_from_viewers":false,
     "report_properties":{
      "rowId":"ni0rSkLbypbUbzW7S6HQRL"
     }
    }
   }
  },
  {
   "cell_type":"code",
   "source":[
    "v = np.ones(10)\n",
    "\n",
    "print(v)"
   ],
   "execution_count":3,
   "outputs":[
    {
     "name":"stdout",
     "text":[
      "[1. 1. 1. 1. 1. 1. 1. 1. 1. 1.]\n"
     ],
     "output_type":"stream"
    }
   ],
   "metadata":{
    "datalore":{
     "node_id":"MOz7lAHZfauFwrU1HXn3nH",
     "type":"CODE",
     "hide_input_from_viewers":false,
     "hide_output_from_viewers":false,
     "report_properties":{
      "rowId":"nRsNonrx7k0yrTsznqh85x"
     }
    }
   }
  },
  {
   "cell_type":"markdown",
   "source":[
    "Створити вектор із значеннями від 0 до 10:"
   ],
   "attachments":{
    
   },
   "metadata":{
    "datalore":{
     "node_id":"fW36brYWjX40ll6uBZtZDV",
     "type":"MD",
     "hide_input_from_viewers":false,
     "hide_output_from_viewers":false,
     "report_properties":{
      "rowId":"rzwtIyovM0UMuRjuftAXr1"
     }
    }
   }
  },
  {
   "cell_type":"code",
   "source":[
    "v = np.arange(0, 11)\n",
    "\n",
    "print(v)"
   ],
   "execution_count":4,
   "outputs":[
    {
     "name":"stdout",
     "text":[
      "[ 0  1  2  3  4  5  6  7  8  9 10]\n"
     ],
     "output_type":"stream"
    }
   ],
   "metadata":{
    "datalore":{
     "node_id":"cHN2sMeME8EIfVSneuO2OA",
     "type":"CODE",
     "hide_input_from_viewers":false,
     "hide_output_from_viewers":false,
     "report_properties":{
      "rowId":"TV66ZbEjtZGz4iP1k1gEkH"
     }
    }
   }
  },
  {
   "cell_type":"markdown",
   "source":[
    "Створити матрицю 5 на 5, заповнену нулями:"
   ],
   "attachments":{
    
   },
   "metadata":{
    "datalore":{
     "node_id":"KrD4kKcEAMCIBXBiRaCMON",
     "type":"MD",
     "hide_input_from_viewers":false,
     "hide_output_from_viewers":false,
     "report_properties":{
      "rowId":"yF3RU2whHYxz3GeFbaU2Pk"
     }
    }
   }
  },
  {
   "cell_type":"code",
   "source":[
    "v = np.zeros((5, 5))\n",
    "\n",
    "print(v)"
   ],
   "execution_count":5,
   "outputs":[
    {
     "name":"stdout",
     "text":[
      "[[0. 0. 0. 0. 0.]\n",
      " [0. 0. 0. 0. 0.]\n",
      " [0. 0. 0. 0. 0.]\n",
      " [0. 0. 0. 0. 0.]\n",
      " [0. 0. 0. 0. 0.]]\n"
     ],
     "output_type":"stream"
    }
   ],
   "metadata":{
    "datalore":{
     "node_id":"79mfnHFkXnB5HuIPVaFZyj",
     "type":"CODE",
     "hide_input_from_viewers":false,
     "hide_output_from_viewers":false,
     "report_properties":{
      "rowId":"DSd5XSL6MWNsoGOD3Cg0YZ"
     }
    }
   }
  },
  {
   "cell_type":"markdown",
   "source":[
    "Заповнити вектор з 20 елементів випадковими цілими числами. Знайти індекси ненульових елементів:"
   ],
   "attachments":{
    
   },
   "metadata":{
    "datalore":{
     "node_id":"PILUvIIRill7V7gYPezr0P",
     "type":"MD",
     "hide_input_from_viewers":false,
     "hide_output_from_viewers":false,
     "report_properties":{
      "rowId":"Dx90vSr6pqBHxxacIxdCS9"
     }
    }
   }
  },
  {
   "cell_type":"code",
   "source":[
    "v = np.random.randint(low=0, high=100, size=20)\n",
    "\n",
    "nonzero_indices = np.nonzero(v)\n",
    "\n",
    "print(v)\n",
    "print(nonzero_indices)"
   ],
   "execution_count":6,
   "outputs":[
    {
     "name":"stdout",
     "text":[
      "[ 0 82 16 38 32 27 35 42 46 80 93 63 87 61 88 53 54 45 58 58]\n",
      "(array([ 1,  2,  3,  4,  5,  6,  7,  8,  9, 10, 11, 12, 13, 14, 15, 16, 17,\n",
      "       18, 19]),)\n"
     ],
     "output_type":"stream"
    }
   ],
   "metadata":{
    "datalore":{
     "node_id":"3OmBbq2YytMSriBcR1XlH3",
     "type":"CODE",
     "hide_input_from_viewers":false,
     "hide_output_from_viewers":false,
     "report_properties":{
      "rowId":"xlvcArnmN3BW4Mbkag2ojh"
     }
    }
   }
  },
  {
   "cell_type":"markdown",
   "source":[
    "Для вектора із попередньої задачі знайти середнє значення, медіану, стандартне відхилення:"
   ],
   "attachments":{
    
   },
   "metadata":{
    "datalore":{
     "node_id":"wES4cwUy7MEw7NZ0ydaeK1",
     "type":"MD",
     "hide_input_from_viewers":false,
     "hide_output_from_viewers":false,
     "report_properties":{
      "rowId":"XolQg2uOtoH01C9lhNJ7cj"
     }
    }
   }
  },
  {
   "cell_type":"code",
   "source":[
    "median = np.median(v)\n",
    "mean = np.mean(v)\n",
    "std = np.std(v)\n",
    "\n",
    "print(\"Медіана: \", median)\n",
    "print(\"Середнє значення: \", mean)\n",
    "print(\"Відхилення: \", std)"
   ],
   "execution_count":7,
   "outputs":[
    {
     "name":"stdout",
     "text":[
      "Медіана:  53.5\n",
      "Середнє значення:  52.9\n",
      "Відхилення:  24.33495428391021\n"
     ],
     "output_type":"stream"
    }
   ],
   "metadata":{
    "datalore":{
     "node_id":"p4j07dSfaWAuhWKLSmrXDM",
     "type":"CODE",
     "hide_input_from_viewers":false,
     "hide_output_from_viewers":false,
     "report_properties":{
      "rowId":"RqOGTrAquOMbAdykV8hpx7"
     }
    }
   }
  },
  {
   "cell_type":"markdown",
   "source":[
    "Створити дві матриці випадкових чисел розміром 4х2 та 2х2. Перемножити їх:"
   ],
   "attachments":{
    
   },
   "metadata":{
    "datalore":{
     "node_id":"BISUDBh3CE9TqYCQoUSroC",
     "type":"MD",
     "hide_input_from_viewers":false,
     "hide_output_from_viewers":false,
     "report_properties":{
      "rowId":"4nCK29elOOSWJBfvIChpYA"
     }
    }
   }
  },
  {
   "cell_type":"code",
   "source":[
    "m1 = np.random.randint(0, 30, size=(4, 2))\n",
    "m2 = np.random.randint(0, 30, size=(2, 2))\n",
    "\n",
    "m = np.dot(m1, m2)\n",
    "print(m)"
   ],
   "execution_count":10,
   "outputs":[
    {
     "name":"stdout",
     "text":[
      "[[735 786]\n",
      " [595 626]\n",
      " [605 652]\n",
      " [715 752]]\n"
     ],
     "output_type":"stream"
    }
   ],
   "metadata":{
    "datalore":{
     "node_id":"UC0UcLujZQFVgTuseVbDuM",
     "type":"CODE",
     "hide_input_from_viewers":false,
     "hide_output_from_viewers":false,
     "report_properties":{
      "rowId":"qUxCFBOMwZ2YoROxXNqpaU"
     }
    }
   }
  },
  {
   "cell_type":"markdown",
   "source":[
    "Результуючу матрицю із попередньої задачі перетворити у вектор. Знайти мінімальне та максимальне значення. \n",
    "\n",
    "Максимальне значення замінити на 0:"
   ],
   "attachments":{
    
   },
   "metadata":{
    "datalore":{
     "node_id":"Ers7H6N6WF9O7T2trI8EO1",
     "type":"MD",
     "hide_input_from_viewers":false,
     "hide_output_from_viewers":false,
     "report_properties":{
      "rowId":"y8WDT6P7zqV11HmWtTRa2B"
     }
    }
   }
  },
  {
   "cell_type":"code",
   "source":[
    "m_list = np.ravel(m)\n",
    "print(\"Матриця у вигляді списку: \", m_list)\n",
    "\n",
    "m_max = np.max(m_list)\n",
    "m_min = np.min(m_list)\n",
    "print(\"Мінімальне та максимальне: \", m_max, \"    \", m_min)\n",
    "\n",
    "m_list[m_list == m_max] = 0\n",
    "print(\"Змінена матриця у вигляді списку: \", m_list)"
   ],
   "execution_count":11,
   "outputs":[
    {
     "name":"stdout",
     "text":[
      "Матриця у вигляді списку:  [735 786 595 626 605 652 715 752]\n",
      "Мінімальне та максимальне:  786      595\n",
      "Змінена матриця у вигляді списку:  [735   0 595 626 605 652 715 752]\n"
     ],
     "output_type":"stream"
    }
   ],
   "metadata":{
    "datalore":{
     "node_id":"RPPxm8yhUKX3jJyCuAldIQ",
     "type":"CODE",
     "hide_input_from_viewers":false,
     "hide_output_from_viewers":false,
     "report_properties":{
      "rowId":"aT9dpqGvYquTjRAR4xeSX0"
     }
    }
   }
  },
  {
   "cell_type":"markdown",
   "source":[
    "Знайдіть кореляцію першого рядка матриці із попереднього завдання із іншими рядками:"
   ],
   "attachments":{
    
   },
   "metadata":{
    "datalore":{
     "node_id":"391pEsb8VULbDBiJ5tT3rv",
     "type":"MD",
     "hide_input_from_viewers":false,
     "hide_output_from_viewers":false,
     "report_properties":{
      "rowId":"cdinag0kt3jcriA0cIrPCD"
     }
    }
   }
  },
  {
   "cell_type":"code",
   "source":[
    "#Функція np.corrcoef шукає кореляції між рядками матриці, тобто між зразками. \n",
    "#Кожен рядок матриці вважається окремим зразком, \n",
    "#а кожний стовпець - окремою ознакою цих зразків. \n",
    "#Тому функція обчислює кореляції між зразками, а не між ознаками.\n",
    "\n",
    "\n",
    "corr = np.corrcoef(m)\n",
    "\n",
    "\n",
    "corr"
   ],
   "execution_count":18,
   "outputs":[
    {
     "data":{
      "text\/html":[
       "<pre>array([[ 1., -1., -1., -1.],\n",
       "       [-1.,  1.,  1.,  1.],\n",
       "       [-1.,  1.,  1.,  1.],\n",
       "       [-1.,  1.,  1.,  1.]])<\/pre>"
      ]
     },
     "metadata":{
      
     },
     "output_type":"display_data"
    }
   ],
   "metadata":{
    "datalore":{
     "node_id":"L888sSTQBC9W4TYucw5Sbw",
     "type":"CODE",
     "hide_input_from_viewers":false,
     "hide_output_from_viewers":false,
     "report_properties":{
      "rowId":"wMdnDn6T8a4aLaiZGiALgK"
     }
    }
   }
  },
  {
   "cell_type":"code",
   "source":[
    "print(corr[0])"
   ],
   "execution_count":19,
   "outputs":[
    {
     "name":"stdout",
     "text":[
      "[ 1. -1. -1. -1.]\n"
     ],
     "output_type":"stream"
    }
   ],
   "metadata":{
    "datalore":{
     "node_id":"sCG0NPmw7V1r16FZK98fTf",
     "type":"CODE",
     "hide_input_from_viewers":true,
     "hide_output_from_viewers":true
    }
   }
  },
  {
   "cell_type":"markdown",
   "source":[
    "Дано матрицю. Знайти ранг матриці:"
   ],
   "attachments":{
    
   },
   "metadata":{
    "datalore":{
     "node_id":"M7CRsBpsXGV3swYklsZzux",
     "type":"MD",
     "hide_input_from_viewers":false,
     "hide_output_from_viewers":false,
     "report_properties":{
      "rowId":"1a9cUC83DLSAM2hYZAfeTz"
     }
    }
   }
  },
  {
   "cell_type":"code",
   "source":[
    "a = np.array([[ 1,  4, 5],\n",
    "              [7, 3, 2],\n",
    "              [9, 16, 1]])\n",
    "\n",
    "rank = np.linalg.matrix_rank(a)\n",
    "print(rank)"
   ],
   "execution_count":20,
   "outputs":[
    {
     "name":"stdout",
     "text":[
      "3\n"
     ],
     "output_type":"stream"
    }
   ],
   "metadata":{
    "datalore":{
     "node_id":"0QlxmHMDAHzBw2yHrfL6QC",
     "type":"CODE",
     "hide_input_from_viewers":false,
     "hide_output_from_viewers":false,
     "report_properties":{
      "rowId":"almRZfL6AXhgbs6sAL7Jr6"
     }
    }
   }
  },
  {
   "cell_type":"markdown",
   "source":[
    "Знайти визначник матриці:"
   ],
   "attachments":{
    
   },
   "metadata":{
    "datalore":{
     "node_id":"XY2KLBX4VZThx7sXye5I68",
     "type":"MD",
     "hide_input_from_viewers":false,
     "hide_output_from_viewers":false,
     "report_properties":{
      "rowId":"YqWl5RGLlX4CD4q5UE9ADE"
     }
    }
   }
  },
  {
   "cell_type":"code",
   "source":[
    "det = np.linalg.det(a)\n",
    "print(round(det, 1))"
   ],
   "execution_count":22,
   "outputs":[
    {
     "name":"stdout",
     "text":[
      "440.0\n"
     ],
     "output_type":"stream"
    }
   ],
   "metadata":{
    "datalore":{
     "node_id":"3cZyfPJoGcQ3gu6KhtqZ3H",
     "type":"CODE",
     "hide_input_from_viewers":false,
     "hide_output_from_viewers":false,
     "report_properties":{
      "rowId":"YDVeTPO4G89RyDQZa3wILU"
     }
    }
   }
  },
  {
   "cell_type":"markdown",
   "source":[
    "Знайти власні значення та власні вектори матриці: "
   ],
   "attachments":{
    
   },
   "metadata":{
    "datalore":{
     "node_id":"LRwsD7qwm6yXQJG0NgMLTf",
     "type":"MD",
     "hide_input_from_viewers":false,
     "hide_output_from_viewers":false,
     "report_properties":{
      "rowId":"RVUZMgLn6WCpf3dRSRinWD"
     }
    }
   }
  },
  {
   "cell_type":"code",
   "source":[
    "eigenvalues, eigenvectors = np.linalg.eig(a)\n",
    "\n",
    "print(\"Власні значення:\")\n",
    "print(eigenvalues)\n",
    "print(\"Власні вектори:\")\n",
    "print(eigenvectors)"
   ],
   "execution_count":23,
   "outputs":[
    {
     "name":"stdout",
     "text":[
      "Власні значення:\n",
      "[14.13520334+0.j         -4.56760167+3.20389947j -4.56760167-3.20389947j]\n",
      "Власні вектори:\n",
      "[[ 0.43131913+0.j         -0.31386258-0.47450898j -0.31386258+0.47450898j]\n",
      " [ 0.41502436+0.j         -0.07049527+0.4090732j  -0.07049527-0.4090732j ]\n",
      " [ 0.8010734 +0.j          0.7099444 +0.j          0.7099444 -0.j        ]]\n"
     ],
     "output_type":"stream"
    }
   ],
   "metadata":{
    "datalore":{
     "node_id":"6UDKMhdWzENi8h6GeB0Rkj",
     "type":"CODE",
     "hide_input_from_viewers":false,
     "hide_output_from_viewers":false,
     "report_properties":{
      "rowId":"UFHcX3I3tpCsCCa3yFGgZ0"
     }
    }
   }
  },
  {
   "cell_type":"markdown",
   "source":[
    "Знайдіть число, що найчастіше зустрічається в масиві:"
   ],
   "attachments":{
    
   },
   "metadata":{
    "datalore":{
     "node_id":"mo7zf81aYbuU2jtceQvnqE",
     "type":"MD",
     "hide_input_from_viewers":false,
     "hide_output_from_viewers":false,
     "report_properties":{
      "rowId":"VuQgYeY3wPgvS8ccxUnc0x"
     }
    }
   }
  },
  {
   "cell_type":"code",
   "source":[
    "a = np.random.randint(0,10,50)\n",
    "\n",
    "print(a)\n",
    "print(np.bincount(a).argmax())\n"
   ],
   "execution_count":49,
   "outputs":[
    {
     "name":"stdout",
     "text":[
      "[1 3 5 0 4 6 5 9 5 0 6 6 5 0 8 4 2 0 3 7 7 4 1 9 0 0 6 8 9 7 3 9 5 6 8 0 3\n",
      " 6 9 2 8 4 7 9 4 6 8 2 0 8]\n",
      "0\n"
     ],
     "output_type":"stream"
    }
   ],
   "metadata":{
    "datalore":{
     "node_id":"o3ts7kSEyerxQrz9wnSQsV",
     "type":"CODE",
     "hide_input_from_viewers":false,
     "hide_output_from_viewers":false,
     "report_properties":{
      "rowId":"6PZNMGFzstj2RLjP3cp2EX"
     }
    }
   }
  },
  {
   "cell_type":"markdown",
   "source":[
    "Виведіть лише парні числа, що діляться на 5:"
   ],
   "attachments":{
    
   },
   "metadata":{
    "datalore":{
     "node_id":"cuSZXKBfnaOPURP4hzRL26",
     "type":"MD",
     "hide_input_from_viewers":false,
     "hide_output_from_viewers":false,
     "report_properties":{
      "rowId":"DfuglUGrIGOWkx7g0CcpIl"
     }
    }
   }
  },
  {
   "cell_type":"code",
   "source":[
    "a = np.random.randint(0,10,50)"
   ],
   "execution_count":null,
   "outputs":[
    
   ],
   "metadata":{
    "datalore":{
     "node_id":"hq3dr26qKIpGEoyugdTm5D",
     "type":"CODE",
     "hide_input_from_viewers":false,
     "hide_output_from_viewers":false,
     "report_properties":{
      "rowId":"cxAKz94g5YiXN9oOVu0C0p"
     }
    }
   }
  },
  {
   "cell_type":"code",
   "source":[
    "print(a)\n",
    "print(a[a == 0])"
   ],
   "execution_count":50,
   "outputs":[
    {
     "name":"stdout",
     "text":[
      "[1 3 5 0 4 6 5 9 5 0 6 6 5 0 8 4 2 0 3 7 7 4 1 9 0 0 6 8 9 7 3 9 5 6 8 0 3\n",
      " 6 9 2 8 4 7 9 4 6 8 2 0 8]\n",
      "[0 0 0 0 0 0 0 0]\n"
     ],
     "output_type":"stream"
    }
   ],
   "metadata":{
    "datalore":{
     "node_id":"IXKleoyT9qAtqEBFb09ktW",
     "type":"CODE",
     "hide_input_from_viewers":true,
     "hide_output_from_viewers":true
    }
   }
  },
  {
   "cell_type":"markdown",
   "source":[
    "Розв'яжіть систему рівнянь:\n",
    "$$2x + 5y = 1 $$\n",
    "\n",
    "$$x - 10y = 3  $$\n",
    "   "
   ],
   "attachments":{
    
   },
   "metadata":{
    "datalore":{
     "node_id":"Q1tqlARsXoczCxqlQFfk81",
     "type":"MD",
     "hide_input_from_viewers":false,
     "hide_output_from_viewers":false,
     "report_properties":{
      "rowId":"haz0wHC8ZOdnIk4nKTBJme"
     }
    }
   }
  },
  {
   "cell_type":"code",
   "source":[
    "first_eq = np.array([[2, 5], [1, -10]])\n",
    "second_eq = np.array([1, 3])\n",
    "\n",
    "result = np.linalg.solve(first_eq, second_eq)\n",
    "print(\"x, y:\")\n",
    "print(result)"
   ],
   "execution_count":51,
   "outputs":[
    {
     "name":"stdout",
     "text":[
      "x, y:\n",
      "[ 1.  -0.2]\n"
     ],
     "output_type":"stream"
    }
   ],
   "metadata":{
    "datalore":{
     "node_id":"gpcQ6cOFNnPIp9OgvYYeOR",
     "type":"CODE",
     "hide_input_from_viewers":false,
     "hide_output_from_viewers":false,
     "report_properties":{
      "rowId":"EoU6GXHPIsZGJ7WHZ7mglM"
     }
    }
   }
  }
 ],
 "metadata":{
  "kernelspec":{
   "display_name":"Python",
   "language":"python",
   "name":"python"
  },
  "datalore":{
   "computation_mode":"JUPYTER",
   "package_manager":"pip",
   "base_environment":"default",
   "packages":[
    
   ],
   "report_row_ids":[
    "jkS2al6WWFCSNTjhSAcvnE",
    "U7h5fl1mufd32YJ2jAgbJE",
    "nYEBIKUPr5CJNAsoHLp8Bg",
    "citp9ibjGWpXBDtF008qIE",
    "Quzv60hG6VphVcJ9u4Nj10",
    "Lyxg026MT2Hu8wmHSYk6xC",
    "nRDRQq5yKTxITz9dnkwj0z",
    "ni0rSkLbypbUbzW7S6HQRL",
    "nRsNonrx7k0yrTsznqh85x",
    "rzwtIyovM0UMuRjuftAXr1",
    "TV66ZbEjtZGz4iP1k1gEkH",
    "yF3RU2whHYxz3GeFbaU2Pk",
    "DSd5XSL6MWNsoGOD3Cg0YZ",
    "Dx90vSr6pqBHxxacIxdCS9",
    "xlvcArnmN3BW4Mbkag2ojh",
    "XolQg2uOtoH01C9lhNJ7cj",
    "RqOGTrAquOMbAdykV8hpx7",
    "4nCK29elOOSWJBfvIChpYA",
    "qUxCFBOMwZ2YoROxXNqpaU",
    "y8WDT6P7zqV11HmWtTRa2B",
    "aT9dpqGvYquTjRAR4xeSX0",
    "cdinag0kt3jcriA0cIrPCD",
    "wMdnDn6T8a4aLaiZGiALgK",
    "1a9cUC83DLSAM2hYZAfeTz",
    "almRZfL6AXhgbs6sAL7Jr6",
    "YqWl5RGLlX4CD4q5UE9ADE",
    "YDVeTPO4G89RyDQZa3wILU",
    "RVUZMgLn6WCpf3dRSRinWD",
    "UFHcX3I3tpCsCCa3yFGgZ0",
    "VuQgYeY3wPgvS8ccxUnc0x",
    "6PZNMGFzstj2RLjP3cp2EX",
    "DfuglUGrIGOWkx7g0CcpIl",
    "cxAKz94g5YiXN9oOVu0C0p",
    "haz0wHC8ZOdnIk4nKTBJme",
    "EoU6GXHPIsZGJ7WHZ7mglM"
   ],
   "version":2
  }
 },
 "nbformat":4,
 "nbformat_minor":4
}